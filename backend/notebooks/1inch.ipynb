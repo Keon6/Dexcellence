{
 "cells": [
  {
   "cell_type": "code",
   "execution_count": 1,
   "metadata": {},
   "outputs": [],
   "source": [
    "% pip install python_1inch\n",
    "\n",
    "from python_1inch import OneInchExchange\n",
    "\n",
    "eth_exchange = OneInchExchange('0x111111111117dc0aa78b770fa6a738034120c302')"
   ]
  },
  {
   "cell_type": "code",
   "execution_count": 11,
   "metadata": {},
   "outputs": [
    {
     "data": {
      "text/plain": [
       "Decimal('0.0008354814054594193234295139165')"
      ]
     },
     "execution_count": 11,
     "metadata": {},
     "output_type": "execute_result"
    }
   ],
   "source": [
    "quote = eth_exchange.get_quote(\n",
    "    from_token_symbol='ETH',\n",
    "    to_token_symbol='USDT',\n",
    "    amount=1,\n",
    ")\n",
    "\n",
    "eth_decimal = eth_exchange.convert_amount_to_decimal(\n",
    "    token_symbol='ETH',\n",
    "    amount=quote['fromTokenAmount'],\n",
    ")\n",
    "usdt_decimal = eth_exchange.convert_amount_to_decimal(\n",
    "    token_symbol='USDT',\n",
    "    amount=quote['toTokenAmount'],\n",
    ")\n",
    "\n",
    "(usdt_decimal / eth_decimal) ** -1"
   ]
  },
  {
   "cell_type": "code",
   "execution_count": 7,
   "metadata": {},
   "outputs": [
    {
     "data": {
      "text/plain": [
       "Decimal('1')"
      ]
     },
     "execution_count": 7,
     "metadata": {},
     "output_type": "execute_result"
    }
   ],
   "source": [
    "eth_exchange.convert_amount_to_decimal('ETH', 1000000000000000000)"
   ]
  },
  {
   "cell_type": "code",
   "execution_count": 8,
   "metadata": {},
   "outputs": [
    {
     "data": {
      "text/plain": [
       "Decimal('80')"
      ]
     },
     "execution_count": 8,
     "metadata": {},
     "output_type": "execute_result"
    }
   ],
   "source": [
    "eth_exchange.convert_amount_to_decimal('USDT', 80000000)"
   ]
  },
  {
   "cell_type": "code",
   "execution_count": 15,
   "metadata": {},
   "outputs": [
    {
     "data": {
      "text/plain": [
       "{'fromToken': {'symbol': 'ETH',\n",
       "  'name': 'Ethereum',\n",
       "  'decimals': 18,\n",
       "  'address': '0xeeeeeeeeeeeeeeeeeeeeeeeeeeeeeeeeeeeeeeee',\n",
       "  'logoURI': 'https://tokens.1inch.io/0xeeeeeeeeeeeeeeeeeeeeeeeeeeeeeeeeeeeeeeee.png',\n",
       "  'tags': ['native']},\n",
       " 'toToken': {'symbol': 'USDT',\n",
       "  'name': 'Tether USD',\n",
       "  'address': '0xdac17f958d2ee523a2206206994597c13d831ec7',\n",
       "  'decimals': 6,\n",
       "  'logoURI': 'https://tokens.1inch.io/0xdac17f958d2ee523a2206206994597c13d831ec7.png',\n",
       "  'tags': ['tokens']},\n",
       " 'toTokenAmount': '1196914729',\n",
       " 'fromTokenAmount': '1000000000000000000',\n",
       " 'protocols': [[[{'name': 'UNISWAP_V3',\n",
       "     'part': 100,\n",
       "     'fromTokenAddress': '0xeeeeeeeeeeeeeeeeeeeeeeeeeeeeeeeeeeeeeeee',\n",
       "     'toTokenAddress': '0xdac17f958d2ee523a2206206994597c13d831ec7'}]]],\n",
       " 'estimatedGas': 265204}"
      ]
     },
     "execution_count": 15,
     "metadata": {},
     "output_type": "execute_result"
    }
   ],
   "source": [
    "quote"
   ]
  },
  {
   "cell_type": "code",
   "execution_count": 19,
   "metadata": {},
   "outputs": [
    {
     "data": {
      "text/plain": [
       "<Response [200]>"
      ]
     },
     "execution_count": 19,
     "metadata": {},
     "output_type": "execute_result"
    }
   ],
   "source": [
    "import requests\n",
    "\n",
    "resp = requests.get('https://api.1inch.exchange/v4.0/56/healthcheck')\n",
    "resp"
   ]
  },
  {
   "cell_type": "code",
   "execution_count": 24,
   "metadata": {},
   "outputs": [
    {
     "data": {
      "text/plain": [
       "datetime.datetime(2022, 6, 25, 15, 49, 21, tzinfo=<UTC>)"
      ]
     },
     "execution_count": 24,
     "metadata": {},
     "output_type": "execute_result"
    }
   ],
   "source": [
    "import pandas as pd\n",
    "\n",
    "pd.to_datetime(resp.headers['Date']).to_pydatetime()"
   ]
  }
 ],
 "metadata": {
  "kernelspec": {
   "display_name": "Python 3.10.5 64-bit",
   "language": "python",
   "name": "python3"
  },
  "language_info": {
   "codemirror_mode": {
    "name": "ipython",
    "version": 3
   },
   "file_extension": ".py",
   "mimetype": "text/x-python",
   "name": "python",
   "nbconvert_exporter": "python",
   "pygments_lexer": "ipython3",
   "version": "3.10.5"
  },
  "orig_nbformat": 4,
  "vscode": {
   "interpreter": {
    "hash": "949777d72b0d2535278d3dc13498b2535136f6dfe0678499012e853ee9abcab1"
   }
  }
 },
 "nbformat": 4,
 "nbformat_minor": 2
}
