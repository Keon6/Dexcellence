{
 "cells": [
  {
   "cell_type": "code",
   "execution_count": 39,
   "metadata": {},
   "outputs": [
    {
     "data": {
      "text/plain": [
       "<module 'auction_engine.one_inch' from '/code/auction_engine/one_inch.py'>"
      ]
     },
     "execution_count": 39,
     "metadata": {},
     "output_type": "execute_result"
    }
   ],
   "source": [
    "import importlib\n",
    "import os\n",
    "\n",
    "os.chdir('/code')\n",
    "\n",
    "from auction_engine import one_inch\n",
    "\n",
    "importlib.reload(one_inch)"
   ]
  },
  {
   "cell_type": "code",
   "execution_count": 40,
   "metadata": {},
   "outputs": [
    {
     "data": {
      "text/plain": [
       "ReferencePrice(from_token='ETH', to_token='USDT', amount=1, rate=Decimal('1184.085713'), quote=Quote(from_token=TokenInfo(symbol='ETH', name='Ethereum', decimals=18, address='0xeeeeeeeeeeeeeeeeeeeeeeeeeeeeeeeeeeeeeeee', logoURI='https://tokens.1inch.io/0xeeeeeeeeeeeeeeeeeeeeeeeeeeeeeeeeeeeeeeee.png', tags=['native']), to_token=TokenInfo(symbol='USDT', name='Tether USD', decimals=6, address='0xdac17f958d2ee523a2206206994597c13d831ec7', logoURI='https://tokens.1inch.io/0xdac17f958d2ee523a2206206994597c13d831ec7.png', tags=['tokens']), from_token_amount='1000000000000000000', to_token_amount='1184085713', protocols=[[[{'name': 'DEFISWAP', 'part': 100, 'fromTokenAddress': '0xeeeeeeeeeeeeeeeeeeeeeeeeeeeeeeeeeeeeeeee', 'toTokenAddress': '0xdac17f958d2ee523a2206206994597c13d831ec7'}]]], estimated_gas=185607, timestamp=datetime.datetime(2022, 6, 25, 16, 3, 22, tzinfo=<UTC>)))"
      ]
     },
     "execution_count": 40,
     "metadata": {},
     "output_type": "execute_result"
    }
   ],
   "source": [
    "one_inch.get_reference_price('ETH', 'USDT', 1)"
   ]
  },
  {
   "cell_type": "code",
   "execution_count": null,
   "metadata": {},
   "outputs": [],
   "source": []
  }
 ],
 "metadata": {
  "kernelspec": {
   "display_name": "Python 3.10.5 64-bit",
   "language": "python",
   "name": "python3"
  },
  "language_info": {
   "codemirror_mode": {
    "name": "ipython",
    "version": 3
   },
   "file_extension": ".py",
   "mimetype": "text/x-python",
   "name": "python",
   "nbconvert_exporter": "python",
   "pygments_lexer": "ipython3",
   "version": "3.10.5"
  },
  "orig_nbformat": 4,
  "vscode": {
   "interpreter": {
    "hash": "949777d72b0d2535278d3dc13498b2535136f6dfe0678499012e853ee9abcab1"
   }
  }
 },
 "nbformat": 4,
 "nbformat_minor": 2
}
