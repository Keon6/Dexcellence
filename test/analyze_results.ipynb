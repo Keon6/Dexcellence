{
 "cells": [
  {
   "cell_type": "code",
   "execution_count": 44,
   "metadata": {},
   "outputs": [],
   "source": [
    "import pandas as pd\n",
    "import os\n",
    "import plotly.express as px"
   ]
  },
  {
   "cell_type": "code",
   "execution_count": 45,
   "metadata": {},
   "outputs": [
    {
     "data": {
      "text/plain": [
       "['quad_program_library_comparison_numbAssets=10_numbOrders=100.csv',\n",
       " 'quad_program_library_comparison_numbAssets=10_numbOrders=1000.csv',\n",
       " 'quad_program_library_comparison_numbAssets=10_numbOrders=500.csv',\n",
       " 'quad_program_library_comparison_numbAssets=2_numbOrders=100.csv',\n",
       " 'quad_program_library_comparison_numbAssets=2_numbOrders=1000.csv',\n",
       " 'quad_program_library_comparison_numbAssets=2_numbOrders=2.csv',\n",
       " 'quad_program_library_comparison_numbAssets=2_numbOrders=500.csv',\n",
       " 'quad_program_library_comparison_numbAssets=5_numbOrders=100.csv',\n",
       " 'quad_program_library_comparison_numbAssets=5_numbOrders=1000.csv',\n",
       " 'quad_program_library_comparison_numbAssets=5_numbOrders=500.csv']"
      ]
     },
     "execution_count": 45,
     "metadata": {},
     "output_type": "execute_result"
    }
   ],
   "source": [
    "directory = \"results/\"\n",
    "files = [file.replace(\"\\n\", \"\") for file in os.popen(\"ls results\")]\n",
    "files"
   ]
  },
  {
   "cell_type": "code",
   "execution_count": 46,
   "metadata": {},
   "outputs": [
    {
     "name": "stdout",
     "output_type": "stream",
     "text": [
      "numbAssets=10 numbOrders=100\n"
     ]
    },
    {
     "data": {
      "application/vnd.plotly.v1+json": {
       "config": {
        "plotlyServerURL": "https://plot.ly"
       },
       "data": [
        {
         "alignmentgroup": "True",
         "hovertemplate": "Package | Solver Combo=%{x}<br>Time=%{y}<extra></extra>",
         "legendgroup": "",
         "marker": {
          "color": "#636efa"
         },
         "name": "",
         "notched": false,
         "offsetgroup": "",
         "orientation": "v",
         "showlegend": false,
         "type": "box",
         "x": [
          "cvxpy | OSQP",
          "cvxpy | OSQP",
          "cvxpy | OSQP",
          "cvxpy | OSQP",
          "cvxpy | OSQP",
          "cvxpy | OSQP",
          "cvxpy | OSQP",
          "cvxpy | OSQP",
          "cvxpy | OSQP",
          "cvxpy | OSQP",
          "cvxpy | OSQP",
          "cvxpy | OSQP",
          "cvxpy | OSQP",
          "cvxpy | OSQP",
          "cvxpy | OSQP",
          "cvxpy | OSQP",
          "cvxpy | OSQP",
          "cvxpy | OSQP",
          "cvxpy | OSQP",
          "cvxpy | OSQP",
          "cvxpy | OSQP",
          "cvxpy | OSQP",
          "cvxpy | OSQP",
          "cvxpy | OSQP",
          "cvxpy | OSQP",
          "cvxpy | OSQP",
          "cvxpy | OSQP",
          "cvxpy | OSQP",
          "cvxpy | OSQP",
          "cvxpy | OSQP",
          "cvxpy | OSQP",
          "cvxpy | OSQP",
          "cvxpy | OSQP",
          "cvxpy | OSQP",
          "cvxpy | OSQP",
          "cvxpy | OSQP",
          "cvxpy | OSQP",
          "cvxpy | OSQP",
          "cvxpy | OSQP",
          "cvxpy | OSQP",
          "cvxpy | OSQP",
          "cvxpy | OSQP",
          "cvxpy | OSQP",
          "cvxpy | OSQP",
          "cvxpy | OSQP",
          "cvxpy | OSQP",
          "cvxpy | OSQP",
          "cvxpy | OSQP",
          "cvxpy | OSQP",
          "cvxpy | OSQP",
          "cvxpy | OSQP",
          "cvxpy | OSQP",
          "cvxpy | OSQP",
          "cvxpy | OSQP",
          "cvxpy | OSQP",
          "cvxpy | OSQP",
          "cvxpy | OSQP",
          "cvxpy | OSQP",
          "cvxpy | OSQP",
          "cvxpy | OSQP",
          "cvxpy | OSQP",
          "cvxpy | OSQP",
          "cvxpy | OSQP",
          "cvxpy | OSQP",
          "cvxpy | OSQP",
          "cvxpy | OSQP",
          "cvxpy | OSQP",
          "cvxpy | OSQP",
          "cvxpy | OSQP",
          "cvxpy | OSQP",
          "cvxpy | OSQP",
          "cvxpy | OSQP",
          "cvxpy | OSQP",
          "cvxpy | OSQP",
          "cvxpy | OSQP",
          "cvxpy | OSQP",
          "cvxpy | OSQP",
          "cvxpy | OSQP",
          "cvxpy | OSQP",
          "cvxpy | OSQP",
          "cvxpy | OSQP",
          "cvxpy | OSQP",
          "cvxpy | OSQP",
          "cvxpy | OSQP",
          "cvxpy | OSQP",
          "cvxpy | OSQP",
          "cvxpy | OSQP",
          "cvxpy | OSQP",
          "cvxpy | OSQP",
          "cvxpy | OSQP",
          "cvxpy | OSQP",
          "cvxpy | OSQP",
          "cvxpy | OSQP",
          "cvxpy | OSQP",
          "cvxpy | OSQP",
          "cvxpy | OSQP",
          "cvxpy | OSQP",
          "cvxpy | OSQP",
          "cvxpy | OSQP",
          "cvxpy | OSQP",
          "cvxpy | ECOS",
          "cvxpy | ECOS",
          "cvxpy | ECOS",
          "cvxpy | ECOS",
          "cvxpy | ECOS",
          "cvxpy | ECOS",
          "cvxpy | ECOS",
          "cvxpy | ECOS",
          "cvxpy | ECOS",
          "cvxpy | ECOS",
          "cvxpy | ECOS",
          "cvxpy | ECOS",
          "cvxpy | ECOS",
          "cvxpy | ECOS",
          "cvxpy | ECOS",
          "cvxpy | ECOS",
          "cvxpy | ECOS",
          "cvxpy | ECOS",
          "cvxpy | ECOS",
          "cvxpy | ECOS",
          "cvxpy | ECOS",
          "cvxpy | ECOS",
          "cvxpy | ECOS",
          "cvxpy | ECOS",
          "cvxpy | ECOS",
          "cvxpy | ECOS",
          "cvxpy | ECOS",
          "cvxpy | ECOS",
          "cvxpy | ECOS",
          "cvxpy | ECOS",
          "cvxpy | ECOS",
          "cvxpy | ECOS",
          "cvxpy | ECOS",
          "cvxpy | ECOS",
          "cvxpy | ECOS",
          "cvxpy | ECOS",
          "cvxpy | ECOS",
          "cvxpy | ECOS",
          "cvxpy | ECOS",
          "cvxpy | ECOS",
          "cvxpy | ECOS",
          "cvxpy | ECOS",
          "cvxpy | ECOS",
          "cvxpy | ECOS",
          "cvxpy | ECOS",
          "cvxpy | ECOS",
          "cvxpy | ECOS",
          "cvxpy | ECOS",
          "cvxpy | ECOS",
          "cvxpy | ECOS",
          "cvxpy | ECOS",
          "cvxpy | ECOS",
          "cvxpy | ECOS",
          "cvxpy | ECOS",
          "cvxpy | ECOS",
          "cvxpy | ECOS",
          "cvxpy | ECOS",
          "cvxpy | ECOS",
          "cvxpy | ECOS",
          "cvxpy | ECOS",
          "cvxpy | ECOS",
          "cvxpy | ECOS",
          "cvxpy | ECOS",
          "cvxpy | ECOS",
          "cvxpy | ECOS",
          "cvxpy | ECOS",
          "cvxpy | ECOS",
          "cvxpy | ECOS",
          "cvxpy | ECOS",
          "cvxpy | ECOS",
          "cvxpy | ECOS",
          "cvxpy | ECOS",
          "cvxpy | ECOS",
          "cvxpy | ECOS",
          "cvxpy | ECOS",
          "cvxpy | ECOS",
          "cvxpy | ECOS",
          "cvxpy | ECOS",
          "cvxpy | ECOS",
          "cvxpy | ECOS",
          "cvxpy | ECOS",
          "cvxpy | ECOS",
          "cvxpy | ECOS",
          "cvxpy | ECOS",
          "cvxpy | ECOS",
          "cvxpy | ECOS",
          "cvxpy | ECOS",
          "cvxpy | ECOS",
          "cvxpy | ECOS",
          "cvxpy | ECOS",
          "cvxpy | ECOS",
          "cvxpy | ECOS",
          "cvxpy | ECOS",
          "cvxpy | ECOS",
          "cvxpy | ECOS",
          "cvxpy | ECOS",
          "cvxpy | ECOS",
          "cvxpy | ECOS",
          "cvxpy | ECOS",
          "cvxpy | ECOS",
          "cvxpy | SCS",
          "cvxpy | SCS",
          "cvxpy | SCS",
          "cvxpy | SCS",
          "cvxpy | SCS",
          "cvxpy | SCS",
          "cvxpy | SCS",
          "cvxpy | SCS",
          "cvxpy | SCS",
          "cvxpy | SCS",
          "cvxpy | SCS",
          "cvxpy | SCS",
          "cvxpy | SCS",
          "cvxpy | SCS",
          "cvxpy | SCS",
          "cvxpy | SCS",
          "cvxpy | SCS",
          "cvxpy | SCS",
          "cvxpy | SCS",
          "cvxpy | SCS",
          "cvxpy | SCS",
          "cvxpy | SCS",
          "cvxpy | SCS",
          "cvxpy | SCS",
          "cvxpy | SCS",
          "cvxpy | SCS",
          "cvxpy | SCS",
          "cvxpy | SCS",
          "cvxpy | SCS",
          "cvxpy | SCS",
          "cvxpy | SCS",
          "cvxpy | SCS",
          "cvxpy | SCS",
          "cvxpy | SCS",
          "cvxpy | SCS",
          "cvxpy | SCS",
          "cvxpy | SCS",
          "cvxpy | SCS",
          "cvxpy | SCS",
          "cvxpy | SCS",
          "cvxpy | SCS",
          "cvxpy | SCS",
          "cvxpy | SCS",
          "cvxpy | SCS",
          "cvxpy | SCS",
          "cvxpy | SCS",
          "cvxpy | SCS",
          "cvxpy | SCS",
          "cvxpy | SCS",
          "cvxpy | SCS",
          "cvxpy | SCS",
          "cvxpy | SCS",
          "cvxpy | SCS",
          "cvxpy | SCS",
          "cvxpy | SCS",
          "cvxpy | SCS",
          "cvxpy | SCS",
          "cvxpy | SCS",
          "cvxpy | SCS",
          "cvxpy | SCS",
          "cvxpy | SCS",
          "cvxpy | SCS",
          "cvxpy | SCS",
          "cvxpy | SCS",
          "cvxpy | SCS",
          "cvxpy | SCS",
          "cvxpy | SCS",
          "cvxpy | SCS",
          "cvxpy | SCS",
          "cvxpy | SCS",
          "cvxpy | SCS",
          "cvxpy | SCS",
          "cvxpy | SCS",
          "cvxpy | SCS",
          "cvxpy | SCS",
          "cvxpy | SCS",
          "cvxpy | SCS",
          "cvxpy | SCS",
          "cvxpy | SCS",
          "cvxpy | SCS",
          "cvxpy | SCS",
          "cvxpy | SCS",
          "cvxpy | SCS",
          "cvxpy | SCS",
          "cvxpy | SCS",
          "cvxpy | SCS",
          "cvxpy | SCS",
          "cvxpy | SCS",
          "cvxpy | SCS",
          "cvxpy | SCS",
          "cvxpy | SCS",
          "cvxpy | SCS",
          "cvxpy | SCS",
          "cvxpy | SCS",
          "cvxpy | SCS",
          "cvxpy | SCS",
          "cvxpy | SCS",
          "cvxpy | SCS",
          "cvxpy | SCS",
          "cvxpy | SCS",
          "qpsolver | osqp",
          "qpsolver | osqp",
          "qpsolver | osqp",
          "qpsolver | osqp",
          "qpsolver | osqp",
          "qpsolver | osqp",
          "qpsolver | osqp",
          "qpsolver | osqp",
          "qpsolver | osqp",
          "qpsolver | osqp",
          "qpsolver | osqp",
          "qpsolver | osqp",
          "qpsolver | osqp",
          "qpsolver | osqp",
          "qpsolver | osqp",
          "qpsolver | osqp",
          "qpsolver | osqp",
          "qpsolver | osqp",
          "qpsolver | osqp",
          "qpsolver | osqp",
          "qpsolver | osqp",
          "qpsolver | osqp",
          "qpsolver | osqp",
          "qpsolver | osqp",
          "qpsolver | osqp",
          "qpsolver | osqp",
          "qpsolver | osqp",
          "qpsolver | osqp",
          "qpsolver | osqp",
          "qpsolver | osqp",
          "qpsolver | osqp",
          "qpsolver | osqp",
          "qpsolver | osqp",
          "qpsolver | osqp",
          "qpsolver | osqp",
          "qpsolver | osqp",
          "qpsolver | osqp",
          "qpsolver | osqp",
          "qpsolver | osqp",
          "qpsolver | osqp",
          "qpsolver | osqp",
          "qpsolver | osqp",
          "qpsolver | osqp",
          "qpsolver | osqp",
          "qpsolver | osqp",
          "qpsolver | osqp",
          "qpsolver | osqp",
          "qpsolver | osqp",
          "qpsolver | osqp",
          "qpsolver | osqp",
          "qpsolver | osqp",
          "qpsolver | osqp",
          "qpsolver | osqp",
          "qpsolver | osqp",
          "qpsolver | osqp",
          "qpsolver | osqp",
          "qpsolver | osqp",
          "qpsolver | osqp",
          "qpsolver | osqp",
          "qpsolver | osqp",
          "qpsolver | osqp",
          "qpsolver | osqp",
          "qpsolver | osqp",
          "qpsolver | osqp",
          "qpsolver | osqp",
          "qpsolver | osqp",
          "qpsolver | osqp",
          "qpsolver | osqp",
          "qpsolver | osqp",
          "qpsolver | osqp",
          "qpsolver | osqp",
          "qpsolver | osqp",
          "qpsolver | osqp",
          "qpsolver | osqp",
          "qpsolver | osqp",
          "qpsolver | osqp",
          "qpsolver | osqp",
          "qpsolver | osqp",
          "qpsolver | osqp",
          "qpsolver | osqp",
          "qpsolver | osqp",
          "qpsolver | osqp",
          "qpsolver | osqp",
          "qpsolver | osqp",
          "qpsolver | osqp",
          "qpsolver | osqp",
          "qpsolver | osqp",
          "qpsolver | osqp",
          "qpsolver | osqp",
          "qpsolver | osqp",
          "qpsolver | osqp",
          "qpsolver | osqp",
          "qpsolver | osqp",
          "qpsolver | osqp",
          "qpsolver | osqp",
          "qpsolver | osqp",
          "qpsolver | osqp",
          "qpsolver | osqp",
          "qpsolver | osqp",
          "qpsolver | osqp",
          "qpsolver | scs",
          "qpsolver | scs",
          "qpsolver | scs",
          "qpsolver | scs",
          "qpsolver | scs",
          "qpsolver | scs",
          "qpsolver | scs",
          "qpsolver | scs",
          "qpsolver | scs",
          "qpsolver | scs",
          "qpsolver | scs",
          "qpsolver | scs",
          "qpsolver | scs",
          "qpsolver | scs",
          "qpsolver | scs",
          "qpsolver | scs",
          "qpsolver | scs",
          "qpsolver | scs",
          "qpsolver | scs",
          "qpsolver | scs",
          "qpsolver | scs",
          "qpsolver | scs",
          "qpsolver | scs",
          "qpsolver | scs",
          "qpsolver | scs",
          "qpsolver | scs",
          "qpsolver | scs",
          "qpsolver | scs",
          "qpsolver | scs",
          "qpsolver | scs",
          "qpsolver | scs",
          "qpsolver | scs",
          "qpsolver | scs",
          "qpsolver | scs",
          "qpsolver | scs",
          "qpsolver | scs",
          "qpsolver | scs",
          "qpsolver | scs",
          "qpsolver | scs",
          "qpsolver | scs",
          "qpsolver | scs",
          "qpsolver | scs",
          "qpsolver | scs",
          "qpsolver | scs",
          "qpsolver | scs",
          "qpsolver | scs",
          "qpsolver | scs",
          "qpsolver | scs",
          "qpsolver | scs",
          "qpsolver | scs",
          "qpsolver | scs",
          "qpsolver | scs",
          "qpsolver | scs",
          "qpsolver | scs",
          "qpsolver | scs",
          "qpsolver | scs",
          "qpsolver | scs",
          "qpsolver | scs",
          "qpsolver | scs",
          "qpsolver | scs",
          "qpsolver | scs",
          "qpsolver | scs",
          "qpsolver | scs",
          "qpsolver | scs",
          "qpsolver | scs",
          "qpsolver | scs",
          "qpsolver | scs",
          "qpsolver | scs",
          "qpsolver | scs",
          "qpsolver | scs",
          "qpsolver | scs",
          "qpsolver | scs",
          "qpsolver | scs",
          "qpsolver | scs",
          "qpsolver | scs",
          "qpsolver | scs",
          "qpsolver | scs",
          "qpsolver | scs",
          "qpsolver | scs",
          "qpsolver | scs",
          "qpsolver | scs",
          "qpsolver | scs",
          "qpsolver | scs",
          "qpsolver | scs",
          "qpsolver | scs",
          "qpsolver | scs",
          "qpsolver | scs",
          "qpsolver | scs",
          "qpsolver | scs",
          "qpsolver | scs",
          "qpsolver | scs",
          "qpsolver | scs",
          "qpsolver | scs",
          "qpsolver | scs",
          "qpsolver | scs",
          "qpsolver | scs",
          "qpsolver | scs",
          "qpsolver | scs",
          "qpsolver | scs",
          "qpsolver | scs",
          "qpsolver | quadprog",
          "qpsolver | quadprog",
          "qpsolver | quadprog",
          "qpsolver | quadprog",
          "qpsolver | quadprog",
          "qpsolver | quadprog",
          "qpsolver | quadprog",
          "qpsolver | quadprog",
          "qpsolver | quadprog",
          "qpsolver | quadprog",
          "qpsolver | quadprog",
          "qpsolver | quadprog",
          "qpsolver | quadprog",
          "qpsolver | quadprog",
          "qpsolver | quadprog",
          "qpsolver | quadprog",
          "qpsolver | quadprog",
          "qpsolver | quadprog",
          "qpsolver | quadprog",
          "qpsolver | quadprog",
          "qpsolver | quadprog",
          "qpsolver | quadprog",
          "qpsolver | quadprog",
          "qpsolver | quadprog",
          "qpsolver | quadprog",
          "qpsolver | quadprog",
          "qpsolver | quadprog",
          "qpsolver | quadprog",
          "qpsolver | quadprog",
          "qpsolver | quadprog",
          "qpsolver | quadprog",
          "qpsolver | quadprog",
          "qpsolver | quadprog",
          "qpsolver | quadprog",
          "qpsolver | quadprog",
          "qpsolver | quadprog",
          "qpsolver | quadprog",
          "qpsolver | quadprog",
          "qpsolver | quadprog",
          "qpsolver | quadprog",
          "qpsolver | quadprog",
          "qpsolver | quadprog",
          "qpsolver | quadprog",
          "qpsolver | quadprog",
          "qpsolver | quadprog",
          "qpsolver | quadprog",
          "qpsolver | quadprog",
          "qpsolver | quadprog",
          "qpsolver | quadprog",
          "qpsolver | quadprog",
          "qpsolver | quadprog",
          "qpsolver | quadprog",
          "qpsolver | quadprog",
          "qpsolver | quadprog",
          "qpsolver | quadprog",
          "qpsolver | quadprog",
          "qpsolver | quadprog",
          "qpsolver | quadprog",
          "qpsolver | quadprog",
          "qpsolver | quadprog",
          "qpsolver | quadprog",
          "qpsolver | quadprog",
          "qpsolver | quadprog",
          "qpsolver | quadprog",
          "qpsolver | quadprog",
          "qpsolver | quadprog",
          "qpsolver | quadprog",
          "qpsolver | quadprog",
          "qpsolver | quadprog",
          "qpsolver | quadprog",
          "qpsolver | quadprog",
          "qpsolver | quadprog",
          "qpsolver | quadprog",
          "qpsolver | quadprog",
          "qpsolver | quadprog",
          "qpsolver | quadprog",
          "qpsolver | quadprog",
          "qpsolver | quadprog",
          "qpsolver | quadprog",
          "qpsolver | quadprog",
          "qpsolver | quadprog",
          "qpsolver | quadprog",
          "qpsolver | quadprog",
          "qpsolver | quadprog",
          "qpsolver | quadprog",
          "qpsolver | quadprog",
          "qpsolver | quadprog",
          "qpsolver | quadprog",
          "qpsolver | quadprog",
          "qpsolver | quadprog",
          "qpsolver | quadprog",
          "qpsolver | quadprog",
          "qpsolver | quadprog",
          "qpsolver | quadprog",
          "qpsolver | quadprog",
          "qpsolver | quadprog",
          "qpsolver | quadprog",
          "qpsolver | quadprog",
          "qpsolver | quadprog",
          "qpsolver | quadprog"
         ],
         "x0": " ",
         "xaxis": "x",
         "y": [
          223.1467697620392,
          288.609304189682,
          316.38822078704834,
          329.1503028869629,
          330.1662528514862,
          332.4666078090668,
          336.6235680580139,
          346.7374858856201,
          346.9359169006348,
          348.1319501399994,
          347.97159218788147,
          348.16765117645264,
          348.45107102394104,
          351.3325228691101,
          353.07432198524475,
          353.14852023124695,
          355.7431848049164,
          356.0449426174164,
          356.5471980571747,
          359.61368107795715,
          361.2709000110626,
          362.8556418418884,
          362.8163557052612,
          363.41339325904846,
          364.5606849193573,
          364.7753171920776,
          365.1634688377381,
          364.9356949329376,
          364.9599981307984,
          365.40498304367065,
          365.2924580574036,
          365.174770116806,
          365.6000621318817,
          365.782044172287,
          366.8644888401032,
          367.04212474823,
          367.0872077941895,
          367.5286090373993,
          367.5471460819245,
          367.5842459201813,
          367.6765079498291,
          368.1110119819641,
          367.9611897468567,
          368.21054005622864,
          367.7425498962402,
          368.4103510379791,
          368.2286677360535,
          368.215117931366,
          368.8896310329437,
          368.9718761444092,
          369.37787795066833,
          369.4094331264496,
          369.6784451007843,
          369.7301902770996,
          369.4800021648407,
          369.7570638656616,
          369.57656502723694,
          369.70373797416687,
          369.7165019512177,
          369.8607280254364,
          371.016738653183,
          370.84088015556335,
          370.8895320892334,
          370.77777910232544,
          371.06243991851807,
          371.1378810405731,
          371.60035610198975,
          371.6013572216034,
          371.7374179363251,
          371.86015582084656,
          371.7501990795136,
          371.7566111087799,
          371.82387495040894,
          372.0459578037262,
          371.8955960273743,
          372.1582279205322,
          372.3323268890381,
          372.4564809799194,
          372.4434058666229,
          372.7167601585388,
          372.2537627220154,
          372.4524941444397,
          372.3637211322784,
          372.4862759113312,
          372.3999960422516,
          372.3334000110626,
          372.57404088974,
          372.4082598686218,
          372.5540328025818,
          372.4418649673462,
          372.4480082988739,
          372.67296719551086,
          372.5813660621643,
          372.4758310317993,
          372.5412328243256,
          372.7631840705872,
          372.5907232761383,
          372.72630882263184,
          372.8073773384094,
          372.7397930622101,
          388.0635468959808,
          388.4151248931885,
          388.4031517505646,
          388.6592738628388,
          388.9740037918091,
          388.9646241664887,
          389.0158400535584,
          388.6927969455719,
          389.03448700904846,
          388.68709230422974,
          389.0878143310547,
          388.8246428966522,
          388.7269701957703,
          389.0430171489716,
          388.9172379970551,
          389.175772190094,
          389.21518325805664,
          388.8968608379364,
          389.4289350509644,
          389.11679100990295,
          389.1064112186432,
          389.035786151886,
          389.3131399154663,
          389.1941208839417,
          389.2246098518372,
          389.6189203262329,
          389.26559114456177,
          389.1553211212158,
          389.2681930065155,
          389.4182300567627,
          389.2020688056946,
          389.59053468704224,
          389.6810488700866,
          389.32701587677,
          389.6037790775299,
          389.3663852214813,
          389.8144290447235,
          389.7938091754913,
          389.7817771434784,
          389.9241878986359,
          389.42752385139465,
          389.66956639289856,
          389.5008659362793,
          389.8757209777832,
          389.8061578273773,
          389.7802369594574,
          390.14339804649353,
          389.81659388542175,
          389.9599816799164,
          390.2684910297394,
          390.1071348190308,
          389.9341518878937,
          389.8252282142639,
          389.9359087944031,
          390.20158314704895,
          390.13574409484863,
          390.12476229667664,
          390.429603099823,
          390.5737490653992,
          390.3785400390625,
          390.26546001434326,
          390.3249273300171,
          390.4647068977356,
          390.3812799453736,
          390.2570719718933,
          390.6804938316345,
          390.3737037181854,
          390.3782777786255,
          390.6573340892792,
          390.5573670864105,
          390.51760601997375,
          390.7129120826721,
          390.6570899486542,
          390.83003282547,
          390.5380380153656,
          390.7623000144959,
          390.6932101249695,
          390.7897720336914,
          390.72160291671753,
          390.71467113494873,
          390.94858980178833,
          390.84912490844727,
          391.1634788513184,
          391.1893818378449,
          390.877897977829,
          391.10650396347046,
          391.1384162902832,
          390.9630990028381,
          391.2315361499786,
          391.51775884628296,
          391.1761848926544,
          391.56971406936646,
          391.16037702560425,
          391.38771510124207,
          391.16075706481934,
          391.4913909435272,
          391.61288499832153,
          391.4440228939056,
          391.4244270324707,
          391.4861497879028,
          383.99389910697937,
          383.868045091629,
          384.0945870876312,
          384.275927066803,
          384.36199593544006,
          384.59478974342346,
          384.5932128429413,
          384.2427337169647,
          384.3220567703247,
          384.3754439353943,
          384.4140808582306,
          384.4606342315674,
          384.62512588500977,
          385.0218119621277,
          384.8399450778961,
          384.9791250228882,
          385.0565278530121,
          385.04076170921326,
          385.1443190574646,
          385.626540184021,
          385.314658164978,
          385.7103559970856,
          385.4284589290619,
          385.4470679759979,
          385.73405480384827,
          385.6321070194245,
          385.5199568271637,
          385.5449740886688,
          385.4037799835205,
          385.4589378833771,
          385.59342312812805,
          385.4853098392487,
          385.4546539783478,
          385.6650218963623,
          385.6150839328766,
          385.7065668106079,
          385.7660069465637,
          385.5605370998383,
          385.5873589515686,
          385.7015299797058,
          385.7199828624725,
          385.8573369979858,
          385.6599338054657,
          385.8674969673157,
          385.57375264167786,
          385.7151412963867,
          385.6305890083313,
          385.72894382476807,
          385.7396397590637,
          385.5863139629364,
          385.7333390712738,
          385.6470148563385,
          385.96397614479065,
          385.8945450782776,
          385.8978290557861,
          385.927031993866,
          385.7870800495148,
          385.9261212348938,
          385.7773661613464,
          386.0512132644653,
          386.00840497016907,
          386.41908502578735,
          386.26147508621216,
          386.26205015182495,
          386.1418879032135,
          386.24452090263367,
          386.2610030174256,
          386.40901708602905,
          386.3401951789856,
          386.2926390171051,
          386.35116481781006,
          386.2605819702149,
          386.44629287719727,
          386.2848699092865,
          386.3318958282471,
          386.4649579524994,
          386.45791888237,
          386.4412977695465,
          386.42520022392273,
          386.5429549217224,
          386.5401680469513,
          386.4633548259735,
          386.33834195137024,
          386.3782737255096,
          386.3525397777557,
          386.4396347999573,
          386.4454646110535,
          386.50374126434326,
          386.6360988616944,
          386.6427547931671,
          386.4424378871918,
          386.4821901321411,
          386.59381675720215,
          386.5470681190491,
          386.6493308544159,
          386.7994141578674,
          386.5714259147644,
          386.45373797416687,
          386.6188690662384,
          386.6538128852844,
          0.0451316833496093,
          0.0092890262603759,
          0.049354076385498,
          0.0435960292816162,
          0.0039107799530029,
          0.057938814163208,
          0.0182230472564697,
          0.045361042022705,
          0.0345227718353271,
          0.0256299972534179,
          0.0335500240325927,
          0.0441367626190185,
          0.0446112155914306,
          0.0895190238952636,
          0.0392110347747802,
          0.0142269134521484,
          0.0401108264923095,
          0.0436699390411376,
          0.0339119434356689,
          0.0554208755493164,
          0.0304760932922363,
          0.03961181640625,
          0.0370800495147705,
          0.0559492111206054,
          0.0698390007019043,
          0.0623838901519775,
          0.056420087814331,
          0.0498449802398681,
          0.0482640266418457,
          0.0304248332977294,
          0.0338280200958251,
          0.0227580070495605,
          0.0175471305847167,
          0.0825550556182861,
          0.0238027572631835,
          0.0696840286254882,
          0.0424840450286865,
          0.0192079544067382,
          0.0313611030578613,
          0.0234291553497314,
          0.0489060878753662,
          0.0332217216491699,
          0.0189237594604492,
          0.0193531513214111,
          0.0125229358673095,
          0.0293149948120117,
          0.0513961315155029,
          0.0514001846313476,
          0.0190241336822509,
          0.0758149623870849,
          0.0239431858062744,
          0.0200481414794921,
          0.0083210468292236,
          0.0563738346099853,
          0.0639059543609619,
          0.049628734588623,
          0.0135161876678466,
          0.0220181941986084,
          0.0239069461822509,
          0.0349681377410888,
          0.0336520671844482,
          0.0086619853973388,
          0.0391769409179687,
          0.0058670043945312,
          0.0493271350860595,
          0.0547657012939453,
          0.0080189704895019,
          0.0378899574279785,
          0.0440809726715087,
          0.0315678119659423,
          0.014150857925415,
          0.0401070117950439,
          0.060856819152832,
          0.068166971206665,
          0.0091118812561035,
          0.0549159049987793,
          0.0191671848297119,
          0.019284963607788,
          0.0180380344390869,
          0.037330150604248,
          0.0775671005249023,
          0.0723247528076171,
          0.0373139381408691,
          0.0370850563049316,
          0.0385522842407226,
          0.0832870006561279,
          0.0184149742126464,
          0.0493550300598144,
          0.0261330604553222,
          0.0281150341033935,
          0.0188610553741455,
          0.0270400047302246,
          0.0194728374481201,
          0.0196433067321777,
          0.0136051177978515,
          0.0296597480773925,
          0.0534040927886962,
          0.0336639881134033,
          0.0232150554656982,
          0.0321400165557861,
          0.0387279987335205,
          0.0620076656341552,
          0.0126419067382812,
          0.0686240196228027,
          0.0175120830535888,
          0.0281500816345214,
          0.0290839672088623,
          0.0409841537475585,
          0.0343282222747802,
          0.0305879116058349,
          0.0163028240203857,
          0.0439908504486084,
          0.0162179470062255,
          0.0552930831909179,
          0.0020396709442138,
          0.0061447620391845,
          0.0350220203399658,
          0.0212409496307373,
          0.0364439487457275,
          0.0585711002349853,
          0.0509350299835205,
          0.0405738353729248,
          0.0253658294677734,
          0.0048730373382568,
          0.0679390430450439,
          0.0921850204467773,
          0.0079920291900634,
          0.0608100891113281,
          0.0167210102081298,
          0.0048301219940185,
          0.0020079612731933,
          0.0594358444213867,
          0.0019929409027099,
          0.0237600803375244,
          0.0019989013671875,
          0.0536777973175048,
          0.0472629070281982,
          0.1060190200805664,
          0.0222711563110351,
          0.0327701568603515,
          0.0129060745239257,
          0.0822010040283203,
          0.0189239978790283,
          0.0020952224731445,
          0.0157070159912109,
          0.0782427787780761,
          0.0198688507080078,
          0.0363118648529052,
          0.0669341087341308,
          0.0132210254669189,
          0.0061490535736083,
          0.0665857791900634,
          0.0196220874786376,
          0.0136060714721679,
          0.0295631885528564,
          0.0336368083953857,
          0.0371110439300537,
          0.027878999710083,
          0.0019888877868652,
          0.0114729404449462,
          0.0634691715240478,
          0.0140872001647949,
          0.0925748348236084,
          0.0141627788543701,
          0.0489640235900878,
          0.0714359283447265,
          0.0019891262054443,
          0.0138962268829345,
          0.0051238536834716,
          0.0232517719268798,
          0.0232610702514648,
          0.0263929367065429,
          0.0221202373504638,
          0.0184798240661621,
          0.0305888652801513,
          0.0148632526397705,
          0.0242540836334228,
          0.017463207244873,
          0.0190126895904541,
          0.0152578353881835,
          0.0245239734649658,
          0.0157163143157959,
          0.0239639282226562,
          0.0191068649291992,
          0.02783203125,
          0.0318937301635742,
          0.0169610977172851,
          0.0231990814208984,
          0.0108442306518554,
          0.0184099674224853,
          0.0238192081451416,
          0.0277152061462402,
          0.0194370746612548,
          0.0196919441223144,
          0.0148689746856689,
          0.0165040493011474,
          0.0164330005645751,
          0.017427921295166,
          0.0325360298156738,
          0.0334482192993164,
          0.0045878887176513,
          0.0028510093688964,
          0.0052187442779541,
          0.0042822360992431,
          0.0043220520019531,
          0.0054969787597656,
          0.0039832592010498,
          0.0030479431152343,
          0.0036022663116455,
          0.0033228397369384,
          0.003321886062622,
          0.0050439834594726,
          0.0039839744567871,
          0.0029129981994628,
          0.0037248134613037,
          0.0035030841827392,
          0.0038251876831054,
          0.0038321018218994,
          0.003260850906372,
          0.0032751560211181,
          0.0023567676544189,
          0.0064818859100341,
          0.0061209201812744,
          0.0019741058349609,
          0.0035128593444824,
          0.0061531066894531,
          0.0043139457702636,
          0.002864122390747,
          0.0019619464874267,
          0.0054888725280761,
          0.0046851634979248,
          0.00288987159729,
          0.0045819282531738,
          0.0020101070404052,
          0.0054738521575927,
          0.0039119720458984,
          0.0020408630371093,
          0.0019898414611816,
          0.0020039081573486,
          0.0018942356109619,
          0.001857042312622,
          0.0041768550872802,
          0.0017890930175781,
          0.0038216114044189,
          0.0044460296630859,
          0.0051019191741943,
          0.0034518241882324,
          0.0027110576629638,
          0.0033590793609619,
          0.0023801326751708,
          0.0021393299102783,
          0.0017001628875732,
          0.005810260772705,
          0.0034728050231933,
          0.002875804901123,
          0.0028767585754394,
          0.0022907257080078,
          0.0043239593505859,
          0.005882978439331,
          0.0032689571380615,
          0.0066361427307128,
          0.0028362274169921,
          0.0029010772705078,
          0.0023620128631591,
          0.0016291141510009,
          0.0042560100555419,
          0.003976821899414,
          0.0051419734954833,
          0.0038239955902099,
          0.0065460205078125,
          0.0069649219512939,
          0.0018877983093261,
          0.0079360008239746,
          0.0085487365722656,
          0.0047001838684082,
          0.0072050094604492,
          0.0091590881347656,
          0.004173994064331,
          0.0082020759582519,
          0.0068190097808837,
          0.0061287879943847,
          0.0072808265686035,
          0.0037257671356201,
          0.0073499679565429,
          0.0119352340698242,
          0.0056700706481933,
          0.0097050666809082,
          0.0030779838562011,
          0.0045199394226074,
          0.0051729679107666,
          0.0130538940429687,
          0.0067529678344726,
          0.0073962211608886,
          0.0062241554260253,
          0.0068306922912597,
          0.0067579746246337,
          0.0092790126800537,
          0.0099091529846191,
          0.0084409713745117,
          0.0084819793701171
         ],
         "y0": " ",
         "yaxis": "y"
        }
       ],
       "layout": {
        "boxmode": "group",
        "legend": {
         "tracegroupgap": 0
        },
        "margin": {
         "t": 60
        },
        "template": {
         "data": {
          "bar": [
           {
            "error_x": {
             "color": "#2a3f5f"
            },
            "error_y": {
             "color": "#2a3f5f"
            },
            "marker": {
             "line": {
              "color": "#E5ECF6",
              "width": 0.5
             },
             "pattern": {
              "fillmode": "overlay",
              "size": 10,
              "solidity": 0.2
             }
            },
            "type": "bar"
           }
          ],
          "barpolar": [
           {
            "marker": {
             "line": {
              "color": "#E5ECF6",
              "width": 0.5
             },
             "pattern": {
              "fillmode": "overlay",
              "size": 10,
              "solidity": 0.2
             }
            },
            "type": "barpolar"
           }
          ],
          "carpet": [
           {
            "aaxis": {
             "endlinecolor": "#2a3f5f",
             "gridcolor": "white",
             "linecolor": "white",
             "minorgridcolor": "white",
             "startlinecolor": "#2a3f5f"
            },
            "baxis": {
             "endlinecolor": "#2a3f5f",
             "gridcolor": "white",
             "linecolor": "white",
             "minorgridcolor": "white",
             "startlinecolor": "#2a3f5f"
            },
            "type": "carpet"
           }
          ],
          "choropleth": [
           {
            "colorbar": {
             "outlinewidth": 0,
             "ticks": ""
            },
            "type": "choropleth"
           }
          ],
          "contour": [
           {
            "colorbar": {
             "outlinewidth": 0,
             "ticks": ""
            },
            "colorscale": [
             [
              0,
              "#0d0887"
             ],
             [
              0.1111111111111111,
              "#46039f"
             ],
             [
              0.2222222222222222,
              "#7201a8"
             ],
             [
              0.3333333333333333,
              "#9c179e"
             ],
             [
              0.4444444444444444,
              "#bd3786"
             ],
             [
              0.5555555555555556,
              "#d8576b"
             ],
             [
              0.6666666666666666,
              "#ed7953"
             ],
             [
              0.7777777777777778,
              "#fb9f3a"
             ],
             [
              0.8888888888888888,
              "#fdca26"
             ],
             [
              1,
              "#f0f921"
             ]
            ],
            "type": "contour"
           }
          ],
          "contourcarpet": [
           {
            "colorbar": {
             "outlinewidth": 0,
             "ticks": ""
            },
            "type": "contourcarpet"
           }
          ],
          "heatmap": [
           {
            "colorbar": {
             "outlinewidth": 0,
             "ticks": ""
            },
            "colorscale": [
             [
              0,
              "#0d0887"
             ],
             [
              0.1111111111111111,
              "#46039f"
             ],
             [
              0.2222222222222222,
              "#7201a8"
             ],
             [
              0.3333333333333333,
              "#9c179e"
             ],
             [
              0.4444444444444444,
              "#bd3786"
             ],
             [
              0.5555555555555556,
              "#d8576b"
             ],
             [
              0.6666666666666666,
              "#ed7953"
             ],
             [
              0.7777777777777778,
              "#fb9f3a"
             ],
             [
              0.8888888888888888,
              "#fdca26"
             ],
             [
              1,
              "#f0f921"
             ]
            ],
            "type": "heatmap"
           }
          ],
          "heatmapgl": [
           {
            "colorbar": {
             "outlinewidth": 0,
             "ticks": ""
            },
            "colorscale": [
             [
              0,
              "#0d0887"
             ],
             [
              0.1111111111111111,
              "#46039f"
             ],
             [
              0.2222222222222222,
              "#7201a8"
             ],
             [
              0.3333333333333333,
              "#9c179e"
             ],
             [
              0.4444444444444444,
              "#bd3786"
             ],
             [
              0.5555555555555556,
              "#d8576b"
             ],
             [
              0.6666666666666666,
              "#ed7953"
             ],
             [
              0.7777777777777778,
              "#fb9f3a"
             ],
             [
              0.8888888888888888,
              "#fdca26"
             ],
             [
              1,
              "#f0f921"
             ]
            ],
            "type": "heatmapgl"
           }
          ],
          "histogram": [
           {
            "marker": {
             "pattern": {
              "fillmode": "overlay",
              "size": 10,
              "solidity": 0.2
             }
            },
            "type": "histogram"
           }
          ],
          "histogram2d": [
           {
            "colorbar": {
             "outlinewidth": 0,
             "ticks": ""
            },
            "colorscale": [
             [
              0,
              "#0d0887"
             ],
             [
              0.1111111111111111,
              "#46039f"
             ],
             [
              0.2222222222222222,
              "#7201a8"
             ],
             [
              0.3333333333333333,
              "#9c179e"
             ],
             [
              0.4444444444444444,
              "#bd3786"
             ],
             [
              0.5555555555555556,
              "#d8576b"
             ],
             [
              0.6666666666666666,
              "#ed7953"
             ],
             [
              0.7777777777777778,
              "#fb9f3a"
             ],
             [
              0.8888888888888888,
              "#fdca26"
             ],
             [
              1,
              "#f0f921"
             ]
            ],
            "type": "histogram2d"
           }
          ],
          "histogram2dcontour": [
           {
            "colorbar": {
             "outlinewidth": 0,
             "ticks": ""
            },
            "colorscale": [
             [
              0,
              "#0d0887"
             ],
             [
              0.1111111111111111,
              "#46039f"
             ],
             [
              0.2222222222222222,
              "#7201a8"
             ],
             [
              0.3333333333333333,
              "#9c179e"
             ],
             [
              0.4444444444444444,
              "#bd3786"
             ],
             [
              0.5555555555555556,
              "#d8576b"
             ],
             [
              0.6666666666666666,
              "#ed7953"
             ],
             [
              0.7777777777777778,
              "#fb9f3a"
             ],
             [
              0.8888888888888888,
              "#fdca26"
             ],
             [
              1,
              "#f0f921"
             ]
            ],
            "type": "histogram2dcontour"
           }
          ],
          "mesh3d": [
           {
            "colorbar": {
             "outlinewidth": 0,
             "ticks": ""
            },
            "type": "mesh3d"
           }
          ],
          "parcoords": [
           {
            "line": {
             "colorbar": {
              "outlinewidth": 0,
              "ticks": ""
             }
            },
            "type": "parcoords"
           }
          ],
          "pie": [
           {
            "automargin": true,
            "type": "pie"
           }
          ],
          "scatter": [
           {
            "fillpattern": {
             "fillmode": "overlay",
             "size": 10,
             "solidity": 0.2
            },
            "type": "scatter"
           }
          ],
          "scatter3d": [
           {
            "line": {
             "colorbar": {
              "outlinewidth": 0,
              "ticks": ""
             }
            },
            "marker": {
             "colorbar": {
              "outlinewidth": 0,
              "ticks": ""
             }
            },
            "type": "scatter3d"
           }
          ],
          "scattercarpet": [
           {
            "marker": {
             "colorbar": {
              "outlinewidth": 0,
              "ticks": ""
             }
            },
            "type": "scattercarpet"
           }
          ],
          "scattergeo": [
           {
            "marker": {
             "colorbar": {
              "outlinewidth": 0,
              "ticks": ""
             }
            },
            "type": "scattergeo"
           }
          ],
          "scattergl": [
           {
            "marker": {
             "colorbar": {
              "outlinewidth": 0,
              "ticks": ""
             }
            },
            "type": "scattergl"
           }
          ],
          "scattermapbox": [
           {
            "marker": {
             "colorbar": {
              "outlinewidth": 0,
              "ticks": ""
             }
            },
            "type": "scattermapbox"
           }
          ],
          "scatterpolar": [
           {
            "marker": {
             "colorbar": {
              "outlinewidth": 0,
              "ticks": ""
             }
            },
            "type": "scatterpolar"
           }
          ],
          "scatterpolargl": [
           {
            "marker": {
             "colorbar": {
              "outlinewidth": 0,
              "ticks": ""
             }
            },
            "type": "scatterpolargl"
           }
          ],
          "scatterternary": [
           {
            "marker": {
             "colorbar": {
              "outlinewidth": 0,
              "ticks": ""
             }
            },
            "type": "scatterternary"
           }
          ],
          "surface": [
           {
            "colorbar": {
             "outlinewidth": 0,
             "ticks": ""
            },
            "colorscale": [
             [
              0,
              "#0d0887"
             ],
             [
              0.1111111111111111,
              "#46039f"
             ],
             [
              0.2222222222222222,
              "#7201a8"
             ],
             [
              0.3333333333333333,
              "#9c179e"
             ],
             [
              0.4444444444444444,
              "#bd3786"
             ],
             [
              0.5555555555555556,
              "#d8576b"
             ],
             [
              0.6666666666666666,
              "#ed7953"
             ],
             [
              0.7777777777777778,
              "#fb9f3a"
             ],
             [
              0.8888888888888888,
              "#fdca26"
             ],
             [
              1,
              "#f0f921"
             ]
            ],
            "type": "surface"
           }
          ],
          "table": [
           {
            "cells": {
             "fill": {
              "color": "#EBF0F8"
             },
             "line": {
              "color": "white"
             }
            },
            "header": {
             "fill": {
              "color": "#C8D4E3"
             },
             "line": {
              "color": "white"
             }
            },
            "type": "table"
           }
          ]
         },
         "layout": {
          "annotationdefaults": {
           "arrowcolor": "#2a3f5f",
           "arrowhead": 0,
           "arrowwidth": 1
          },
          "autotypenumbers": "strict",
          "coloraxis": {
           "colorbar": {
            "outlinewidth": 0,
            "ticks": ""
           }
          },
          "colorscale": {
           "diverging": [
            [
             0,
             "#8e0152"
            ],
            [
             0.1,
             "#c51b7d"
            ],
            [
             0.2,
             "#de77ae"
            ],
            [
             0.3,
             "#f1b6da"
            ],
            [
             0.4,
             "#fde0ef"
            ],
            [
             0.5,
             "#f7f7f7"
            ],
            [
             0.6,
             "#e6f5d0"
            ],
            [
             0.7,
             "#b8e186"
            ],
            [
             0.8,
             "#7fbc41"
            ],
            [
             0.9,
             "#4d9221"
            ],
            [
             1,
             "#276419"
            ]
           ],
           "sequential": [
            [
             0,
             "#0d0887"
            ],
            [
             0.1111111111111111,
             "#46039f"
            ],
            [
             0.2222222222222222,
             "#7201a8"
            ],
            [
             0.3333333333333333,
             "#9c179e"
            ],
            [
             0.4444444444444444,
             "#bd3786"
            ],
            [
             0.5555555555555556,
             "#d8576b"
            ],
            [
             0.6666666666666666,
             "#ed7953"
            ],
            [
             0.7777777777777778,
             "#fb9f3a"
            ],
            [
             0.8888888888888888,
             "#fdca26"
            ],
            [
             1,
             "#f0f921"
            ]
           ],
           "sequentialminus": [
            [
             0,
             "#0d0887"
            ],
            [
             0.1111111111111111,
             "#46039f"
            ],
            [
             0.2222222222222222,
             "#7201a8"
            ],
            [
             0.3333333333333333,
             "#9c179e"
            ],
            [
             0.4444444444444444,
             "#bd3786"
            ],
            [
             0.5555555555555556,
             "#d8576b"
            ],
            [
             0.6666666666666666,
             "#ed7953"
            ],
            [
             0.7777777777777778,
             "#fb9f3a"
            ],
            [
             0.8888888888888888,
             "#fdca26"
            ],
            [
             1,
             "#f0f921"
            ]
           ]
          },
          "colorway": [
           "#636efa",
           "#EF553B",
           "#00cc96",
           "#ab63fa",
           "#FFA15A",
           "#19d3f3",
           "#FF6692",
           "#B6E880",
           "#FF97FF",
           "#FECB52"
          ],
          "font": {
           "color": "#2a3f5f"
          },
          "geo": {
           "bgcolor": "white",
           "lakecolor": "white",
           "landcolor": "#E5ECF6",
           "showlakes": true,
           "showland": true,
           "subunitcolor": "white"
          },
          "hoverlabel": {
           "align": "left"
          },
          "hovermode": "closest",
          "mapbox": {
           "style": "light"
          },
          "paper_bgcolor": "white",
          "plot_bgcolor": "#E5ECF6",
          "polar": {
           "angularaxis": {
            "gridcolor": "white",
            "linecolor": "white",
            "ticks": ""
           },
           "bgcolor": "#E5ECF6",
           "radialaxis": {
            "gridcolor": "white",
            "linecolor": "white",
            "ticks": ""
           }
          },
          "scene": {
           "xaxis": {
            "backgroundcolor": "#E5ECF6",
            "gridcolor": "white",
            "gridwidth": 2,
            "linecolor": "white",
            "showbackground": true,
            "ticks": "",
            "zerolinecolor": "white"
           },
           "yaxis": {
            "backgroundcolor": "#E5ECF6",
            "gridcolor": "white",
            "gridwidth": 2,
            "linecolor": "white",
            "showbackground": true,
            "ticks": "",
            "zerolinecolor": "white"
           },
           "zaxis": {
            "backgroundcolor": "#E5ECF6",
            "gridcolor": "white",
            "gridwidth": 2,
            "linecolor": "white",
            "showbackground": true,
            "ticks": "",
            "zerolinecolor": "white"
           }
          },
          "shapedefaults": {
           "line": {
            "color": "#2a3f5f"
           }
          },
          "ternary": {
           "aaxis": {
            "gridcolor": "white",
            "linecolor": "white",
            "ticks": ""
           },
           "baxis": {
            "gridcolor": "white",
            "linecolor": "white",
            "ticks": ""
           },
           "bgcolor": "#E5ECF6",
           "caxis": {
            "gridcolor": "white",
            "linecolor": "white",
            "ticks": ""
           }
          },
          "title": {
           "x": 0.05
          },
          "xaxis": {
           "automargin": true,
           "gridcolor": "white",
           "linecolor": "white",
           "ticks": "",
           "title": {
            "standoff": 15
           },
           "zerolinecolor": "white",
           "zerolinewidth": 2
          },
          "yaxis": {
           "automargin": true,
           "gridcolor": "white",
           "linecolor": "white",
           "ticks": "",
           "title": {
            "standoff": 15
           },
           "zerolinecolor": "white",
           "zerolinewidth": 2
          }
         }
        },
        "xaxis": {
         "anchor": "y",
         "domain": [
          0,
          1
         ],
         "title": {
          "text": "Package | Solver Combo"
         }
        },
        "yaxis": {
         "anchor": "x",
         "domain": [
          0,
          1
         ],
         "title": {
          "text": "Time"
         }
        }
       }
      }
     },
     "metadata": {},
     "output_type": "display_data"
    },
    {
     "name": "stdout",
     "output_type": "stream",
     "text": [
      "numbAssets=10 numbOrders=1000\n"
     ]
    },
    {
     "data": {
      "application/vnd.plotly.v1+json": {
       "config": {
        "plotlyServerURL": "https://plot.ly"
       },
       "data": [
        {
         "alignmentgroup": "True",
         "hovertemplate": "Package | Solver Combo=%{x}<br>Time=%{y}<extra></extra>",
         "legendgroup": "",
         "marker": {
          "color": "#636efa"
         },
         "name": "",
         "notched": false,
         "offsetgroup": "",
         "orientation": "v",
         "showlegend": false,
         "type": "box",
         "x": [
          "cvxpy | OSQP",
          "cvxpy | OSQP",
          "cvxpy | OSQP",
          "cvxpy | OSQP",
          "cvxpy | OSQP",
          "cvxpy | OSQP",
          "cvxpy | OSQP",
          "cvxpy | OSQP",
          "cvxpy | OSQP",
          "cvxpy | OSQP",
          "cvxpy | OSQP",
          "cvxpy | OSQP",
          "cvxpy | OSQP",
          "cvxpy | OSQP",
          "cvxpy | OSQP",
          "cvxpy | OSQP",
          "cvxpy | OSQP",
          "cvxpy | OSQP",
          "cvxpy | OSQP",
          "cvxpy | OSQP",
          "cvxpy | OSQP",
          "cvxpy | OSQP",
          "cvxpy | OSQP",
          "cvxpy | OSQP",
          "cvxpy | OSQP",
          "cvxpy | OSQP",
          "cvxpy | OSQP",
          "cvxpy | OSQP",
          "cvxpy | OSQP",
          "cvxpy | OSQP",
          "cvxpy | OSQP",
          "cvxpy | OSQP",
          "cvxpy | OSQP",
          "cvxpy | OSQP",
          "cvxpy | OSQP",
          "cvxpy | OSQP",
          "cvxpy | OSQP",
          "cvxpy | OSQP",
          "cvxpy | OSQP",
          "cvxpy | OSQP",
          "cvxpy | OSQP",
          "cvxpy | OSQP",
          "cvxpy | OSQP",
          "cvxpy | OSQP",
          "cvxpy | OSQP",
          "cvxpy | OSQP",
          "cvxpy | OSQP",
          "cvxpy | OSQP",
          "cvxpy | OSQP",
          "cvxpy | OSQP",
          "cvxpy | OSQP",
          "cvxpy | OSQP",
          "cvxpy | OSQP",
          "cvxpy | OSQP",
          "cvxpy | OSQP",
          "cvxpy | OSQP",
          "cvxpy | OSQP",
          "cvxpy | OSQP",
          "cvxpy | OSQP",
          "cvxpy | OSQP",
          "cvxpy | OSQP",
          "cvxpy | OSQP",
          "cvxpy | OSQP",
          "cvxpy | OSQP",
          "cvxpy | OSQP",
          "cvxpy | OSQP",
          "cvxpy | OSQP",
          "cvxpy | OSQP",
          "cvxpy | OSQP",
          "cvxpy | OSQP",
          "cvxpy | OSQP",
          "cvxpy | OSQP",
          "cvxpy | OSQP",
          "cvxpy | OSQP",
          "cvxpy | OSQP",
          "cvxpy | OSQP",
          "cvxpy | OSQP",
          "cvxpy | OSQP",
          "cvxpy | OSQP",
          "cvxpy | OSQP",
          "cvxpy | OSQP",
          "cvxpy | OSQP",
          "cvxpy | OSQP",
          "cvxpy | OSQP",
          "cvxpy | OSQP",
          "cvxpy | OSQP",
          "cvxpy | OSQP",
          "cvxpy | OSQP",
          "cvxpy | OSQP",
          "cvxpy | OSQP",
          "cvxpy | OSQP",
          "cvxpy | OSQP",
          "cvxpy | OSQP",
          "cvxpy | OSQP",
          "cvxpy | OSQP",
          "cvxpy | OSQP",
          "cvxpy | OSQP",
          "cvxpy | OSQP",
          "cvxpy | OSQP",
          "cvxpy | OSQP",
          "cvxpy | ECOS",
          "cvxpy | ECOS",
          "cvxpy | ECOS",
          "cvxpy | ECOS",
          "cvxpy | ECOS",
          "cvxpy | ECOS",
          "cvxpy | ECOS",
          "cvxpy | ECOS",
          "cvxpy | ECOS",
          "cvxpy | ECOS",
          "cvxpy | ECOS",
          "cvxpy | ECOS",
          "cvxpy | ECOS",
          "cvxpy | ECOS",
          "cvxpy | ECOS",
          "cvxpy | ECOS",
          "cvxpy | ECOS",
          "cvxpy | ECOS",
          "cvxpy | ECOS",
          "cvxpy | ECOS",
          "cvxpy | ECOS",
          "cvxpy | ECOS",
          "cvxpy | ECOS",
          "cvxpy | ECOS",
          "cvxpy | ECOS",
          "cvxpy | ECOS",
          "cvxpy | ECOS",
          "cvxpy | ECOS",
          "cvxpy | ECOS",
          "cvxpy | ECOS",
          "cvxpy | ECOS",
          "cvxpy | ECOS",
          "cvxpy | ECOS",
          "cvxpy | ECOS",
          "cvxpy | ECOS",
          "cvxpy | ECOS",
          "cvxpy | ECOS",
          "cvxpy | ECOS",
          "cvxpy | ECOS",
          "cvxpy | ECOS",
          "cvxpy | ECOS",
          "cvxpy | ECOS",
          "cvxpy | ECOS",
          "cvxpy | ECOS",
          "cvxpy | ECOS",
          "cvxpy | ECOS",
          "cvxpy | ECOS",
          "cvxpy | ECOS",
          "cvxpy | ECOS",
          "cvxpy | ECOS",
          "cvxpy | ECOS",
          "cvxpy | ECOS",
          "cvxpy | ECOS",
          "cvxpy | ECOS",
          "cvxpy | ECOS",
          "cvxpy | ECOS",
          "cvxpy | ECOS",
          "cvxpy | ECOS",
          "cvxpy | ECOS",
          "cvxpy | ECOS",
          "cvxpy | ECOS",
          "cvxpy | ECOS",
          "cvxpy | ECOS",
          "cvxpy | ECOS",
          "cvxpy | ECOS",
          "cvxpy | ECOS",
          "cvxpy | ECOS",
          "cvxpy | ECOS",
          "cvxpy | ECOS",
          "cvxpy | ECOS",
          "cvxpy | ECOS",
          "cvxpy | ECOS",
          "cvxpy | ECOS",
          "cvxpy | ECOS",
          "cvxpy | ECOS",
          "cvxpy | ECOS",
          "cvxpy | ECOS",
          "cvxpy | ECOS",
          "cvxpy | ECOS",
          "cvxpy | ECOS",
          "cvxpy | ECOS",
          "cvxpy | ECOS",
          "cvxpy | ECOS",
          "cvxpy | ECOS",
          "cvxpy | ECOS",
          "cvxpy | ECOS",
          "cvxpy | ECOS",
          "cvxpy | ECOS",
          "cvxpy | ECOS",
          "cvxpy | ECOS",
          "cvxpy | ECOS",
          "cvxpy | ECOS",
          "cvxpy | ECOS",
          "cvxpy | ECOS",
          "cvxpy | ECOS",
          "cvxpy | ECOS",
          "cvxpy | ECOS",
          "cvxpy | ECOS",
          "cvxpy | ECOS",
          "cvxpy | ECOS",
          "cvxpy | SCS",
          "cvxpy | SCS",
          "cvxpy | SCS",
          "cvxpy | SCS",
          "cvxpy | SCS",
          "cvxpy | SCS",
          "cvxpy | SCS",
          "cvxpy | SCS",
          "cvxpy | SCS",
          "cvxpy | SCS",
          "cvxpy | SCS",
          "cvxpy | SCS",
          "cvxpy | SCS",
          "cvxpy | SCS",
          "cvxpy | SCS",
          "cvxpy | SCS",
          "cvxpy | SCS",
          "cvxpy | SCS",
          "cvxpy | SCS",
          "cvxpy | SCS",
          "cvxpy | SCS",
          "cvxpy | SCS",
          "cvxpy | SCS",
          "cvxpy | SCS",
          "cvxpy | SCS",
          "cvxpy | SCS",
          "cvxpy | SCS",
          "cvxpy | SCS",
          "cvxpy | SCS",
          "cvxpy | SCS",
          "cvxpy | SCS",
          "cvxpy | SCS",
          "cvxpy | SCS",
          "cvxpy | SCS",
          "cvxpy | SCS",
          "cvxpy | SCS",
          "cvxpy | SCS",
          "cvxpy | SCS",
          "cvxpy | SCS",
          "cvxpy | SCS",
          "cvxpy | SCS",
          "cvxpy | SCS",
          "cvxpy | SCS",
          "cvxpy | SCS",
          "cvxpy | SCS",
          "cvxpy | SCS",
          "cvxpy | SCS",
          "cvxpy | SCS",
          "cvxpy | SCS",
          "cvxpy | SCS",
          "cvxpy | SCS",
          "cvxpy | SCS",
          "cvxpy | SCS",
          "cvxpy | SCS",
          "cvxpy | SCS",
          "cvxpy | SCS",
          "cvxpy | SCS",
          "cvxpy | SCS",
          "cvxpy | SCS",
          "cvxpy | SCS",
          "cvxpy | SCS",
          "cvxpy | SCS",
          "cvxpy | SCS",
          "cvxpy | SCS",
          "cvxpy | SCS",
          "cvxpy | SCS",
          "cvxpy | SCS",
          "cvxpy | SCS",
          "cvxpy | SCS",
          "cvxpy | SCS",
          "cvxpy | SCS",
          "cvxpy | SCS",
          "cvxpy | SCS",
          "cvxpy | SCS",
          "cvxpy | SCS",
          "cvxpy | SCS",
          "cvxpy | SCS",
          "cvxpy | SCS",
          "cvxpy | SCS",
          "cvxpy | SCS",
          "cvxpy | SCS",
          "cvxpy | SCS",
          "cvxpy | SCS",
          "cvxpy | SCS",
          "cvxpy | SCS",
          "cvxpy | SCS",
          "cvxpy | SCS",
          "cvxpy | SCS",
          "cvxpy | SCS",
          "cvxpy | SCS",
          "cvxpy | SCS",
          "cvxpy | SCS",
          "cvxpy | SCS",
          "cvxpy | SCS",
          "cvxpy | SCS",
          "cvxpy | SCS",
          "cvxpy | SCS",
          "cvxpy | SCS",
          "cvxpy | SCS",
          "cvxpy | SCS",
          "qpsolver | osqp",
          "qpsolver | osqp",
          "qpsolver | osqp",
          "qpsolver | osqp",
          "qpsolver | osqp",
          "qpsolver | osqp",
          "qpsolver | osqp",
          "qpsolver | osqp",
          "qpsolver | osqp",
          "qpsolver | osqp",
          "qpsolver | osqp",
          "qpsolver | osqp",
          "qpsolver | osqp",
          "qpsolver | osqp",
          "qpsolver | osqp",
          "qpsolver | osqp",
          "qpsolver | osqp",
          "qpsolver | osqp",
          "qpsolver | osqp",
          "qpsolver | osqp",
          "qpsolver | osqp",
          "qpsolver | osqp",
          "qpsolver | osqp",
          "qpsolver | osqp",
          "qpsolver | osqp",
          "qpsolver | osqp",
          "qpsolver | osqp",
          "qpsolver | osqp",
          "qpsolver | osqp",
          "qpsolver | osqp",
          "qpsolver | osqp",
          "qpsolver | osqp",
          "qpsolver | osqp",
          "qpsolver | osqp",
          "qpsolver | osqp",
          "qpsolver | osqp",
          "qpsolver | osqp",
          "qpsolver | osqp",
          "qpsolver | osqp",
          "qpsolver | osqp",
          "qpsolver | osqp",
          "qpsolver | osqp",
          "qpsolver | osqp",
          "qpsolver | osqp",
          "qpsolver | osqp",
          "qpsolver | osqp",
          "qpsolver | osqp",
          "qpsolver | osqp",
          "qpsolver | osqp",
          "qpsolver | osqp",
          "qpsolver | osqp",
          "qpsolver | osqp",
          "qpsolver | osqp",
          "qpsolver | osqp",
          "qpsolver | osqp",
          "qpsolver | osqp",
          "qpsolver | osqp",
          "qpsolver | osqp",
          "qpsolver | osqp",
          "qpsolver | osqp",
          "qpsolver | osqp",
          "qpsolver | osqp",
          "qpsolver | osqp",
          "qpsolver | osqp",
          "qpsolver | osqp",
          "qpsolver | osqp",
          "qpsolver | osqp",
          "qpsolver | osqp",
          "qpsolver | osqp",
          "qpsolver | osqp",
          "qpsolver | osqp",
          "qpsolver | osqp",
          "qpsolver | osqp",
          "qpsolver | osqp",
          "qpsolver | osqp",
          "qpsolver | osqp",
          "qpsolver | osqp",
          "qpsolver | osqp",
          "qpsolver | osqp",
          "qpsolver | osqp",
          "qpsolver | osqp",
          "qpsolver | osqp",
          "qpsolver | osqp",
          "qpsolver | osqp",
          "qpsolver | osqp",
          "qpsolver | osqp",
          "qpsolver | osqp",
          "qpsolver | osqp",
          "qpsolver | osqp",
          "qpsolver | osqp",
          "qpsolver | osqp",
          "qpsolver | osqp",
          "qpsolver | osqp",
          "qpsolver | osqp",
          "qpsolver | osqp",
          "qpsolver | osqp",
          "qpsolver | osqp",
          "qpsolver | osqp",
          "qpsolver | osqp",
          "qpsolver | osqp",
          "qpsolver | scs",
          "qpsolver | scs",
          "qpsolver | scs",
          "qpsolver | scs",
          "qpsolver | scs",
          "qpsolver | scs",
          "qpsolver | scs",
          "qpsolver | scs",
          "qpsolver | scs",
          "qpsolver | scs",
          "qpsolver | scs",
          "qpsolver | scs",
          "qpsolver | scs",
          "qpsolver | scs",
          "qpsolver | scs",
          "qpsolver | scs",
          "qpsolver | scs",
          "qpsolver | scs",
          "qpsolver | scs",
          "qpsolver | scs",
          "qpsolver | scs",
          "qpsolver | scs",
          "qpsolver | scs",
          "qpsolver | scs",
          "qpsolver | scs",
          "qpsolver | scs",
          "qpsolver | scs",
          "qpsolver | scs",
          "qpsolver | scs",
          "qpsolver | scs",
          "qpsolver | scs",
          "qpsolver | scs",
          "qpsolver | scs",
          "qpsolver | scs",
          "qpsolver | scs",
          "qpsolver | scs",
          "qpsolver | scs",
          "qpsolver | scs",
          "qpsolver | scs",
          "qpsolver | scs",
          "qpsolver | scs",
          "qpsolver | scs",
          "qpsolver | scs",
          "qpsolver | scs",
          "qpsolver | scs",
          "qpsolver | scs",
          "qpsolver | scs",
          "qpsolver | scs",
          "qpsolver | scs",
          "qpsolver | scs",
          "qpsolver | scs",
          "qpsolver | scs",
          "qpsolver | scs",
          "qpsolver | scs",
          "qpsolver | scs",
          "qpsolver | scs",
          "qpsolver | scs",
          "qpsolver | scs",
          "qpsolver | scs",
          "qpsolver | scs",
          "qpsolver | scs",
          "qpsolver | scs",
          "qpsolver | scs",
          "qpsolver | scs",
          "qpsolver | scs",
          "qpsolver | scs",
          "qpsolver | scs",
          "qpsolver | scs",
          "qpsolver | scs",
          "qpsolver | scs",
          "qpsolver | scs",
          "qpsolver | scs",
          "qpsolver | scs",
          "qpsolver | scs",
          "qpsolver | scs",
          "qpsolver | scs",
          "qpsolver | scs",
          "qpsolver | scs",
          "qpsolver | scs",
          "qpsolver | scs",
          "qpsolver | scs",
          "qpsolver | scs",
          "qpsolver | scs",
          "qpsolver | scs",
          "qpsolver | scs",
          "qpsolver | scs",
          "qpsolver | scs",
          "qpsolver | scs",
          "qpsolver | scs",
          "qpsolver | scs",
          "qpsolver | scs",
          "qpsolver | scs",
          "qpsolver | scs",
          "qpsolver | scs",
          "qpsolver | scs",
          "qpsolver | scs",
          "qpsolver | scs",
          "qpsolver | scs",
          "qpsolver | scs",
          "qpsolver | scs",
          "qpsolver | quadprog",
          "qpsolver | quadprog",
          "qpsolver | quadprog",
          "qpsolver | quadprog",
          "qpsolver | quadprog",
          "qpsolver | quadprog",
          "qpsolver | quadprog",
          "qpsolver | quadprog",
          "qpsolver | quadprog",
          "qpsolver | quadprog",
          "qpsolver | quadprog",
          "qpsolver | quadprog",
          "qpsolver | quadprog",
          "qpsolver | quadprog",
          "qpsolver | quadprog",
          "qpsolver | quadprog",
          "qpsolver | quadprog",
          "qpsolver | quadprog",
          "qpsolver | quadprog",
          "qpsolver | quadprog",
          "qpsolver | quadprog",
          "qpsolver | quadprog",
          "qpsolver | quadprog",
          "qpsolver | quadprog",
          "qpsolver | quadprog",
          "qpsolver | quadprog",
          "qpsolver | quadprog",
          "qpsolver | quadprog",
          "qpsolver | quadprog",
          "qpsolver | quadprog",
          "qpsolver | quadprog",
          "qpsolver | quadprog",
          "qpsolver | quadprog",
          "qpsolver | quadprog",
          "qpsolver | quadprog",
          "qpsolver | quadprog",
          "qpsolver | quadprog",
          "qpsolver | quadprog",
          "qpsolver | quadprog",
          "qpsolver | quadprog",
          "qpsolver | quadprog",
          "qpsolver | quadprog",
          "qpsolver | quadprog",
          "qpsolver | quadprog",
          "qpsolver | quadprog",
          "qpsolver | quadprog",
          "qpsolver | quadprog",
          "qpsolver | quadprog",
          "qpsolver | quadprog",
          "qpsolver | quadprog",
          "qpsolver | quadprog",
          "qpsolver | quadprog",
          "qpsolver | quadprog",
          "qpsolver | quadprog",
          "qpsolver | quadprog",
          "qpsolver | quadprog",
          "qpsolver | quadprog",
          "qpsolver | quadprog",
          "qpsolver | quadprog",
          "qpsolver | quadprog",
          "qpsolver | quadprog",
          "qpsolver | quadprog",
          "qpsolver | quadprog",
          "qpsolver | quadprog",
          "qpsolver | quadprog",
          "qpsolver | quadprog",
          "qpsolver | quadprog",
          "qpsolver | quadprog",
          "qpsolver | quadprog",
          "qpsolver | quadprog",
          "qpsolver | quadprog",
          "qpsolver | quadprog",
          "qpsolver | quadprog",
          "qpsolver | quadprog",
          "qpsolver | quadprog",
          "qpsolver | quadprog",
          "qpsolver | quadprog",
          "qpsolver | quadprog",
          "qpsolver | quadprog",
          "qpsolver | quadprog",
          "qpsolver | quadprog",
          "qpsolver | quadprog",
          "qpsolver | quadprog",
          "qpsolver | quadprog",
          "qpsolver | quadprog",
          "qpsolver | quadprog",
          "qpsolver | quadprog",
          "qpsolver | quadprog",
          "qpsolver | quadprog",
          "qpsolver | quadprog",
          "qpsolver | quadprog",
          "qpsolver | quadprog",
          "qpsolver | quadprog",
          "qpsolver | quadprog",
          "qpsolver | quadprog",
          "qpsolver | quadprog",
          "qpsolver | quadprog",
          "qpsolver | quadprog",
          "qpsolver | quadprog",
          "qpsolver | quadprog"
         ],
         "x0": " ",
         "xaxis": "x",
         "y": [
          1983.7518117427824,
          1983.530986070633,
          1983.9637169837952,
          1984.076930046081,
          1984.0110681056976,
          1983.7743971347809,
          1984.0543649196625,
          1983.7577168941496,
          1984.4106922149656,
          1984.561210155487,
          1984.5855507850647,
          1984.0215001106264,
          1984.2172012329104,
          1984.710952758789,
          1984.2807490825653,
          1984.5846860408783,
          1984.2158000469208,
          1984.821044921875,
          1984.9534060955048,
          1984.9448947906492,
          1984.7614588737488,
          1984.714229106903,
          1985.148138999939,
          1984.5546967983248,
          1985.382618188858,
          1985.4087166786196,
          1985.104692935944,
          1985.3030846118927,
          1984.7635729312897,
          1985.6671180725095,
          1985.282866239548,
          1985.39416217804,
          1985.4106259346008,
          1985.8451583385468,
          1985.404088973999,
          1985.937378168106,
          1985.6915998458865,
          1986.142497062683,
          1985.8598201274872,
          1986.2159569263456,
          1985.848958969116,
          1986.34706568718,
          1985.6716630458832,
          1986.0062310695648,
          1986.53999209404,
          1986.3660078048704,
          1986.2754769325256,
          1986.442549943924,
          1986.305593252182,
          1986.8588271141048,
          1986.6351191997528,
          1986.945377111435,
          1986.711083173752,
          1986.3515977859497,
          1986.8682618141172,
          1986.6694660186768,
          1987.070722103119,
          1987.0308282375336,
          1986.7409510612488,
          1987.125806808472,
          1987.15518784523,
          1987.163045167923,
          1987.5544610023496,
          1987.773191213608,
          1987.7817041873927,
          1987.175875663757,
          1987.6935639381409,
          1987.3659482002256,
          1987.677269935608,
          1987.960685968399,
          1987.763669013977,
          1988.0425329208372,
          1987.9945180416107,
          1988.0668368339536,
          1987.98108792305,
          1988.1849179267883,
          1988.247258901596,
          1988.8174998760223,
          1988.7184870243077,
          1988.4997129440308,
          1988.7717559337616,
          1988.5375180244448,
          1988.7796638011928,
          1988.4955446720123,
          1988.619929075241,
          1989.096024274826,
          1988.995449066162,
          1989.0956959724424,
          1989.2153148651123,
          1989.2839069366453,
          1989.6955201625824,
          1989.8699250221248,
          1989.6297550201416,
          1989.5005671978,
          1989.706915855408,
          1989.7593820095065,
          1990.1933510303495,
          1989.625191926956,
          1989.956495046616,
          1989.834990978241,
          1544.7248780727386,
          1544.744871854782,
          1545.383509159088,
          1545.915590763092,
          1546.207539319992,
          1546.0025839805603,
          1546.8722801208496,
          1547.0072000026703,
          1547.3974850177765,
          1547.608056783676,
          1548.945023059845,
          1548.98513174057,
          1548.9131269454956,
          1549.1473789215088,
          1550.076451778412,
          1549.9980220794678,
          1550.5162091255188,
          1550.5176239013672,
          1551.478653907776,
          1551.4571211338043,
          1552.2665357589722,
          1551.9350998401642,
          1553.0483078956604,
          1553.2172861099243,
          1553.2427923679352,
          1553.34983587265,
          1553.969852924347,
          1553.9499530792236,
          1554.7059688568115,
          1555.2230741977692,
          1555.4297127723694,
          1556.0362219810486,
          1556.2406299114227,
          1556.561501264572,
          1556.7444868087769,
          1557.5346939563751,
          1557.2622411251068,
          1557.9296839237213,
          1558.331176996231,
          1558.520593166351,
          1559.1744911670685,
          1559.3113689422607,
          1559.9443531036377,
          1560.1801500320437,
          1560.4239058494568,
          1560.980523109436,
          1561.2467200756073,
          1561.9673700332642,
          1561.3077380657196,
          1562.1634967327118,
          1562.4219467639923,
          1562.6718032360077,
          1562.7892191410065,
          1564.2440888881683,
          1563.6686458587646,
          1564.4886581897736,
          1565.4968719482422,
          1565.4389100074768,
          1565.8610792160034,
          1566.4478361606598,
          1566.6630818843842,
          1566.7760922908783,
          1567.50763297081,
          1567.8800373077393,
          1568.2393417358398,
          1568.5804328918457,
          1569.7518210411072,
          1569.2959778308868,
          1570.6534509658811,
          1570.505786895752,
          1571.423497915268,
          1571.831771850586,
          1571.8863151073456,
          1572.2058267593384,
          1572.6639699935913,
          1572.7667970657349,
          1573.6119260787964,
          1573.8633811473846,
          1573.964233160019,
          1574.3911771774292,
          1575.201200246811,
          1574.8466589450836,
          1575.667345046997,
          1575.7385160923004,
          1576.4732887744904,
          1576.9099566936493,
          1577.818824052811,
          1577.9701092243197,
          1577.9981853961945,
          1578.6601040363312,
          1578.8887066841123,
          1579.2212479114532,
          1579.4910488128662,
          1579.6805980205536,
          1580.156014919281,
          1580.511036157608,
          1581.1054389476776,
          1581.1869480609894,
          1581.380086183548,
          1581.640113115311,
          1606.7490510940552,
          1607.719351053238,
          1608.4221470355988,
          1609.0381450653076,
          1610.4411869049072,
          1610.2813918590546,
          1611.518944978714,
          1612.1690602302551,
          1613.4942412376404,
          1614.2537558078766,
          1614.1747088432312,
          1614.9095170497894,
          1616.2555139064789,
          1617.2241768836975,
          1617.4592020511627,
          1618.1028327941897,
          1618.9896457195282,
          1619.9259469509125,
          1620.4428482055664,
          1621.51678109169,
          1621.9938459396362,
          1622.3636407852173,
          1623.547553062439,
          1623.869657754898,
          1624.6978509426117,
          1626.1402170658112,
          1626.117935180664,
          1627.3626790046692,
          1627.8539471626282,
          1628.5029480457306,
          1629.5473861694336,
          1630.0670211315155,
          1631.4046158790588,
          1631.9724740982056,
          1632.0871889591217,
          1633.520977973938,
          1634.1332437992096,
          1635.17817902565,
          1635.403836965561,
          1636.2543840408323,
          1637.465301990509,
          1638.2097029685974,
          1638.2553012371063,
          1639.5549387931824,
          1640.0399141311646,
          1640.393051147461,
          1641.3879919052124,
          1642.7212500572205,
          1642.8892841339111,
          1644.0320482254028,
          1644.7801160812378,
          1645.5264382362366,
          1645.598156929016,
          1647.05242228508,
          1647.2492628097534,
          1648.2751290798187,
          1649.0175230503082,
          1649.372978925705,
          1650.8258419036863,
          1651.0388941764832,
          1652.5416181087494,
          1652.926701784134,
          1653.8697040081024,
          1654.3187139034271,
          1655.528066158295,
          1655.828353881836,
          1656.9647889137268,
          1657.829738855362,
          1658.3834161758425,
          1659.1065351963043,
          1659.6002669334412,
          1660.9784309864044,
          1661.4303019046783,
          1662.1161260604858,
          1663.196869134903,
          1663.219836950302,
          1664.7192780971527,
          1665.225774049759,
          1666.2330791950226,
          1666.7587440013883,
          1667.1529231071472,
          1667.5535910129547,
          1669.222774028778,
          1669.851009607315,
          1670.561367034912,
          1671.5153489112854,
          1672.0156128406525,
          1672.6277341842651,
          1673.0751078128817,
          1674.616040945053,
          1675.378574848175,
          1675.7278468608856,
          1676.1721940040588,
          1677.6615068912506,
          1677.6088140010834,
          1678.7917847633362,
          1679.197755098343,
          1680.377221107483,
          1681.1272189617157,
          1681.2560708522797,
          0.0878188610076904,
          0.0845041275024414,
          0.0665791034698486,
          0.0971579551696777,
          0.0211801528930664,
          0.0280342102050781,
          0.0700609683990478,
          0.0865499973297119,
          0.0226690769195556,
          0.0663800239562988,
          0.0652401447296142,
          0.0640339851379394,
          0.0631458759307861,
          0.0323400497436523,
          0.0346059799194335,
          0.0255842208862304,
          0.0822157859802246,
          0.0891811847686767,
          0.0523741245269775,
          0.0388469696044921,
          0.0410380363464355,
          0.0801851749420166,
          0.1512980461120605,
          0.0688848495483398,
          0.0721111297607421,
          0.0321390628814697,
          0.0846090316772461,
          0.0867009162902832,
          0.0832481384277343,
          0.0378212928771972,
          0.1389939785003662,
          0.0188331604003906,
          0.0581231117248535,
          0.075463056564331,
          0.081752061843872,
          0.0471899509429931,
          0.0331509113311767,
          0.0819430351257324,
          0.0580577850341796,
          0.0527689456939697,
          0.0476319789886474,
          0.1769590377807617,
          0.0543529987335205,
          0.0528619289398193,
          0.0516159534454345,
          0.0717289447784423,
          0.0806808471679687,
          0.0801460742950439,
          0.0711989402770996,
          0.087026834487915,
          0.0520699024200439,
          0.0816898345947265,
          0.1840319633483886,
          0.0740411281585693,
          0.0805568695068359,
          0.07464599609375,
          0.1078300476074218,
          0.1028821468353271,
          0.0776848793029785,
          0.0835700035095214,
          0.0976181030273437,
          0.0901241302490234,
          0.1321830749511718,
          0.067883014678955,
          0.1627981662750244,
          0.1301310062408447,
          0.1657032966613769,
          0.108799934387207,
          0.0638861656188964,
          0.1146130561828613,
          0.0863590240478515,
          0.1158230304718017,
          0.094167947769165,
          0.1215379238128662,
          0.1191680431365966,
          0.0831542015075683,
          0.1438992023468017,
          0.0979881286621093,
          0.1252181529998779,
          0.0688121318817138,
          0.1261739730834961,
          0.0573172569274902,
          0.0585880279541015,
          0.0834863185882568,
          0.0787980556488037,
          0.0828578472137451,
          0.1160390377044677,
          0.0798718929290771,
          0.0983939170837402,
          0.0730390548706054,
          0.1058149337768554,
          0.0827691555023193,
          0.0759680271148681,
          0.1735579967498779,
          0.1207940578460693,
          0.0877130031585693,
          0.1004040241241455,
          0.0937879085540771,
          0.1276009082794189,
          0.1326720714569091,
          0.0594208240509033,
          0.0673186779022216,
          0.0475239753723144,
          0.0685212612152099,
          0.0509009361267089,
          0.0644400119781494,
          0.0518479347229003,
          0.0521321296691894,
          0.1219158172607421,
          0.0649967193603515,
          0.0466847419738769,
          0.05389404296875,
          0.0608010292053222,
          0.0674550533294677,
          0.0635850429534912,
          0.0488760471343994,
          0.0838809013366699,
          0.0882189273834228,
          0.1001768112182617,
          0.0751898288726806,
          0.0862360000610351,
          0.1071748733520507,
          0.0490479469299316,
          0.0534760951995849,
          0.1374940872192382,
          0.1781072616577148,
          0.0454230308532714,
          0.08355712890625,
          0.0900988578796386,
          0.0882496833801269,
          0.088472843170166,
          0.0647859573364257,
          0.1201179027557373,
          0.126410961151123,
          0.2310130596160888,
          0.0554380416870117,
          0.0719470977783203,
          0.1332960128784179,
          0.0839917659759521,
          0.1230018138885498,
          0.0770111083984375,
          0.1056771278381347,
          0.0930311679840087,
          0.064594030380249,
          0.0726451873779296,
          0.1215350627899169,
          0.1920499801635742,
          0.058784008026123,
          0.0884127616882324,
          0.0757489204406738,
          0.0576832294464111,
          0.1469550132751464,
          0.0500750541687011,
          0.1058158874511718,
          0.1152331829071044,
          0.2564249038696289,
          0.1273019313812255,
          0.0809910297393798,
          0.2435107231140136,
          0.2683711051940918,
          0.1137201786041259,
          0.0926530361175537,
          0.121269941329956,
          0.1242060661315918,
          0.1162860393524169,
          0.138190746307373,
          0.1281418800354004,
          0.2651140689849853,
          0.2884631156921386,
          0.2939579486846924,
          0.2875039577484131,
          0.2866449356079101,
          0.3179998397827148,
          0.2379202842712402,
          0.3116297721862793,
          0.3381109237670898,
          0.1832900047302246,
          0.1396081447601318,
          0.171860933303833,
          0.2860879898071289,
          0.2464158535003662,
          0.2644617557525635,
          0.3071029186248779,
          0.2736392021179199,
          0.1890060901641845,
          0.1644670963287353,
          0.2827637195587158,
          0.3346059322357178,
          0.226593017578125,
          0.1445770263671875,
          0.1628711223602295,
          0.242293119430542,
          0.1749992370605468,
          0.2706680297851562,
          0.1499557495117187,
          0.2153689861297607,
          0.1997871398925781,
          0.2722740173339844,
          0.1983759403228759,
          0.3525371551513672,
          22.850769996643063,
          22.919425010681152,
          23.423045873641968,
          23.47018599510193,
          23.4729118347168,
          23.61414384841919,
          23.72439193725586,
          23.726054906845093,
          23.80339288711548,
          23.861143112182617,
          23.838196992874146,
          23.915465831756592,
          24.12828278541565,
          24.168363094329838,
          24.198150157928467,
          24.135857105255127,
          24.432729721069336,
          24.68102598190308,
          24.786325931549072,
          24.769299030303955,
          24.441622972488403,
          24.877742767333984,
          24.88683319091797,
          24.887444019317627,
          24.891474962234497,
          25.23194694519043,
          25.02375316619873,
          24.978933095932007,
          25.456017017364506,
          24.86119294166565,
          25.00091290473938,
          25.52964496612549,
          25.64210295677185,
          25.0851788520813,
          25.64145803451538,
          25.05629801750183,
          25.046261072158813,
          25.58821725845337,
          25.93020081520081,
          25.78171992301941,
          25.197604179382324,
          25.725414991378784,
          25.805392742156982,
          25.78827214241028,
          25.330167055130005,
          25.13392400741577,
          25.023170948028564,
          25.88231134414673,
          26.12031197547913,
          25.05853295326233,
          25.39745807647705,
          26.308597087860107,
          25.835419178009037,
          25.904982805252075,
          25.789315223693848,
          26.1274528503418,
          26.211600303649902,
          25.597283124923703,
          26.07599687576294,
          25.16763997077942,
          26.17298412322998,
          26.01059293746948,
          25.18952703475952,
          25.82788872718811,
          26.491573810577396,
          26.347843170166016,
          26.195597171783447,
          26.136189937591556,
          25.87959885597229,
          25.20458602905273,
          25.159112215042114,
          26.021438360214237,
          25.671276092529297,
          25.654247045516968,
          25.04261016845703,
          26.03533411026001,
          25.88214921951294,
          26.07250213623047,
          25.05686497688293,
          25.24895405769348,
          25.27330207824707,
          25.32760071754456,
          25.281009912490845,
          25.16698408126831,
          25.171983003616333,
          25.67717409133911,
          25.12221074104309,
          25.63421320915222,
          25.08868193626404,
          26.367207050323486,
          26.073097944259644,
          25.672255039215088,
          25.60595703125,
          26.069386959075928,
          25.14734721183777,
          25.972711086273197,
          26.09062623977661,
          25.250991106033325,
          25.17645573616028,
          25.320348978042603
         ],
         "y0": " ",
         "yaxis": "y"
        }
       ],
       "layout": {
        "boxmode": "group",
        "legend": {
         "tracegroupgap": 0
        },
        "margin": {
         "t": 60
        },
        "template": {
         "data": {
          "bar": [
           {
            "error_x": {
             "color": "#2a3f5f"
            },
            "error_y": {
             "color": "#2a3f5f"
            },
            "marker": {
             "line": {
              "color": "#E5ECF6",
              "width": 0.5
             },
             "pattern": {
              "fillmode": "overlay",
              "size": 10,
              "solidity": 0.2
             }
            },
            "type": "bar"
           }
          ],
          "barpolar": [
           {
            "marker": {
             "line": {
              "color": "#E5ECF6",
              "width": 0.5
             },
             "pattern": {
              "fillmode": "overlay",
              "size": 10,
              "solidity": 0.2
             }
            },
            "type": "barpolar"
           }
          ],
          "carpet": [
           {
            "aaxis": {
             "endlinecolor": "#2a3f5f",
             "gridcolor": "white",
             "linecolor": "white",
             "minorgridcolor": "white",
             "startlinecolor": "#2a3f5f"
            },
            "baxis": {
             "endlinecolor": "#2a3f5f",
             "gridcolor": "white",
             "linecolor": "white",
             "minorgridcolor": "white",
             "startlinecolor": "#2a3f5f"
            },
            "type": "carpet"
           }
          ],
          "choropleth": [
           {
            "colorbar": {
             "outlinewidth": 0,
             "ticks": ""
            },
            "type": "choropleth"
           }
          ],
          "contour": [
           {
            "colorbar": {
             "outlinewidth": 0,
             "ticks": ""
            },
            "colorscale": [
             [
              0,
              "#0d0887"
             ],
             [
              0.1111111111111111,
              "#46039f"
             ],
             [
              0.2222222222222222,
              "#7201a8"
             ],
             [
              0.3333333333333333,
              "#9c179e"
             ],
             [
              0.4444444444444444,
              "#bd3786"
             ],
             [
              0.5555555555555556,
              "#d8576b"
             ],
             [
              0.6666666666666666,
              "#ed7953"
             ],
             [
              0.7777777777777778,
              "#fb9f3a"
             ],
             [
              0.8888888888888888,
              "#fdca26"
             ],
             [
              1,
              "#f0f921"
             ]
            ],
            "type": "contour"
           }
          ],
          "contourcarpet": [
           {
            "colorbar": {
             "outlinewidth": 0,
             "ticks": ""
            },
            "type": "contourcarpet"
           }
          ],
          "heatmap": [
           {
            "colorbar": {
             "outlinewidth": 0,
             "ticks": ""
            },
            "colorscale": [
             [
              0,
              "#0d0887"
             ],
             [
              0.1111111111111111,
              "#46039f"
             ],
             [
              0.2222222222222222,
              "#7201a8"
             ],
             [
              0.3333333333333333,
              "#9c179e"
             ],
             [
              0.4444444444444444,
              "#bd3786"
             ],
             [
              0.5555555555555556,
              "#d8576b"
             ],
             [
              0.6666666666666666,
              "#ed7953"
             ],
             [
              0.7777777777777778,
              "#fb9f3a"
             ],
             [
              0.8888888888888888,
              "#fdca26"
             ],
             [
              1,
              "#f0f921"
             ]
            ],
            "type": "heatmap"
           }
          ],
          "heatmapgl": [
           {
            "colorbar": {
             "outlinewidth": 0,
             "ticks": ""
            },
            "colorscale": [
             [
              0,
              "#0d0887"
             ],
             [
              0.1111111111111111,
              "#46039f"
             ],
             [
              0.2222222222222222,
              "#7201a8"
             ],
             [
              0.3333333333333333,
              "#9c179e"
             ],
             [
              0.4444444444444444,
              "#bd3786"
             ],
             [
              0.5555555555555556,
              "#d8576b"
             ],
             [
              0.6666666666666666,
              "#ed7953"
             ],
             [
              0.7777777777777778,
              "#fb9f3a"
             ],
             [
              0.8888888888888888,
              "#fdca26"
             ],
             [
              1,
              "#f0f921"
             ]
            ],
            "type": "heatmapgl"
           }
          ],
          "histogram": [
           {
            "marker": {
             "pattern": {
              "fillmode": "overlay",
              "size": 10,
              "solidity": 0.2
             }
            },
            "type": "histogram"
           }
          ],
          "histogram2d": [
           {
            "colorbar": {
             "outlinewidth": 0,
             "ticks": ""
            },
            "colorscale": [
             [
              0,
              "#0d0887"
             ],
             [
              0.1111111111111111,
              "#46039f"
             ],
             [
              0.2222222222222222,
              "#7201a8"
             ],
             [
              0.3333333333333333,
              "#9c179e"
             ],
             [
              0.4444444444444444,
              "#bd3786"
             ],
             [
              0.5555555555555556,
              "#d8576b"
             ],
             [
              0.6666666666666666,
              "#ed7953"
             ],
             [
              0.7777777777777778,
              "#fb9f3a"
             ],
             [
              0.8888888888888888,
              "#fdca26"
             ],
             [
              1,
              "#f0f921"
             ]
            ],
            "type": "histogram2d"
           }
          ],
          "histogram2dcontour": [
           {
            "colorbar": {
             "outlinewidth": 0,
             "ticks": ""
            },
            "colorscale": [
             [
              0,
              "#0d0887"
             ],
             [
              0.1111111111111111,
              "#46039f"
             ],
             [
              0.2222222222222222,
              "#7201a8"
             ],
             [
              0.3333333333333333,
              "#9c179e"
             ],
             [
              0.4444444444444444,
              "#bd3786"
             ],
             [
              0.5555555555555556,
              "#d8576b"
             ],
             [
              0.6666666666666666,
              "#ed7953"
             ],
             [
              0.7777777777777778,
              "#fb9f3a"
             ],
             [
              0.8888888888888888,
              "#fdca26"
             ],
             [
              1,
              "#f0f921"
             ]
            ],
            "type": "histogram2dcontour"
           }
          ],
          "mesh3d": [
           {
            "colorbar": {
             "outlinewidth": 0,
             "ticks": ""
            },
            "type": "mesh3d"
           }
          ],
          "parcoords": [
           {
            "line": {
             "colorbar": {
              "outlinewidth": 0,
              "ticks": ""
             }
            },
            "type": "parcoords"
           }
          ],
          "pie": [
           {
            "automargin": true,
            "type": "pie"
           }
          ],
          "scatter": [
           {
            "fillpattern": {
             "fillmode": "overlay",
             "size": 10,
             "solidity": 0.2
            },
            "type": "scatter"
           }
          ],
          "scatter3d": [
           {
            "line": {
             "colorbar": {
              "outlinewidth": 0,
              "ticks": ""
             }
            },
            "marker": {
             "colorbar": {
              "outlinewidth": 0,
              "ticks": ""
             }
            },
            "type": "scatter3d"
           }
          ],
          "scattercarpet": [
           {
            "marker": {
             "colorbar": {
              "outlinewidth": 0,
              "ticks": ""
             }
            },
            "type": "scattercarpet"
           }
          ],
          "scattergeo": [
           {
            "marker": {
             "colorbar": {
              "outlinewidth": 0,
              "ticks": ""
             }
            },
            "type": "scattergeo"
           }
          ],
          "scattergl": [
           {
            "marker": {
             "colorbar": {
              "outlinewidth": 0,
              "ticks": ""
             }
            },
            "type": "scattergl"
           }
          ],
          "scattermapbox": [
           {
            "marker": {
             "colorbar": {
              "outlinewidth": 0,
              "ticks": ""
             }
            },
            "type": "scattermapbox"
           }
          ],
          "scatterpolar": [
           {
            "marker": {
             "colorbar": {
              "outlinewidth": 0,
              "ticks": ""
             }
            },
            "type": "scatterpolar"
           }
          ],
          "scatterpolargl": [
           {
            "marker": {
             "colorbar": {
              "outlinewidth": 0,
              "ticks": ""
             }
            },
            "type": "scatterpolargl"
           }
          ],
          "scatterternary": [
           {
            "marker": {
             "colorbar": {
              "outlinewidth": 0,
              "ticks": ""
             }
            },
            "type": "scatterternary"
           }
          ],
          "surface": [
           {
            "colorbar": {
             "outlinewidth": 0,
             "ticks": ""
            },
            "colorscale": [
             [
              0,
              "#0d0887"
             ],
             [
              0.1111111111111111,
              "#46039f"
             ],
             [
              0.2222222222222222,
              "#7201a8"
             ],
             [
              0.3333333333333333,
              "#9c179e"
             ],
             [
              0.4444444444444444,
              "#bd3786"
             ],
             [
              0.5555555555555556,
              "#d8576b"
             ],
             [
              0.6666666666666666,
              "#ed7953"
             ],
             [
              0.7777777777777778,
              "#fb9f3a"
             ],
             [
              0.8888888888888888,
              "#fdca26"
             ],
             [
              1,
              "#f0f921"
             ]
            ],
            "type": "surface"
           }
          ],
          "table": [
           {
            "cells": {
             "fill": {
              "color": "#EBF0F8"
             },
             "line": {
              "color": "white"
             }
            },
            "header": {
             "fill": {
              "color": "#C8D4E3"
             },
             "line": {
              "color": "white"
             }
            },
            "type": "table"
           }
          ]
         },
         "layout": {
          "annotationdefaults": {
           "arrowcolor": "#2a3f5f",
           "arrowhead": 0,
           "arrowwidth": 1
          },
          "autotypenumbers": "strict",
          "coloraxis": {
           "colorbar": {
            "outlinewidth": 0,
            "ticks": ""
           }
          },
          "colorscale": {
           "diverging": [
            [
             0,
             "#8e0152"
            ],
            [
             0.1,
             "#c51b7d"
            ],
            [
             0.2,
             "#de77ae"
            ],
            [
             0.3,
             "#f1b6da"
            ],
            [
             0.4,
             "#fde0ef"
            ],
            [
             0.5,
             "#f7f7f7"
            ],
            [
             0.6,
             "#e6f5d0"
            ],
            [
             0.7,
             "#b8e186"
            ],
            [
             0.8,
             "#7fbc41"
            ],
            [
             0.9,
             "#4d9221"
            ],
            [
             1,
             "#276419"
            ]
           ],
           "sequential": [
            [
             0,
             "#0d0887"
            ],
            [
             0.1111111111111111,
             "#46039f"
            ],
            [
             0.2222222222222222,
             "#7201a8"
            ],
            [
             0.3333333333333333,
             "#9c179e"
            ],
            [
             0.4444444444444444,
             "#bd3786"
            ],
            [
             0.5555555555555556,
             "#d8576b"
            ],
            [
             0.6666666666666666,
             "#ed7953"
            ],
            [
             0.7777777777777778,
             "#fb9f3a"
            ],
            [
             0.8888888888888888,
             "#fdca26"
            ],
            [
             1,
             "#f0f921"
            ]
           ],
           "sequentialminus": [
            [
             0,
             "#0d0887"
            ],
            [
             0.1111111111111111,
             "#46039f"
            ],
            [
             0.2222222222222222,
             "#7201a8"
            ],
            [
             0.3333333333333333,
             "#9c179e"
            ],
            [
             0.4444444444444444,
             "#bd3786"
            ],
            [
             0.5555555555555556,
             "#d8576b"
            ],
            [
             0.6666666666666666,
             "#ed7953"
            ],
            [
             0.7777777777777778,
             "#fb9f3a"
            ],
            [
             0.8888888888888888,
             "#fdca26"
            ],
            [
             1,
             "#f0f921"
            ]
           ]
          },
          "colorway": [
           "#636efa",
           "#EF553B",
           "#00cc96",
           "#ab63fa",
           "#FFA15A",
           "#19d3f3",
           "#FF6692",
           "#B6E880",
           "#FF97FF",
           "#FECB52"
          ],
          "font": {
           "color": "#2a3f5f"
          },
          "geo": {
           "bgcolor": "white",
           "lakecolor": "white",
           "landcolor": "#E5ECF6",
           "showlakes": true,
           "showland": true,
           "subunitcolor": "white"
          },
          "hoverlabel": {
           "align": "left"
          },
          "hovermode": "closest",
          "mapbox": {
           "style": "light"
          },
          "paper_bgcolor": "white",
          "plot_bgcolor": "#E5ECF6",
          "polar": {
           "angularaxis": {
            "gridcolor": "white",
            "linecolor": "white",
            "ticks": ""
           },
           "bgcolor": "#E5ECF6",
           "radialaxis": {
            "gridcolor": "white",
            "linecolor": "white",
            "ticks": ""
           }
          },
          "scene": {
           "xaxis": {
            "backgroundcolor": "#E5ECF6",
            "gridcolor": "white",
            "gridwidth": 2,
            "linecolor": "white",
            "showbackground": true,
            "ticks": "",
            "zerolinecolor": "white"
           },
           "yaxis": {
            "backgroundcolor": "#E5ECF6",
            "gridcolor": "white",
            "gridwidth": 2,
            "linecolor": "white",
            "showbackground": true,
            "ticks": "",
            "zerolinecolor": "white"
           },
           "zaxis": {
            "backgroundcolor": "#E5ECF6",
            "gridcolor": "white",
            "gridwidth": 2,
            "linecolor": "white",
            "showbackground": true,
            "ticks": "",
            "zerolinecolor": "white"
           }
          },
          "shapedefaults": {
           "line": {
            "color": "#2a3f5f"
           }
          },
          "ternary": {
           "aaxis": {
            "gridcolor": "white",
            "linecolor": "white",
            "ticks": ""
           },
           "baxis": {
            "gridcolor": "white",
            "linecolor": "white",
            "ticks": ""
           },
           "bgcolor": "#E5ECF6",
           "caxis": {
            "gridcolor": "white",
            "linecolor": "white",
            "ticks": ""
           }
          },
          "title": {
           "x": 0.05
          },
          "xaxis": {
           "automargin": true,
           "gridcolor": "white",
           "linecolor": "white",
           "ticks": "",
           "title": {
            "standoff": 15
           },
           "zerolinecolor": "white",
           "zerolinewidth": 2
          },
          "yaxis": {
           "automargin": true,
           "gridcolor": "white",
           "linecolor": "white",
           "ticks": "",
           "title": {
            "standoff": 15
           },
           "zerolinecolor": "white",
           "zerolinewidth": 2
          }
         }
        },
        "xaxis": {
         "anchor": "y",
         "domain": [
          0,
          1
         ],
         "title": {
          "text": "Package | Solver Combo"
         }
        },
        "yaxis": {
         "anchor": "x",
         "domain": [
          0,
          1
         ],
         "title": {
          "text": "Time"
         }
        }
       }
      }
     },
     "metadata": {},
     "output_type": "display_data"
    },
    {
     "name": "stdout",
     "output_type": "stream",
     "text": [
      "numbAssets=10 numbOrders=500\n"
     ]
    },
    {
     "data": {
      "application/vnd.plotly.v1+json": {
       "config": {
        "plotlyServerURL": "https://plot.ly"
       },
       "data": [
        {
         "alignmentgroup": "True",
         "hovertemplate": "Package | Solver Combo=%{x}<br>Time=%{y}<extra></extra>",
         "legendgroup": "",
         "marker": {
          "color": "#636efa"
         },
         "name": "",
         "notched": false,
         "offsetgroup": "",
         "orientation": "v",
         "showlegend": false,
         "type": "box",
         "x": [
          "cvxpy | OSQP",
          "cvxpy | OSQP",
          "cvxpy | OSQP",
          "cvxpy | OSQP",
          "cvxpy | OSQP",
          "cvxpy | OSQP",
          "cvxpy | OSQP",
          "cvxpy | OSQP",
          "cvxpy | OSQP",
          "cvxpy | OSQP",
          "cvxpy | OSQP",
          "cvxpy | OSQP",
          "cvxpy | OSQP",
          "cvxpy | OSQP",
          "cvxpy | OSQP",
          "cvxpy | OSQP",
          "cvxpy | OSQP",
          "cvxpy | OSQP",
          "cvxpy | OSQP",
          "cvxpy | OSQP",
          "cvxpy | OSQP",
          "cvxpy | OSQP",
          "cvxpy | OSQP",
          "cvxpy | OSQP",
          "cvxpy | OSQP",
          "cvxpy | OSQP",
          "cvxpy | OSQP",
          "cvxpy | OSQP",
          "cvxpy | OSQP",
          "cvxpy | OSQP",
          "cvxpy | OSQP",
          "cvxpy | OSQP",
          "cvxpy | OSQP",
          "cvxpy | OSQP",
          "cvxpy | OSQP",
          "cvxpy | OSQP",
          "cvxpy | OSQP",
          "cvxpy | OSQP",
          "cvxpy | OSQP",
          "cvxpy | OSQP",
          "cvxpy | OSQP",
          "cvxpy | OSQP",
          "cvxpy | OSQP",
          "cvxpy | OSQP",
          "cvxpy | OSQP",
          "cvxpy | OSQP",
          "cvxpy | OSQP",
          "cvxpy | OSQP",
          "cvxpy | OSQP",
          "cvxpy | OSQP",
          "cvxpy | OSQP",
          "cvxpy | OSQP",
          "cvxpy | OSQP",
          "cvxpy | OSQP",
          "cvxpy | OSQP",
          "cvxpy | OSQP",
          "cvxpy | OSQP",
          "cvxpy | OSQP",
          "cvxpy | OSQP",
          "cvxpy | OSQP",
          "cvxpy | OSQP",
          "cvxpy | OSQP",
          "cvxpy | OSQP",
          "cvxpy | OSQP",
          "cvxpy | OSQP",
          "cvxpy | OSQP",
          "cvxpy | OSQP",
          "cvxpy | OSQP",
          "cvxpy | OSQP",
          "cvxpy | OSQP",
          "cvxpy | OSQP",
          "cvxpy | OSQP",
          "cvxpy | OSQP",
          "cvxpy | OSQP",
          "cvxpy | OSQP",
          "cvxpy | OSQP",
          "cvxpy | OSQP",
          "cvxpy | OSQP",
          "cvxpy | OSQP",
          "cvxpy | OSQP",
          "cvxpy | OSQP",
          "cvxpy | OSQP",
          "cvxpy | OSQP",
          "cvxpy | OSQP",
          "cvxpy | OSQP",
          "cvxpy | OSQP",
          "cvxpy | OSQP",
          "cvxpy | OSQP",
          "cvxpy | OSQP",
          "cvxpy | OSQP",
          "cvxpy | OSQP",
          "cvxpy | OSQP",
          "cvxpy | OSQP",
          "cvxpy | OSQP",
          "cvxpy | OSQP",
          "cvxpy | OSQP",
          "cvxpy | OSQP",
          "cvxpy | OSQP",
          "cvxpy | OSQP",
          "cvxpy | OSQP",
          "cvxpy | ECOS",
          "cvxpy | ECOS",
          "cvxpy | ECOS",
          "cvxpy | ECOS",
          "cvxpy | ECOS",
          "cvxpy | ECOS",
          "cvxpy | ECOS",
          "cvxpy | ECOS",
          "cvxpy | ECOS",
          "cvxpy | ECOS",
          "cvxpy | ECOS",
          "cvxpy | ECOS",
          "cvxpy | ECOS",
          "cvxpy | ECOS",
          "cvxpy | ECOS",
          "cvxpy | ECOS",
          "cvxpy | ECOS",
          "cvxpy | ECOS",
          "cvxpy | ECOS",
          "cvxpy | ECOS",
          "cvxpy | ECOS",
          "cvxpy | ECOS",
          "cvxpy | ECOS",
          "cvxpy | ECOS",
          "cvxpy | ECOS",
          "cvxpy | ECOS",
          "cvxpy | ECOS",
          "cvxpy | ECOS",
          "cvxpy | ECOS",
          "cvxpy | ECOS",
          "cvxpy | ECOS",
          "cvxpy | ECOS",
          "cvxpy | ECOS",
          "cvxpy | ECOS",
          "cvxpy | ECOS",
          "cvxpy | ECOS",
          "cvxpy | ECOS",
          "cvxpy | ECOS",
          "cvxpy | ECOS",
          "cvxpy | ECOS",
          "cvxpy | ECOS",
          "cvxpy | ECOS",
          "cvxpy | ECOS",
          "cvxpy | ECOS",
          "cvxpy | ECOS",
          "cvxpy | ECOS",
          "cvxpy | ECOS",
          "cvxpy | ECOS",
          "cvxpy | ECOS",
          "cvxpy | ECOS",
          "cvxpy | ECOS",
          "cvxpy | ECOS",
          "cvxpy | ECOS",
          "cvxpy | ECOS",
          "cvxpy | ECOS",
          "cvxpy | ECOS",
          "cvxpy | ECOS",
          "cvxpy | ECOS",
          "cvxpy | ECOS",
          "cvxpy | ECOS",
          "cvxpy | ECOS",
          "cvxpy | ECOS",
          "cvxpy | ECOS",
          "cvxpy | ECOS",
          "cvxpy | ECOS",
          "cvxpy | ECOS",
          "cvxpy | ECOS",
          "cvxpy | ECOS",
          "cvxpy | ECOS",
          "cvxpy | ECOS",
          "cvxpy | ECOS",
          "cvxpy | ECOS",
          "cvxpy | ECOS",
          "cvxpy | ECOS",
          "cvxpy | ECOS",
          "cvxpy | ECOS",
          "cvxpy | ECOS",
          "cvxpy | ECOS",
          "cvxpy | ECOS",
          "cvxpy | ECOS",
          "cvxpy | ECOS",
          "cvxpy | ECOS",
          "cvxpy | ECOS",
          "cvxpy | ECOS",
          "cvxpy | ECOS",
          "cvxpy | ECOS",
          "cvxpy | ECOS",
          "cvxpy | ECOS",
          "cvxpy | ECOS",
          "cvxpy | ECOS",
          "cvxpy | ECOS",
          "cvxpy | ECOS",
          "cvxpy | ECOS",
          "cvxpy | ECOS",
          "cvxpy | ECOS",
          "cvxpy | ECOS",
          "cvxpy | ECOS",
          "cvxpy | ECOS",
          "cvxpy | ECOS",
          "cvxpy | ECOS",
          "cvxpy | SCS",
          "cvxpy | SCS",
          "cvxpy | SCS",
          "cvxpy | SCS",
          "cvxpy | SCS",
          "cvxpy | SCS",
          "cvxpy | SCS",
          "cvxpy | SCS",
          "cvxpy | SCS",
          "cvxpy | SCS",
          "cvxpy | SCS",
          "cvxpy | SCS",
          "cvxpy | SCS",
          "cvxpy | SCS",
          "cvxpy | SCS",
          "cvxpy | SCS",
          "cvxpy | SCS",
          "cvxpy | SCS",
          "cvxpy | SCS",
          "cvxpy | SCS",
          "cvxpy | SCS",
          "cvxpy | SCS",
          "cvxpy | SCS",
          "cvxpy | SCS",
          "cvxpy | SCS",
          "cvxpy | SCS",
          "cvxpy | SCS",
          "cvxpy | SCS",
          "cvxpy | SCS",
          "cvxpy | SCS",
          "cvxpy | SCS",
          "cvxpy | SCS",
          "cvxpy | SCS",
          "cvxpy | SCS",
          "cvxpy | SCS",
          "cvxpy | SCS",
          "cvxpy | SCS",
          "cvxpy | SCS",
          "cvxpy | SCS",
          "cvxpy | SCS",
          "cvxpy | SCS",
          "cvxpy | SCS",
          "cvxpy | SCS",
          "cvxpy | SCS",
          "cvxpy | SCS",
          "cvxpy | SCS",
          "cvxpy | SCS",
          "cvxpy | SCS",
          "cvxpy | SCS",
          "cvxpy | SCS",
          "cvxpy | SCS",
          "cvxpy | SCS",
          "cvxpy | SCS",
          "cvxpy | SCS",
          "cvxpy | SCS",
          "cvxpy | SCS",
          "cvxpy | SCS",
          "cvxpy | SCS",
          "cvxpy | SCS",
          "cvxpy | SCS",
          "cvxpy | SCS",
          "cvxpy | SCS",
          "cvxpy | SCS",
          "cvxpy | SCS",
          "cvxpy | SCS",
          "cvxpy | SCS",
          "cvxpy | SCS",
          "cvxpy | SCS",
          "cvxpy | SCS",
          "cvxpy | SCS",
          "cvxpy | SCS",
          "cvxpy | SCS",
          "cvxpy | SCS",
          "cvxpy | SCS",
          "cvxpy | SCS",
          "cvxpy | SCS",
          "cvxpy | SCS",
          "cvxpy | SCS",
          "cvxpy | SCS",
          "cvxpy | SCS",
          "cvxpy | SCS",
          "cvxpy | SCS",
          "cvxpy | SCS",
          "cvxpy | SCS",
          "cvxpy | SCS",
          "cvxpy | SCS",
          "cvxpy | SCS",
          "cvxpy | SCS",
          "cvxpy | SCS",
          "cvxpy | SCS",
          "cvxpy | SCS",
          "cvxpy | SCS",
          "cvxpy | SCS",
          "cvxpy | SCS",
          "cvxpy | SCS",
          "cvxpy | SCS",
          "cvxpy | SCS",
          "cvxpy | SCS",
          "cvxpy | SCS",
          "cvxpy | SCS",
          "qpsolver | osqp",
          "qpsolver | osqp",
          "qpsolver | osqp",
          "qpsolver | osqp",
          "qpsolver | osqp",
          "qpsolver | osqp",
          "qpsolver | osqp",
          "qpsolver | osqp",
          "qpsolver | osqp",
          "qpsolver | osqp",
          "qpsolver | osqp",
          "qpsolver | osqp",
          "qpsolver | osqp",
          "qpsolver | osqp",
          "qpsolver | osqp",
          "qpsolver | osqp",
          "qpsolver | osqp",
          "qpsolver | osqp",
          "qpsolver | osqp",
          "qpsolver | osqp",
          "qpsolver | osqp",
          "qpsolver | osqp",
          "qpsolver | osqp",
          "qpsolver | osqp",
          "qpsolver | osqp",
          "qpsolver | osqp",
          "qpsolver | osqp",
          "qpsolver | osqp",
          "qpsolver | osqp",
          "qpsolver | osqp",
          "qpsolver | osqp",
          "qpsolver | osqp",
          "qpsolver | osqp",
          "qpsolver | osqp",
          "qpsolver | osqp",
          "qpsolver | osqp",
          "qpsolver | osqp",
          "qpsolver | osqp",
          "qpsolver | osqp",
          "qpsolver | osqp",
          "qpsolver | osqp",
          "qpsolver | osqp",
          "qpsolver | osqp",
          "qpsolver | osqp",
          "qpsolver | osqp",
          "qpsolver | osqp",
          "qpsolver | osqp",
          "qpsolver | osqp",
          "qpsolver | osqp",
          "qpsolver | osqp",
          "qpsolver | osqp",
          "qpsolver | osqp",
          "qpsolver | osqp",
          "qpsolver | osqp",
          "qpsolver | osqp",
          "qpsolver | osqp",
          "qpsolver | osqp",
          "qpsolver | osqp",
          "qpsolver | osqp",
          "qpsolver | osqp",
          "qpsolver | osqp",
          "qpsolver | osqp",
          "qpsolver | osqp",
          "qpsolver | osqp",
          "qpsolver | osqp",
          "qpsolver | osqp",
          "qpsolver | osqp",
          "qpsolver | osqp",
          "qpsolver | osqp",
          "qpsolver | osqp",
          "qpsolver | osqp",
          "qpsolver | osqp",
          "qpsolver | osqp",
          "qpsolver | osqp",
          "qpsolver | osqp",
          "qpsolver | osqp",
          "qpsolver | osqp",
          "qpsolver | osqp",
          "qpsolver | osqp",
          "qpsolver | osqp",
          "qpsolver | osqp",
          "qpsolver | osqp",
          "qpsolver | osqp",
          "qpsolver | osqp",
          "qpsolver | osqp",
          "qpsolver | osqp",
          "qpsolver | osqp",
          "qpsolver | osqp",
          "qpsolver | osqp",
          "qpsolver | osqp",
          "qpsolver | osqp",
          "qpsolver | osqp",
          "qpsolver | osqp",
          "qpsolver | osqp",
          "qpsolver | osqp",
          "qpsolver | osqp",
          "qpsolver | osqp",
          "qpsolver | osqp",
          "qpsolver | osqp",
          "qpsolver | osqp",
          "qpsolver | scs",
          "qpsolver | scs",
          "qpsolver | scs",
          "qpsolver | scs",
          "qpsolver | scs",
          "qpsolver | scs",
          "qpsolver | scs",
          "qpsolver | scs",
          "qpsolver | scs",
          "qpsolver | scs",
          "qpsolver | scs",
          "qpsolver | scs",
          "qpsolver | scs",
          "qpsolver | scs",
          "qpsolver | scs",
          "qpsolver | scs",
          "qpsolver | scs",
          "qpsolver | scs",
          "qpsolver | scs",
          "qpsolver | scs",
          "qpsolver | scs",
          "qpsolver | scs",
          "qpsolver | scs",
          "qpsolver | scs",
          "qpsolver | scs",
          "qpsolver | scs",
          "qpsolver | scs",
          "qpsolver | scs",
          "qpsolver | scs",
          "qpsolver | scs",
          "qpsolver | scs",
          "qpsolver | scs",
          "qpsolver | scs",
          "qpsolver | scs",
          "qpsolver | scs",
          "qpsolver | scs",
          "qpsolver | scs",
          "qpsolver | scs",
          "qpsolver | scs",
          "qpsolver | scs",
          "qpsolver | scs",
          "qpsolver | scs",
          "qpsolver | scs",
          "qpsolver | scs",
          "qpsolver | scs",
          "qpsolver | scs",
          "qpsolver | scs",
          "qpsolver | scs",
          "qpsolver | scs",
          "qpsolver | scs",
          "qpsolver | scs",
          "qpsolver | scs",
          "qpsolver | scs",
          "qpsolver | scs",
          "qpsolver | scs",
          "qpsolver | scs",
          "qpsolver | scs",
          "qpsolver | scs",
          "qpsolver | scs",
          "qpsolver | scs",
          "qpsolver | scs",
          "qpsolver | scs",
          "qpsolver | scs",
          "qpsolver | scs",
          "qpsolver | scs",
          "qpsolver | scs",
          "qpsolver | scs",
          "qpsolver | scs",
          "qpsolver | scs",
          "qpsolver | scs",
          "qpsolver | scs",
          "qpsolver | scs",
          "qpsolver | scs",
          "qpsolver | scs",
          "qpsolver | scs",
          "qpsolver | scs",
          "qpsolver | scs",
          "qpsolver | scs",
          "qpsolver | scs",
          "qpsolver | scs",
          "qpsolver | scs",
          "qpsolver | scs",
          "qpsolver | scs",
          "qpsolver | scs",
          "qpsolver | scs",
          "qpsolver | scs",
          "qpsolver | scs",
          "qpsolver | scs",
          "qpsolver | scs",
          "qpsolver | scs",
          "qpsolver | scs",
          "qpsolver | scs",
          "qpsolver | scs",
          "qpsolver | scs",
          "qpsolver | scs",
          "qpsolver | scs",
          "qpsolver | scs",
          "qpsolver | scs",
          "qpsolver | scs",
          "qpsolver | scs",
          "qpsolver | quadprog",
          "qpsolver | quadprog",
          "qpsolver | quadprog",
          "qpsolver | quadprog",
          "qpsolver | quadprog",
          "qpsolver | quadprog",
          "qpsolver | quadprog",
          "qpsolver | quadprog",
          "qpsolver | quadprog",
          "qpsolver | quadprog",
          "qpsolver | quadprog",
          "qpsolver | quadprog",
          "qpsolver | quadprog",
          "qpsolver | quadprog",
          "qpsolver | quadprog",
          "qpsolver | quadprog",
          "qpsolver | quadprog",
          "qpsolver | quadprog",
          "qpsolver | quadprog",
          "qpsolver | quadprog",
          "qpsolver | quadprog",
          "qpsolver | quadprog",
          "qpsolver | quadprog",
          "qpsolver | quadprog",
          "qpsolver | quadprog",
          "qpsolver | quadprog",
          "qpsolver | quadprog",
          "qpsolver | quadprog",
          "qpsolver | quadprog",
          "qpsolver | quadprog",
          "qpsolver | quadprog",
          "qpsolver | quadprog",
          "qpsolver | quadprog",
          "qpsolver | quadprog",
          "qpsolver | quadprog",
          "qpsolver | quadprog",
          "qpsolver | quadprog",
          "qpsolver | quadprog",
          "qpsolver | quadprog",
          "qpsolver | quadprog",
          "qpsolver | quadprog",
          "qpsolver | quadprog",
          "qpsolver | quadprog",
          "qpsolver | quadprog",
          "qpsolver | quadprog",
          "qpsolver | quadprog",
          "qpsolver | quadprog",
          "qpsolver | quadprog",
          "qpsolver | quadprog",
          "qpsolver | quadprog",
          "qpsolver | quadprog",
          "qpsolver | quadprog",
          "qpsolver | quadprog",
          "qpsolver | quadprog",
          "qpsolver | quadprog",
          "qpsolver | quadprog",
          "qpsolver | quadprog",
          "qpsolver | quadprog",
          "qpsolver | quadprog",
          "qpsolver | quadprog",
          "qpsolver | quadprog",
          "qpsolver | quadprog",
          "qpsolver | quadprog",
          "qpsolver | quadprog",
          "qpsolver | quadprog",
          "qpsolver | quadprog",
          "qpsolver | quadprog",
          "qpsolver | quadprog",
          "qpsolver | quadprog",
          "qpsolver | quadprog",
          "qpsolver | quadprog",
          "qpsolver | quadprog",
          "qpsolver | quadprog",
          "qpsolver | quadprog",
          "qpsolver | quadprog",
          "qpsolver | quadprog",
          "qpsolver | quadprog",
          "qpsolver | quadprog",
          "qpsolver | quadprog",
          "qpsolver | quadprog",
          "qpsolver | quadprog",
          "qpsolver | quadprog",
          "qpsolver | quadprog",
          "qpsolver | quadprog",
          "qpsolver | quadprog",
          "qpsolver | quadprog",
          "qpsolver | quadprog",
          "qpsolver | quadprog",
          "qpsolver | quadprog",
          "qpsolver | quadprog",
          "qpsolver | quadprog",
          "qpsolver | quadprog",
          "qpsolver | quadprog",
          "qpsolver | quadprog",
          "qpsolver | quadprog",
          "qpsolver | quadprog",
          "qpsolver | quadprog",
          "qpsolver | quadprog",
          "qpsolver | quadprog",
          "qpsolver | quadprog"
         ],
         "x0": " ",
         "xaxis": "x",
         "y": [
          1580.2368488311768,
          1580.8327391147614,
          1581.2872729301453,
          1580.7003619670868,
          1580.8427979946136,
          1581.1971230506897,
          1581.4986758232117,
          1581.548726081848,
          1581.1062898635864,
          1581.3469650745392,
          1581.3152658939362,
          1581.7018649578094,
          1581.6649227142334,
          1581.2301380634308,
          1581.8432550430298,
          1581.926339149475,
          1581.6634097099304,
          1581.438022851944,
          1581.6596131324768,
          1581.4804470539093,
          1581.4556770324707,
          1582.1664760112762,
          1581.747320175171,
          1581.607388973236,
          1581.8169589042664,
          1581.90061712265,
          1582.033833026886,
          1582.3719730377195,
          1581.78142786026,
          1582.0706889629364,
          1582.4432842731476,
          1582.4541749954224,
          1582.5200130939484,
          1582.1647276878357,
          1582.249774932861,
          1582.383386850357,
          1582.0544412136078,
          1582.6918139457705,
          1582.3124070167542,
          1582.7274100780487,
          1582.1820480823517,
          1582.1834619045258,
          1582.4917471408844,
          1582.8558824062347,
          1582.9193398952484,
          1582.4472799301147,
          1582.334833860397,
          1582.3513751029968,
          1583.0414929389954,
          1582.7048869132996,
          1582.5861058235168,
          1582.600174188614,
          1582.6096620559692,
          1582.65558385849,
          1582.752825975418,
          1582.6812489032743,
          1582.8161668777466,
          1582.6533291339874,
          1583.102531671524,
          1583.0345950126648,
          1582.8398089408877,
          1582.769891023636,
          1582.8134469985962,
          1583.1599960327148,
          1583.0885591506958,
          1582.926826953888,
          1583.614355802536,
          1583.0752589702606,
          1583.5313200950625,
          1583.2875318527222,
          1583.3863151073456,
          1583.2846369743347,
          1583.271388053894,
          1583.513808012009,
          1583.2303490638733,
          1583.4999780654907,
          1583.3446838855743,
          1583.7530179023745,
          1583.5999040603638,
          1583.6205830574036,
          1583.46511220932,
          1583.6787168979645,
          1583.6768758296969,
          1583.7239680290222,
          1583.622790813446,
          1583.8594100475311,
          1583.6855709552765,
          1583.691388130188,
          1584.3297681808472,
          1584.0115671157837,
          1584.2059180736542,
          1584.5037367343905,
          1584.1299958229065,
          1584.5848360061646,
          1583.999635219574,
          1584.4280281066897,
          1584.6870682239532,
          1584.4162938594818,
          1584.2967309951782,
          1584.7731409072876,
          1594.092132806778,
          1593.7966089248655,
          1594.572553873062,
          1594.2099242210388,
          1594.861135005951,
          1594.8206210136414,
          1594.9695398807526,
          1595.0901901721954,
          1595.531524181366,
          1595.315763950348,
          1596.0807139873505,
          1596.15904211998,
          1596.3429670333862,
          1596.4412517547607,
          1596.5454952716827,
          1596.8747799396515,
          1597.065600156784,
          1597.7228138446808,
          1597.6690788269043,
          1598.135468006134,
          1597.760204076767,
          1598.4819159507751,
          1598.4075570106506,
          1598.869421958923,
          1599.0315010547638,
          1599.3425726890564,
          1599.4483869075775,
          1600.0202169418335,
          1599.7626430988312,
          1600.7003388404846,
          1600.543081283569,
          1601.1341588497162,
          1601.0630178451538,
          1601.2120547294617,
          1601.1409919261932,
          1602.1327080726624,
          1602.2235891819,
          1602.3321211338043,
          1602.513909816742,
          1602.7503571510315,
          1603.0571892261505,
          1603.507738113403,
          1603.3718330860138,
          1603.949166059494,
          1603.89226603508,
          1604.56343126297,
          1604.6065781116486,
          1605.0768966674805,
          1604.863231897354,
          1605.503795862198,
          1605.4276609420776,
          1606.3176918029783,
          1606.013419866562,
          1606.3270771503448,
          1606.661602973938,
          1606.317194700241,
          1606.9029490947723,
          1606.8867020606997,
          1607.6040120124817,
          1607.6987800598145,
          1608.057489156723,
          1607.9504437446594,
          1608.1740980148315,
          1608.2932212352753,
          1608.6832120418549,
          1608.9504280090332,
          1609.3464822769165,
          1609.555724143982,
          1610.097634077072,
          1609.9953939914703,
          1610.179750919342,
          1610.5524921417236,
          1610.731227874756,
          1611.0649330615995,
          1611.0947217941284,
          1611.0869240760803,
          1611.614234209061,
          1611.7122921943665,
          1612.097927093506,
          1612.4087810516355,
          1612.8658990859983,
          1612.6653428077698,
          1613.2838940620422,
          1613.3655388355255,
          1613.9150269031525,
          1613.5892453193665,
          1614.3674490451813,
          1614.4447312355042,
          1614.9027490615845,
          1614.561064004898,
          1615.2539629936218,
          1615.318007230759,
          1615.654699087143,
          1615.743355035782,
          1616.0711250305176,
          1616.1170601844788,
          1616.5863859653473,
          1616.5964381694794,
          1617.3025479316711,
          1617.4174690246582,
          1580.694857120514,
          1580.96550822258,
          1581.5191128253937,
          1582.2220950126648,
          1583.0177040100098,
          1583.3050320148468,
          1584.1082277297974,
          1584.4652321338654,
          1585.1187388896942,
          1586.0217757225037,
          1586.4310269355774,
          1587.2471301555634,
          1587.3387508392334,
          1588.2549679279327,
          1588.8911809921265,
          1589.2826218605042,
          1589.9903860092163,
          1590.7495720386505,
          1591.3867161273956,
          1591.866935968399,
          1592.5429100990295,
          1592.8754768371582,
          1593.9414999485016,
          1594.3789148330688,
          1594.9681017398834,
          1595.5309131145475,
          1596.0808346271515,
          1596.828183889389,
          1597.4179940223694,
          1597.9455840587616,
          1598.688572883606,
          1598.9737911224363,
          1599.555277824402,
          1600.150827884674,
          1600.6627550125122,
          1601.492820978165,
          1602.2063281536102,
          1602.7648389339447,
          1603.3510792255402,
          1603.9951949119568,
          1604.5607600212095,
          1605.1942250728607,
          1605.9665281772614,
          1606.7688336372375,
          1607.0338430404663,
          1607.9215879440308,
          1608.1236038208008,
          1608.716152191162,
          1609.524366855621,
          1610.3406200408936,
          1610.5141909122467,
          1611.1463332176208,
          1611.7826838493347,
          1612.562822818756,
          1613.231980085373,
          1613.7636861801147,
          1614.26070189476,
          1614.9798321723938,
          1615.6682941913605,
          1616.0470283031464,
          1616.7360470294952,
          1617.6163330078125,
          1617.962949037552,
          1618.6753599643707,
          1619.3177931308746,
          1619.806321144104,
          1620.557608127594,
          1621.0900509357452,
          1621.521594285965,
          1622.4621829986572,
          1623.0880680084229,
          1623.7463030815125,
          1624.2135300636292,
          1624.6097049713137,
          1625.2061960697174,
          1625.8387730121613,
          1626.3898041248322,
          1627.325875997543,
          1627.5346710681915,
          1628.1099989414215,
          1629.1386201381683,
          1629.3168177604675,
          1630.100376844406,
          1630.779951095581,
          1631.2005240917206,
          1631.8873460292816,
          1632.6770260334015,
          1632.8787009716034,
          1633.396154165268,
          1634.3882727622986,
          1635.0474319458008,
          1635.6671998500824,
          1636.0398190021515,
          1636.5158870220184,
          1637.2677688598633,
          1637.9347348213196,
          1638.420593738556,
          1639.2549648284912,
          1639.4554409980774,
          1640.1556918621063,
          0.0776009559631347,
          0.068152904510498,
          0.0140571594238281,
          0.0648238658905029,
          0.0580549240112304,
          0.063361644744873,
          0.0407249927520751,
          0.0646169185638427,
          0.0616600513458251,
          0.0211000442504882,
          0.0178310871124267,
          0.0764641761779785,
          0.1093559265136718,
          0.0525121688842773,
          0.088832139968872,
          0.0581398010253906,
          0.0264129638671875,
          0.0196800231933593,
          0.0335950851440429,
          0.0257961750030517,
          0.0475740432739257,
          0.0953726768493652,
          0.07781982421875,
          0.0369641780853271,
          0.0353519916534423,
          0.0427682399749755,
          0.012279987335205,
          0.0117912292480468,
          0.0402641296386718,
          0.0594170093536376,
          0.0891866683959961,
          0.0431642532348632,
          0.0343077182769775,
          0.0135519504547119,
          0.0628390312194824,
          0.0606641769409179,
          0.0505988597869873,
          0.0238609313964843,
          0.0441517829895019,
          0.0708401203155517,
          0.0072510242462158,
          0.0536870956420898,
          0.0072758197784423,
          0.018608808517456,
          0.0301029682159423,
          0.022367238998413,
          0.0257840156555175,
          0.009326696395874,
          0.0460898876190185,
          0.1400408744812011,
          0.0308949947357177,
          0.0410311222076416,
          0.027811050415039,
          0.061500072479248,
          0.0614011287689209,
          0.0280518531799316,
          0.0675501823425293,
          0.0755600929260253,
          0.0478489398956298,
          0.0305619239807128,
          0.0694270133972168,
          0.0825579166412353,
          0.0810120105743408,
          0.0388479232788085,
          0.1558549404144287,
          0.0882160663604736,
          0.0735149383544921,
          0.0826001167297363,
          0.0455076694488525,
          0.0371088981628418,
          0.0814158916473388,
          0.0913977622985839,
          0.0318851470947265,
          0.0333678722381591,
          0.0402400493621826,
          0.0333948135375976,
          0.0277187824249267,
          0.0512042045593261,
          0.0557019710540771,
          0.0535237789154052,
          0.0457851886749267,
          0.0315372943878173,
          0.051725149154663,
          0.0572960376739501,
          0.059302806854248,
          0.0380337238311767,
          0.0390691757202148,
          0.0544562339782714,
          0.0656380653381347,
          0.0490241050720214,
          0.0361237525939941,
          0.0425858497619628,
          0.0462291240692138,
          0.0618102550506591,
          0.0387389659881591,
          0.0523409843444824,
          0.0478720664978027,
          0.0571041107177734,
          0.0647649765014648,
          0.0824120044708252,
          0.0526320934295654,
          0.0317130088806152,
          0.025425910949707,
          0.0196058750152587,
          0.0256619453430175,
          0.0232341289520263,
          0.0232989788055419,
          0.0233449935913085,
          0.0378849506378173,
          0.0237791538238525,
          0.0353569984436035,
          0.0306181907653808,
          0.0314810276031494,
          0.0284070968627929,
          0.0465600490570068,
          0.0470819473266601,
          0.0380251407623291,
          0.01692795753479,
          0.0299909114837646,
          0.0284960269927978,
          0.0203502178192138,
          0.0309388637542724,
          0.0299499034881591,
          0.0308108329772949,
          0.0247912406921386,
          0.0329511165618896,
          0.0353741645812988,
          0.0200369358062744,
          0.0211789608001709,
          0.0425798892974853,
          0.0353572368621826,
          0.0266129970550537,
          0.0433251857757568,
          0.0458612442016601,
          0.0338640213012695,
          0.0363609790802001,
          0.0355362892150878,
          0.0229029655456542,
          0.0429849624633789,
          0.0316319465637207,
          0.0250167846679687,
          0.0405631065368652,
          0.0318589210510253,
          0.0272789001464843,
          0.0378270149230957,
          0.0371589660644531,
          0.0303261280059814,
          0.0291488170623779,
          0.0318760871887207,
          0.0387020111083984,
          0.0366337299346923,
          0.0400259494781494,
          0.0334441661834716,
          0.0274386405944824,
          0.0154950618743896,
          0.0348532199859619,
          0.0304381847381591,
          0.0268061161041259,
          0.0389430522918701,
          0.0502452850341796,
          0.0344660282135009,
          0.0231733322143554,
          0.0244479179382324,
          0.0189790725708007,
          0.0459787845611572,
          0.0449137687683105,
          0.0345258712768554,
          0.0521998405456543,
          0.0578181743621826,
          0.0623140335083007,
          0.0604732036590576,
          0.0585079193115234,
          0.0627527236938476,
          0.060798168182373,
          0.0498418807983398,
          0.0519330501556396,
          0.0771479606628418,
          0.0446858406066894,
          0.0349519252777099,
          0.0360980033874511,
          0.0483112335205078,
          0.0484309196472168,
          0.0515089035034179,
          0.080590009689331,
          0.0435700416564941,
          0.0855801105499267,
          0.0844738483428955,
          0.0861527919769287,
          0.0853409767150878,
          0.0473799705505371,
          0.0449519157409668,
          0.052027940750122,
          0.04640793800354,
          0.0895001888275146,
          0.0549979209899902,
          0.0932891368865966,
          0.0931789875030517,
          0.0991179943084716,
          0.0908198356628418,
          0.118722915649414,
          1.3240618705749512,
          1.7721998691558838,
          1.798206090927124,
          1.9103541374206543,
          1.9151790142059328,
          1.9622220993041992,
          1.933284044265747,
          2.0162501335144043,
          2.004201889038086,
          2.0931880474090576,
          2.101004123687744,
          2.122010946273804,
          2.21741271018982,
          2.22426700592041,
          2.0444021224975586,
          2.145451068878174,
          2.1364781856536865,
          2.2505929470062256,
          2.2277488708496094,
          2.2176730632781982,
          2.1685328483581543,
          2.326446056365967,
          2.326751947402954,
          2.358524799346924,
          2.3029208183288574,
          2.2558910846710205,
          2.129542112350464,
          2.34714412689209,
          2.3469231128692627,
          2.159226894378662,
          2.260465145111084,
          2.30574107170105,
          2.349858045578003,
          2.075899124145508,
          2.3546481132507324,
          2.16935396194458,
          2.319959878921509,
          2.398198127746582,
          2.466646909713745,
          2.317300081253052,
          2.4157440662384038,
          2.3443968296051025,
          2.459876775741577,
          2.238262891769409,
          2.367000102996826,
          2.403778076171875,
          2.212043046951294,
          2.3457798957824707,
          2.297834873199463,
          2.2981059551239014,
          2.2428250312805176,
          2.3879168033599854,
          2.3183400630950928,
          2.263845920562744,
          2.2783122062683105,
          2.084080219268799,
          2.228626012802124,
          2.29899525642395,
          2.2587039470672607,
          2.205418109893799,
          2.443120002746582,
          2.180970430374145,
          2.388346910476685,
          2.384345769882202,
          2.128740072250366,
          2.189847707748413,
          2.438527822494507,
          2.2290799617767334,
          2.421971321105957,
          2.339181900024414,
          2.19396710395813,
          2.361976861953736,
          2.2277560234069824,
          2.3059208393096924,
          2.221879005432129,
          2.2091259956359863,
          2.1321229934692383,
          2.1924831867218018,
          2.293776035308838,
          2.3686063289642334,
          2.104275941848755,
          2.245296001434326,
          2.313120126724243,
          2.236104249954224,
          2.2601749897003174,
          2.1278860569000244,
          2.153691053390503,
          2.1893231868743896,
          2.16773009300232,
          2.187891960144043,
          2.281419038772583,
          2.1777501106262207,
          2.1498539447784424,
          2.132191896438598,
          2.1247012615203857,
          2.1765151023864746,
          2.2064361572265625,
          2.22209906578064,
          2.1219208240509038,
          2.155791044235229
         ],
         "y0": " ",
         "yaxis": "y"
        }
       ],
       "layout": {
        "boxmode": "group",
        "legend": {
         "tracegroupgap": 0
        },
        "margin": {
         "t": 60
        },
        "template": {
         "data": {
          "bar": [
           {
            "error_x": {
             "color": "#2a3f5f"
            },
            "error_y": {
             "color": "#2a3f5f"
            },
            "marker": {
             "line": {
              "color": "#E5ECF6",
              "width": 0.5
             },
             "pattern": {
              "fillmode": "overlay",
              "size": 10,
              "solidity": 0.2
             }
            },
            "type": "bar"
           }
          ],
          "barpolar": [
           {
            "marker": {
             "line": {
              "color": "#E5ECF6",
              "width": 0.5
             },
             "pattern": {
              "fillmode": "overlay",
              "size": 10,
              "solidity": 0.2
             }
            },
            "type": "barpolar"
           }
          ],
          "carpet": [
           {
            "aaxis": {
             "endlinecolor": "#2a3f5f",
             "gridcolor": "white",
             "linecolor": "white",
             "minorgridcolor": "white",
             "startlinecolor": "#2a3f5f"
            },
            "baxis": {
             "endlinecolor": "#2a3f5f",
             "gridcolor": "white",
             "linecolor": "white",
             "minorgridcolor": "white",
             "startlinecolor": "#2a3f5f"
            },
            "type": "carpet"
           }
          ],
          "choropleth": [
           {
            "colorbar": {
             "outlinewidth": 0,
             "ticks": ""
            },
            "type": "choropleth"
           }
          ],
          "contour": [
           {
            "colorbar": {
             "outlinewidth": 0,
             "ticks": ""
            },
            "colorscale": [
             [
              0,
              "#0d0887"
             ],
             [
              0.1111111111111111,
              "#46039f"
             ],
             [
              0.2222222222222222,
              "#7201a8"
             ],
             [
              0.3333333333333333,
              "#9c179e"
             ],
             [
              0.4444444444444444,
              "#bd3786"
             ],
             [
              0.5555555555555556,
              "#d8576b"
             ],
             [
              0.6666666666666666,
              "#ed7953"
             ],
             [
              0.7777777777777778,
              "#fb9f3a"
             ],
             [
              0.8888888888888888,
              "#fdca26"
             ],
             [
              1,
              "#f0f921"
             ]
            ],
            "type": "contour"
           }
          ],
          "contourcarpet": [
           {
            "colorbar": {
             "outlinewidth": 0,
             "ticks": ""
            },
            "type": "contourcarpet"
           }
          ],
          "heatmap": [
           {
            "colorbar": {
             "outlinewidth": 0,
             "ticks": ""
            },
            "colorscale": [
             [
              0,
              "#0d0887"
             ],
             [
              0.1111111111111111,
              "#46039f"
             ],
             [
              0.2222222222222222,
              "#7201a8"
             ],
             [
              0.3333333333333333,
              "#9c179e"
             ],
             [
              0.4444444444444444,
              "#bd3786"
             ],
             [
              0.5555555555555556,
              "#d8576b"
             ],
             [
              0.6666666666666666,
              "#ed7953"
             ],
             [
              0.7777777777777778,
              "#fb9f3a"
             ],
             [
              0.8888888888888888,
              "#fdca26"
             ],
             [
              1,
              "#f0f921"
             ]
            ],
            "type": "heatmap"
           }
          ],
          "heatmapgl": [
           {
            "colorbar": {
             "outlinewidth": 0,
             "ticks": ""
            },
            "colorscale": [
             [
              0,
              "#0d0887"
             ],
             [
              0.1111111111111111,
              "#46039f"
             ],
             [
              0.2222222222222222,
              "#7201a8"
             ],
             [
              0.3333333333333333,
              "#9c179e"
             ],
             [
              0.4444444444444444,
              "#bd3786"
             ],
             [
              0.5555555555555556,
              "#d8576b"
             ],
             [
              0.6666666666666666,
              "#ed7953"
             ],
             [
              0.7777777777777778,
              "#fb9f3a"
             ],
             [
              0.8888888888888888,
              "#fdca26"
             ],
             [
              1,
              "#f0f921"
             ]
            ],
            "type": "heatmapgl"
           }
          ],
          "histogram": [
           {
            "marker": {
             "pattern": {
              "fillmode": "overlay",
              "size": 10,
              "solidity": 0.2
             }
            },
            "type": "histogram"
           }
          ],
          "histogram2d": [
           {
            "colorbar": {
             "outlinewidth": 0,
             "ticks": ""
            },
            "colorscale": [
             [
              0,
              "#0d0887"
             ],
             [
              0.1111111111111111,
              "#46039f"
             ],
             [
              0.2222222222222222,
              "#7201a8"
             ],
             [
              0.3333333333333333,
              "#9c179e"
             ],
             [
              0.4444444444444444,
              "#bd3786"
             ],
             [
              0.5555555555555556,
              "#d8576b"
             ],
             [
              0.6666666666666666,
              "#ed7953"
             ],
             [
              0.7777777777777778,
              "#fb9f3a"
             ],
             [
              0.8888888888888888,
              "#fdca26"
             ],
             [
              1,
              "#f0f921"
             ]
            ],
            "type": "histogram2d"
           }
          ],
          "histogram2dcontour": [
           {
            "colorbar": {
             "outlinewidth": 0,
             "ticks": ""
            },
            "colorscale": [
             [
              0,
              "#0d0887"
             ],
             [
              0.1111111111111111,
              "#46039f"
             ],
             [
              0.2222222222222222,
              "#7201a8"
             ],
             [
              0.3333333333333333,
              "#9c179e"
             ],
             [
              0.4444444444444444,
              "#bd3786"
             ],
             [
              0.5555555555555556,
              "#d8576b"
             ],
             [
              0.6666666666666666,
              "#ed7953"
             ],
             [
              0.7777777777777778,
              "#fb9f3a"
             ],
             [
              0.8888888888888888,
              "#fdca26"
             ],
             [
              1,
              "#f0f921"
             ]
            ],
            "type": "histogram2dcontour"
           }
          ],
          "mesh3d": [
           {
            "colorbar": {
             "outlinewidth": 0,
             "ticks": ""
            },
            "type": "mesh3d"
           }
          ],
          "parcoords": [
           {
            "line": {
             "colorbar": {
              "outlinewidth": 0,
              "ticks": ""
             }
            },
            "type": "parcoords"
           }
          ],
          "pie": [
           {
            "automargin": true,
            "type": "pie"
           }
          ],
          "scatter": [
           {
            "fillpattern": {
             "fillmode": "overlay",
             "size": 10,
             "solidity": 0.2
            },
            "type": "scatter"
           }
          ],
          "scatter3d": [
           {
            "line": {
             "colorbar": {
              "outlinewidth": 0,
              "ticks": ""
             }
            },
            "marker": {
             "colorbar": {
              "outlinewidth": 0,
              "ticks": ""
             }
            },
            "type": "scatter3d"
           }
          ],
          "scattercarpet": [
           {
            "marker": {
             "colorbar": {
              "outlinewidth": 0,
              "ticks": ""
             }
            },
            "type": "scattercarpet"
           }
          ],
          "scattergeo": [
           {
            "marker": {
             "colorbar": {
              "outlinewidth": 0,
              "ticks": ""
             }
            },
            "type": "scattergeo"
           }
          ],
          "scattergl": [
           {
            "marker": {
             "colorbar": {
              "outlinewidth": 0,
              "ticks": ""
             }
            },
            "type": "scattergl"
           }
          ],
          "scattermapbox": [
           {
            "marker": {
             "colorbar": {
              "outlinewidth": 0,
              "ticks": ""
             }
            },
            "type": "scattermapbox"
           }
          ],
          "scatterpolar": [
           {
            "marker": {
             "colorbar": {
              "outlinewidth": 0,
              "ticks": ""
             }
            },
            "type": "scatterpolar"
           }
          ],
          "scatterpolargl": [
           {
            "marker": {
             "colorbar": {
              "outlinewidth": 0,
              "ticks": ""
             }
            },
            "type": "scatterpolargl"
           }
          ],
          "scatterternary": [
           {
            "marker": {
             "colorbar": {
              "outlinewidth": 0,
              "ticks": ""
             }
            },
            "type": "scatterternary"
           }
          ],
          "surface": [
           {
            "colorbar": {
             "outlinewidth": 0,
             "ticks": ""
            },
            "colorscale": [
             [
              0,
              "#0d0887"
             ],
             [
              0.1111111111111111,
              "#46039f"
             ],
             [
              0.2222222222222222,
              "#7201a8"
             ],
             [
              0.3333333333333333,
              "#9c179e"
             ],
             [
              0.4444444444444444,
              "#bd3786"
             ],
             [
              0.5555555555555556,
              "#d8576b"
             ],
             [
              0.6666666666666666,
              "#ed7953"
             ],
             [
              0.7777777777777778,
              "#fb9f3a"
             ],
             [
              0.8888888888888888,
              "#fdca26"
             ],
             [
              1,
              "#f0f921"
             ]
            ],
            "type": "surface"
           }
          ],
          "table": [
           {
            "cells": {
             "fill": {
              "color": "#EBF0F8"
             },
             "line": {
              "color": "white"
             }
            },
            "header": {
             "fill": {
              "color": "#C8D4E3"
             },
             "line": {
              "color": "white"
             }
            },
            "type": "table"
           }
          ]
         },
         "layout": {
          "annotationdefaults": {
           "arrowcolor": "#2a3f5f",
           "arrowhead": 0,
           "arrowwidth": 1
          },
          "autotypenumbers": "strict",
          "coloraxis": {
           "colorbar": {
            "outlinewidth": 0,
            "ticks": ""
           }
          },
          "colorscale": {
           "diverging": [
            [
             0,
             "#8e0152"
            ],
            [
             0.1,
             "#c51b7d"
            ],
            [
             0.2,
             "#de77ae"
            ],
            [
             0.3,
             "#f1b6da"
            ],
            [
             0.4,
             "#fde0ef"
            ],
            [
             0.5,
             "#f7f7f7"
            ],
            [
             0.6,
             "#e6f5d0"
            ],
            [
             0.7,
             "#b8e186"
            ],
            [
             0.8,
             "#7fbc41"
            ],
            [
             0.9,
             "#4d9221"
            ],
            [
             1,
             "#276419"
            ]
           ],
           "sequential": [
            [
             0,
             "#0d0887"
            ],
            [
             0.1111111111111111,
             "#46039f"
            ],
            [
             0.2222222222222222,
             "#7201a8"
            ],
            [
             0.3333333333333333,
             "#9c179e"
            ],
            [
             0.4444444444444444,
             "#bd3786"
            ],
            [
             0.5555555555555556,
             "#d8576b"
            ],
            [
             0.6666666666666666,
             "#ed7953"
            ],
            [
             0.7777777777777778,
             "#fb9f3a"
            ],
            [
             0.8888888888888888,
             "#fdca26"
            ],
            [
             1,
             "#f0f921"
            ]
           ],
           "sequentialminus": [
            [
             0,
             "#0d0887"
            ],
            [
             0.1111111111111111,
             "#46039f"
            ],
            [
             0.2222222222222222,
             "#7201a8"
            ],
            [
             0.3333333333333333,
             "#9c179e"
            ],
            [
             0.4444444444444444,
             "#bd3786"
            ],
            [
             0.5555555555555556,
             "#d8576b"
            ],
            [
             0.6666666666666666,
             "#ed7953"
            ],
            [
             0.7777777777777778,
             "#fb9f3a"
            ],
            [
             0.8888888888888888,
             "#fdca26"
            ],
            [
             1,
             "#f0f921"
            ]
           ]
          },
          "colorway": [
           "#636efa",
           "#EF553B",
           "#00cc96",
           "#ab63fa",
           "#FFA15A",
           "#19d3f3",
           "#FF6692",
           "#B6E880",
           "#FF97FF",
           "#FECB52"
          ],
          "font": {
           "color": "#2a3f5f"
          },
          "geo": {
           "bgcolor": "white",
           "lakecolor": "white",
           "landcolor": "#E5ECF6",
           "showlakes": true,
           "showland": true,
           "subunitcolor": "white"
          },
          "hoverlabel": {
           "align": "left"
          },
          "hovermode": "closest",
          "mapbox": {
           "style": "light"
          },
          "paper_bgcolor": "white",
          "plot_bgcolor": "#E5ECF6",
          "polar": {
           "angularaxis": {
            "gridcolor": "white",
            "linecolor": "white",
            "ticks": ""
           },
           "bgcolor": "#E5ECF6",
           "radialaxis": {
            "gridcolor": "white",
            "linecolor": "white",
            "ticks": ""
           }
          },
          "scene": {
           "xaxis": {
            "backgroundcolor": "#E5ECF6",
            "gridcolor": "white",
            "gridwidth": 2,
            "linecolor": "white",
            "showbackground": true,
            "ticks": "",
            "zerolinecolor": "white"
           },
           "yaxis": {
            "backgroundcolor": "#E5ECF6",
            "gridcolor": "white",
            "gridwidth": 2,
            "linecolor": "white",
            "showbackground": true,
            "ticks": "",
            "zerolinecolor": "white"
           },
           "zaxis": {
            "backgroundcolor": "#E5ECF6",
            "gridcolor": "white",
            "gridwidth": 2,
            "linecolor": "white",
            "showbackground": true,
            "ticks": "",
            "zerolinecolor": "white"
           }
          },
          "shapedefaults": {
           "line": {
            "color": "#2a3f5f"
           }
          },
          "ternary": {
           "aaxis": {
            "gridcolor": "white",
            "linecolor": "white",
            "ticks": ""
           },
           "baxis": {
            "gridcolor": "white",
            "linecolor": "white",
            "ticks": ""
           },
           "bgcolor": "#E5ECF6",
           "caxis": {
            "gridcolor": "white",
            "linecolor": "white",
            "ticks": ""
           }
          },
          "title": {
           "x": 0.05
          },
          "xaxis": {
           "automargin": true,
           "gridcolor": "white",
           "linecolor": "white",
           "ticks": "",
           "title": {
            "standoff": 15
           },
           "zerolinecolor": "white",
           "zerolinewidth": 2
          },
          "yaxis": {
           "automargin": true,
           "gridcolor": "white",
           "linecolor": "white",
           "ticks": "",
           "title": {
            "standoff": 15
           },
           "zerolinecolor": "white",
           "zerolinewidth": 2
          }
         }
        },
        "xaxis": {
         "anchor": "y",
         "domain": [
          0,
          1
         ],
         "title": {
          "text": "Package | Solver Combo"
         }
        },
        "yaxis": {
         "anchor": "x",
         "domain": [
          0,
          1
         ],
         "title": {
          "text": "Time"
         }
        }
       }
      }
     },
     "metadata": {},
     "output_type": "display_data"
    },
    {
     "name": "stdout",
     "output_type": "stream",
     "text": [
      "numbAssets=2 numbOrders=100\n"
     ]
    },
    {
     "data": {
      "application/vnd.plotly.v1+json": {
       "config": {
        "plotlyServerURL": "https://plot.ly"
       },
       "data": [
        {
         "alignmentgroup": "True",
         "hovertemplate": "Package | Solver Combo=%{x}<br>Time=%{y}<extra></extra>",
         "legendgroup": "",
         "marker": {
          "color": "#636efa"
         },
         "name": "",
         "notched": false,
         "offsetgroup": "",
         "orientation": "v",
         "showlegend": false,
         "type": "box",
         "x": [
          "cvxpy | OSQP",
          "cvxpy | OSQP",
          "cvxpy | OSQP",
          "cvxpy | OSQP",
          "cvxpy | OSQP",
          "cvxpy | OSQP",
          "cvxpy | OSQP",
          "cvxpy | OSQP",
          "cvxpy | OSQP",
          "cvxpy | OSQP",
          "cvxpy | OSQP",
          "cvxpy | OSQP",
          "cvxpy | OSQP",
          "cvxpy | OSQP",
          "cvxpy | OSQP",
          "cvxpy | OSQP",
          "cvxpy | OSQP",
          "cvxpy | OSQP",
          "cvxpy | OSQP",
          "cvxpy | OSQP",
          "cvxpy | OSQP",
          "cvxpy | OSQP",
          "cvxpy | OSQP",
          "cvxpy | OSQP",
          "cvxpy | OSQP",
          "cvxpy | OSQP",
          "cvxpy | OSQP",
          "cvxpy | OSQP",
          "cvxpy | OSQP",
          "cvxpy | OSQP",
          "cvxpy | OSQP",
          "cvxpy | OSQP",
          "cvxpy | OSQP",
          "cvxpy | OSQP",
          "cvxpy | OSQP",
          "cvxpy | OSQP",
          "cvxpy | OSQP",
          "cvxpy | OSQP",
          "cvxpy | OSQP",
          "cvxpy | OSQP",
          "cvxpy | OSQP",
          "cvxpy | OSQP",
          "cvxpy | OSQP",
          "cvxpy | OSQP",
          "cvxpy | OSQP",
          "cvxpy | OSQP",
          "cvxpy | OSQP",
          "cvxpy | OSQP",
          "cvxpy | OSQP",
          "cvxpy | OSQP",
          "cvxpy | OSQP",
          "cvxpy | OSQP",
          "cvxpy | OSQP",
          "cvxpy | OSQP",
          "cvxpy | OSQP",
          "cvxpy | OSQP",
          "cvxpy | OSQP",
          "cvxpy | OSQP",
          "cvxpy | OSQP",
          "cvxpy | OSQP",
          "cvxpy | OSQP",
          "cvxpy | OSQP",
          "cvxpy | OSQP",
          "cvxpy | OSQP",
          "cvxpy | OSQP",
          "cvxpy | OSQP",
          "cvxpy | OSQP",
          "cvxpy | OSQP",
          "cvxpy | OSQP",
          "cvxpy | OSQP",
          "cvxpy | OSQP",
          "cvxpy | OSQP",
          "cvxpy | OSQP",
          "cvxpy | OSQP",
          "cvxpy | OSQP",
          "cvxpy | OSQP",
          "cvxpy | OSQP",
          "cvxpy | OSQP",
          "cvxpy | OSQP",
          "cvxpy | OSQP",
          "cvxpy | OSQP",
          "cvxpy | OSQP",
          "cvxpy | OSQP",
          "cvxpy | OSQP",
          "cvxpy | OSQP",
          "cvxpy | OSQP",
          "cvxpy | OSQP",
          "cvxpy | OSQP",
          "cvxpy | OSQP",
          "cvxpy | OSQP",
          "cvxpy | OSQP",
          "cvxpy | OSQP",
          "cvxpy | OSQP",
          "cvxpy | OSQP",
          "cvxpy | OSQP",
          "cvxpy | OSQP",
          "cvxpy | OSQP",
          "cvxpy | OSQP",
          "cvxpy | OSQP",
          "cvxpy | OSQP",
          "cvxpy | ECOS",
          "cvxpy | ECOS",
          "cvxpy | ECOS",
          "cvxpy | ECOS",
          "cvxpy | ECOS",
          "cvxpy | ECOS",
          "cvxpy | ECOS",
          "cvxpy | ECOS",
          "cvxpy | ECOS",
          "cvxpy | ECOS",
          "cvxpy | ECOS",
          "cvxpy | ECOS",
          "cvxpy | ECOS",
          "cvxpy | ECOS",
          "cvxpy | ECOS",
          "cvxpy | ECOS",
          "cvxpy | ECOS",
          "cvxpy | ECOS",
          "cvxpy | ECOS",
          "cvxpy | ECOS",
          "cvxpy | ECOS",
          "cvxpy | ECOS",
          "cvxpy | ECOS",
          "cvxpy | ECOS",
          "cvxpy | ECOS",
          "cvxpy | ECOS",
          "cvxpy | ECOS",
          "cvxpy | ECOS",
          "cvxpy | ECOS",
          "cvxpy | ECOS",
          "cvxpy | ECOS",
          "cvxpy | ECOS",
          "cvxpy | ECOS",
          "cvxpy | ECOS",
          "cvxpy | ECOS",
          "cvxpy | ECOS",
          "cvxpy | ECOS",
          "cvxpy | ECOS",
          "cvxpy | ECOS",
          "cvxpy | ECOS",
          "cvxpy | ECOS",
          "cvxpy | ECOS",
          "cvxpy | ECOS",
          "cvxpy | ECOS",
          "cvxpy | ECOS",
          "cvxpy | ECOS",
          "cvxpy | ECOS",
          "cvxpy | ECOS",
          "cvxpy | ECOS",
          "cvxpy | ECOS",
          "cvxpy | ECOS",
          "cvxpy | ECOS",
          "cvxpy | ECOS",
          "cvxpy | ECOS",
          "cvxpy | ECOS",
          "cvxpy | ECOS",
          "cvxpy | ECOS",
          "cvxpy | ECOS",
          "cvxpy | ECOS",
          "cvxpy | ECOS",
          "cvxpy | ECOS",
          "cvxpy | ECOS",
          "cvxpy | ECOS",
          "cvxpy | ECOS",
          "cvxpy | ECOS",
          "cvxpy | ECOS",
          "cvxpy | ECOS",
          "cvxpy | ECOS",
          "cvxpy | ECOS",
          "cvxpy | ECOS",
          "cvxpy | ECOS",
          "cvxpy | ECOS",
          "cvxpy | ECOS",
          "cvxpy | ECOS",
          "cvxpy | ECOS",
          "cvxpy | ECOS",
          "cvxpy | ECOS",
          "cvxpy | ECOS",
          "cvxpy | ECOS",
          "cvxpy | ECOS",
          "cvxpy | ECOS",
          "cvxpy | ECOS",
          "cvxpy | ECOS",
          "cvxpy | ECOS",
          "cvxpy | ECOS",
          "cvxpy | ECOS",
          "cvxpy | ECOS",
          "cvxpy | ECOS",
          "cvxpy | ECOS",
          "cvxpy | ECOS",
          "cvxpy | ECOS",
          "cvxpy | ECOS",
          "cvxpy | ECOS",
          "cvxpy | ECOS",
          "cvxpy | ECOS",
          "cvxpy | ECOS",
          "cvxpy | ECOS",
          "cvxpy | ECOS",
          "cvxpy | ECOS",
          "cvxpy | ECOS",
          "cvxpy | SCS",
          "cvxpy | SCS",
          "cvxpy | SCS",
          "cvxpy | SCS",
          "cvxpy | SCS",
          "cvxpy | SCS",
          "cvxpy | SCS",
          "cvxpy | SCS",
          "cvxpy | SCS",
          "cvxpy | SCS",
          "cvxpy | SCS",
          "cvxpy | SCS",
          "cvxpy | SCS",
          "cvxpy | SCS",
          "cvxpy | SCS",
          "cvxpy | SCS",
          "cvxpy | SCS",
          "cvxpy | SCS",
          "cvxpy | SCS",
          "cvxpy | SCS",
          "cvxpy | SCS",
          "cvxpy | SCS",
          "cvxpy | SCS",
          "cvxpy | SCS",
          "cvxpy | SCS",
          "cvxpy | SCS",
          "cvxpy | SCS",
          "cvxpy | SCS",
          "cvxpy | SCS",
          "cvxpy | SCS",
          "cvxpy | SCS",
          "cvxpy | SCS",
          "cvxpy | SCS",
          "cvxpy | SCS",
          "cvxpy | SCS",
          "cvxpy | SCS",
          "cvxpy | SCS",
          "cvxpy | SCS",
          "cvxpy | SCS",
          "cvxpy | SCS",
          "cvxpy | SCS",
          "cvxpy | SCS",
          "cvxpy | SCS",
          "cvxpy | SCS",
          "cvxpy | SCS",
          "cvxpy | SCS",
          "cvxpy | SCS",
          "cvxpy | SCS",
          "cvxpy | SCS",
          "cvxpy | SCS",
          "cvxpy | SCS",
          "cvxpy | SCS",
          "cvxpy | SCS",
          "cvxpy | SCS",
          "cvxpy | SCS",
          "cvxpy | SCS",
          "cvxpy | SCS",
          "cvxpy | SCS",
          "cvxpy | SCS",
          "cvxpy | SCS",
          "cvxpy | SCS",
          "cvxpy | SCS",
          "cvxpy | SCS",
          "cvxpy | SCS",
          "cvxpy | SCS",
          "cvxpy | SCS",
          "cvxpy | SCS",
          "cvxpy | SCS",
          "cvxpy | SCS",
          "cvxpy | SCS",
          "cvxpy | SCS",
          "cvxpy | SCS",
          "cvxpy | SCS",
          "cvxpy | SCS",
          "cvxpy | SCS",
          "cvxpy | SCS",
          "cvxpy | SCS",
          "cvxpy | SCS",
          "cvxpy | SCS",
          "cvxpy | SCS",
          "cvxpy | SCS",
          "cvxpy | SCS",
          "cvxpy | SCS",
          "cvxpy | SCS",
          "cvxpy | SCS",
          "cvxpy | SCS",
          "cvxpy | SCS",
          "cvxpy | SCS",
          "cvxpy | SCS",
          "cvxpy | SCS",
          "cvxpy | SCS",
          "cvxpy | SCS",
          "cvxpy | SCS",
          "cvxpy | SCS",
          "cvxpy | SCS",
          "cvxpy | SCS",
          "cvxpy | SCS",
          "cvxpy | SCS",
          "cvxpy | SCS",
          "cvxpy | SCS",
          "qpsolver | osqp",
          "qpsolver | osqp",
          "qpsolver | osqp",
          "qpsolver | osqp",
          "qpsolver | osqp",
          "qpsolver | osqp",
          "qpsolver | osqp",
          "qpsolver | osqp",
          "qpsolver | osqp",
          "qpsolver | osqp",
          "qpsolver | osqp",
          "qpsolver | osqp",
          "qpsolver | osqp",
          "qpsolver | osqp",
          "qpsolver | osqp",
          "qpsolver | osqp",
          "qpsolver | osqp",
          "qpsolver | osqp",
          "qpsolver | osqp",
          "qpsolver | osqp",
          "qpsolver | osqp",
          "qpsolver | osqp",
          "qpsolver | osqp",
          "qpsolver | osqp",
          "qpsolver | osqp",
          "qpsolver | osqp",
          "qpsolver | osqp",
          "qpsolver | osqp",
          "qpsolver | osqp",
          "qpsolver | osqp",
          "qpsolver | osqp",
          "qpsolver | osqp",
          "qpsolver | osqp",
          "qpsolver | osqp",
          "qpsolver | osqp",
          "qpsolver | osqp",
          "qpsolver | osqp",
          "qpsolver | osqp",
          "qpsolver | osqp",
          "qpsolver | osqp",
          "qpsolver | osqp",
          "qpsolver | osqp",
          "qpsolver | osqp",
          "qpsolver | osqp",
          "qpsolver | osqp",
          "qpsolver | osqp",
          "qpsolver | osqp",
          "qpsolver | osqp",
          "qpsolver | osqp",
          "qpsolver | osqp",
          "qpsolver | osqp",
          "qpsolver | osqp",
          "qpsolver | osqp",
          "qpsolver | osqp",
          "qpsolver | osqp",
          "qpsolver | osqp",
          "qpsolver | osqp",
          "qpsolver | osqp",
          "qpsolver | osqp",
          "qpsolver | osqp",
          "qpsolver | osqp",
          "qpsolver | osqp",
          "qpsolver | osqp",
          "qpsolver | osqp",
          "qpsolver | osqp",
          "qpsolver | osqp",
          "qpsolver | osqp",
          "qpsolver | osqp",
          "qpsolver | osqp",
          "qpsolver | osqp",
          "qpsolver | osqp",
          "qpsolver | osqp",
          "qpsolver | osqp",
          "qpsolver | osqp",
          "qpsolver | osqp",
          "qpsolver | osqp",
          "qpsolver | osqp",
          "qpsolver | osqp",
          "qpsolver | osqp",
          "qpsolver | osqp",
          "qpsolver | osqp",
          "qpsolver | osqp",
          "qpsolver | osqp",
          "qpsolver | osqp",
          "qpsolver | osqp",
          "qpsolver | osqp",
          "qpsolver | osqp",
          "qpsolver | osqp",
          "qpsolver | osqp",
          "qpsolver | osqp",
          "qpsolver | osqp",
          "qpsolver | osqp",
          "qpsolver | osqp",
          "qpsolver | osqp",
          "qpsolver | osqp",
          "qpsolver | osqp",
          "qpsolver | osqp",
          "qpsolver | osqp",
          "qpsolver | osqp",
          "qpsolver | osqp",
          "qpsolver | ecos",
          "qpsolver | ecos",
          "qpsolver | ecos",
          "qpsolver | ecos",
          "qpsolver | ecos",
          "qpsolver | ecos",
          "qpsolver | ecos",
          "qpsolver | ecos",
          "qpsolver | ecos",
          "qpsolver | ecos",
          "qpsolver | ecos",
          "qpsolver | ecos",
          "qpsolver | ecos",
          "qpsolver | ecos",
          "qpsolver | ecos",
          "qpsolver | ecos",
          "qpsolver | ecos",
          "qpsolver | ecos",
          "qpsolver | ecos",
          "qpsolver | ecos",
          "qpsolver | ecos",
          "qpsolver | ecos",
          "qpsolver | ecos",
          "qpsolver | ecos",
          "qpsolver | ecos",
          "qpsolver | ecos",
          "qpsolver | ecos",
          "qpsolver | ecos",
          "qpsolver | ecos",
          "qpsolver | ecos",
          "qpsolver | ecos",
          "qpsolver | ecos",
          "qpsolver | ecos",
          "qpsolver | ecos",
          "qpsolver | ecos",
          "qpsolver | ecos",
          "qpsolver | ecos",
          "qpsolver | ecos",
          "qpsolver | ecos",
          "qpsolver | ecos",
          "qpsolver | ecos",
          "qpsolver | ecos",
          "qpsolver | ecos",
          "qpsolver | ecos",
          "qpsolver | ecos",
          "qpsolver | ecos",
          "qpsolver | ecos",
          "qpsolver | ecos",
          "qpsolver | ecos",
          "qpsolver | ecos",
          "qpsolver | ecos",
          "qpsolver | ecos",
          "qpsolver | ecos",
          "qpsolver | ecos",
          "qpsolver | ecos",
          "qpsolver | ecos",
          "qpsolver | ecos",
          "qpsolver | ecos",
          "qpsolver | ecos",
          "qpsolver | ecos",
          "qpsolver | ecos",
          "qpsolver | ecos",
          "qpsolver | ecos",
          "qpsolver | ecos",
          "qpsolver | ecos",
          "qpsolver | ecos",
          "qpsolver | ecos",
          "qpsolver | ecos",
          "qpsolver | ecos",
          "qpsolver | ecos",
          "qpsolver | ecos",
          "qpsolver | ecos",
          "qpsolver | ecos",
          "qpsolver | ecos",
          "qpsolver | ecos",
          "qpsolver | ecos",
          "qpsolver | ecos",
          "qpsolver | ecos",
          "qpsolver | ecos",
          "qpsolver | ecos",
          "qpsolver | ecos",
          "qpsolver | ecos",
          "qpsolver | ecos",
          "qpsolver | ecos",
          "qpsolver | ecos",
          "qpsolver | ecos",
          "qpsolver | ecos",
          "qpsolver | ecos",
          "qpsolver | ecos",
          "qpsolver | ecos",
          "qpsolver | ecos",
          "qpsolver | ecos",
          "qpsolver | ecos",
          "qpsolver | ecos",
          "qpsolver | ecos",
          "qpsolver | ecos",
          "qpsolver | ecos",
          "qpsolver | ecos",
          "qpsolver | ecos",
          "qpsolver | ecos",
          "qpsolver | scs",
          "qpsolver | scs",
          "qpsolver | scs",
          "qpsolver | scs",
          "qpsolver | scs",
          "qpsolver | scs",
          "qpsolver | scs",
          "qpsolver | scs",
          "qpsolver | scs",
          "qpsolver | scs",
          "qpsolver | scs",
          "qpsolver | scs",
          "qpsolver | scs",
          "qpsolver | scs",
          "qpsolver | scs",
          "qpsolver | scs",
          "qpsolver | scs",
          "qpsolver | scs",
          "qpsolver | scs",
          "qpsolver | scs",
          "qpsolver | scs",
          "qpsolver | scs",
          "qpsolver | scs",
          "qpsolver | scs",
          "qpsolver | scs",
          "qpsolver | scs",
          "qpsolver | scs",
          "qpsolver | scs",
          "qpsolver | scs",
          "qpsolver | scs",
          "qpsolver | scs",
          "qpsolver | scs",
          "qpsolver | scs",
          "qpsolver | scs",
          "qpsolver | scs",
          "qpsolver | scs",
          "qpsolver | scs",
          "qpsolver | scs",
          "qpsolver | scs",
          "qpsolver | scs",
          "qpsolver | scs",
          "qpsolver | scs",
          "qpsolver | scs",
          "qpsolver | scs",
          "qpsolver | scs",
          "qpsolver | scs",
          "qpsolver | scs",
          "qpsolver | scs",
          "qpsolver | scs",
          "qpsolver | scs",
          "qpsolver | scs",
          "qpsolver | scs",
          "qpsolver | scs",
          "qpsolver | scs",
          "qpsolver | scs",
          "qpsolver | scs",
          "qpsolver | scs",
          "qpsolver | scs",
          "qpsolver | scs",
          "qpsolver | scs",
          "qpsolver | scs",
          "qpsolver | scs",
          "qpsolver | scs",
          "qpsolver | scs",
          "qpsolver | scs",
          "qpsolver | scs",
          "qpsolver | scs",
          "qpsolver | scs",
          "qpsolver | scs",
          "qpsolver | scs",
          "qpsolver | scs",
          "qpsolver | scs",
          "qpsolver | scs",
          "qpsolver | scs",
          "qpsolver | scs",
          "qpsolver | scs",
          "qpsolver | scs",
          "qpsolver | scs",
          "qpsolver | scs",
          "qpsolver | scs",
          "qpsolver | scs",
          "qpsolver | scs",
          "qpsolver | scs",
          "qpsolver | scs",
          "qpsolver | scs",
          "qpsolver | scs",
          "qpsolver | scs",
          "qpsolver | scs",
          "qpsolver | scs",
          "qpsolver | scs",
          "qpsolver | scs",
          "qpsolver | scs",
          "qpsolver | scs",
          "qpsolver | scs",
          "qpsolver | scs",
          "qpsolver | scs",
          "qpsolver | scs",
          "qpsolver | scs",
          "qpsolver | scs",
          "qpsolver | scs",
          "qpsolver | quadprog",
          "qpsolver | quadprog",
          "qpsolver | quadprog",
          "qpsolver | quadprog",
          "qpsolver | quadprog",
          "qpsolver | quadprog",
          "qpsolver | quadprog",
          "qpsolver | quadprog",
          "qpsolver | quadprog",
          "qpsolver | quadprog",
          "qpsolver | quadprog",
          "qpsolver | quadprog",
          "qpsolver | quadprog",
          "qpsolver | quadprog",
          "qpsolver | quadprog",
          "qpsolver | quadprog",
          "qpsolver | quadprog",
          "qpsolver | quadprog",
          "qpsolver | quadprog",
          "qpsolver | quadprog",
          "qpsolver | quadprog",
          "qpsolver | quadprog",
          "qpsolver | quadprog",
          "qpsolver | quadprog",
          "qpsolver | quadprog",
          "qpsolver | quadprog",
          "qpsolver | quadprog",
          "qpsolver | quadprog",
          "qpsolver | quadprog",
          "qpsolver | quadprog",
          "qpsolver | quadprog",
          "qpsolver | quadprog",
          "qpsolver | quadprog",
          "qpsolver | quadprog",
          "qpsolver | quadprog",
          "qpsolver | quadprog",
          "qpsolver | quadprog",
          "qpsolver | quadprog",
          "qpsolver | quadprog",
          "qpsolver | quadprog",
          "qpsolver | quadprog",
          "qpsolver | quadprog",
          "qpsolver | quadprog",
          "qpsolver | quadprog",
          "qpsolver | quadprog",
          "qpsolver | quadprog",
          "qpsolver | quadprog",
          "qpsolver | quadprog",
          "qpsolver | quadprog",
          "qpsolver | quadprog",
          "qpsolver | quadprog",
          "qpsolver | quadprog",
          "qpsolver | quadprog",
          "qpsolver | quadprog",
          "qpsolver | quadprog",
          "qpsolver | quadprog",
          "qpsolver | quadprog",
          "qpsolver | quadprog",
          "qpsolver | quadprog",
          "qpsolver | quadprog",
          "qpsolver | quadprog",
          "qpsolver | quadprog",
          "qpsolver | quadprog",
          "qpsolver | quadprog",
          "qpsolver | quadprog",
          "qpsolver | quadprog",
          "qpsolver | quadprog",
          "qpsolver | quadprog",
          "qpsolver | quadprog",
          "qpsolver | quadprog",
          "qpsolver | quadprog",
          "qpsolver | quadprog",
          "qpsolver | quadprog",
          "qpsolver | quadprog",
          "qpsolver | quadprog",
          "qpsolver | quadprog",
          "qpsolver | quadprog",
          "qpsolver | quadprog",
          "qpsolver | quadprog",
          "qpsolver | quadprog",
          "qpsolver | quadprog",
          "qpsolver | quadprog",
          "qpsolver | quadprog",
          "qpsolver | quadprog",
          "qpsolver | quadprog",
          "qpsolver | quadprog",
          "qpsolver | quadprog",
          "qpsolver | quadprog",
          "qpsolver | quadprog",
          "qpsolver | quadprog",
          "qpsolver | quadprog",
          "qpsolver | quadprog",
          "qpsolver | quadprog",
          "qpsolver | quadprog",
          "qpsolver | quadprog",
          "qpsolver | quadprog",
          "qpsolver | quadprog",
          "qpsolver | quadprog",
          "qpsolver | quadprog",
          "qpsolver | quadprog"
         ],
         "x0": " ",
         "xaxis": "x",
         "y": [
          170.66442322731018,
          210.1997816562653,
          213.26534295082087,
          213.63541293144223,
          213.2359700202942,
          215.2168719768524,
          221.9462299346924,
          222.9259648323059,
          227.8664600849152,
          232.34202194213867,
          235.2600197792053,
          237.0452389717102,
          238.9082272052765,
          239.8405692577362,
          244.09297704696652,
          250.3308098316193,
          250.8251669406891,
          252.95670914649963,
          252.8013207912445,
          253.10062789916992,
          253.26718425750727,
          253.30174589157104,
          253.30952620506287,
          253.78447222709656,
          253.9304916858673,
          254.40486598014832,
          255.36911797523496,
          255.3749761581421,
          256.0912938117981,
          256.2988784313202,
          256.7659339904785,
          257.01251101493835,
          256.87591910362244,
          256.9401130676269,
          257.45628023147583,
          257.8219482898712,
          258.1847779750824,
          258.10237169265747,
          258.1580238342285,
          258.3192908763885,
          258.2099390029907,
          258.2500758171081,
          258.93323802948,
          258.5455439090729,
          258.83496594429016,
          258.73555994033813,
          258.9270520210266,
          259.1261250972748,
          258.9943370819092,
          259.5260179042816,
          259.7675371170044,
          259.39461302757263,
          259.50266218185425,
          259.8930549621582,
          259.9235661029816,
          260.2554371356964,
          259.62530994415283,
          259.698273897171,
          260.32398891448975,
          259.8148488998413,
          259.6680221557617,
          259.9688949584961,
          260.1002411842346,
          259.88002371788025,
          260.162734746933,
          259.9995651245117,
          259.8837959766388,
          260.43088269233704,
          260.3084490299225,
          259.85446882247925,
          260.1683959960937,
          259.97440791130066,
          260.4067630767822,
          260.34415221214294,
          260.0356960296631,
          260.19905710220337,
          260.3550181388855,
          260.61982798576355,
          260.28136801719666,
          260.7527742385864,
          260.19962882995605,
          260.5458838939667,
          260.3931701183319,
          260.7246401309967,
          260.2034409046173,
          260.9710280895233,
          260.9695270061493,
          260.42031812667847,
          260.9636662006378,
          260.2498471736908,
          260.53028202056885,
          260.4536640644073,
          260.4040081501007,
          260.53127908706665,
          260.34467792510986,
          260.6582226753235,
          260.90680408477783,
          260.35810923576355,
          260.70544695854187,
          260.66401195526123,
          250.02045106887817,
          249.68585014343265,
          250.06781005859372,
          250.3565378189087,
          250.32293105125427,
          250.50389885902405,
          250.484799861908,
          250.49197101593015,
          250.46880197525024,
          250.3502857685089,
          250.5070559978485,
          250.35819816589355,
          250.74684715271,
          250.76557302474976,
          250.5697169303894,
          250.59415817260745,
          250.83162689208984,
          250.44429898262024,
          250.87345480918884,
          250.42300820350647,
          250.81107926368716,
          250.6988129615784,
          250.98470306396484,
          250.8052840232849,
          250.42430806159973,
          250.71229481697085,
          250.46782302856445,
          250.53756403923035,
          250.50142121315,
          251.08244490623477,
          250.67781782150269,
          251.08896899223328,
          250.68385291099548,
          250.93825888633728,
          250.77574801445007,
          250.67127084732056,
          250.78900718688965,
          251.16467308998108,
          250.83216500282288,
          251.25978994369507,
          251.1134238243103,
          251.04423809051517,
          250.92283511161804,
          251.10895824432373,
          250.96864104270932,
          251.1730921268463,
          251.3878619670868,
          251.2472238540649,
          251.55721020698547,
          251.48199701309204,
          251.29624199867249,
          251.2138650417328,
          251.55115485191345,
          251.3045299053192,
          251.46209812164307,
          251.58834099769592,
          251.3795740604401,
          251.6647610664368,
          251.49194407463077,
          251.5194478034973,
          251.67253398895264,
          251.8637101650238,
          251.6301348209381,
          251.75191807746887,
          251.63934302330017,
          251.755224943161,
          251.996954202652,
          251.73590898513797,
          251.8025062084198,
          251.88399410247803,
          251.79181504249573,
          252.2849700450897,
          252.1952509880066,
          252.4876039028168,
          252.3592917919159,
          251.92683219909668,
          252.38401794433597,
          252.46955108642575,
          252.16257429122925,
          252.517126083374,
          252.51975083351132,
          252.0105690956116,
          252.33993887901303,
          252.52318167686465,
          252.38988494873047,
          252.47581124305725,
          252.3387761116028,
          252.28315901756287,
          252.601154088974,
          252.26661705970764,
          252.34943890571597,
          252.7272942066193,
          252.54633331298828,
          252.61209988594052,
          252.69940304756165,
          252.51146006584167,
          252.836788892746,
          252.56379795074463,
          252.6062819957733,
          252.687344789505,
          243.5924220085144,
          243.56672620773315,
          243.4751780033112,
          243.84035301208496,
          243.5228350162506,
          243.8524799346924,
          243.7851250171661,
          243.6934168338776,
          244.0134768486023,
          243.9120481014252,
          244.59942603111267,
          244.3302948474884,
          244.1823301315308,
          244.3236548900604,
          244.50048685073853,
          244.33839988708496,
          244.5330879688263,
          244.61778712272644,
          244.52384185791016,
          244.77309489250183,
          244.9859960079193,
          244.70086669921875,
          244.83656811714167,
          244.93885684013367,
          245.10611009597775,
          245.29999804496765,
          245.19824385643005,
          245.16131567955017,
          245.08771514892575,
          245.2951729297638,
          245.11104893684387,
          245.26905989646912,
          245.2025809288025,
          245.1377799510956,
          245.15432476997373,
          245.34354400634768,
          245.40190315246585,
          245.3456997871399,
          245.482458114624,
          245.54186296463013,
          245.29959106445312,
          245.6712281703949,
          245.37230491638184,
          245.5752308368683,
          245.3989770412445,
          245.3710699081421,
          245.60915565490723,
          245.6348659992218,
          245.66846299171448,
          245.76253581047055,
          245.87014508247373,
          245.7782447338104,
          245.62198495864868,
          246.08019185066223,
          246.1791307926178,
          245.8787200450897,
          245.780357837677,
          245.8644139766693,
          245.9406840801239,
          246.25170373916623,
          246.1994230747223,
          245.9675669670105,
          246.23202276229856,
          246.0565676689148,
          246.2769629955292,
          246.19304394721985,
          246.24161005020144,
          246.33280205726624,
          246.381098985672,
          246.14410591125488,
          246.17664408683777,
          246.53624606132507,
          246.49746203422544,
          246.1731469631195,
          246.1243360042572,
          246.4912576675415,
          246.2024247646332,
          246.3907446861267,
          246.40540289878845,
          246.35421299934387,
          246.5262520313263,
          246.6889133453369,
          246.67192912101743,
          246.4606659412384,
          246.42474102973935,
          246.49340391159055,
          246.64376878738403,
          246.71609807014465,
          246.2909309864044,
          246.69861316680908,
          246.45252895355225,
          246.7693610191345,
          246.56218075752255,
          246.5750229358673,
          246.6019310951233,
          246.63841009140012,
          246.4800071716309,
          246.78957414627075,
          246.66367626190183,
          246.86511492729187,
          0.0414247512817382,
          0.052535057067871,
          0.014315128326416,
          0.0621576309204101,
          0.0169389247894287,
          0.0660440921783447,
          0.0484440326690673,
          0.0217509269714355,
          0.0071849822998046,
          0.0480737686157226,
          0.0256848335266113,
          0.0312402248382568,
          0.0136260986328125,
          0.0056612491607666,
          0.0248489379882812,
          0.0225849151611328,
          0.0188689231872558,
          0.0279409885406494,
          0.0106079578399658,
          0.0119140148162841,
          0.0374360084533691,
          0.0393829345703125,
          0.0219841003417968,
          0.0210518836975097,
          0.0368680953979492,
          0.0154471397399902,
          0.0079870223999023,
          0.0101418495178222,
          0.0108180046081542,
          0.0063130855560302,
          0.0396740436553955,
          0.0361912250518798,
          0.0285019874572753,
          0.0455670356750488,
          0.0276572704315185,
          0.0066940784454345,
          0.0240740776062011,
          0.0338191986083984,
          0.0177803039550781,
          0.0344879627227783,
          0.0167710781097412,
          0.0220417976379394,
          0.0022249221801757,
          0.0066630840301513,
          0.0116081237792968,
          0.0268890857696533,
          0.0065000057220458,
          0.0392460823059082,
          0.0219180583953857,
          0.0386760234832763,
          0.0057699680328369,
          0.0259230136871337,
          0.0011088848114013,
          0.0222289562225341,
          0.0325701236724853,
          0.0112779140472412,
          0.032623291015625,
          0.0111019611358642,
          0.0068368911743164,
          0.0109109878540039,
          0.0008811950683593,
          0.0201349258422851,
          0.045361042022705,
          0.034316062927246,
          0.0432689189910888,
          0.0412318706512451,
          0.0009491443634033,
          0.0357589721679687,
          0.0140690803527832,
          0.0404341220855712,
          0.0223622322082519,
          0.0166399478912353,
          0.0251131057739257,
          0.0225751399993896,
          0.01416015625,
          0.0208349227905273,
          0.0195240974426269,
          0.0195398330688476,
          0.022627830505371,
          0.0286982059478759,
          0.0311470031738281,
          0.0008847713470458,
          0.0302352905273437,
          0.0440180301666259,
          0.0433440208435058,
          0.0353388786315918,
          0.0355362892150878,
          0.037132978439331,
          0.0558557510375976,
          0.0575001239776611,
          0.025986909866333,
          0.0139789581298828,
          0.0478389263153076,
          0.0179581642150878,
          0.0193290710449218,
          0.0467419624328613,
          0.0466859340667724,
          0.0271627902984619,
          0.0211150646209716,
          0.0265216827392578,
          0.0063581466674804,
          0.0034928321838378,
          0.0070188045501708,
          0.2205448150634765,
          0.3046250343322754,
          0.101747989654541,
          0.0049300193786621,
          0.923564910888672,
          1.5640881061553955,
          1.4810149669647217,
          1.7904980182647705,
          1.8247621059417725,
          1.256516933441162,
          2.1593470573425293,
          2.7475950717926025,
          2.2298150062561035,
          2.618659734725952,
          3.1451048851013184,
          3.1743640899658203,
          3.643989086151123,
          4.245208024978638,
          4.392002105712891,
          4.58946704864502,
          4.789838075637817,
          4.952727794647217,
          4.907228946685791,
          4.97179913520813,
          5.5147459506988525,
          5.875771760940552,
          5.849889039993286,
          5.686362266540527,
          5.63984489440918,
          5.85274076461792,
          6.149256944656372,
          6.3462889194488525,
          6.0180580615997314,
          6.428948163986206,
          6.283611059188843,
          6.181071043014526,
          6.518912076950073,
          6.3820672035217285,
          6.053586006164551,
          6.519582033157349,
          6.187121868133545,
          6.606594085693359,
          6.283250093460083,
          6.102972030639648,
          6.322002172470093,
          6.339004993438721,
          6.193455934524536,
          6.693888902664185,
          6.354582786560059,
          6.167856931686401,
          6.103605031967163,
          6.279886960983276,
          6.183948040008545,
          6.260354995727539,
          6.239736795425415,
          6.294628143310547,
          6.222004890441895,
          6.21498703956604,
          6.300992965698242,
          6.33386492729187,
          6.140357255935669,
          6.187134027481079,
          6.504321098327637,
          6.33381986618042,
          6.592360973358154,
          6.246440172195435,
          6.341984033584595,
          6.582642793655396,
          6.149166107177734,
          6.251555919647217,
          6.385394334793091,
          6.201569080352783,
          6.425218105316162,
          6.242135047912598,
          6.178385972976685,
          6.479552745819092,
          6.348970890045166,
          6.671290874481201,
          6.493028163909912,
          6.304504156112671,
          6.4685423374176025,
          6.405256032943726,
          6.250204086303711,
          6.247137784957886,
          6.377286195755005,
          6.294742107391357,
          6.3521013259887695,
          6.682614088058472,
          6.204616069793701,
          6.291463136672974,
          6.332789182662964,
          6.406324148178101,
          6.391102075576782,
          6.283655166625977,
          6.313746929168701,
          6.33902907371521,
          6.565501928329468,
          0.0121140480041503,
          0.0167179107666015,
          0.0216939449310302,
          0.0045430660247802,
          0.001335859298706,
          0.0105118751525878,
          0.0123252868652343,
          0.0088968276977539,
          0.0077879428863525,
          0.004540205001831,
          0.0012369155883789,
          0.0075080394744873,
          0.0165262222290039,
          0.0063109397888183,
          0.012667179107666,
          0.0146491527557373,
          0.0026948451995849,
          0.0093169212341308,
          0.0143427848815917,
          0.0065760612487792,
          0.0090560913085937,
          0.0149509906768798,
          0.0040688514709472,
          0.0108664035797119,
          0.0128829479217529,
          0.0172879695892334,
          0.0175049304962158,
          0.0182549953460693,
          0.0156259536743164,
          0.0079257488250732,
          0.0011870861053466,
          0.0148088932037353,
          0.0174992084503173,
          0.0078461170196533,
          0.0091750621795654,
          0.0069801807403564,
          0.0120389461517333,
          0.0044569969177246,
          0.0012900829315185,
          0.0257010459899902,
          0.0139179229736328,
          0.0112912654876708,
          0.0011980533599853,
          0.0154280662536621,
          0.0012049674987792,
          0.0232949256896972,
          0.01186203956604,
          0.0052051544189453,
          0.0115787982940673,
          0.0138280391693115,
          0.0196700096130371,
          0.010840892791748,
          0.0217838287353515,
          0.0044147968292236,
          0.0101361274719238,
          0.0056090354919433,
          0.0012001991271972,
          0.004789113998413,
          0.0012030601501464,
          0.0220930576324462,
          0.001173973083496,
          0.0012381076812744,
          0.012794017791748,
          0.0046720504760742,
          0.014664888381958,
          0.0176870822906494,
          0.0123257637023925,
          0.0099470615386962,
          0.0012106895446777,
          0.0088789463043212,
          0.0252768993377685,
          0.0138437747955322,
          0.0215249061584472,
          0.0237660408020019,
          0.0173227787017822,
          0.0181760787963867,
          0.024036169052124,
          0.0152318477630615,
          0.0198771953582763,
          0.0153779983520507,
          0.0259912014007568,
          0.0178959369659423,
          0.0342211723327636,
          0.0206341743469238,
          0.0186431407928466,
          0.0125267505645751,
          0.0210261344909667,
          0.0192759037017822,
          0.014085054397583,
          0.0273029804229736,
          0.0206589698791503,
          0.0287318229675292,
          0.0243968963623046,
          0.0238409042358398,
          0.0231909751892089,
          0.0312020778656005,
          0.0268111228942871,
          0.0260529518127441,
          0.0469467639923095,
          0.0577290058135986,
          0.0031707286834716,
          0.00313401222229,
          0.0038540363311767,
          0.00236177444458,
          0.0121190547943115,
          0.0045030117034912,
          0.00850510597229,
          0.0030689239501953,
          0.0067672729492187,
          0.0032746791839599,
          0.0018208026885986,
          0.003706932067871,
          0.0016899108886718,
          0.0013909339904785,
          0.0022969245910644,
          0.0025088787078857,
          0.0058507919311523,
          0.0020930767059326,
          0.0024452209472656,
          0.0060579776763916,
          0.0013608932495117,
          0.0022830963134765,
          0.0035040378570556,
          0.0055110454559326,
          0.0020291805267333,
          0.0045709609985351,
          0.0057380199432373,
          0.0037450790405273,
          0.0030491352081298,
          0.002655029296875,
          0.0021030902862548,
          0.0098741054534912,
          0.0048820972442626,
          0.0024921894073486,
          0.0048120021820068,
          0.0013508796691894,
          0.0054969787597656,
          0.0043561458587646,
          0.003443956375122,
          0.0040061473846435,
          0.0031149387359619,
          0.0013990402221679,
          0.0062408447265625,
          0.0035531520843505,
          0.003612995147705,
          0.00144624710083,
          0.0028250217437744,
          0.0048167705535888,
          0.0019750595092773,
          0.0026390552520751,
          0.0022709369659423,
          0.001540184020996,
          0.0036330223083496,
          0.0050959587097167,
          0.0096540451049804,
          0.0028557777404785,
          0.0050511360168457,
          0.0035700798034667,
          0.0018291473388671,
          0.0055768489837646,
          0.0059399604797363,
          0.0051026344299316,
          0.0064978599548339,
          0.0018501281738281,
          0.0032038688659667,
          0.0029718875885009,
          0.0052630901336669,
          0.0056078433990478,
          0.0019519329071044,
          0.0051381587982177,
          0.0034000873565673,
          0.0067808628082275,
          0.0047090053558349,
          0.0027861595153808,
          0.0086662769317626,
          0.0102558135986328,
          0.0056030750274658,
          0.0064892768859863,
          0.005260944366455,
          0.0068259239196777,
          0.0064990520477294,
          0.0058367252349853,
          0.0053040981292724,
          0.0030210018157958,
          0.0076339244842529,
          0.0041098594665527,
          0.0077710151672363,
          0.0049290657043457,
          0.002835988998413,
          0.0035958290100097,
          0.0124628543853759,
          0.0061068534851074,
          0.0041663646697998,
          0.0064470767974853,
          0.0039918422698974,
          0.0046601295471191,
          0.0065319538116455,
          0.0088057518005371,
          0.0078508853912353,
          0.026954174041748
         ],
         "y0": " ",
         "yaxis": "y"
        }
       ],
       "layout": {
        "boxmode": "group",
        "legend": {
         "tracegroupgap": 0
        },
        "margin": {
         "t": 60
        },
        "template": {
         "data": {
          "bar": [
           {
            "error_x": {
             "color": "#2a3f5f"
            },
            "error_y": {
             "color": "#2a3f5f"
            },
            "marker": {
             "line": {
              "color": "#E5ECF6",
              "width": 0.5
             },
             "pattern": {
              "fillmode": "overlay",
              "size": 10,
              "solidity": 0.2
             }
            },
            "type": "bar"
           }
          ],
          "barpolar": [
           {
            "marker": {
             "line": {
              "color": "#E5ECF6",
              "width": 0.5
             },
             "pattern": {
              "fillmode": "overlay",
              "size": 10,
              "solidity": 0.2
             }
            },
            "type": "barpolar"
           }
          ],
          "carpet": [
           {
            "aaxis": {
             "endlinecolor": "#2a3f5f",
             "gridcolor": "white",
             "linecolor": "white",
             "minorgridcolor": "white",
             "startlinecolor": "#2a3f5f"
            },
            "baxis": {
             "endlinecolor": "#2a3f5f",
             "gridcolor": "white",
             "linecolor": "white",
             "minorgridcolor": "white",
             "startlinecolor": "#2a3f5f"
            },
            "type": "carpet"
           }
          ],
          "choropleth": [
           {
            "colorbar": {
             "outlinewidth": 0,
             "ticks": ""
            },
            "type": "choropleth"
           }
          ],
          "contour": [
           {
            "colorbar": {
             "outlinewidth": 0,
             "ticks": ""
            },
            "colorscale": [
             [
              0,
              "#0d0887"
             ],
             [
              0.1111111111111111,
              "#46039f"
             ],
             [
              0.2222222222222222,
              "#7201a8"
             ],
             [
              0.3333333333333333,
              "#9c179e"
             ],
             [
              0.4444444444444444,
              "#bd3786"
             ],
             [
              0.5555555555555556,
              "#d8576b"
             ],
             [
              0.6666666666666666,
              "#ed7953"
             ],
             [
              0.7777777777777778,
              "#fb9f3a"
             ],
             [
              0.8888888888888888,
              "#fdca26"
             ],
             [
              1,
              "#f0f921"
             ]
            ],
            "type": "contour"
           }
          ],
          "contourcarpet": [
           {
            "colorbar": {
             "outlinewidth": 0,
             "ticks": ""
            },
            "type": "contourcarpet"
           }
          ],
          "heatmap": [
           {
            "colorbar": {
             "outlinewidth": 0,
             "ticks": ""
            },
            "colorscale": [
             [
              0,
              "#0d0887"
             ],
             [
              0.1111111111111111,
              "#46039f"
             ],
             [
              0.2222222222222222,
              "#7201a8"
             ],
             [
              0.3333333333333333,
              "#9c179e"
             ],
             [
              0.4444444444444444,
              "#bd3786"
             ],
             [
              0.5555555555555556,
              "#d8576b"
             ],
             [
              0.6666666666666666,
              "#ed7953"
             ],
             [
              0.7777777777777778,
              "#fb9f3a"
             ],
             [
              0.8888888888888888,
              "#fdca26"
             ],
             [
              1,
              "#f0f921"
             ]
            ],
            "type": "heatmap"
           }
          ],
          "heatmapgl": [
           {
            "colorbar": {
             "outlinewidth": 0,
             "ticks": ""
            },
            "colorscale": [
             [
              0,
              "#0d0887"
             ],
             [
              0.1111111111111111,
              "#46039f"
             ],
             [
              0.2222222222222222,
              "#7201a8"
             ],
             [
              0.3333333333333333,
              "#9c179e"
             ],
             [
              0.4444444444444444,
              "#bd3786"
             ],
             [
              0.5555555555555556,
              "#d8576b"
             ],
             [
              0.6666666666666666,
              "#ed7953"
             ],
             [
              0.7777777777777778,
              "#fb9f3a"
             ],
             [
              0.8888888888888888,
              "#fdca26"
             ],
             [
              1,
              "#f0f921"
             ]
            ],
            "type": "heatmapgl"
           }
          ],
          "histogram": [
           {
            "marker": {
             "pattern": {
              "fillmode": "overlay",
              "size": 10,
              "solidity": 0.2
             }
            },
            "type": "histogram"
           }
          ],
          "histogram2d": [
           {
            "colorbar": {
             "outlinewidth": 0,
             "ticks": ""
            },
            "colorscale": [
             [
              0,
              "#0d0887"
             ],
             [
              0.1111111111111111,
              "#46039f"
             ],
             [
              0.2222222222222222,
              "#7201a8"
             ],
             [
              0.3333333333333333,
              "#9c179e"
             ],
             [
              0.4444444444444444,
              "#bd3786"
             ],
             [
              0.5555555555555556,
              "#d8576b"
             ],
             [
              0.6666666666666666,
              "#ed7953"
             ],
             [
              0.7777777777777778,
              "#fb9f3a"
             ],
             [
              0.8888888888888888,
              "#fdca26"
             ],
             [
              1,
              "#f0f921"
             ]
            ],
            "type": "histogram2d"
           }
          ],
          "histogram2dcontour": [
           {
            "colorbar": {
             "outlinewidth": 0,
             "ticks": ""
            },
            "colorscale": [
             [
              0,
              "#0d0887"
             ],
             [
              0.1111111111111111,
              "#46039f"
             ],
             [
              0.2222222222222222,
              "#7201a8"
             ],
             [
              0.3333333333333333,
              "#9c179e"
             ],
             [
              0.4444444444444444,
              "#bd3786"
             ],
             [
              0.5555555555555556,
              "#d8576b"
             ],
             [
              0.6666666666666666,
              "#ed7953"
             ],
             [
              0.7777777777777778,
              "#fb9f3a"
             ],
             [
              0.8888888888888888,
              "#fdca26"
             ],
             [
              1,
              "#f0f921"
             ]
            ],
            "type": "histogram2dcontour"
           }
          ],
          "mesh3d": [
           {
            "colorbar": {
             "outlinewidth": 0,
             "ticks": ""
            },
            "type": "mesh3d"
           }
          ],
          "parcoords": [
           {
            "line": {
             "colorbar": {
              "outlinewidth": 0,
              "ticks": ""
             }
            },
            "type": "parcoords"
           }
          ],
          "pie": [
           {
            "automargin": true,
            "type": "pie"
           }
          ],
          "scatter": [
           {
            "fillpattern": {
             "fillmode": "overlay",
             "size": 10,
             "solidity": 0.2
            },
            "type": "scatter"
           }
          ],
          "scatter3d": [
           {
            "line": {
             "colorbar": {
              "outlinewidth": 0,
              "ticks": ""
             }
            },
            "marker": {
             "colorbar": {
              "outlinewidth": 0,
              "ticks": ""
             }
            },
            "type": "scatter3d"
           }
          ],
          "scattercarpet": [
           {
            "marker": {
             "colorbar": {
              "outlinewidth": 0,
              "ticks": ""
             }
            },
            "type": "scattercarpet"
           }
          ],
          "scattergeo": [
           {
            "marker": {
             "colorbar": {
              "outlinewidth": 0,
              "ticks": ""
             }
            },
            "type": "scattergeo"
           }
          ],
          "scattergl": [
           {
            "marker": {
             "colorbar": {
              "outlinewidth": 0,
              "ticks": ""
             }
            },
            "type": "scattergl"
           }
          ],
          "scattermapbox": [
           {
            "marker": {
             "colorbar": {
              "outlinewidth": 0,
              "ticks": ""
             }
            },
            "type": "scattermapbox"
           }
          ],
          "scatterpolar": [
           {
            "marker": {
             "colorbar": {
              "outlinewidth": 0,
              "ticks": ""
             }
            },
            "type": "scatterpolar"
           }
          ],
          "scatterpolargl": [
           {
            "marker": {
             "colorbar": {
              "outlinewidth": 0,
              "ticks": ""
             }
            },
            "type": "scatterpolargl"
           }
          ],
          "scatterternary": [
           {
            "marker": {
             "colorbar": {
              "outlinewidth": 0,
              "ticks": ""
             }
            },
            "type": "scatterternary"
           }
          ],
          "surface": [
           {
            "colorbar": {
             "outlinewidth": 0,
             "ticks": ""
            },
            "colorscale": [
             [
              0,
              "#0d0887"
             ],
             [
              0.1111111111111111,
              "#46039f"
             ],
             [
              0.2222222222222222,
              "#7201a8"
             ],
             [
              0.3333333333333333,
              "#9c179e"
             ],
             [
              0.4444444444444444,
              "#bd3786"
             ],
             [
              0.5555555555555556,
              "#d8576b"
             ],
             [
              0.6666666666666666,
              "#ed7953"
             ],
             [
              0.7777777777777778,
              "#fb9f3a"
             ],
             [
              0.8888888888888888,
              "#fdca26"
             ],
             [
              1,
              "#f0f921"
             ]
            ],
            "type": "surface"
           }
          ],
          "table": [
           {
            "cells": {
             "fill": {
              "color": "#EBF0F8"
             },
             "line": {
              "color": "white"
             }
            },
            "header": {
             "fill": {
              "color": "#C8D4E3"
             },
             "line": {
              "color": "white"
             }
            },
            "type": "table"
           }
          ]
         },
         "layout": {
          "annotationdefaults": {
           "arrowcolor": "#2a3f5f",
           "arrowhead": 0,
           "arrowwidth": 1
          },
          "autotypenumbers": "strict",
          "coloraxis": {
           "colorbar": {
            "outlinewidth": 0,
            "ticks": ""
           }
          },
          "colorscale": {
           "diverging": [
            [
             0,
             "#8e0152"
            ],
            [
             0.1,
             "#c51b7d"
            ],
            [
             0.2,
             "#de77ae"
            ],
            [
             0.3,
             "#f1b6da"
            ],
            [
             0.4,
             "#fde0ef"
            ],
            [
             0.5,
             "#f7f7f7"
            ],
            [
             0.6,
             "#e6f5d0"
            ],
            [
             0.7,
             "#b8e186"
            ],
            [
             0.8,
             "#7fbc41"
            ],
            [
             0.9,
             "#4d9221"
            ],
            [
             1,
             "#276419"
            ]
           ],
           "sequential": [
            [
             0,
             "#0d0887"
            ],
            [
             0.1111111111111111,
             "#46039f"
            ],
            [
             0.2222222222222222,
             "#7201a8"
            ],
            [
             0.3333333333333333,
             "#9c179e"
            ],
            [
             0.4444444444444444,
             "#bd3786"
            ],
            [
             0.5555555555555556,
             "#d8576b"
            ],
            [
             0.6666666666666666,
             "#ed7953"
            ],
            [
             0.7777777777777778,
             "#fb9f3a"
            ],
            [
             0.8888888888888888,
             "#fdca26"
            ],
            [
             1,
             "#f0f921"
            ]
           ],
           "sequentialminus": [
            [
             0,
             "#0d0887"
            ],
            [
             0.1111111111111111,
             "#46039f"
            ],
            [
             0.2222222222222222,
             "#7201a8"
            ],
            [
             0.3333333333333333,
             "#9c179e"
            ],
            [
             0.4444444444444444,
             "#bd3786"
            ],
            [
             0.5555555555555556,
             "#d8576b"
            ],
            [
             0.6666666666666666,
             "#ed7953"
            ],
            [
             0.7777777777777778,
             "#fb9f3a"
            ],
            [
             0.8888888888888888,
             "#fdca26"
            ],
            [
             1,
             "#f0f921"
            ]
           ]
          },
          "colorway": [
           "#636efa",
           "#EF553B",
           "#00cc96",
           "#ab63fa",
           "#FFA15A",
           "#19d3f3",
           "#FF6692",
           "#B6E880",
           "#FF97FF",
           "#FECB52"
          ],
          "font": {
           "color": "#2a3f5f"
          },
          "geo": {
           "bgcolor": "white",
           "lakecolor": "white",
           "landcolor": "#E5ECF6",
           "showlakes": true,
           "showland": true,
           "subunitcolor": "white"
          },
          "hoverlabel": {
           "align": "left"
          },
          "hovermode": "closest",
          "mapbox": {
           "style": "light"
          },
          "paper_bgcolor": "white",
          "plot_bgcolor": "#E5ECF6",
          "polar": {
           "angularaxis": {
            "gridcolor": "white",
            "linecolor": "white",
            "ticks": ""
           },
           "bgcolor": "#E5ECF6",
           "radialaxis": {
            "gridcolor": "white",
            "linecolor": "white",
            "ticks": ""
           }
          },
          "scene": {
           "xaxis": {
            "backgroundcolor": "#E5ECF6",
            "gridcolor": "white",
            "gridwidth": 2,
            "linecolor": "white",
            "showbackground": true,
            "ticks": "",
            "zerolinecolor": "white"
           },
           "yaxis": {
            "backgroundcolor": "#E5ECF6",
            "gridcolor": "white",
            "gridwidth": 2,
            "linecolor": "white",
            "showbackground": true,
            "ticks": "",
            "zerolinecolor": "white"
           },
           "zaxis": {
            "backgroundcolor": "#E5ECF6",
            "gridcolor": "white",
            "gridwidth": 2,
            "linecolor": "white",
            "showbackground": true,
            "ticks": "",
            "zerolinecolor": "white"
           }
          },
          "shapedefaults": {
           "line": {
            "color": "#2a3f5f"
           }
          },
          "ternary": {
           "aaxis": {
            "gridcolor": "white",
            "linecolor": "white",
            "ticks": ""
           },
           "baxis": {
            "gridcolor": "white",
            "linecolor": "white",
            "ticks": ""
           },
           "bgcolor": "#E5ECF6",
           "caxis": {
            "gridcolor": "white",
            "linecolor": "white",
            "ticks": ""
           }
          },
          "title": {
           "x": 0.05
          },
          "xaxis": {
           "automargin": true,
           "gridcolor": "white",
           "linecolor": "white",
           "ticks": "",
           "title": {
            "standoff": 15
           },
           "zerolinecolor": "white",
           "zerolinewidth": 2
          },
          "yaxis": {
           "automargin": true,
           "gridcolor": "white",
           "linecolor": "white",
           "ticks": "",
           "title": {
            "standoff": 15
           },
           "zerolinecolor": "white",
           "zerolinewidth": 2
          }
         }
        },
        "xaxis": {
         "anchor": "y",
         "domain": [
          0,
          1
         ],
         "title": {
          "text": "Package | Solver Combo"
         }
        },
        "yaxis": {
         "anchor": "x",
         "domain": [
          0,
          1
         ],
         "title": {
          "text": "Time"
         }
        }
       }
      }
     },
     "metadata": {},
     "output_type": "display_data"
    },
    {
     "name": "stdout",
     "output_type": "stream",
     "text": [
      "numbAssets=2 numbOrders=1000\n"
     ]
    },
    {
     "data": {
      "application/vnd.plotly.v1+json": {
       "config": {
        "plotlyServerURL": "https://plot.ly"
       },
       "data": [
        {
         "alignmentgroup": "True",
         "hovertemplate": "Package | Solver Combo=%{x}<br>Time=%{y}<extra></extra>",
         "legendgroup": "",
         "marker": {
          "color": "#636efa"
         },
         "name": "",
         "notched": false,
         "offsetgroup": "",
         "orientation": "v",
         "showlegend": false,
         "type": "box",
         "x": [
          "cvxpy | OSQP",
          "cvxpy | OSQP",
          "cvxpy | OSQP",
          "cvxpy | OSQP",
          "cvxpy | OSQP",
          "cvxpy | OSQP",
          "cvxpy | OSQP",
          "cvxpy | OSQP",
          "cvxpy | OSQP",
          "cvxpy | OSQP",
          "cvxpy | OSQP",
          "cvxpy | OSQP",
          "cvxpy | OSQP",
          "cvxpy | OSQP",
          "cvxpy | OSQP",
          "cvxpy | OSQP",
          "cvxpy | OSQP",
          "cvxpy | OSQP",
          "cvxpy | OSQP",
          "cvxpy | OSQP",
          "cvxpy | OSQP",
          "cvxpy | OSQP",
          "cvxpy | OSQP",
          "cvxpy | OSQP",
          "cvxpy | OSQP",
          "cvxpy | OSQP",
          "cvxpy | OSQP",
          "cvxpy | OSQP",
          "cvxpy | OSQP",
          "cvxpy | OSQP",
          "cvxpy | OSQP",
          "cvxpy | OSQP",
          "cvxpy | OSQP",
          "cvxpy | OSQP",
          "cvxpy | OSQP",
          "cvxpy | OSQP",
          "cvxpy | OSQP",
          "cvxpy | OSQP",
          "cvxpy | OSQP",
          "cvxpy | OSQP",
          "cvxpy | OSQP",
          "cvxpy | OSQP",
          "cvxpy | OSQP",
          "cvxpy | OSQP",
          "cvxpy | OSQP",
          "cvxpy | OSQP",
          "cvxpy | OSQP",
          "cvxpy | OSQP",
          "cvxpy | OSQP",
          "cvxpy | OSQP",
          "cvxpy | OSQP",
          "cvxpy | OSQP",
          "cvxpy | OSQP",
          "cvxpy | OSQP",
          "cvxpy | OSQP",
          "cvxpy | OSQP",
          "cvxpy | OSQP",
          "cvxpy | OSQP",
          "cvxpy | OSQP",
          "cvxpy | OSQP",
          "cvxpy | OSQP",
          "cvxpy | OSQP",
          "cvxpy | OSQP",
          "cvxpy | OSQP",
          "cvxpy | OSQP",
          "cvxpy | OSQP",
          "cvxpy | OSQP",
          "cvxpy | OSQP",
          "cvxpy | OSQP",
          "cvxpy | OSQP",
          "cvxpy | OSQP",
          "cvxpy | OSQP",
          "cvxpy | OSQP",
          "cvxpy | OSQP",
          "cvxpy | OSQP",
          "cvxpy | OSQP",
          "cvxpy | OSQP",
          "cvxpy | OSQP",
          "cvxpy | OSQP",
          "cvxpy | OSQP",
          "cvxpy | OSQP",
          "cvxpy | OSQP",
          "cvxpy | OSQP",
          "cvxpy | OSQP",
          "cvxpy | OSQP",
          "cvxpy | OSQP",
          "cvxpy | OSQP",
          "cvxpy | OSQP",
          "cvxpy | OSQP",
          "cvxpy | OSQP",
          "cvxpy | OSQP",
          "cvxpy | OSQP",
          "cvxpy | OSQP",
          "cvxpy | OSQP",
          "cvxpy | OSQP",
          "cvxpy | OSQP",
          "cvxpy | OSQP",
          "cvxpy | OSQP",
          "cvxpy | OSQP",
          "cvxpy | OSQP",
          "cvxpy | ECOS",
          "cvxpy | ECOS",
          "cvxpy | ECOS",
          "cvxpy | ECOS",
          "cvxpy | ECOS",
          "cvxpy | ECOS",
          "cvxpy | ECOS",
          "cvxpy | ECOS",
          "cvxpy | ECOS",
          "cvxpy | ECOS",
          "cvxpy | ECOS",
          "cvxpy | ECOS",
          "cvxpy | ECOS",
          "cvxpy | ECOS",
          "cvxpy | ECOS",
          "cvxpy | ECOS",
          "cvxpy | ECOS",
          "cvxpy | ECOS",
          "cvxpy | ECOS",
          "cvxpy | ECOS",
          "cvxpy | ECOS",
          "cvxpy | ECOS",
          "cvxpy | ECOS",
          "cvxpy | ECOS",
          "cvxpy | ECOS",
          "cvxpy | ECOS",
          "cvxpy | ECOS",
          "cvxpy | ECOS",
          "cvxpy | ECOS",
          "cvxpy | ECOS",
          "cvxpy | ECOS",
          "cvxpy | ECOS",
          "cvxpy | ECOS",
          "cvxpy | ECOS",
          "cvxpy | ECOS",
          "cvxpy | ECOS",
          "cvxpy | ECOS",
          "cvxpy | ECOS",
          "cvxpy | ECOS",
          "cvxpy | ECOS",
          "cvxpy | ECOS",
          "cvxpy | ECOS",
          "cvxpy | ECOS",
          "cvxpy | ECOS",
          "cvxpy | ECOS",
          "cvxpy | ECOS",
          "cvxpy | ECOS",
          "cvxpy | ECOS",
          "cvxpy | ECOS",
          "cvxpy | ECOS",
          "cvxpy | ECOS",
          "cvxpy | ECOS",
          "cvxpy | ECOS",
          "cvxpy | ECOS",
          "cvxpy | ECOS",
          "cvxpy | ECOS",
          "cvxpy | ECOS",
          "cvxpy | ECOS",
          "cvxpy | ECOS",
          "cvxpy | ECOS",
          "cvxpy | ECOS",
          "cvxpy | ECOS",
          "cvxpy | ECOS",
          "cvxpy | ECOS",
          "cvxpy | ECOS",
          "cvxpy | ECOS",
          "cvxpy | ECOS",
          "cvxpy | ECOS",
          "cvxpy | ECOS",
          "cvxpy | ECOS",
          "cvxpy | ECOS",
          "cvxpy | ECOS",
          "cvxpy | ECOS",
          "cvxpy | ECOS",
          "cvxpy | ECOS",
          "cvxpy | ECOS",
          "cvxpy | ECOS",
          "cvxpy | ECOS",
          "cvxpy | ECOS",
          "cvxpy | ECOS",
          "cvxpy | ECOS",
          "cvxpy | ECOS",
          "cvxpy | ECOS",
          "cvxpy | ECOS",
          "cvxpy | ECOS",
          "cvxpy | ECOS",
          "cvxpy | ECOS",
          "cvxpy | ECOS",
          "cvxpy | ECOS",
          "cvxpy | ECOS",
          "cvxpy | ECOS",
          "cvxpy | ECOS",
          "cvxpy | ECOS",
          "cvxpy | ECOS",
          "cvxpy | ECOS",
          "cvxpy | ECOS",
          "cvxpy | ECOS",
          "cvxpy | ECOS",
          "cvxpy | ECOS",
          "cvxpy | ECOS",
          "cvxpy | SCS",
          "cvxpy | SCS",
          "cvxpy | SCS",
          "cvxpy | SCS",
          "cvxpy | SCS",
          "cvxpy | SCS",
          "cvxpy | SCS",
          "cvxpy | SCS",
          "cvxpy | SCS",
          "cvxpy | SCS",
          "cvxpy | SCS",
          "cvxpy | SCS",
          "cvxpy | SCS",
          "cvxpy | SCS",
          "cvxpy | SCS",
          "cvxpy | SCS",
          "cvxpy | SCS",
          "cvxpy | SCS",
          "cvxpy | SCS",
          "cvxpy | SCS",
          "cvxpy | SCS",
          "cvxpy | SCS",
          "cvxpy | SCS",
          "cvxpy | SCS",
          "cvxpy | SCS",
          "cvxpy | SCS",
          "cvxpy | SCS",
          "cvxpy | SCS",
          "cvxpy | SCS",
          "cvxpy | SCS",
          "cvxpy | SCS",
          "cvxpy | SCS",
          "cvxpy | SCS",
          "cvxpy | SCS",
          "cvxpy | SCS",
          "cvxpy | SCS",
          "cvxpy | SCS",
          "cvxpy | SCS",
          "cvxpy | SCS",
          "cvxpy | SCS",
          "cvxpy | SCS",
          "cvxpy | SCS",
          "cvxpy | SCS",
          "cvxpy | SCS",
          "cvxpy | SCS",
          "cvxpy | SCS",
          "cvxpy | SCS",
          "cvxpy | SCS",
          "cvxpy | SCS",
          "cvxpy | SCS",
          "cvxpy | SCS",
          "cvxpy | SCS",
          "cvxpy | SCS",
          "cvxpy | SCS",
          "cvxpy | SCS",
          "cvxpy | SCS",
          "cvxpy | SCS",
          "cvxpy | SCS",
          "cvxpy | SCS",
          "cvxpy | SCS",
          "cvxpy | SCS",
          "cvxpy | SCS",
          "cvxpy | SCS",
          "cvxpy | SCS",
          "cvxpy | SCS",
          "cvxpy | SCS",
          "cvxpy | SCS",
          "cvxpy | SCS",
          "cvxpy | SCS",
          "cvxpy | SCS",
          "cvxpy | SCS",
          "cvxpy | SCS",
          "cvxpy | SCS",
          "cvxpy | SCS",
          "cvxpy | SCS",
          "cvxpy | SCS",
          "cvxpy | SCS",
          "cvxpy | SCS",
          "cvxpy | SCS",
          "cvxpy | SCS",
          "cvxpy | SCS",
          "cvxpy | SCS",
          "cvxpy | SCS",
          "cvxpy | SCS",
          "cvxpy | SCS",
          "cvxpy | SCS",
          "cvxpy | SCS",
          "cvxpy | SCS",
          "cvxpy | SCS",
          "cvxpy | SCS",
          "cvxpy | SCS",
          "cvxpy | SCS",
          "cvxpy | SCS",
          "cvxpy | SCS",
          "cvxpy | SCS",
          "cvxpy | SCS",
          "cvxpy | SCS",
          "cvxpy | SCS",
          "cvxpy | SCS",
          "cvxpy | SCS",
          "qpsolver | osqp",
          "qpsolver | osqp",
          "qpsolver | osqp",
          "qpsolver | osqp",
          "qpsolver | osqp",
          "qpsolver | osqp",
          "qpsolver | osqp",
          "qpsolver | osqp",
          "qpsolver | osqp",
          "qpsolver | osqp",
          "qpsolver | osqp",
          "qpsolver | osqp",
          "qpsolver | osqp",
          "qpsolver | osqp",
          "qpsolver | osqp",
          "qpsolver | osqp",
          "qpsolver | osqp",
          "qpsolver | osqp",
          "qpsolver | osqp",
          "qpsolver | osqp",
          "qpsolver | osqp",
          "qpsolver | osqp",
          "qpsolver | osqp",
          "qpsolver | osqp",
          "qpsolver | osqp",
          "qpsolver | osqp",
          "qpsolver | osqp",
          "qpsolver | osqp",
          "qpsolver | osqp",
          "qpsolver | osqp",
          "qpsolver | osqp",
          "qpsolver | osqp",
          "qpsolver | osqp",
          "qpsolver | osqp",
          "qpsolver | osqp",
          "qpsolver | osqp",
          "qpsolver | osqp",
          "qpsolver | osqp",
          "qpsolver | osqp",
          "qpsolver | osqp",
          "qpsolver | osqp",
          "qpsolver | osqp",
          "qpsolver | osqp",
          "qpsolver | osqp",
          "qpsolver | osqp",
          "qpsolver | osqp",
          "qpsolver | osqp",
          "qpsolver | osqp",
          "qpsolver | osqp",
          "qpsolver | osqp",
          "qpsolver | osqp",
          "qpsolver | osqp",
          "qpsolver | osqp",
          "qpsolver | osqp",
          "qpsolver | osqp",
          "qpsolver | osqp",
          "qpsolver | osqp",
          "qpsolver | osqp",
          "qpsolver | osqp",
          "qpsolver | osqp",
          "qpsolver | osqp",
          "qpsolver | osqp",
          "qpsolver | osqp",
          "qpsolver | osqp",
          "qpsolver | osqp",
          "qpsolver | osqp",
          "qpsolver | osqp",
          "qpsolver | osqp",
          "qpsolver | osqp",
          "qpsolver | osqp",
          "qpsolver | osqp",
          "qpsolver | osqp",
          "qpsolver | osqp",
          "qpsolver | osqp",
          "qpsolver | osqp",
          "qpsolver | osqp",
          "qpsolver | osqp",
          "qpsolver | osqp",
          "qpsolver | osqp",
          "qpsolver | osqp",
          "qpsolver | osqp",
          "qpsolver | osqp",
          "qpsolver | osqp",
          "qpsolver | osqp",
          "qpsolver | osqp",
          "qpsolver | osqp",
          "qpsolver | osqp",
          "qpsolver | osqp",
          "qpsolver | osqp",
          "qpsolver | osqp",
          "qpsolver | osqp",
          "qpsolver | osqp",
          "qpsolver | osqp",
          "qpsolver | osqp",
          "qpsolver | osqp",
          "qpsolver | osqp",
          "qpsolver | osqp",
          "qpsolver | osqp",
          "qpsolver | osqp",
          "qpsolver | osqp",
          "qpsolver | scs",
          "qpsolver | scs",
          "qpsolver | scs",
          "qpsolver | scs",
          "qpsolver | scs",
          "qpsolver | scs",
          "qpsolver | scs",
          "qpsolver | scs",
          "qpsolver | scs",
          "qpsolver | scs",
          "qpsolver | scs",
          "qpsolver | scs",
          "qpsolver | scs",
          "qpsolver | scs",
          "qpsolver | scs",
          "qpsolver | scs",
          "qpsolver | scs",
          "qpsolver | scs",
          "qpsolver | scs",
          "qpsolver | scs",
          "qpsolver | scs",
          "qpsolver | scs",
          "qpsolver | scs",
          "qpsolver | scs",
          "qpsolver | scs",
          "qpsolver | scs",
          "qpsolver | scs",
          "qpsolver | scs",
          "qpsolver | scs",
          "qpsolver | scs",
          "qpsolver | scs",
          "qpsolver | scs",
          "qpsolver | scs",
          "qpsolver | scs",
          "qpsolver | scs",
          "qpsolver | scs",
          "qpsolver | scs",
          "qpsolver | scs",
          "qpsolver | scs",
          "qpsolver | scs",
          "qpsolver | scs",
          "qpsolver | scs",
          "qpsolver | scs",
          "qpsolver | scs",
          "qpsolver | scs",
          "qpsolver | scs",
          "qpsolver | scs",
          "qpsolver | scs",
          "qpsolver | scs",
          "qpsolver | scs",
          "qpsolver | scs",
          "qpsolver | scs",
          "qpsolver | scs",
          "qpsolver | scs",
          "qpsolver | scs",
          "qpsolver | scs",
          "qpsolver | scs",
          "qpsolver | scs",
          "qpsolver | scs",
          "qpsolver | scs",
          "qpsolver | scs",
          "qpsolver | scs",
          "qpsolver | scs",
          "qpsolver | scs",
          "qpsolver | scs",
          "qpsolver | scs",
          "qpsolver | scs",
          "qpsolver | scs",
          "qpsolver | scs",
          "qpsolver | scs",
          "qpsolver | scs",
          "qpsolver | scs",
          "qpsolver | scs",
          "qpsolver | scs",
          "qpsolver | scs",
          "qpsolver | scs",
          "qpsolver | scs",
          "qpsolver | scs",
          "qpsolver | scs",
          "qpsolver | scs",
          "qpsolver | scs",
          "qpsolver | scs",
          "qpsolver | scs",
          "qpsolver | scs",
          "qpsolver | scs",
          "qpsolver | scs",
          "qpsolver | scs",
          "qpsolver | scs",
          "qpsolver | scs",
          "qpsolver | scs",
          "qpsolver | scs",
          "qpsolver | scs",
          "qpsolver | scs",
          "qpsolver | scs",
          "qpsolver | scs",
          "qpsolver | scs",
          "qpsolver | scs",
          "qpsolver | scs",
          "qpsolver | scs",
          "qpsolver | scs",
          "qpsolver | quadprog",
          "qpsolver | quadprog",
          "qpsolver | quadprog",
          "qpsolver | quadprog",
          "qpsolver | quadprog",
          "qpsolver | quadprog",
          "qpsolver | quadprog",
          "qpsolver | quadprog",
          "qpsolver | quadprog",
          "qpsolver | quadprog",
          "qpsolver | quadprog",
          "qpsolver | quadprog",
          "qpsolver | quadprog",
          "qpsolver | quadprog",
          "qpsolver | quadprog",
          "qpsolver | quadprog",
          "qpsolver | quadprog",
          "qpsolver | quadprog",
          "qpsolver | quadprog",
          "qpsolver | quadprog",
          "qpsolver | quadprog",
          "qpsolver | quadprog",
          "qpsolver | quadprog",
          "qpsolver | quadprog",
          "qpsolver | quadprog",
          "qpsolver | quadprog",
          "qpsolver | quadprog",
          "qpsolver | quadprog",
          "qpsolver | quadprog",
          "qpsolver | quadprog",
          "qpsolver | quadprog",
          "qpsolver | quadprog",
          "qpsolver | quadprog",
          "qpsolver | quadprog",
          "qpsolver | quadprog",
          "qpsolver | quadprog",
          "qpsolver | quadprog",
          "qpsolver | quadprog",
          "qpsolver | quadprog",
          "qpsolver | quadprog",
          "qpsolver | quadprog",
          "qpsolver | quadprog",
          "qpsolver | quadprog",
          "qpsolver | quadprog",
          "qpsolver | quadprog",
          "qpsolver | quadprog",
          "qpsolver | quadprog",
          "qpsolver | quadprog",
          "qpsolver | quadprog",
          "qpsolver | quadprog",
          "qpsolver | quadprog",
          "qpsolver | quadprog",
          "qpsolver | quadprog",
          "qpsolver | quadprog",
          "qpsolver | quadprog",
          "qpsolver | quadprog",
          "qpsolver | quadprog",
          "qpsolver | quadprog",
          "qpsolver | quadprog",
          "qpsolver | quadprog",
          "qpsolver | quadprog",
          "qpsolver | quadprog",
          "qpsolver | quadprog",
          "qpsolver | quadprog",
          "qpsolver | quadprog",
          "qpsolver | quadprog",
          "qpsolver | quadprog",
          "qpsolver | quadprog",
          "qpsolver | quadprog",
          "qpsolver | quadprog",
          "qpsolver | quadprog",
          "qpsolver | quadprog",
          "qpsolver | quadprog",
          "qpsolver | quadprog",
          "qpsolver | quadprog",
          "qpsolver | quadprog",
          "qpsolver | quadprog",
          "qpsolver | quadprog",
          "qpsolver | quadprog",
          "qpsolver | quadprog",
          "qpsolver | quadprog",
          "qpsolver | quadprog",
          "qpsolver | quadprog",
          "qpsolver | quadprog",
          "qpsolver | quadprog",
          "qpsolver | quadprog",
          "qpsolver | quadprog",
          "qpsolver | quadprog",
          "qpsolver | quadprog",
          "qpsolver | quadprog",
          "qpsolver | quadprog",
          "qpsolver | quadprog",
          "qpsolver | quadprog",
          "qpsolver | quadprog",
          "qpsolver | quadprog",
          "qpsolver | quadprog",
          "qpsolver | quadprog",
          "qpsolver | quadprog",
          "qpsolver | quadprog",
          "qpsolver | quadprog"
         ],
         "x0": " ",
         "xaxis": "x",
         "y": [
          1976.8473987579343,
          1976.3961510658264,
          1976.8482899665837,
          1976.578633069992,
          1977.3267629146576,
          1977.001924991608,
          1977.406090974808,
          1977.1422410011287,
          1977.4041690826416,
          1977.170387983322,
          1977.6386630535128,
          1977.332135915756,
          1977.5394389629364,
          1977.548041820526,
          1977.833431005478,
          1977.5354418754575,
          1977.6893470287323,
          1977.9816060066223,
          1977.747633934021,
          1977.7735171318052,
          1977.883850097656,
          1977.929708957672,
          1978.203725099564,
          1978.054842710495,
          1978.269080877304,
          1978.3070220947263,
          1978.4137847423556,
          1978.399719953537,
          1978.459639787674,
          1978.0230269432068,
          1978.425153017044,
          1978.0082290172577,
          1978.467432975769,
          1978.7867920398712,
          1978.8314118385315,
          1978.5723221302032,
          1978.908819913864,
          1978.7905852794647,
          1978.7623150348663,
          1979.083342790604,
          1978.7772471904757,
          1978.9466359615328,
          1978.628582239151,
          1978.898336172104,
          1978.904203653336,
          1979.4031610488887,
          1979.1721529960632,
          1978.995306968689,
          1979.3596379756927,
          1978.966464042664,
          1979.01270198822,
          1979.6695177555084,
          1979.44056391716,
          1979.3661241531368,
          1979.6892969608307,
          1979.967766046524,
          1979.738550901413,
          1979.868672132492,
          1979.6853249073029,
          1979.968666791916,
          1980.157549619675,
          1980.1743371486664,
          1979.817033290863,
          1980.063506126404,
          1980.2005548477173,
          1980.297954082489,
          1980.3895671367643,
          1980.206113100052,
          1980.409870147705,
          1980.4217720031736,
          1980.2313568592072,
          1980.570673942566,
          1980.551945924759,
          1980.4060380458832,
          1980.8148090839384,
          1980.3018627166748,
          1980.3701751232147,
          1980.4548687934875,
          1980.89664888382,
          1981.1256058216093,
          1980.6005079746249,
          1981.2152059078217,
          1980.9180688858032,
          1981.07737493515,
          1981.1008319854736,
          1981.2704157829285,
          1981.0769710540767,
          1981.442147731781,
          1981.5681517124176,
          1981.406213760376,
          1981.1072449684143,
          1981.4630179405208,
          1981.3145101070404,
          1981.374116897583,
          1981.597411155701,
          1981.732858181,
          1981.564097881317,
          1981.6320912837984,
          1982.11238193512,
          1981.756690979004,
          1579.9826300144196,
          1580.7251739501953,
          1581.219691991806,
          1581.3523712158203,
          1583.6730620861051,
          1583.9587848186493,
          1584.5209889411926,
          1584.5054709911346,
          1585.2782809734344,
          1586.314992904663,
          1586.3311359882357,
          1587.0496220588684,
          1588.2022800445557,
          1588.054757118225,
          1587.9941742420197,
          1589.4583950042725,
          1588.8625462055206,
          1590.0598299503326,
          1589.7000930309296,
          1590.7885780334473,
          1591.2874031066897,
          1591.643491268158,
          1591.5305659770966,
          1591.8188490867617,
          1592.6349732875824,
          1593.277044057846,
          1594.080846309662,
          1594.233269929886,
          1593.8303561210632,
          1594.733857870102,
          1594.6138317584991,
          1596.5778939723969,
          1596.0300040245056,
          1596.0807020664215,
          1597.045066833496,
          1597.8732233047483,
          1597.8945791721344,
          1598.3872270584106,
          1598.8102431297302,
          1598.5654957294464,
          1599.5246069431305,
          1599.603052854538,
          1601.05135679245,
          1600.556291103363,
          1600.676185131073,
          1602.0556609630585,
          1601.8984501361847,
          1601.8288760185242,
          1603.005695104599,
          1602.8349981307983,
          1602.8195021152496,
          1604.295194149017,
          1604.9210679531095,
          1605.4998412132263,
          1606.7242770195007,
          1606.8787789344788,
          1607.883546113968,
          1607.5626785755155,
          1607.1947391033173,
          1608.6687071323397,
          1608.5290439128876,
          1609.9921119213104,
          1610.4522030353546,
          1609.7079260349274,
          1610.8602221012115,
          1611.1131310462952,
          1611.287397146225,
          1611.853985786438,
          1612.366133928299,
          1612.5699269771576,
          1613.324265241623,
          1613.1816849708557,
          1614.225494146347,
          1614.2748050689695,
          1614.3491661548617,
          1615.3963358402252,
          1615.7643971443176,
          1616.5217440128326,
          1616.3117671012878,
          1616.705992937088,
          1617.6108520030975,
          1618.164652824402,
          1619.100021123886,
          1619.319603919983,
          1619.7966067790985,
          1619.977401971817,
          1620.184987783432,
          1620.8877046108246,
          1621.1717131137848,
          1621.6406047344208,
          1622.0065190792084,
          1621.9176309108734,
          1623.0798428058624,
          1622.810657978058,
          1623.9157507419586,
          1624.3785238265991,
          1624.836385011673,
          1625.5497670173645,
          1625.524775981903,
          1625.6744620800018,
          1441.6698288917542,
          1442.868458032608,
          1443.6346418857574,
          1443.4177150726318,
          1444.670611858368,
          1445.8988189697266,
          1446.0301179885864,
          1446.742005109787,
          1447.686196088791,
          1448.1937170028689,
          1449.5351178646088,
          1449.5926430225372,
          1451.0195817947388,
          1451.243026971817,
          1453.0533299446106,
          1453.715620994568,
          1453.7671527862549,
          1454.8893449306488,
          1456.1580443382263,
          1456.4132659435272,
          1457.6828739643097,
          1458.623948097229,
          1458.8875482082367,
          1459.4020919799805,
          1460.7886090278623,
          1461.9323217868805,
          1462.5159022808075,
          1463.5034549236298,
          1463.8331739902496,
          1464.217716217041,
          1465.0176117420197,
          1465.9606430530548,
          1466.2062730789185,
          1467.479110956192,
          1468.1343970298767,
          1469.1222851276398,
          1470.007817029953,
          1470.1504621505735,
          1471.3374230861664,
          1471.3229477405548,
          1472.827295064926,
          1473.0781891345978,
          1474.254653930664,
          1474.1185610294342,
          1475.23965382576,
          1476.156929731369,
          1477.0154359340668,
          1477.110326051712,
          1478.1743030548096,
          1478.4003341197968,
          1479.1078989505768,
          1480.2506370544434,
          1480.3186030387878,
          1481.3240911960602,
          1482.6032881736755,
          1483.267009973526,
          1484.0761551856997,
          1484.871429681778,
          1485.0260109901428,
          1485.4540112018583,
          1486.3049149513245,
          1487.7622377872467,
          1488.3351922035215,
          1488.587209939957,
          1489.7212669849396,
          1490.738295793533,
          1491.5324010849,
          1492.4061770439148,
          1492.8602697849274,
          1493.6698081493378,
          1494.0469398498535,
          1494.5685398578644,
          1495.7333648204803,
          1496.960795879364,
          1497.705225944519,
          1497.4965538978577,
          1499.1897950172424,
          1499.3151350021362,
          1500.3749051094055,
          1500.947084903717,
          1501.554666042328,
          1501.7599167823792,
          1502.801577091217,
          1504.1295878887177,
          1504.392576932907,
          1505.7351801395416,
          1506.3581779003143,
          1507.1551489830017,
          1508.208799123764,
          1508.2860090732574,
          1508.7225348949432,
          1510.5185232162476,
          1511.308942079544,
          1511.6100399494171,
          1512.7749621868134,
          1512.9612801074982,
          1514.0025889873505,
          1514.5000965595243,
          1515.817552804947,
          1515.9694347381592,
          0.0604679584503173,
          0.0643057823181152,
          0.0281040668487548,
          0.0981550216674804,
          0.0824527740478515,
          0.063910961151123,
          0.0992519855499267,
          0.0623011589050293,
          0.0833737850189209,
          0.0424330234527587,
          0.0533621311187744,
          0.0938031673431396,
          0.0512640476226806,
          0.0588040351867675,
          0.0634710788726806,
          0.0880031585693359,
          0.0752079486846923,
          0.090156078338623,
          0.066303014755249,
          0.060840368270874,
          0.1172730922698974,
          0.0791008472442627,
          0.0387351512908935,
          0.0851638317108154,
          0.0653870105743408,
          0.0822107791900634,
          0.1107580661773681,
          0.0396809577941894,
          0.0599057674407959,
          0.0792040824890136,
          0.0299923419952392,
          0.0731730461120605,
          0.0786778926849365,
          0.140873908996582,
          0.0639421939849853,
          0.0348877906799316,
          0.0436069965362548,
          0.0447649955749511,
          0.0506360530853271,
          0.0857553482055664,
          0.1362159252166748,
          0.041666030883789,
          0.0475919246673584,
          0.1384902000427246,
          0.0795142650604248,
          0.0518879890441894,
          0.1484262943267822,
          0.050441026687622,
          0.0630228519439697,
          0.0383439064025878,
          0.0545568466186523,
          0.0937428474426269,
          0.05525803565979,
          0.0470740795135498,
          0.0564851760864257,
          0.1626498699188232,
          0.1632070541381836,
          0.0870552062988281,
          0.057347297668457,
          0.1686859130859375,
          0.1005628108978271,
          0.1594600677490234,
          0.1975469589233398,
          0.104673147201538,
          0.0671091079711914,
          0.0562548637390136,
          0.0752608776092529,
          0.0530481338500976,
          0.0754232406616211,
          0.0709643363952636,
          0.0686521530151367,
          0.1147823333740234,
          0.063676118850708,
          0.0883629322052002,
          0.1376500129699707,
          0.1919469833374023,
          0.13018798828125,
          0.0974042415618896,
          0.0784320831298828,
          0.060046911239624,
          0.0827116966247558,
          0.0695447921752929,
          0.0489070415496826,
          0.0878798961639404,
          0.0814170837402343,
          0.0865669250488281,
          0.0903520584106445,
          0.0649480819702148,
          0.053049087524414,
          0.0679450035095214,
          0.070375919342041,
          0.1239871978759765,
          0.0560700893402099,
          0.0734219551086425,
          0.0544369220733642,
          0.0624871253967285,
          0.0972208976745605,
          0.0625011920928955,
          0.062633991241455,
          0.1008219718933105,
          0.064518928527832,
          0.064094066619873,
          0.0809600353240966,
          0.046619176864624,
          0.0648601055145263,
          0.0704610347747802,
          0.0817470550537109,
          0.0334551334381103,
          0.0318808555603027,
          0.0487051010131835,
          0.0789029598236084,
          0.0420739650726318,
          0.0271592140197753,
          0.0283601284027099,
          0.0691418647766113,
          0.0248939990997314,
          0.0312798023223876,
          0.0564868450164794,
          0.0662169456481933,
          0.0384392738342285,
          0.0375459194183349,
          0.0452830791473388,
          0.0265462398529052,
          0.0280838012695312,
          0.0312311649322509,
          0.0699939727783203,
          0.049142837524414,
          0.0634548664093017,
          0.0411860942840576,
          0.0795729160308837,
          0.0373439788818359,
          0.0843756198883056,
          0.0442631244659423,
          0.0389707088470459,
          0.0507750511169433,
          0.0521101951599121,
          0.0515515804290771,
          0.0784988403320312,
          0.0327277183532714,
          0.0741980075836181,
          0.0617039203643798,
          0.0647361278533935,
          0.0545301437377929,
          0.0574932098388671,
          0.0562930107116699,
          0.0538358688354492,
          0.0250420570373535,
          0.0618071556091308,
          0.0592539310455322,
          0.0650370121002197,
          0.0738580226898193,
          0.0445408821105957,
          0.0399301052093505,
          0.0601537227630615,
          0.0617051124572753,
          0.0655128955841064,
          0.0560619831085205,
          0.0678610801696777,
          0.0537641048431396,
          0.028656005859375,
          0.0368933677673339,
          0.0445919036865234,
          0.0675699710845947,
          0.0362608432769775,
          0.0778908729553222,
          0.0783009529113769,
          0.0798380374908447,
          0.0453619956970214,
          0.0828180313110351,
          0.0742371082305908,
          0.0832056999206543,
          0.0429060459136962,
          0.0825557708740234,
          0.0430338382720947,
          0.0578727722167968,
          0.0851190090179443,
          0.0727458000183105,
          0.0669920444488525,
          0.0857388973236084,
          0.0737979412078857,
          0.0553200244903564,
          0.094491958618164,
          0.0727770328521728,
          0.0597090721130371,
          0.0372929573059082,
          0.0605480670928955,
          0.0637829303741455,
          0.0650069713592529,
          0.0432069301605224,
          0.077686071395874,
          0.1499907970428466,
          0.0437898635864257,
          0.0458099842071533,
          0.0495281219482421,
          0.0505571365356445,
          0.051872968673706,
          0.0922420024871826,
          0.0847768783569336,
          0.1114788055419921,
          0.1162478923797607,
          22.625914812088013,
          22.80260825157165,
          22.848654985427856,
          22.907252311706543,
          22.919266939163208,
          22.92031502723694,
          23.061979055404663,
          23.02631402015686,
          23.356224060058597,
          23.21217083930969,
          23.379633903503414,
          23.543324947357178,
          23.623315811157227,
          23.739728212356567,
          23.73666310310364,
          23.644809007644653,
          23.69955611228943,
          23.759644031524655,
          23.755573987960812,
          23.954508066177368,
          23.85972309112549,
          23.72219395637512,
          23.802895069122314,
          23.688178300857544,
          23.9009051322937,
          24.148312091827396,
          23.983042001724243,
          24.09151792526245,
          24.278417110443115,
          23.899390935897827,
          24.304913997650143,
          24.001418113708496,
          23.887917041778564,
          24.18209314346313,
          24.07461881637573,
          23.866669178009037,
          24.382914781570435,
          24.213228225708008,
          24.229521989822388,
          24.524678230285645,
          24.289257049560547,
          24.42337203025818,
          24.168808937072757,
          24.308022022247314,
          24.05902886390686,
          23.90907287597656,
          24.12474012374878,
          24.18379211425781,
          23.959868907928467,
          24.44641184806824,
          23.943543910980225,
          24.53612279891968,
          24.690188884735107,
          24.43785500526428,
          24.716591835021973,
          24.288064002990723,
          24.42594313621521,
          24.0051372051239,
          24.605175018310547,
          24.37889814376831,
          24.31341791152954,
          24.345166206359863,
          24.08962392807007,
          24.03077888488769,
          24.17495107650757,
          24.30864715576172,
          24.50766682624817,
          24.361915826797485,
          24.54578113555908,
          24.36930584907532,
          24.41678810119629,
          24.374288082122803,
          24.269327878952023,
          24.09016227722168,
          24.230963945388797,
          24.798890829086304,
          24.42291498184204,
          24.40271615982056,
          24.17357897758484,
          24.49079394340515,
          24.105581998825077,
          24.095577239990234,
          24.198516130447388,
          24.104346752166748,
          24.11652708053589,
          24.205512762069706,
          24.77249002456665,
          24.33299779891968,
          24.152806997299194,
          24.463932752609253,
          24.12716388702393,
          24.45800280570984,
          24.16757583618164,
          24.139562845230103,
          24.22112607955933,
          24.681111097335812,
          24.201551914215088,
          24.14035701751709,
          24.142009973526,
          24.310473918914795
         ],
         "y0": " ",
         "yaxis": "y"
        }
       ],
       "layout": {
        "boxmode": "group",
        "legend": {
         "tracegroupgap": 0
        },
        "margin": {
         "t": 60
        },
        "template": {
         "data": {
          "bar": [
           {
            "error_x": {
             "color": "#2a3f5f"
            },
            "error_y": {
             "color": "#2a3f5f"
            },
            "marker": {
             "line": {
              "color": "#E5ECF6",
              "width": 0.5
             },
             "pattern": {
              "fillmode": "overlay",
              "size": 10,
              "solidity": 0.2
             }
            },
            "type": "bar"
           }
          ],
          "barpolar": [
           {
            "marker": {
             "line": {
              "color": "#E5ECF6",
              "width": 0.5
             },
             "pattern": {
              "fillmode": "overlay",
              "size": 10,
              "solidity": 0.2
             }
            },
            "type": "barpolar"
           }
          ],
          "carpet": [
           {
            "aaxis": {
             "endlinecolor": "#2a3f5f",
             "gridcolor": "white",
             "linecolor": "white",
             "minorgridcolor": "white",
             "startlinecolor": "#2a3f5f"
            },
            "baxis": {
             "endlinecolor": "#2a3f5f",
             "gridcolor": "white",
             "linecolor": "white",
             "minorgridcolor": "white",
             "startlinecolor": "#2a3f5f"
            },
            "type": "carpet"
           }
          ],
          "choropleth": [
           {
            "colorbar": {
             "outlinewidth": 0,
             "ticks": ""
            },
            "type": "choropleth"
           }
          ],
          "contour": [
           {
            "colorbar": {
             "outlinewidth": 0,
             "ticks": ""
            },
            "colorscale": [
             [
              0,
              "#0d0887"
             ],
             [
              0.1111111111111111,
              "#46039f"
             ],
             [
              0.2222222222222222,
              "#7201a8"
             ],
             [
              0.3333333333333333,
              "#9c179e"
             ],
             [
              0.4444444444444444,
              "#bd3786"
             ],
             [
              0.5555555555555556,
              "#d8576b"
             ],
             [
              0.6666666666666666,
              "#ed7953"
             ],
             [
              0.7777777777777778,
              "#fb9f3a"
             ],
             [
              0.8888888888888888,
              "#fdca26"
             ],
             [
              1,
              "#f0f921"
             ]
            ],
            "type": "contour"
           }
          ],
          "contourcarpet": [
           {
            "colorbar": {
             "outlinewidth": 0,
             "ticks": ""
            },
            "type": "contourcarpet"
           }
          ],
          "heatmap": [
           {
            "colorbar": {
             "outlinewidth": 0,
             "ticks": ""
            },
            "colorscale": [
             [
              0,
              "#0d0887"
             ],
             [
              0.1111111111111111,
              "#46039f"
             ],
             [
              0.2222222222222222,
              "#7201a8"
             ],
             [
              0.3333333333333333,
              "#9c179e"
             ],
             [
              0.4444444444444444,
              "#bd3786"
             ],
             [
              0.5555555555555556,
              "#d8576b"
             ],
             [
              0.6666666666666666,
              "#ed7953"
             ],
             [
              0.7777777777777778,
              "#fb9f3a"
             ],
             [
              0.8888888888888888,
              "#fdca26"
             ],
             [
              1,
              "#f0f921"
             ]
            ],
            "type": "heatmap"
           }
          ],
          "heatmapgl": [
           {
            "colorbar": {
             "outlinewidth": 0,
             "ticks": ""
            },
            "colorscale": [
             [
              0,
              "#0d0887"
             ],
             [
              0.1111111111111111,
              "#46039f"
             ],
             [
              0.2222222222222222,
              "#7201a8"
             ],
             [
              0.3333333333333333,
              "#9c179e"
             ],
             [
              0.4444444444444444,
              "#bd3786"
             ],
             [
              0.5555555555555556,
              "#d8576b"
             ],
             [
              0.6666666666666666,
              "#ed7953"
             ],
             [
              0.7777777777777778,
              "#fb9f3a"
             ],
             [
              0.8888888888888888,
              "#fdca26"
             ],
             [
              1,
              "#f0f921"
             ]
            ],
            "type": "heatmapgl"
           }
          ],
          "histogram": [
           {
            "marker": {
             "pattern": {
              "fillmode": "overlay",
              "size": 10,
              "solidity": 0.2
             }
            },
            "type": "histogram"
           }
          ],
          "histogram2d": [
           {
            "colorbar": {
             "outlinewidth": 0,
             "ticks": ""
            },
            "colorscale": [
             [
              0,
              "#0d0887"
             ],
             [
              0.1111111111111111,
              "#46039f"
             ],
             [
              0.2222222222222222,
              "#7201a8"
             ],
             [
              0.3333333333333333,
              "#9c179e"
             ],
             [
              0.4444444444444444,
              "#bd3786"
             ],
             [
              0.5555555555555556,
              "#d8576b"
             ],
             [
              0.6666666666666666,
              "#ed7953"
             ],
             [
              0.7777777777777778,
              "#fb9f3a"
             ],
             [
              0.8888888888888888,
              "#fdca26"
             ],
             [
              1,
              "#f0f921"
             ]
            ],
            "type": "histogram2d"
           }
          ],
          "histogram2dcontour": [
           {
            "colorbar": {
             "outlinewidth": 0,
             "ticks": ""
            },
            "colorscale": [
             [
              0,
              "#0d0887"
             ],
             [
              0.1111111111111111,
              "#46039f"
             ],
             [
              0.2222222222222222,
              "#7201a8"
             ],
             [
              0.3333333333333333,
              "#9c179e"
             ],
             [
              0.4444444444444444,
              "#bd3786"
             ],
             [
              0.5555555555555556,
              "#d8576b"
             ],
             [
              0.6666666666666666,
              "#ed7953"
             ],
             [
              0.7777777777777778,
              "#fb9f3a"
             ],
             [
              0.8888888888888888,
              "#fdca26"
             ],
             [
              1,
              "#f0f921"
             ]
            ],
            "type": "histogram2dcontour"
           }
          ],
          "mesh3d": [
           {
            "colorbar": {
             "outlinewidth": 0,
             "ticks": ""
            },
            "type": "mesh3d"
           }
          ],
          "parcoords": [
           {
            "line": {
             "colorbar": {
              "outlinewidth": 0,
              "ticks": ""
             }
            },
            "type": "parcoords"
           }
          ],
          "pie": [
           {
            "automargin": true,
            "type": "pie"
           }
          ],
          "scatter": [
           {
            "fillpattern": {
             "fillmode": "overlay",
             "size": 10,
             "solidity": 0.2
            },
            "type": "scatter"
           }
          ],
          "scatter3d": [
           {
            "line": {
             "colorbar": {
              "outlinewidth": 0,
              "ticks": ""
             }
            },
            "marker": {
             "colorbar": {
              "outlinewidth": 0,
              "ticks": ""
             }
            },
            "type": "scatter3d"
           }
          ],
          "scattercarpet": [
           {
            "marker": {
             "colorbar": {
              "outlinewidth": 0,
              "ticks": ""
             }
            },
            "type": "scattercarpet"
           }
          ],
          "scattergeo": [
           {
            "marker": {
             "colorbar": {
              "outlinewidth": 0,
              "ticks": ""
             }
            },
            "type": "scattergeo"
           }
          ],
          "scattergl": [
           {
            "marker": {
             "colorbar": {
              "outlinewidth": 0,
              "ticks": ""
             }
            },
            "type": "scattergl"
           }
          ],
          "scattermapbox": [
           {
            "marker": {
             "colorbar": {
              "outlinewidth": 0,
              "ticks": ""
             }
            },
            "type": "scattermapbox"
           }
          ],
          "scatterpolar": [
           {
            "marker": {
             "colorbar": {
              "outlinewidth": 0,
              "ticks": ""
             }
            },
            "type": "scatterpolar"
           }
          ],
          "scatterpolargl": [
           {
            "marker": {
             "colorbar": {
              "outlinewidth": 0,
              "ticks": ""
             }
            },
            "type": "scatterpolargl"
           }
          ],
          "scatterternary": [
           {
            "marker": {
             "colorbar": {
              "outlinewidth": 0,
              "ticks": ""
             }
            },
            "type": "scatterternary"
           }
          ],
          "surface": [
           {
            "colorbar": {
             "outlinewidth": 0,
             "ticks": ""
            },
            "colorscale": [
             [
              0,
              "#0d0887"
             ],
             [
              0.1111111111111111,
              "#46039f"
             ],
             [
              0.2222222222222222,
              "#7201a8"
             ],
             [
              0.3333333333333333,
              "#9c179e"
             ],
             [
              0.4444444444444444,
              "#bd3786"
             ],
             [
              0.5555555555555556,
              "#d8576b"
             ],
             [
              0.6666666666666666,
              "#ed7953"
             ],
             [
              0.7777777777777778,
              "#fb9f3a"
             ],
             [
              0.8888888888888888,
              "#fdca26"
             ],
             [
              1,
              "#f0f921"
             ]
            ],
            "type": "surface"
           }
          ],
          "table": [
           {
            "cells": {
             "fill": {
              "color": "#EBF0F8"
             },
             "line": {
              "color": "white"
             }
            },
            "header": {
             "fill": {
              "color": "#C8D4E3"
             },
             "line": {
              "color": "white"
             }
            },
            "type": "table"
           }
          ]
         },
         "layout": {
          "annotationdefaults": {
           "arrowcolor": "#2a3f5f",
           "arrowhead": 0,
           "arrowwidth": 1
          },
          "autotypenumbers": "strict",
          "coloraxis": {
           "colorbar": {
            "outlinewidth": 0,
            "ticks": ""
           }
          },
          "colorscale": {
           "diverging": [
            [
             0,
             "#8e0152"
            ],
            [
             0.1,
             "#c51b7d"
            ],
            [
             0.2,
             "#de77ae"
            ],
            [
             0.3,
             "#f1b6da"
            ],
            [
             0.4,
             "#fde0ef"
            ],
            [
             0.5,
             "#f7f7f7"
            ],
            [
             0.6,
             "#e6f5d0"
            ],
            [
             0.7,
             "#b8e186"
            ],
            [
             0.8,
             "#7fbc41"
            ],
            [
             0.9,
             "#4d9221"
            ],
            [
             1,
             "#276419"
            ]
           ],
           "sequential": [
            [
             0,
             "#0d0887"
            ],
            [
             0.1111111111111111,
             "#46039f"
            ],
            [
             0.2222222222222222,
             "#7201a8"
            ],
            [
             0.3333333333333333,
             "#9c179e"
            ],
            [
             0.4444444444444444,
             "#bd3786"
            ],
            [
             0.5555555555555556,
             "#d8576b"
            ],
            [
             0.6666666666666666,
             "#ed7953"
            ],
            [
             0.7777777777777778,
             "#fb9f3a"
            ],
            [
             0.8888888888888888,
             "#fdca26"
            ],
            [
             1,
             "#f0f921"
            ]
           ],
           "sequentialminus": [
            [
             0,
             "#0d0887"
            ],
            [
             0.1111111111111111,
             "#46039f"
            ],
            [
             0.2222222222222222,
             "#7201a8"
            ],
            [
             0.3333333333333333,
             "#9c179e"
            ],
            [
             0.4444444444444444,
             "#bd3786"
            ],
            [
             0.5555555555555556,
             "#d8576b"
            ],
            [
             0.6666666666666666,
             "#ed7953"
            ],
            [
             0.7777777777777778,
             "#fb9f3a"
            ],
            [
             0.8888888888888888,
             "#fdca26"
            ],
            [
             1,
             "#f0f921"
            ]
           ]
          },
          "colorway": [
           "#636efa",
           "#EF553B",
           "#00cc96",
           "#ab63fa",
           "#FFA15A",
           "#19d3f3",
           "#FF6692",
           "#B6E880",
           "#FF97FF",
           "#FECB52"
          ],
          "font": {
           "color": "#2a3f5f"
          },
          "geo": {
           "bgcolor": "white",
           "lakecolor": "white",
           "landcolor": "#E5ECF6",
           "showlakes": true,
           "showland": true,
           "subunitcolor": "white"
          },
          "hoverlabel": {
           "align": "left"
          },
          "hovermode": "closest",
          "mapbox": {
           "style": "light"
          },
          "paper_bgcolor": "white",
          "plot_bgcolor": "#E5ECF6",
          "polar": {
           "angularaxis": {
            "gridcolor": "white",
            "linecolor": "white",
            "ticks": ""
           },
           "bgcolor": "#E5ECF6",
           "radialaxis": {
            "gridcolor": "white",
            "linecolor": "white",
            "ticks": ""
           }
          },
          "scene": {
           "xaxis": {
            "backgroundcolor": "#E5ECF6",
            "gridcolor": "white",
            "gridwidth": 2,
            "linecolor": "white",
            "showbackground": true,
            "ticks": "",
            "zerolinecolor": "white"
           },
           "yaxis": {
            "backgroundcolor": "#E5ECF6",
            "gridcolor": "white",
            "gridwidth": 2,
            "linecolor": "white",
            "showbackground": true,
            "ticks": "",
            "zerolinecolor": "white"
           },
           "zaxis": {
            "backgroundcolor": "#E5ECF6",
            "gridcolor": "white",
            "gridwidth": 2,
            "linecolor": "white",
            "showbackground": true,
            "ticks": "",
            "zerolinecolor": "white"
           }
          },
          "shapedefaults": {
           "line": {
            "color": "#2a3f5f"
           }
          },
          "ternary": {
           "aaxis": {
            "gridcolor": "white",
            "linecolor": "white",
            "ticks": ""
           },
           "baxis": {
            "gridcolor": "white",
            "linecolor": "white",
            "ticks": ""
           },
           "bgcolor": "#E5ECF6",
           "caxis": {
            "gridcolor": "white",
            "linecolor": "white",
            "ticks": ""
           }
          },
          "title": {
           "x": 0.05
          },
          "xaxis": {
           "automargin": true,
           "gridcolor": "white",
           "linecolor": "white",
           "ticks": "",
           "title": {
            "standoff": 15
           },
           "zerolinecolor": "white",
           "zerolinewidth": 2
          },
          "yaxis": {
           "automargin": true,
           "gridcolor": "white",
           "linecolor": "white",
           "ticks": "",
           "title": {
            "standoff": 15
           },
           "zerolinecolor": "white",
           "zerolinewidth": 2
          }
         }
        },
        "xaxis": {
         "anchor": "y",
         "domain": [
          0,
          1
         ],
         "title": {
          "text": "Package | Solver Combo"
         }
        },
        "yaxis": {
         "anchor": "x",
         "domain": [
          0,
          1
         ],
         "title": {
          "text": "Time"
         }
        }
       }
      }
     },
     "metadata": {},
     "output_type": "display_data"
    },
    {
     "name": "stdout",
     "output_type": "stream",
     "text": [
      "numbAssets=2 numbOrders=2\n"
     ]
    },
    {
     "data": {
      "application/vnd.plotly.v1+json": {
       "config": {
        "plotlyServerURL": "https://plot.ly"
       },
       "data": [
        {
         "alignmentgroup": "True",
         "hovertemplate": "Package | Solver Combo=%{x}<br>Time=%{y}<extra></extra>",
         "legendgroup": "",
         "marker": {
          "color": "#636efa"
         },
         "name": "",
         "notched": false,
         "offsetgroup": "",
         "orientation": "v",
         "showlegend": false,
         "type": "box",
         "x": [
          "cvxpy | OSQP",
          "cvxpy | OSQP",
          "cvxpy | OSQP",
          "cvxpy | OSQP",
          "cvxpy | OSQP",
          "cvxpy | OSQP",
          "cvxpy | OSQP",
          "cvxpy | OSQP",
          "cvxpy | OSQP",
          "cvxpy | OSQP",
          "cvxpy | OSQP",
          "cvxpy | OSQP",
          "cvxpy | OSQP",
          "cvxpy | OSQP",
          "cvxpy | OSQP",
          "cvxpy | OSQP",
          "cvxpy | OSQP",
          "cvxpy | OSQP",
          "cvxpy | OSQP",
          "cvxpy | OSQP",
          "cvxpy | OSQP",
          "cvxpy | OSQP",
          "cvxpy | OSQP",
          "cvxpy | OSQP",
          "cvxpy | OSQP",
          "cvxpy | OSQP",
          "cvxpy | OSQP",
          "cvxpy | OSQP",
          "cvxpy | OSQP",
          "cvxpy | OSQP",
          "cvxpy | OSQP",
          "cvxpy | OSQP",
          "cvxpy | OSQP",
          "cvxpy | OSQP",
          "cvxpy | OSQP",
          "cvxpy | OSQP",
          "cvxpy | OSQP",
          "cvxpy | OSQP",
          "cvxpy | OSQP",
          "cvxpy | OSQP",
          "cvxpy | OSQP",
          "cvxpy | OSQP",
          "cvxpy | OSQP",
          "cvxpy | OSQP",
          "cvxpy | OSQP",
          "cvxpy | OSQP",
          "cvxpy | OSQP",
          "cvxpy | OSQP",
          "cvxpy | OSQP",
          "cvxpy | OSQP",
          "cvxpy | OSQP",
          "cvxpy | OSQP",
          "cvxpy | OSQP",
          "cvxpy | OSQP",
          "cvxpy | OSQP",
          "cvxpy | OSQP",
          "cvxpy | OSQP",
          "cvxpy | OSQP",
          "cvxpy | OSQP",
          "cvxpy | OSQP",
          "cvxpy | OSQP",
          "cvxpy | OSQP",
          "cvxpy | OSQP",
          "cvxpy | OSQP",
          "cvxpy | OSQP",
          "cvxpy | OSQP",
          "cvxpy | OSQP",
          "cvxpy | OSQP",
          "cvxpy | OSQP",
          "cvxpy | OSQP",
          "cvxpy | OSQP",
          "cvxpy | OSQP",
          "cvxpy | OSQP",
          "cvxpy | OSQP",
          "cvxpy | OSQP",
          "cvxpy | OSQP",
          "cvxpy | OSQP",
          "cvxpy | OSQP",
          "cvxpy | OSQP",
          "cvxpy | OSQP",
          "cvxpy | OSQP",
          "cvxpy | OSQP",
          "cvxpy | OSQP",
          "cvxpy | OSQP",
          "cvxpy | OSQP",
          "cvxpy | OSQP",
          "cvxpy | OSQP",
          "cvxpy | OSQP",
          "cvxpy | OSQP",
          "cvxpy | OSQP",
          "cvxpy | OSQP",
          "cvxpy | OSQP",
          "cvxpy | OSQP",
          "cvxpy | OSQP",
          "cvxpy | OSQP",
          "cvxpy | OSQP",
          "cvxpy | OSQP",
          "cvxpy | OSQP",
          "cvxpy | OSQP",
          "cvxpy | OSQP",
          "cvxpy | ECOS",
          "cvxpy | ECOS",
          "cvxpy | ECOS",
          "cvxpy | ECOS",
          "cvxpy | ECOS",
          "cvxpy | ECOS",
          "cvxpy | ECOS",
          "cvxpy | ECOS",
          "cvxpy | ECOS",
          "cvxpy | ECOS",
          "cvxpy | ECOS",
          "cvxpy | ECOS",
          "cvxpy | ECOS",
          "cvxpy | ECOS",
          "cvxpy | ECOS",
          "cvxpy | ECOS",
          "cvxpy | ECOS",
          "cvxpy | ECOS",
          "cvxpy | ECOS",
          "cvxpy | ECOS",
          "cvxpy | ECOS",
          "cvxpy | ECOS",
          "cvxpy | ECOS",
          "cvxpy | ECOS",
          "cvxpy | ECOS",
          "cvxpy | ECOS",
          "cvxpy | ECOS",
          "cvxpy | ECOS",
          "cvxpy | ECOS",
          "cvxpy | ECOS",
          "cvxpy | ECOS",
          "cvxpy | ECOS",
          "cvxpy | ECOS",
          "cvxpy | ECOS",
          "cvxpy | ECOS",
          "cvxpy | ECOS",
          "cvxpy | ECOS",
          "cvxpy | ECOS",
          "cvxpy | ECOS",
          "cvxpy | ECOS",
          "cvxpy | ECOS",
          "cvxpy | ECOS",
          "cvxpy | ECOS",
          "cvxpy | ECOS",
          "cvxpy | ECOS",
          "cvxpy | ECOS",
          "cvxpy | ECOS",
          "cvxpy | ECOS",
          "cvxpy | ECOS",
          "cvxpy | ECOS",
          "cvxpy | ECOS",
          "cvxpy | ECOS",
          "cvxpy | ECOS",
          "cvxpy | ECOS",
          "cvxpy | ECOS",
          "cvxpy | ECOS",
          "cvxpy | ECOS",
          "cvxpy | ECOS",
          "cvxpy | ECOS",
          "cvxpy | ECOS",
          "cvxpy | ECOS",
          "cvxpy | ECOS",
          "cvxpy | ECOS",
          "cvxpy | ECOS",
          "cvxpy | ECOS",
          "cvxpy | ECOS",
          "cvxpy | ECOS",
          "cvxpy | ECOS",
          "cvxpy | ECOS",
          "cvxpy | ECOS",
          "cvxpy | ECOS",
          "cvxpy | ECOS",
          "cvxpy | ECOS",
          "cvxpy | ECOS",
          "cvxpy | ECOS",
          "cvxpy | ECOS",
          "cvxpy | ECOS",
          "cvxpy | ECOS",
          "cvxpy | ECOS",
          "cvxpy | ECOS",
          "cvxpy | ECOS",
          "cvxpy | ECOS",
          "cvxpy | ECOS",
          "cvxpy | ECOS",
          "cvxpy | ECOS",
          "cvxpy | ECOS",
          "cvxpy | ECOS",
          "cvxpy | ECOS",
          "cvxpy | ECOS",
          "cvxpy | ECOS",
          "cvxpy | ECOS",
          "cvxpy | ECOS",
          "cvxpy | ECOS",
          "cvxpy | ECOS",
          "cvxpy | ECOS",
          "cvxpy | ECOS",
          "cvxpy | ECOS",
          "cvxpy | ECOS",
          "cvxpy | ECOS",
          "cvxpy | ECOS",
          "cvxpy | SCS",
          "cvxpy | SCS",
          "cvxpy | SCS",
          "cvxpy | SCS",
          "cvxpy | SCS",
          "cvxpy | SCS",
          "cvxpy | SCS",
          "cvxpy | SCS",
          "cvxpy | SCS",
          "cvxpy | SCS",
          "cvxpy | SCS",
          "cvxpy | SCS",
          "cvxpy | SCS",
          "cvxpy | SCS",
          "cvxpy | SCS",
          "cvxpy | SCS",
          "cvxpy | SCS",
          "cvxpy | SCS",
          "cvxpy | SCS",
          "cvxpy | SCS",
          "cvxpy | SCS",
          "cvxpy | SCS",
          "cvxpy | SCS",
          "cvxpy | SCS",
          "cvxpy | SCS",
          "cvxpy | SCS",
          "cvxpy | SCS",
          "cvxpy | SCS",
          "cvxpy | SCS",
          "cvxpy | SCS",
          "cvxpy | SCS",
          "cvxpy | SCS",
          "cvxpy | SCS",
          "cvxpy | SCS",
          "cvxpy | SCS",
          "cvxpy | SCS",
          "cvxpy | SCS",
          "cvxpy | SCS",
          "cvxpy | SCS",
          "cvxpy | SCS",
          "cvxpy | SCS",
          "cvxpy | SCS",
          "cvxpy | SCS",
          "cvxpy | SCS",
          "cvxpy | SCS",
          "cvxpy | SCS",
          "cvxpy | SCS",
          "cvxpy | SCS",
          "cvxpy | SCS",
          "cvxpy | SCS",
          "cvxpy | SCS",
          "cvxpy | SCS",
          "cvxpy | SCS",
          "cvxpy | SCS",
          "cvxpy | SCS",
          "cvxpy | SCS",
          "cvxpy | SCS",
          "cvxpy | SCS",
          "cvxpy | SCS",
          "cvxpy | SCS",
          "cvxpy | SCS",
          "cvxpy | SCS",
          "cvxpy | SCS",
          "cvxpy | SCS",
          "cvxpy | SCS",
          "cvxpy | SCS",
          "cvxpy | SCS",
          "cvxpy | SCS",
          "cvxpy | SCS",
          "cvxpy | SCS",
          "cvxpy | SCS",
          "cvxpy | SCS",
          "cvxpy | SCS",
          "cvxpy | SCS",
          "cvxpy | SCS",
          "cvxpy | SCS",
          "cvxpy | SCS",
          "cvxpy | SCS",
          "cvxpy | SCS",
          "cvxpy | SCS",
          "cvxpy | SCS",
          "cvxpy | SCS",
          "cvxpy | SCS",
          "cvxpy | SCS",
          "cvxpy | SCS",
          "cvxpy | SCS",
          "cvxpy | SCS",
          "cvxpy | SCS",
          "cvxpy | SCS",
          "cvxpy | SCS",
          "cvxpy | SCS",
          "cvxpy | SCS",
          "cvxpy | SCS",
          "cvxpy | SCS",
          "cvxpy | SCS",
          "cvxpy | SCS",
          "cvxpy | SCS",
          "cvxpy | SCS",
          "cvxpy | SCS",
          "cvxpy | SCS",
          "qpsolver | osqp",
          "qpsolver | osqp",
          "qpsolver | osqp",
          "qpsolver | osqp",
          "qpsolver | osqp",
          "qpsolver | osqp",
          "qpsolver | osqp",
          "qpsolver | osqp",
          "qpsolver | osqp",
          "qpsolver | osqp",
          "qpsolver | osqp",
          "qpsolver | osqp",
          "qpsolver | osqp",
          "qpsolver | osqp",
          "qpsolver | osqp",
          "qpsolver | osqp",
          "qpsolver | osqp",
          "qpsolver | osqp",
          "qpsolver | osqp",
          "qpsolver | osqp",
          "qpsolver | osqp",
          "qpsolver | osqp",
          "qpsolver | osqp",
          "qpsolver | osqp",
          "qpsolver | osqp",
          "qpsolver | osqp",
          "qpsolver | osqp",
          "qpsolver | osqp",
          "qpsolver | osqp",
          "qpsolver | osqp",
          "qpsolver | osqp",
          "qpsolver | osqp",
          "qpsolver | osqp",
          "qpsolver | osqp",
          "qpsolver | osqp",
          "qpsolver | osqp",
          "qpsolver | osqp",
          "qpsolver | osqp",
          "qpsolver | osqp",
          "qpsolver | osqp",
          "qpsolver | osqp",
          "qpsolver | osqp",
          "qpsolver | osqp",
          "qpsolver | osqp",
          "qpsolver | osqp",
          "qpsolver | osqp",
          "qpsolver | osqp",
          "qpsolver | osqp",
          "qpsolver | osqp",
          "qpsolver | osqp",
          "qpsolver | osqp",
          "qpsolver | osqp",
          "qpsolver | osqp",
          "qpsolver | osqp",
          "qpsolver | osqp",
          "qpsolver | osqp",
          "qpsolver | osqp",
          "qpsolver | osqp",
          "qpsolver | osqp",
          "qpsolver | osqp",
          "qpsolver | osqp",
          "qpsolver | osqp",
          "qpsolver | osqp",
          "qpsolver | osqp",
          "qpsolver | osqp",
          "qpsolver | osqp",
          "qpsolver | osqp",
          "qpsolver | osqp",
          "qpsolver | osqp",
          "qpsolver | osqp",
          "qpsolver | osqp",
          "qpsolver | osqp",
          "qpsolver | osqp",
          "qpsolver | osqp",
          "qpsolver | osqp",
          "qpsolver | osqp",
          "qpsolver | osqp",
          "qpsolver | osqp",
          "qpsolver | osqp",
          "qpsolver | osqp",
          "qpsolver | osqp",
          "qpsolver | osqp",
          "qpsolver | osqp",
          "qpsolver | osqp",
          "qpsolver | osqp",
          "qpsolver | osqp",
          "qpsolver | osqp",
          "qpsolver | osqp",
          "qpsolver | osqp",
          "qpsolver | osqp",
          "qpsolver | osqp",
          "qpsolver | osqp",
          "qpsolver | osqp",
          "qpsolver | osqp",
          "qpsolver | osqp",
          "qpsolver | osqp",
          "qpsolver | osqp",
          "qpsolver | osqp",
          "qpsolver | osqp",
          "qpsolver | osqp",
          "qpsolver | ecos",
          "qpsolver | ecos",
          "qpsolver | ecos",
          "qpsolver | ecos",
          "qpsolver | ecos",
          "qpsolver | ecos",
          "qpsolver | ecos",
          "qpsolver | ecos",
          "qpsolver | ecos",
          "qpsolver | ecos",
          "qpsolver | ecos",
          "qpsolver | ecos",
          "qpsolver | ecos",
          "qpsolver | ecos",
          "qpsolver | ecos",
          "qpsolver | ecos",
          "qpsolver | ecos",
          "qpsolver | ecos",
          "qpsolver | ecos",
          "qpsolver | ecos",
          "qpsolver | ecos",
          "qpsolver | ecos",
          "qpsolver | ecos",
          "qpsolver | ecos",
          "qpsolver | ecos",
          "qpsolver | ecos",
          "qpsolver | ecos",
          "qpsolver | ecos",
          "qpsolver | ecos",
          "qpsolver | ecos",
          "qpsolver | ecos",
          "qpsolver | ecos",
          "qpsolver | ecos",
          "qpsolver | ecos",
          "qpsolver | ecos",
          "qpsolver | ecos",
          "qpsolver | ecos",
          "qpsolver | ecos",
          "qpsolver | ecos",
          "qpsolver | ecos",
          "qpsolver | ecos",
          "qpsolver | ecos",
          "qpsolver | ecos",
          "qpsolver | ecos",
          "qpsolver | ecos",
          "qpsolver | ecos",
          "qpsolver | ecos",
          "qpsolver | ecos",
          "qpsolver | ecos",
          "qpsolver | ecos",
          "qpsolver | ecos",
          "qpsolver | ecos",
          "qpsolver | ecos",
          "qpsolver | ecos",
          "qpsolver | ecos",
          "qpsolver | ecos",
          "qpsolver | ecos",
          "qpsolver | ecos",
          "qpsolver | ecos",
          "qpsolver | ecos",
          "qpsolver | ecos",
          "qpsolver | ecos",
          "qpsolver | ecos",
          "qpsolver | ecos",
          "qpsolver | ecos",
          "qpsolver | ecos",
          "qpsolver | ecos",
          "qpsolver | ecos",
          "qpsolver | ecos",
          "qpsolver | ecos",
          "qpsolver | ecos",
          "qpsolver | ecos",
          "qpsolver | ecos",
          "qpsolver | ecos",
          "qpsolver | ecos",
          "qpsolver | ecos",
          "qpsolver | ecos",
          "qpsolver | ecos",
          "qpsolver | ecos",
          "qpsolver | ecos",
          "qpsolver | ecos",
          "qpsolver | ecos",
          "qpsolver | ecos",
          "qpsolver | ecos",
          "qpsolver | ecos",
          "qpsolver | ecos",
          "qpsolver | ecos",
          "qpsolver | ecos",
          "qpsolver | ecos",
          "qpsolver | ecos",
          "qpsolver | ecos",
          "qpsolver | ecos",
          "qpsolver | ecos",
          "qpsolver | ecos",
          "qpsolver | ecos",
          "qpsolver | ecos",
          "qpsolver | ecos",
          "qpsolver | ecos",
          "qpsolver | ecos",
          "qpsolver | ecos",
          "qpsolver | scs",
          "qpsolver | scs",
          "qpsolver | scs",
          "qpsolver | scs",
          "qpsolver | scs",
          "qpsolver | scs",
          "qpsolver | scs",
          "qpsolver | scs",
          "qpsolver | scs",
          "qpsolver | scs",
          "qpsolver | scs",
          "qpsolver | scs",
          "qpsolver | scs",
          "qpsolver | scs",
          "qpsolver | scs",
          "qpsolver | scs",
          "qpsolver | scs",
          "qpsolver | scs",
          "qpsolver | scs",
          "qpsolver | scs",
          "qpsolver | scs",
          "qpsolver | scs",
          "qpsolver | scs",
          "qpsolver | scs",
          "qpsolver | scs",
          "qpsolver | scs",
          "qpsolver | scs",
          "qpsolver | scs",
          "qpsolver | scs",
          "qpsolver | scs",
          "qpsolver | scs",
          "qpsolver | scs",
          "qpsolver | scs",
          "qpsolver | scs",
          "qpsolver | scs",
          "qpsolver | scs",
          "qpsolver | scs",
          "qpsolver | scs",
          "qpsolver | scs",
          "qpsolver | scs",
          "qpsolver | scs",
          "qpsolver | scs",
          "qpsolver | scs",
          "qpsolver | scs",
          "qpsolver | scs",
          "qpsolver | scs",
          "qpsolver | scs",
          "qpsolver | scs",
          "qpsolver | scs",
          "qpsolver | scs",
          "qpsolver | scs",
          "qpsolver | scs",
          "qpsolver | scs",
          "qpsolver | scs",
          "qpsolver | scs",
          "qpsolver | scs",
          "qpsolver | scs",
          "qpsolver | scs",
          "qpsolver | scs",
          "qpsolver | scs",
          "qpsolver | scs",
          "qpsolver | scs",
          "qpsolver | scs",
          "qpsolver | scs",
          "qpsolver | scs",
          "qpsolver | scs",
          "qpsolver | scs",
          "qpsolver | scs",
          "qpsolver | scs",
          "qpsolver | scs",
          "qpsolver | scs",
          "qpsolver | scs",
          "qpsolver | scs",
          "qpsolver | scs",
          "qpsolver | scs",
          "qpsolver | scs",
          "qpsolver | scs",
          "qpsolver | scs",
          "qpsolver | scs",
          "qpsolver | scs",
          "qpsolver | scs",
          "qpsolver | scs",
          "qpsolver | scs",
          "qpsolver | scs",
          "qpsolver | scs",
          "qpsolver | scs",
          "qpsolver | scs",
          "qpsolver | scs",
          "qpsolver | scs",
          "qpsolver | scs",
          "qpsolver | scs",
          "qpsolver | scs",
          "qpsolver | scs",
          "qpsolver | scs",
          "qpsolver | scs",
          "qpsolver | scs",
          "qpsolver | scs",
          "qpsolver | scs",
          "qpsolver | scs",
          "qpsolver | scs",
          "qpsolver | quadprog",
          "qpsolver | quadprog",
          "qpsolver | quadprog",
          "qpsolver | quadprog",
          "qpsolver | quadprog",
          "qpsolver | quadprog",
          "qpsolver | quadprog",
          "qpsolver | quadprog",
          "qpsolver | quadprog",
          "qpsolver | quadprog",
          "qpsolver | quadprog",
          "qpsolver | quadprog",
          "qpsolver | quadprog",
          "qpsolver | quadprog",
          "qpsolver | quadprog",
          "qpsolver | quadprog",
          "qpsolver | quadprog",
          "qpsolver | quadprog",
          "qpsolver | quadprog",
          "qpsolver | quadprog",
          "qpsolver | quadprog",
          "qpsolver | quadprog",
          "qpsolver | quadprog",
          "qpsolver | quadprog",
          "qpsolver | quadprog",
          "qpsolver | quadprog",
          "qpsolver | quadprog",
          "qpsolver | quadprog",
          "qpsolver | quadprog",
          "qpsolver | quadprog",
          "qpsolver | quadprog",
          "qpsolver | quadprog",
          "qpsolver | quadprog",
          "qpsolver | quadprog",
          "qpsolver | quadprog",
          "qpsolver | quadprog",
          "qpsolver | quadprog",
          "qpsolver | quadprog",
          "qpsolver | quadprog",
          "qpsolver | quadprog",
          "qpsolver | quadprog",
          "qpsolver | quadprog",
          "qpsolver | quadprog",
          "qpsolver | quadprog",
          "qpsolver | quadprog",
          "qpsolver | quadprog",
          "qpsolver | quadprog",
          "qpsolver | quadprog",
          "qpsolver | quadprog",
          "qpsolver | quadprog",
          "qpsolver | quadprog",
          "qpsolver | quadprog",
          "qpsolver | quadprog",
          "qpsolver | quadprog",
          "qpsolver | quadprog",
          "qpsolver | quadprog",
          "qpsolver | quadprog",
          "qpsolver | quadprog",
          "qpsolver | quadprog",
          "qpsolver | quadprog",
          "qpsolver | quadprog",
          "qpsolver | quadprog",
          "qpsolver | quadprog",
          "qpsolver | quadprog",
          "qpsolver | quadprog",
          "qpsolver | quadprog",
          "qpsolver | quadprog",
          "qpsolver | quadprog",
          "qpsolver | quadprog",
          "qpsolver | quadprog",
          "qpsolver | quadprog",
          "qpsolver | quadprog",
          "qpsolver | quadprog",
          "qpsolver | quadprog",
          "qpsolver | quadprog",
          "qpsolver | quadprog",
          "qpsolver | quadprog",
          "qpsolver | quadprog",
          "qpsolver | quadprog",
          "qpsolver | quadprog",
          "qpsolver | quadprog",
          "qpsolver | quadprog",
          "qpsolver | quadprog",
          "qpsolver | quadprog",
          "qpsolver | quadprog",
          "qpsolver | quadprog",
          "qpsolver | quadprog",
          "qpsolver | quadprog",
          "qpsolver | quadprog",
          "qpsolver | quadprog",
          "qpsolver | quadprog",
          "qpsolver | quadprog",
          "qpsolver | quadprog",
          "qpsolver | quadprog",
          "qpsolver | quadprog",
          "qpsolver | quadprog",
          "qpsolver | quadprog",
          "qpsolver | quadprog",
          "qpsolver | quadprog",
          "qpsolver | quadprog"
         ],
         "x0": " ",
         "xaxis": "x",
         "y": [
          0.0947558879852294,
          0.0197181701660156,
          0.0435929298400878,
          0.0399942398071289,
          0.0286457538604736,
          0.0391743183135986,
          0.0372228622436523,
          0.0308170318603515,
          0.0603821277618408,
          0.0133981704711914,
          0.0725278854370117,
          0.0111749172210693,
          0.0727758407592773,
          0.0582442283630371,
          0.07401704788208,
          0.0303359031677246,
          0.0074951648712158,
          0.051232099533081,
          0.0146288871765136,
          0.0706140995025634,
          0.0366039276123046,
          0.0358343124389648,
          0.0627782344818115,
          0.055513858795166,
          0.0787851810455322,
          0.0191190242767334,
          0.0470950603485107,
          0.0600571632385253,
          0.0545918941497802,
          0.0653131008148193,
          0.0491809844970703,
          0.0417728424072265,
          0.0135631561279296,
          0.0676238536834716,
          0.1018590927124023,
          0.1041269302368164,
          0.1110210418701171,
          0.1134231090545654,
          0.1132171154022216,
          0.1137840747833252,
          0.1183748245239257,
          0.1218588352203369,
          0.140439748764038,
          0.1417210102081298,
          0.143909215927124,
          0.1444859504699707,
          0.1442141532897949,
          0.1496031284332275,
          0.1533491611480713,
          0.1525099277496338,
          0.1529819965362548,
          0.1592340469360351,
          0.1603367328643798,
          0.1629290580749511,
          0.1606819629669189,
          0.1630141735076904,
          0.1717729568481445,
          0.1676857471466064,
          0.1674690246582031,
          0.1724770069122314,
          0.1710717678070068,
          0.1726489067077636,
          0.1734850406646728,
          0.1709651947021484,
          0.1715977191925048,
          0.1743240356445312,
          0.1744759082794189,
          0.1765189170837402,
          0.1786611080169677,
          0.1807429790496826,
          0.1827530860900879,
          0.1899850368499755,
          0.190335988998413,
          0.1949601173400879,
          0.1962511539459228,
          0.198195219039917,
          0.1990468502044677,
          0.2018468379974365,
          0.2007737159729004,
          0.2015881538391113,
          0.2053909301757812,
          0.2038710117340088,
          0.2121520042419433,
          0.2068359851837158,
          0.208899974822998,
          0.2103121280670166,
          0.2148089408874511,
          0.2160320281982422,
          0.2201240062713623,
          0.2207212448120117,
          0.2238011360168457,
          0.211871862411499,
          0.2268571853637695,
          0.2140331268310547,
          0.2179226875305175,
          0.2240798473358154,
          0.2433400154113769,
          0.2284739017486572,
          0.2282691001892089,
          0.2288849353790283,
          0.0132689476013183,
          0.0569269657135009,
          0.0115358829498291,
          0.0334689617156982,
          0.0758929252624511,
          0.0117328166961669,
          0.0470526218414306,
          0.0455513000488281,
          0.0639810562133789,
          0.0219581127166748,
          0.0538749694824218,
          0.0861179828643798,
          0.0342998504638671,
          0.0170240402221679,
          0.0835461616516113,
          0.0241179466247558,
          0.0040161609649658,
          0.0179178714752197,
          0.0943779945373535,
          0.0777828693389892,
          0.0832529067993164,
          0.0487678050994873,
          0.0210058689117431,
          0.032801866531372,
          0.06703782081604,
          0.0558369159698486,
          0.0595459938049316,
          0.0304329395294189,
          0.0892400741577148,
          0.0345211029052734,
          0.0552682876586914,
          0.0408875942230224,
          0.0707721710205078,
          0.0181303024291992,
          0.0266990661621093,
          0.0038270950317382,
          0.0078902244567871,
          0.07790207862854,
          0.0383901596069335,
          0.1001229286193847,
          0.1026480197906494,
          0.1051061153411865,
          0.1107878684997558,
          0.1156632900238037,
          0.1166980266571044,
          0.1231303215026855,
          0.1200733184814453,
          0.1213119029998779,
          0.1245250701904296,
          0.1376702785491943,
          0.1542432308197021,
          0.1578919887542724,
          0.1614670753479004,
          0.1617491245269775,
          0.165266752243042,
          0.1654441356658935,
          0.174710988998413,
          0.1765799522399902,
          0.1769049167633056,
          0.1768391132354736,
          0.1798169612884521,
          0.1770758628845214,
          0.1806449890136718,
          0.1809430122375488,
          0.1902179718017578,
          0.1871607303619384,
          0.191180944442749,
          0.1920669078826904,
          0.1956391334533691,
          0.1992909908294677,
          0.2029330730438232,
          0.209439992904663,
          0.214473009109497,
          0.2153122425079345,
          0.2186930179595947,
          0.2238280773162841,
          0.2298541069030761,
          0.2374610900878906,
          0.2315409183502197,
          0.2337889671325683,
          0.2456040382385254,
          0.2374260425567627,
          0.238671064376831,
          0.2408020496368408,
          0.2507638931274414,
          0.2508549690246582,
          0.2482140064239502,
          0.2478289604187011,
          0.2504529953002929,
          0.2521378993988037,
          0.2506706714630127,
          0.2543618679046631,
          0.2581110000610351,
          0.2613520622253418,
          0.2655818462371826,
          0.2689409255981445,
          0.2804818153381347,
          0.275515079498291,
          0.277559757232666,
          0.2792708873748779,
          0.0674552917480468,
          0.1061601638793945,
          0.076658010482788,
          0.0807089805603027,
          0.0491950511932373,
          0.0701360702514648,
          0.0262153148651123,
          0.0290427207946777,
          0.0190770626068115,
          0.1113312244415283,
          0.0382499694824218,
          0.1140551567077636,
          0.0212769508361816,
          0.1031768321990966,
          0.0190508365631103,
          0.0366327762603759,
          0.0599811077117919,
          0.1295549869537353,
          0.1319191455841064,
          0.0906691551208496,
          0.0751512050628662,
          0.0688049793243408,
          0.0929222106933593,
          0.0214679241180419,
          0.1355609893798828,
          0.1297519207000732,
          0.1300170421600341,
          0.1394019126892089,
          0.1523761749267578,
          0.1508347988128662,
          0.1522700786590576,
          0.1643331050872802,
          0.16829514503479,
          0.1699368953704834,
          0.1785559654235839,
          0.1955931186676025,
          0.1925210952758789,
          0.1971309185028076,
          0.2020239830017089,
          0.2041771411895752,
          0.2017138004302978,
          0.2163739204406738,
          0.2167270183563232,
          0.21675705909729,
          0.2181348800659179,
          0.2203338146209716,
          0.2261190414428711,
          0.2329800128936767,
          0.2388410568237304,
          0.2384619712829589,
          0.2463748455047607,
          0.2490999698638916,
          0.2428979873657226,
          0.2452616691589355,
          0.2506759166717529,
          0.2536098957061767,
          0.261613130569458,
          0.2598791122436523,
          0.2643370628356933,
          0.2624068260192871,
          0.2755110263824463,
          0.274799108505249,
          0.2786598205566406,
          0.2824990749359131,
          0.2876942157745361,
          0.2839627265930176,
          0.2886788845062256,
          0.2866718769073486,
          0.2906968593597412,
          0.2965819835662842,
          0.3017029762268066,
          0.3018360137939453,
          0.3114852905273437,
          0.316025972366333,
          0.3191051483154297,
          0.3251357078552246,
          0.3256847858428955,
          0.3336739540100097,
          0.325920820236206,
          0.3329598903656006,
          0.3414690494537353,
          0.3430819511413574,
          0.3449082374572754,
          0.3405280113220215,
          0.3472511768341064,
          0.355539321899414,
          0.3584797382354736,
          0.3676099777221679,
          0.3666808605194092,
          0.3713071346282959,
          0.3715131282806396,
          0.3677051067352295,
          0.379040002822876,
          0.3815217018127441,
          0.387078046798706,
          0.3744921684265136,
          0.3789129257202148,
          0.382098913192749,
          0.3861401081085205,
          0.3876590728759765,
          0.0042080879211425,
          0.0056869983673095,
          0.0065956115722656,
          0.0095181465148925,
          0.009235143661499,
          0.0088376998901367,
          0.0051229000091552,
          0.0029158592224121,
          0.0026910305023193,
          0.0139162540435791,
          0.0069930553436279,
          0.0024261474609375,
          0.0116426944732666,
          0.0014610290527343,
          0.0094850063323974,
          0.0051712989807128,
          0.0162372589111328,
          0.0063352584838867,
          0.0059549808502197,
          0.0126199722290039,
          0.002432107925415,
          0.0019621849060058,
          0.0081763267517089,
          0.0100998878479003,
          0.0012762546539306,
          0.0039370059967041,
          0.0131862163543701,
          0.0090749263763427,
          0.003396987915039,
          0.0089831352233886,
          0.0127959251403808,
          0.0120658874511718,
          0.0007808208465576,
          0.0075290203094482,
          0.0036709308624267,
          0.0006079673767089,
          0.0067813396453857,
          0.0047278404235839,
          0.0043220520019531,
          0.0074160099029541,
          0.0062761306762695,
          0.0100140571594238,
          0.0156311988830566,
          0.003831148147583,
          0.0074739456176757,
          0.0065898895263671,
          0.0009536743164062,
          0.0062959194183349,
          0.0038871765136718,
          0.0184221267700195,
          0.0108637809753417,
          0.0027163028717041,
          0.0040020942687988,
          0.0082650184631347,
          0.0011019706726074,
          0.005436897277832,
          0.0179362297058105,
          0.0016961097717285,
          0.0043120384216308,
          0.0193691253662109,
          0.0066080093383789,
          0.016387939453125,
          0.00816011428833,
          0.0099949836730957,
          0.0119502544403076,
          0.0012059211730957,
          0.02195405960083,
          0.0086879730224609,
          0.0007669925689697,
          0.0032050609588623,
          0.0141127109527587,
          0.0089352130889892,
          0.0081598758697509,
          0.010869026184082,
          0.0227420330047607,
          0.017698049545288,
          0.0119478702545166,
          0.0214409828186035,
          0.0079119205474853,
          0.0125818252563476,
          0.0079338550567626,
          0.0123279094696044,
          0.0093669891357421,
          0.0131514072418212,
          0.0083568096160888,
          0.0207080841064453,
          0.0079798698425292,
          0.0208971500396728,
          0.0101909637451171,
          0.0180401802062988,
          0.0100710391998291,
          0.0136778354644775,
          0.0057191848754882,
          0.0082528591156005,
          0.0100030899047851,
          0.0185670852661132,
          0.0205979347229003,
          0.0146276950836181,
          0.0268490314483642,
          0.0238232612609863,
          0.0054361820220947,
          0.016028881072998,
          0.0066690444946289,
          0.0034351348876953,
          0.0005989074707031,
          0.0138080120086669,
          0.0169951915740966,
          0.010110855102539,
          0.0166559219360351,
          0.0057992935180664,
          0.0012269020080566,
          0.0112209320068359,
          0.018481969833374,
          0.0020151138305664,
          0.0038897991180419,
          0.0151059627532958,
          0.0172569751739501,
          0.0076479911804199,
          0.0021400451660156,
          0.0060832500457763,
          0.0080273151397705,
          0.006800889968872,
          0.0009000301361083,
          0.0045697689056396,
          0.0085151195526123,
          0.0121691226959228,
          0.0137789249420166,
          0.0097217559814453,
          0.0062611103057861,
          0.0132369995117187,
          0.0041310787200927,
          0.0011258125305175,
          0.0131671428680419,
          0.0106759071350097,
          0.0200791358947753,
          0.0033087730407714,
          0.0125172138214111,
          0.0150260925292968,
          0.0121641159057617,
          0.0142168998718261,
          0.0016193389892578,
          0.006948709487915,
          0.0163829326629638,
          0.0038540363311767,
          0.0201311111450195,
          0.0119690895080566,
          0.0095221996307373,
          0.0093588829040527,
          0.0121321678161621,
          0.0063860416412353,
          0.011178970336914,
          0.0014209747314453,
          0.0077848434448242,
          0.0048909187316894,
          0.0070881843566894,
          0.0023298263549804,
          0.0026490688323974,
          0.0070929527282714,
          0.0132818222045898,
          0.0122649669647216,
          0.0053241252899169,
          0.0099067687988281,
          0.0114178657531738,
          0.0132148265838623,
          0.0082607269287109,
          0.0123970508575439,
          0.0148761272430419,
          0.0177769660949707,
          0.0005679130554199,
          0.0090878009796142,
          0.0207941532135009,
          0.0040340423583984,
          0.0181853771209716,
          0.0121970176696777,
          0.023292064666748,
          0.0189630985260009,
          0.020946979522705,
          0.0212311744689941,
          0.016514778137207,
          0.019888162612915,
          0.0176470279693603,
          0.0218119621276855,
          0.0183758735656738,
          0.0190978050231933,
          0.0421969890594482,
          0.0300328731536865,
          0.0219330787658691,
          0.0219430923461914,
          0.0192818641662597,
          0.0203230381011962,
          0.027001142501831,
          0.027811050415039,
          0.0254518985748291,
          0.0266079902648925,
          0.0059599876403808,
          0.0237541198730468,
          0.005821943283081,
          0.0256977081298828,
          0.0240840911865234,
          0.0097057819366455,
          0.0122129917144775,
          0.0099627971649169,
          0.0091431140899658,
          0.005202293395996,
          0.0021560192108154,
          0.0038690567016601,
          0.0071978569030761,
          0.0061581134796142,
          0.0021829605102539,
          0.0146000385284423,
          0.0079512596130371,
          0.0078520774841308,
          0.0146989822387695,
          0.0077080726623535,
          0.007944107055664,
          0.0021541118621826,
          0.0086019039154052,
          0.002465009689331,
          0.00874924659729,
          0.0032470226287841,
          0.0015180110931396,
          0.0062217712402343,
          0.0093390941619873,
          0.0062329769134521,
          0.0064589977264404,
          0.008862018585205,
          0.0015389919281005,
          0.0039501190185546,
          0.0069067478179931,
          0.0029819011688232,
          0.0032148361206054,
          0.0028789043426513,
          0.0040171146392822,
          0.0043861865997314,
          0.0118811130523681,
          0.0038573741912841,
          0.0075998306274414,
          0.0023210048675537,
          0.0038280487060546,
          0.0081532001495361,
          0.0039310455322265,
          0.0143892765045166,
          0.0052230358123779,
          0.009153127670288,
          0.0136241912841796,
          0.0016157627105712,
          0.0027830600738525,
          0.0083038806915283,
          0.003415822982788,
          0.0054309368133544,
          0.0026938915252685,
          0.0073270797729492,
          0.0088100433349609,
          0.0117628574371337,
          0.0082738399505615,
          0.0021817684173583,
          0.0058910846710205,
          0.0091829299926757,
          0.0166828632354736,
          0.0076689720153808,
          0.0053739547729492,
          0.0029220581054687,
          0.0033240318298339,
          0.0025901794433593,
          0.0035541057586669,
          0.0024776458740234,
          0.0038812160491943,
          0.00868821144104,
          0.0057830810546875,
          0.002885103225708,
          0.0140738487243652,
          0.0121190547943115,
          0.0163087844848632,
          0.0065672397613525,
          0.0114531517028808,
          0.0110640525817871,
          0.0171990394592285,
          0.0131199359893798,
          0.0125970840454101,
          0.0068399906158447,
          0.0069081783294677,
          0.0116717815399169,
          0.0054149627685546,
          0.0122950077056884,
          0.0027811527252197,
          0.0059571266174316,
          0.0083179473876953,
          0.0148417949676513,
          0.0146510601043701,
          0.0043671131134033,
          0.023310899734497,
          0.0066919326782226,
          0.0230369567871093,
          0.0309531688690185,
          0.0096330642700195,
          0.012847900390625,
          0.0092458724975585,
          0.0100347995758056,
          0.017223834991455,
          0.0327229499816894,
          0.0002658367156982,
          0.00008320808410644531,
          0.00004315376281738281,
          0.000029087066650390625,
          0.00003719329833984375,
          0.0004420280456542,
          0.000572919845581,
          0.0003418922424316,
          0.00003504753112792969,
          0.0000591278076171875,
          0.00004506111145019531,
          0.0004580020904541,
          0.0007848739624023,
          0.0000247955322265625,
          0.00006318092346191406,
          0.0001478195190429,
          0.0001420974731445,
          0.000030040740966796875,
          0.000025033950805664062,
          0.0003862380981445,
          0.000209093093872,
          0.0001130104064941,
          0.000031948089599609375,
          0.0007140636444091,
          0.000051021575927734375,
          0.0002467632293701,
          0.0008590221405029,
          0.000033855438232421875,
          0.0005879402160644,
          0.0001969337463378,
          0.00003504753112792969,
          0.00006389617919921875,
          0.0007998943328857,
          0.00006914138793945312,
          0.0017611980438232,
          0.00002813339233398437,
          0.00006914138793945312,
          0.0003368854522705,
          0.0002520084381103,
          0.000033855438232421875,
          0.0003299713134765,
          0.00004601478576660156,
          0.000057220458984375,
          0.00002384185791015625,
          0.00007581710815429688,
          0.00003910064697265625,
          0.00003409385681152344,
          0.00006198883056640625,
          0.00006079673767089844,
          0.000533103942871,
          0.0027410984039306,
          0.00004506111145019531,
          0.00002694129943847656,
          0.000025033950805664062,
          0.00002312660217285156,
          0.00003790855407714844,
          0.0014572143554687,
          0.00002694129943847656,
          0.000032901763916015625,
          0.0012931823730468,
          0.0013997554779052,
          0.0004510879516601,
          0.000031948089599609375,
          0.000022172927856445312,
          0.000026702880859375,
          0.00006580352783203125,
          0.0000667572021484375,
          0.00002193450927734375,
          0.00002288818359375,
          0.0002579689025878,
          0.000027179718017578125,
          0.00004792213439941406,
          0.0014448165893554,
          0.000029087066650390625,
          0.0007092952728271,
          0.0005378723144531,
          0.000032901763916015625,
          0.0002260208129882,
          0.00004887580871582031,
          0.00003027915954589844,
          0.0010030269622802,
          0.00006198883056640625,
          0.0001800060272216,
          0.000019788742065429688,
          0.0006189346313476,
          0.000025033950805664062,
          0.00005793571472167969,
          0.00006222724914550781,
          0.0008208751678466,
          0.000026702880859375,
          0.0002999305725097,
          0.002263069152832,
          0.000561237335205,
          0.00004029273986816406,
          0.0039808750152587,
          0.00007486343383789062,
          0.00005507469177246094,
          0.00003409385681152344,
          0.0021350383758544,
          0.0037500858306884
         ],
         "y0": " ",
         "yaxis": "y"
        }
       ],
       "layout": {
        "boxmode": "group",
        "legend": {
         "tracegroupgap": 0
        },
        "margin": {
         "t": 60
        },
        "template": {
         "data": {
          "bar": [
           {
            "error_x": {
             "color": "#2a3f5f"
            },
            "error_y": {
             "color": "#2a3f5f"
            },
            "marker": {
             "line": {
              "color": "#E5ECF6",
              "width": 0.5
             },
             "pattern": {
              "fillmode": "overlay",
              "size": 10,
              "solidity": 0.2
             }
            },
            "type": "bar"
           }
          ],
          "barpolar": [
           {
            "marker": {
             "line": {
              "color": "#E5ECF6",
              "width": 0.5
             },
             "pattern": {
              "fillmode": "overlay",
              "size": 10,
              "solidity": 0.2
             }
            },
            "type": "barpolar"
           }
          ],
          "carpet": [
           {
            "aaxis": {
             "endlinecolor": "#2a3f5f",
             "gridcolor": "white",
             "linecolor": "white",
             "minorgridcolor": "white",
             "startlinecolor": "#2a3f5f"
            },
            "baxis": {
             "endlinecolor": "#2a3f5f",
             "gridcolor": "white",
             "linecolor": "white",
             "minorgridcolor": "white",
             "startlinecolor": "#2a3f5f"
            },
            "type": "carpet"
           }
          ],
          "choropleth": [
           {
            "colorbar": {
             "outlinewidth": 0,
             "ticks": ""
            },
            "type": "choropleth"
           }
          ],
          "contour": [
           {
            "colorbar": {
             "outlinewidth": 0,
             "ticks": ""
            },
            "colorscale": [
             [
              0,
              "#0d0887"
             ],
             [
              0.1111111111111111,
              "#46039f"
             ],
             [
              0.2222222222222222,
              "#7201a8"
             ],
             [
              0.3333333333333333,
              "#9c179e"
             ],
             [
              0.4444444444444444,
              "#bd3786"
             ],
             [
              0.5555555555555556,
              "#d8576b"
             ],
             [
              0.6666666666666666,
              "#ed7953"
             ],
             [
              0.7777777777777778,
              "#fb9f3a"
             ],
             [
              0.8888888888888888,
              "#fdca26"
             ],
             [
              1,
              "#f0f921"
             ]
            ],
            "type": "contour"
           }
          ],
          "contourcarpet": [
           {
            "colorbar": {
             "outlinewidth": 0,
             "ticks": ""
            },
            "type": "contourcarpet"
           }
          ],
          "heatmap": [
           {
            "colorbar": {
             "outlinewidth": 0,
             "ticks": ""
            },
            "colorscale": [
             [
              0,
              "#0d0887"
             ],
             [
              0.1111111111111111,
              "#46039f"
             ],
             [
              0.2222222222222222,
              "#7201a8"
             ],
             [
              0.3333333333333333,
              "#9c179e"
             ],
             [
              0.4444444444444444,
              "#bd3786"
             ],
             [
              0.5555555555555556,
              "#d8576b"
             ],
             [
              0.6666666666666666,
              "#ed7953"
             ],
             [
              0.7777777777777778,
              "#fb9f3a"
             ],
             [
              0.8888888888888888,
              "#fdca26"
             ],
             [
              1,
              "#f0f921"
             ]
            ],
            "type": "heatmap"
           }
          ],
          "heatmapgl": [
           {
            "colorbar": {
             "outlinewidth": 0,
             "ticks": ""
            },
            "colorscale": [
             [
              0,
              "#0d0887"
             ],
             [
              0.1111111111111111,
              "#46039f"
             ],
             [
              0.2222222222222222,
              "#7201a8"
             ],
             [
              0.3333333333333333,
              "#9c179e"
             ],
             [
              0.4444444444444444,
              "#bd3786"
             ],
             [
              0.5555555555555556,
              "#d8576b"
             ],
             [
              0.6666666666666666,
              "#ed7953"
             ],
             [
              0.7777777777777778,
              "#fb9f3a"
             ],
             [
              0.8888888888888888,
              "#fdca26"
             ],
             [
              1,
              "#f0f921"
             ]
            ],
            "type": "heatmapgl"
           }
          ],
          "histogram": [
           {
            "marker": {
             "pattern": {
              "fillmode": "overlay",
              "size": 10,
              "solidity": 0.2
             }
            },
            "type": "histogram"
           }
          ],
          "histogram2d": [
           {
            "colorbar": {
             "outlinewidth": 0,
             "ticks": ""
            },
            "colorscale": [
             [
              0,
              "#0d0887"
             ],
             [
              0.1111111111111111,
              "#46039f"
             ],
             [
              0.2222222222222222,
              "#7201a8"
             ],
             [
              0.3333333333333333,
              "#9c179e"
             ],
             [
              0.4444444444444444,
              "#bd3786"
             ],
             [
              0.5555555555555556,
              "#d8576b"
             ],
             [
              0.6666666666666666,
              "#ed7953"
             ],
             [
              0.7777777777777778,
              "#fb9f3a"
             ],
             [
              0.8888888888888888,
              "#fdca26"
             ],
             [
              1,
              "#f0f921"
             ]
            ],
            "type": "histogram2d"
           }
          ],
          "histogram2dcontour": [
           {
            "colorbar": {
             "outlinewidth": 0,
             "ticks": ""
            },
            "colorscale": [
             [
              0,
              "#0d0887"
             ],
             [
              0.1111111111111111,
              "#46039f"
             ],
             [
              0.2222222222222222,
              "#7201a8"
             ],
             [
              0.3333333333333333,
              "#9c179e"
             ],
             [
              0.4444444444444444,
              "#bd3786"
             ],
             [
              0.5555555555555556,
              "#d8576b"
             ],
             [
              0.6666666666666666,
              "#ed7953"
             ],
             [
              0.7777777777777778,
              "#fb9f3a"
             ],
             [
              0.8888888888888888,
              "#fdca26"
             ],
             [
              1,
              "#f0f921"
             ]
            ],
            "type": "histogram2dcontour"
           }
          ],
          "mesh3d": [
           {
            "colorbar": {
             "outlinewidth": 0,
             "ticks": ""
            },
            "type": "mesh3d"
           }
          ],
          "parcoords": [
           {
            "line": {
             "colorbar": {
              "outlinewidth": 0,
              "ticks": ""
             }
            },
            "type": "parcoords"
           }
          ],
          "pie": [
           {
            "automargin": true,
            "type": "pie"
           }
          ],
          "scatter": [
           {
            "fillpattern": {
             "fillmode": "overlay",
             "size": 10,
             "solidity": 0.2
            },
            "type": "scatter"
           }
          ],
          "scatter3d": [
           {
            "line": {
             "colorbar": {
              "outlinewidth": 0,
              "ticks": ""
             }
            },
            "marker": {
             "colorbar": {
              "outlinewidth": 0,
              "ticks": ""
             }
            },
            "type": "scatter3d"
           }
          ],
          "scattercarpet": [
           {
            "marker": {
             "colorbar": {
              "outlinewidth": 0,
              "ticks": ""
             }
            },
            "type": "scattercarpet"
           }
          ],
          "scattergeo": [
           {
            "marker": {
             "colorbar": {
              "outlinewidth": 0,
              "ticks": ""
             }
            },
            "type": "scattergeo"
           }
          ],
          "scattergl": [
           {
            "marker": {
             "colorbar": {
              "outlinewidth": 0,
              "ticks": ""
             }
            },
            "type": "scattergl"
           }
          ],
          "scattermapbox": [
           {
            "marker": {
             "colorbar": {
              "outlinewidth": 0,
              "ticks": ""
             }
            },
            "type": "scattermapbox"
           }
          ],
          "scatterpolar": [
           {
            "marker": {
             "colorbar": {
              "outlinewidth": 0,
              "ticks": ""
             }
            },
            "type": "scatterpolar"
           }
          ],
          "scatterpolargl": [
           {
            "marker": {
             "colorbar": {
              "outlinewidth": 0,
              "ticks": ""
             }
            },
            "type": "scatterpolargl"
           }
          ],
          "scatterternary": [
           {
            "marker": {
             "colorbar": {
              "outlinewidth": 0,
              "ticks": ""
             }
            },
            "type": "scatterternary"
           }
          ],
          "surface": [
           {
            "colorbar": {
             "outlinewidth": 0,
             "ticks": ""
            },
            "colorscale": [
             [
              0,
              "#0d0887"
             ],
             [
              0.1111111111111111,
              "#46039f"
             ],
             [
              0.2222222222222222,
              "#7201a8"
             ],
             [
              0.3333333333333333,
              "#9c179e"
             ],
             [
              0.4444444444444444,
              "#bd3786"
             ],
             [
              0.5555555555555556,
              "#d8576b"
             ],
             [
              0.6666666666666666,
              "#ed7953"
             ],
             [
              0.7777777777777778,
              "#fb9f3a"
             ],
             [
              0.8888888888888888,
              "#fdca26"
             ],
             [
              1,
              "#f0f921"
             ]
            ],
            "type": "surface"
           }
          ],
          "table": [
           {
            "cells": {
             "fill": {
              "color": "#EBF0F8"
             },
             "line": {
              "color": "white"
             }
            },
            "header": {
             "fill": {
              "color": "#C8D4E3"
             },
             "line": {
              "color": "white"
             }
            },
            "type": "table"
           }
          ]
         },
         "layout": {
          "annotationdefaults": {
           "arrowcolor": "#2a3f5f",
           "arrowhead": 0,
           "arrowwidth": 1
          },
          "autotypenumbers": "strict",
          "coloraxis": {
           "colorbar": {
            "outlinewidth": 0,
            "ticks": ""
           }
          },
          "colorscale": {
           "diverging": [
            [
             0,
             "#8e0152"
            ],
            [
             0.1,
             "#c51b7d"
            ],
            [
             0.2,
             "#de77ae"
            ],
            [
             0.3,
             "#f1b6da"
            ],
            [
             0.4,
             "#fde0ef"
            ],
            [
             0.5,
             "#f7f7f7"
            ],
            [
             0.6,
             "#e6f5d0"
            ],
            [
             0.7,
             "#b8e186"
            ],
            [
             0.8,
             "#7fbc41"
            ],
            [
             0.9,
             "#4d9221"
            ],
            [
             1,
             "#276419"
            ]
           ],
           "sequential": [
            [
             0,
             "#0d0887"
            ],
            [
             0.1111111111111111,
             "#46039f"
            ],
            [
             0.2222222222222222,
             "#7201a8"
            ],
            [
             0.3333333333333333,
             "#9c179e"
            ],
            [
             0.4444444444444444,
             "#bd3786"
            ],
            [
             0.5555555555555556,
             "#d8576b"
            ],
            [
             0.6666666666666666,
             "#ed7953"
            ],
            [
             0.7777777777777778,
             "#fb9f3a"
            ],
            [
             0.8888888888888888,
             "#fdca26"
            ],
            [
             1,
             "#f0f921"
            ]
           ],
           "sequentialminus": [
            [
             0,
             "#0d0887"
            ],
            [
             0.1111111111111111,
             "#46039f"
            ],
            [
             0.2222222222222222,
             "#7201a8"
            ],
            [
             0.3333333333333333,
             "#9c179e"
            ],
            [
             0.4444444444444444,
             "#bd3786"
            ],
            [
             0.5555555555555556,
             "#d8576b"
            ],
            [
             0.6666666666666666,
             "#ed7953"
            ],
            [
             0.7777777777777778,
             "#fb9f3a"
            ],
            [
             0.8888888888888888,
             "#fdca26"
            ],
            [
             1,
             "#f0f921"
            ]
           ]
          },
          "colorway": [
           "#636efa",
           "#EF553B",
           "#00cc96",
           "#ab63fa",
           "#FFA15A",
           "#19d3f3",
           "#FF6692",
           "#B6E880",
           "#FF97FF",
           "#FECB52"
          ],
          "font": {
           "color": "#2a3f5f"
          },
          "geo": {
           "bgcolor": "white",
           "lakecolor": "white",
           "landcolor": "#E5ECF6",
           "showlakes": true,
           "showland": true,
           "subunitcolor": "white"
          },
          "hoverlabel": {
           "align": "left"
          },
          "hovermode": "closest",
          "mapbox": {
           "style": "light"
          },
          "paper_bgcolor": "white",
          "plot_bgcolor": "#E5ECF6",
          "polar": {
           "angularaxis": {
            "gridcolor": "white",
            "linecolor": "white",
            "ticks": ""
           },
           "bgcolor": "#E5ECF6",
           "radialaxis": {
            "gridcolor": "white",
            "linecolor": "white",
            "ticks": ""
           }
          },
          "scene": {
           "xaxis": {
            "backgroundcolor": "#E5ECF6",
            "gridcolor": "white",
            "gridwidth": 2,
            "linecolor": "white",
            "showbackground": true,
            "ticks": "",
            "zerolinecolor": "white"
           },
           "yaxis": {
            "backgroundcolor": "#E5ECF6",
            "gridcolor": "white",
            "gridwidth": 2,
            "linecolor": "white",
            "showbackground": true,
            "ticks": "",
            "zerolinecolor": "white"
           },
           "zaxis": {
            "backgroundcolor": "#E5ECF6",
            "gridcolor": "white",
            "gridwidth": 2,
            "linecolor": "white",
            "showbackground": true,
            "ticks": "",
            "zerolinecolor": "white"
           }
          },
          "shapedefaults": {
           "line": {
            "color": "#2a3f5f"
           }
          },
          "ternary": {
           "aaxis": {
            "gridcolor": "white",
            "linecolor": "white",
            "ticks": ""
           },
           "baxis": {
            "gridcolor": "white",
            "linecolor": "white",
            "ticks": ""
           },
           "bgcolor": "#E5ECF6",
           "caxis": {
            "gridcolor": "white",
            "linecolor": "white",
            "ticks": ""
           }
          },
          "title": {
           "x": 0.05
          },
          "xaxis": {
           "automargin": true,
           "gridcolor": "white",
           "linecolor": "white",
           "ticks": "",
           "title": {
            "standoff": 15
           },
           "zerolinecolor": "white",
           "zerolinewidth": 2
          },
          "yaxis": {
           "automargin": true,
           "gridcolor": "white",
           "linecolor": "white",
           "ticks": "",
           "title": {
            "standoff": 15
           },
           "zerolinecolor": "white",
           "zerolinewidth": 2
          }
         }
        },
        "xaxis": {
         "anchor": "y",
         "domain": [
          0,
          1
         ],
         "title": {
          "text": "Package | Solver Combo"
         }
        },
        "yaxis": {
         "anchor": "x",
         "domain": [
          0,
          1
         ],
         "title": {
          "text": "Time"
         }
        }
       }
      }
     },
     "metadata": {},
     "output_type": "display_data"
    },
    {
     "name": "stdout",
     "output_type": "stream",
     "text": [
      "numbAssets=2 numbOrders=500\n"
     ]
    },
    {
     "data": {
      "application/vnd.plotly.v1+json": {
       "config": {
        "plotlyServerURL": "https://plot.ly"
       },
       "data": [
        {
         "alignmentgroup": "True",
         "hovertemplate": "Package | Solver Combo=%{x}<br>Time=%{y}<extra></extra>",
         "legendgroup": "",
         "marker": {
          "color": "#636efa"
         },
         "name": "",
         "notched": false,
         "offsetgroup": "",
         "orientation": "v",
         "showlegend": false,
         "type": "box",
         "x": [
          "cvxpy | OSQP",
          "cvxpy | OSQP",
          "cvxpy | OSQP",
          "cvxpy | OSQP",
          "cvxpy | OSQP",
          "cvxpy | OSQP",
          "cvxpy | OSQP",
          "cvxpy | OSQP",
          "cvxpy | OSQP",
          "cvxpy | OSQP",
          "cvxpy | OSQP",
          "cvxpy | OSQP",
          "cvxpy | OSQP",
          "cvxpy | OSQP",
          "cvxpy | OSQP",
          "cvxpy | OSQP",
          "cvxpy | OSQP",
          "cvxpy | OSQP",
          "cvxpy | OSQP",
          "cvxpy | OSQP",
          "cvxpy | OSQP",
          "cvxpy | OSQP",
          "cvxpy | OSQP",
          "cvxpy | OSQP",
          "cvxpy | OSQP",
          "cvxpy | OSQP",
          "cvxpy | OSQP",
          "cvxpy | OSQP",
          "cvxpy | OSQP",
          "cvxpy | OSQP",
          "cvxpy | OSQP",
          "cvxpy | OSQP",
          "cvxpy | OSQP",
          "cvxpy | OSQP",
          "cvxpy | OSQP",
          "cvxpy | OSQP",
          "cvxpy | OSQP",
          "cvxpy | OSQP",
          "cvxpy | OSQP",
          "cvxpy | OSQP",
          "cvxpy | OSQP",
          "cvxpy | OSQP",
          "cvxpy | OSQP",
          "cvxpy | OSQP",
          "cvxpy | OSQP",
          "cvxpy | OSQP",
          "cvxpy | OSQP",
          "cvxpy | OSQP",
          "cvxpy | OSQP",
          "cvxpy | OSQP",
          "cvxpy | OSQP",
          "cvxpy | OSQP",
          "cvxpy | OSQP",
          "cvxpy | OSQP",
          "cvxpy | OSQP",
          "cvxpy | OSQP",
          "cvxpy | OSQP",
          "cvxpy | OSQP",
          "cvxpy | OSQP",
          "cvxpy | OSQP",
          "cvxpy | OSQP",
          "cvxpy | OSQP",
          "cvxpy | OSQP",
          "cvxpy | OSQP",
          "cvxpy | OSQP",
          "cvxpy | OSQP",
          "cvxpy | OSQP",
          "cvxpy | OSQP",
          "cvxpy | OSQP",
          "cvxpy | OSQP",
          "cvxpy | OSQP",
          "cvxpy | OSQP",
          "cvxpy | OSQP",
          "cvxpy | OSQP",
          "cvxpy | OSQP",
          "cvxpy | OSQP",
          "cvxpy | OSQP",
          "cvxpy | OSQP",
          "cvxpy | OSQP",
          "cvxpy | OSQP",
          "cvxpy | OSQP",
          "cvxpy | OSQP",
          "cvxpy | OSQP",
          "cvxpy | OSQP",
          "cvxpy | OSQP",
          "cvxpy | OSQP",
          "cvxpy | OSQP",
          "cvxpy | OSQP",
          "cvxpy | OSQP",
          "cvxpy | OSQP",
          "cvxpy | OSQP",
          "cvxpy | OSQP",
          "cvxpy | OSQP",
          "cvxpy | OSQP",
          "cvxpy | OSQP",
          "cvxpy | OSQP",
          "cvxpy | OSQP",
          "cvxpy | OSQP",
          "cvxpy | OSQP",
          "cvxpy | OSQP",
          "cvxpy | ECOS",
          "cvxpy | ECOS",
          "cvxpy | ECOS",
          "cvxpy | ECOS",
          "cvxpy | ECOS",
          "cvxpy | ECOS",
          "cvxpy | ECOS",
          "cvxpy | ECOS",
          "cvxpy | ECOS",
          "cvxpy | ECOS",
          "cvxpy | ECOS",
          "cvxpy | ECOS",
          "cvxpy | ECOS",
          "cvxpy | ECOS",
          "cvxpy | ECOS",
          "cvxpy | ECOS",
          "cvxpy | ECOS",
          "cvxpy | ECOS",
          "cvxpy | ECOS",
          "cvxpy | ECOS",
          "cvxpy | ECOS",
          "cvxpy | ECOS",
          "cvxpy | ECOS",
          "cvxpy | ECOS",
          "cvxpy | ECOS",
          "cvxpy | ECOS",
          "cvxpy | ECOS",
          "cvxpy | ECOS",
          "cvxpy | ECOS",
          "cvxpy | ECOS",
          "cvxpy | ECOS",
          "cvxpy | ECOS",
          "cvxpy | ECOS",
          "cvxpy | ECOS",
          "cvxpy | ECOS",
          "cvxpy | ECOS",
          "cvxpy | ECOS",
          "cvxpy | ECOS",
          "cvxpy | ECOS",
          "cvxpy | ECOS",
          "cvxpy | ECOS",
          "cvxpy | ECOS",
          "cvxpy | ECOS",
          "cvxpy | ECOS",
          "cvxpy | ECOS",
          "cvxpy | ECOS",
          "cvxpy | ECOS",
          "cvxpy | ECOS",
          "cvxpy | ECOS",
          "cvxpy | ECOS",
          "cvxpy | ECOS",
          "cvxpy | ECOS",
          "cvxpy | ECOS",
          "cvxpy | ECOS",
          "cvxpy | ECOS",
          "cvxpy | ECOS",
          "cvxpy | ECOS",
          "cvxpy | ECOS",
          "cvxpy | ECOS",
          "cvxpy | ECOS",
          "cvxpy | ECOS",
          "cvxpy | ECOS",
          "cvxpy | ECOS",
          "cvxpy | ECOS",
          "cvxpy | ECOS",
          "cvxpy | ECOS",
          "cvxpy | ECOS",
          "cvxpy | ECOS",
          "cvxpy | ECOS",
          "cvxpy | ECOS",
          "cvxpy | ECOS",
          "cvxpy | ECOS",
          "cvxpy | ECOS",
          "cvxpy | ECOS",
          "cvxpy | ECOS",
          "cvxpy | ECOS",
          "cvxpy | ECOS",
          "cvxpy | ECOS",
          "cvxpy | ECOS",
          "cvxpy | ECOS",
          "cvxpy | ECOS",
          "cvxpy | ECOS",
          "cvxpy | ECOS",
          "cvxpy | ECOS",
          "cvxpy | ECOS",
          "cvxpy | ECOS",
          "cvxpy | ECOS",
          "cvxpy | ECOS",
          "cvxpy | ECOS",
          "cvxpy | ECOS",
          "cvxpy | ECOS",
          "cvxpy | ECOS",
          "cvxpy | ECOS",
          "cvxpy | ECOS",
          "cvxpy | ECOS",
          "cvxpy | ECOS",
          "cvxpy | ECOS",
          "cvxpy | ECOS",
          "cvxpy | ECOS",
          "cvxpy | ECOS",
          "cvxpy | SCS",
          "cvxpy | SCS",
          "cvxpy | SCS",
          "cvxpy | SCS",
          "cvxpy | SCS",
          "cvxpy | SCS",
          "cvxpy | SCS",
          "cvxpy | SCS",
          "cvxpy | SCS",
          "cvxpy | SCS",
          "cvxpy | SCS",
          "cvxpy | SCS",
          "cvxpy | SCS",
          "cvxpy | SCS",
          "cvxpy | SCS",
          "cvxpy | SCS",
          "cvxpy | SCS",
          "cvxpy | SCS",
          "cvxpy | SCS",
          "cvxpy | SCS",
          "cvxpy | SCS",
          "cvxpy | SCS",
          "cvxpy | SCS",
          "cvxpy | SCS",
          "cvxpy | SCS",
          "cvxpy | SCS",
          "cvxpy | SCS",
          "cvxpy | SCS",
          "cvxpy | SCS",
          "cvxpy | SCS",
          "cvxpy | SCS",
          "cvxpy | SCS",
          "cvxpy | SCS",
          "cvxpy | SCS",
          "cvxpy | SCS",
          "cvxpy | SCS",
          "cvxpy | SCS",
          "cvxpy | SCS",
          "cvxpy | SCS",
          "cvxpy | SCS",
          "cvxpy | SCS",
          "cvxpy | SCS",
          "cvxpy | SCS",
          "cvxpy | SCS",
          "cvxpy | SCS",
          "cvxpy | SCS",
          "cvxpy | SCS",
          "cvxpy | SCS",
          "cvxpy | SCS",
          "cvxpy | SCS",
          "cvxpy | SCS",
          "cvxpy | SCS",
          "cvxpy | SCS",
          "cvxpy | SCS",
          "cvxpy | SCS",
          "cvxpy | SCS",
          "cvxpy | SCS",
          "cvxpy | SCS",
          "cvxpy | SCS",
          "cvxpy | SCS",
          "cvxpy | SCS",
          "cvxpy | SCS",
          "cvxpy | SCS",
          "cvxpy | SCS",
          "cvxpy | SCS",
          "cvxpy | SCS",
          "cvxpy | SCS",
          "cvxpy | SCS",
          "cvxpy | SCS",
          "cvxpy | SCS",
          "cvxpy | SCS",
          "cvxpy | SCS",
          "cvxpy | SCS",
          "cvxpy | SCS",
          "cvxpy | SCS",
          "cvxpy | SCS",
          "cvxpy | SCS",
          "cvxpy | SCS",
          "cvxpy | SCS",
          "cvxpy | SCS",
          "cvxpy | SCS",
          "cvxpy | SCS",
          "cvxpy | SCS",
          "cvxpy | SCS",
          "cvxpy | SCS",
          "cvxpy | SCS",
          "cvxpy | SCS",
          "cvxpy | SCS",
          "cvxpy | SCS",
          "cvxpy | SCS",
          "cvxpy | SCS",
          "cvxpy | SCS",
          "cvxpy | SCS",
          "cvxpy | SCS",
          "cvxpy | SCS",
          "cvxpy | SCS",
          "cvxpy | SCS",
          "cvxpy | SCS",
          "cvxpy | SCS",
          "cvxpy | SCS",
          "qpsolver | osqp",
          "qpsolver | osqp",
          "qpsolver | osqp",
          "qpsolver | osqp",
          "qpsolver | osqp",
          "qpsolver | osqp",
          "qpsolver | osqp",
          "qpsolver | osqp",
          "qpsolver | osqp",
          "qpsolver | osqp",
          "qpsolver | osqp",
          "qpsolver | osqp",
          "qpsolver | osqp",
          "qpsolver | osqp",
          "qpsolver | osqp",
          "qpsolver | osqp",
          "qpsolver | osqp",
          "qpsolver | osqp",
          "qpsolver | osqp",
          "qpsolver | osqp",
          "qpsolver | osqp",
          "qpsolver | osqp",
          "qpsolver | osqp",
          "qpsolver | osqp",
          "qpsolver | osqp",
          "qpsolver | osqp",
          "qpsolver | osqp",
          "qpsolver | osqp",
          "qpsolver | osqp",
          "qpsolver | osqp",
          "qpsolver | osqp",
          "qpsolver | osqp",
          "qpsolver | osqp",
          "qpsolver | osqp",
          "qpsolver | osqp",
          "qpsolver | osqp",
          "qpsolver | osqp",
          "qpsolver | osqp",
          "qpsolver | osqp",
          "qpsolver | osqp",
          "qpsolver | osqp",
          "qpsolver | osqp",
          "qpsolver | osqp",
          "qpsolver | osqp",
          "qpsolver | osqp",
          "qpsolver | osqp",
          "qpsolver | osqp",
          "qpsolver | osqp",
          "qpsolver | osqp",
          "qpsolver | osqp",
          "qpsolver | osqp",
          "qpsolver | osqp",
          "qpsolver | osqp",
          "qpsolver | osqp",
          "qpsolver | osqp",
          "qpsolver | osqp",
          "qpsolver | osqp",
          "qpsolver | osqp",
          "qpsolver | osqp",
          "qpsolver | osqp",
          "qpsolver | osqp",
          "qpsolver | osqp",
          "qpsolver | osqp",
          "qpsolver | osqp",
          "qpsolver | osqp",
          "qpsolver | osqp",
          "qpsolver | osqp",
          "qpsolver | osqp",
          "qpsolver | osqp",
          "qpsolver | osqp",
          "qpsolver | osqp",
          "qpsolver | osqp",
          "qpsolver | osqp",
          "qpsolver | osqp",
          "qpsolver | osqp",
          "qpsolver | osqp",
          "qpsolver | osqp",
          "qpsolver | osqp",
          "qpsolver | osqp",
          "qpsolver | osqp",
          "qpsolver | osqp",
          "qpsolver | osqp",
          "qpsolver | osqp",
          "qpsolver | osqp",
          "qpsolver | osqp",
          "qpsolver | osqp",
          "qpsolver | osqp",
          "qpsolver | osqp",
          "qpsolver | osqp",
          "qpsolver | osqp",
          "qpsolver | osqp",
          "qpsolver | osqp",
          "qpsolver | osqp",
          "qpsolver | osqp",
          "qpsolver | osqp",
          "qpsolver | osqp",
          "qpsolver | osqp",
          "qpsolver | osqp",
          "qpsolver | osqp",
          "qpsolver | osqp",
          "qpsolver | ecos",
          "qpsolver | ecos",
          "qpsolver | ecos",
          "qpsolver | ecos",
          "qpsolver | ecos",
          "qpsolver | ecos",
          "qpsolver | ecos",
          "qpsolver | ecos",
          "qpsolver | ecos",
          "qpsolver | ecos",
          "qpsolver | ecos",
          "qpsolver | ecos",
          "qpsolver | ecos",
          "qpsolver | ecos",
          "qpsolver | ecos",
          "qpsolver | ecos",
          "qpsolver | ecos",
          "qpsolver | ecos",
          "qpsolver | ecos",
          "qpsolver | ecos",
          "qpsolver | ecos",
          "qpsolver | ecos",
          "qpsolver | ecos",
          "qpsolver | ecos",
          "qpsolver | ecos",
          "qpsolver | ecos",
          "qpsolver | ecos",
          "qpsolver | ecos",
          "qpsolver | ecos",
          "qpsolver | ecos",
          "qpsolver | ecos",
          "qpsolver | ecos",
          "qpsolver | ecos",
          "qpsolver | ecos",
          "qpsolver | ecos",
          "qpsolver | ecos",
          "qpsolver | ecos",
          "qpsolver | ecos",
          "qpsolver | ecos",
          "qpsolver | ecos",
          "qpsolver | ecos",
          "qpsolver | ecos",
          "qpsolver | ecos",
          "qpsolver | ecos",
          "qpsolver | ecos",
          "qpsolver | ecos",
          "qpsolver | ecos",
          "qpsolver | ecos",
          "qpsolver | ecos",
          "qpsolver | ecos",
          "qpsolver | ecos",
          "qpsolver | ecos",
          "qpsolver | ecos",
          "qpsolver | ecos",
          "qpsolver | ecos",
          "qpsolver | ecos",
          "qpsolver | ecos",
          "qpsolver | ecos",
          "qpsolver | ecos",
          "qpsolver | ecos",
          "qpsolver | ecos",
          "qpsolver | ecos",
          "qpsolver | ecos",
          "qpsolver | ecos",
          "qpsolver | ecos",
          "qpsolver | ecos",
          "qpsolver | ecos",
          "qpsolver | ecos",
          "qpsolver | ecos",
          "qpsolver | ecos",
          "qpsolver | ecos",
          "qpsolver | ecos",
          "qpsolver | ecos",
          "qpsolver | ecos",
          "qpsolver | ecos",
          "qpsolver | ecos",
          "qpsolver | ecos",
          "qpsolver | ecos",
          "qpsolver | ecos",
          "qpsolver | ecos",
          "qpsolver | ecos",
          "qpsolver | ecos",
          "qpsolver | ecos",
          "qpsolver | ecos",
          "qpsolver | ecos",
          "qpsolver | ecos",
          "qpsolver | ecos",
          "qpsolver | ecos",
          "qpsolver | ecos",
          "qpsolver | ecos",
          "qpsolver | ecos",
          "qpsolver | ecos",
          "qpsolver | ecos",
          "qpsolver | ecos",
          "qpsolver | ecos",
          "qpsolver | ecos",
          "qpsolver | ecos",
          "qpsolver | ecos",
          "qpsolver | ecos",
          "qpsolver | ecos",
          "qpsolver | scs",
          "qpsolver | scs",
          "qpsolver | scs",
          "qpsolver | scs",
          "qpsolver | scs",
          "qpsolver | scs",
          "qpsolver | scs",
          "qpsolver | scs",
          "qpsolver | scs",
          "qpsolver | scs",
          "qpsolver | scs",
          "qpsolver | scs",
          "qpsolver | scs",
          "qpsolver | scs",
          "qpsolver | scs",
          "qpsolver | scs",
          "qpsolver | scs",
          "qpsolver | scs",
          "qpsolver | scs",
          "qpsolver | scs",
          "qpsolver | scs",
          "qpsolver | scs",
          "qpsolver | scs",
          "qpsolver | scs",
          "qpsolver | scs",
          "qpsolver | scs",
          "qpsolver | scs",
          "qpsolver | scs",
          "qpsolver | scs",
          "qpsolver | scs",
          "qpsolver | scs",
          "qpsolver | scs",
          "qpsolver | scs",
          "qpsolver | scs",
          "qpsolver | scs",
          "qpsolver | scs",
          "qpsolver | scs",
          "qpsolver | scs",
          "qpsolver | scs",
          "qpsolver | scs",
          "qpsolver | scs",
          "qpsolver | scs",
          "qpsolver | scs",
          "qpsolver | scs",
          "qpsolver | scs",
          "qpsolver | scs",
          "qpsolver | scs",
          "qpsolver | scs",
          "qpsolver | scs",
          "qpsolver | scs",
          "qpsolver | scs",
          "qpsolver | scs",
          "qpsolver | scs",
          "qpsolver | scs",
          "qpsolver | scs",
          "qpsolver | scs",
          "qpsolver | scs",
          "qpsolver | scs",
          "qpsolver | scs",
          "qpsolver | scs",
          "qpsolver | scs",
          "qpsolver | scs",
          "qpsolver | scs",
          "qpsolver | scs",
          "qpsolver | scs",
          "qpsolver | scs",
          "qpsolver | scs",
          "qpsolver | scs",
          "qpsolver | scs",
          "qpsolver | scs",
          "qpsolver | scs",
          "qpsolver | scs",
          "qpsolver | scs",
          "qpsolver | scs",
          "qpsolver | scs",
          "qpsolver | scs",
          "qpsolver | scs",
          "qpsolver | scs",
          "qpsolver | scs",
          "qpsolver | scs",
          "qpsolver | scs",
          "qpsolver | scs",
          "qpsolver | scs",
          "qpsolver | scs",
          "qpsolver | scs",
          "qpsolver | scs",
          "qpsolver | scs",
          "qpsolver | scs",
          "qpsolver | scs",
          "qpsolver | scs",
          "qpsolver | scs",
          "qpsolver | scs",
          "qpsolver | scs",
          "qpsolver | scs",
          "qpsolver | scs",
          "qpsolver | scs",
          "qpsolver | scs",
          "qpsolver | scs",
          "qpsolver | scs",
          "qpsolver | scs",
          "qpsolver | quadprog",
          "qpsolver | quadprog",
          "qpsolver | quadprog",
          "qpsolver | quadprog",
          "qpsolver | quadprog",
          "qpsolver | quadprog",
          "qpsolver | quadprog",
          "qpsolver | quadprog",
          "qpsolver | quadprog",
          "qpsolver | quadprog",
          "qpsolver | quadprog",
          "qpsolver | quadprog",
          "qpsolver | quadprog",
          "qpsolver | quadprog",
          "qpsolver | quadprog",
          "qpsolver | quadprog",
          "qpsolver | quadprog",
          "qpsolver | quadprog",
          "qpsolver | quadprog",
          "qpsolver | quadprog",
          "qpsolver | quadprog",
          "qpsolver | quadprog",
          "qpsolver | quadprog",
          "qpsolver | quadprog",
          "qpsolver | quadprog",
          "qpsolver | quadprog",
          "qpsolver | quadprog",
          "qpsolver | quadprog",
          "qpsolver | quadprog",
          "qpsolver | quadprog",
          "qpsolver | quadprog",
          "qpsolver | quadprog",
          "qpsolver | quadprog",
          "qpsolver | quadprog",
          "qpsolver | quadprog",
          "qpsolver | quadprog",
          "qpsolver | quadprog",
          "qpsolver | quadprog",
          "qpsolver | quadprog",
          "qpsolver | quadprog",
          "qpsolver | quadprog",
          "qpsolver | quadprog",
          "qpsolver | quadprog",
          "qpsolver | quadprog",
          "qpsolver | quadprog",
          "qpsolver | quadprog",
          "qpsolver | quadprog",
          "qpsolver | quadprog",
          "qpsolver | quadprog",
          "qpsolver | quadprog",
          "qpsolver | quadprog",
          "qpsolver | quadprog",
          "qpsolver | quadprog",
          "qpsolver | quadprog",
          "qpsolver | quadprog",
          "qpsolver | quadprog",
          "qpsolver | quadprog",
          "qpsolver | quadprog",
          "qpsolver | quadprog",
          "qpsolver | quadprog",
          "qpsolver | quadprog",
          "qpsolver | quadprog",
          "qpsolver | quadprog",
          "qpsolver | quadprog",
          "qpsolver | quadprog",
          "qpsolver | quadprog",
          "qpsolver | quadprog",
          "qpsolver | quadprog",
          "qpsolver | quadprog",
          "qpsolver | quadprog",
          "qpsolver | quadprog",
          "qpsolver | quadprog",
          "qpsolver | quadprog",
          "qpsolver | quadprog",
          "qpsolver | quadprog",
          "qpsolver | quadprog",
          "qpsolver | quadprog",
          "qpsolver | quadprog",
          "qpsolver | quadprog",
          "qpsolver | quadprog",
          "qpsolver | quadprog",
          "qpsolver | quadprog",
          "qpsolver | quadprog",
          "qpsolver | quadprog",
          "qpsolver | quadprog",
          "qpsolver | quadprog",
          "qpsolver | quadprog",
          "qpsolver | quadprog",
          "qpsolver | quadprog",
          "qpsolver | quadprog",
          "qpsolver | quadprog",
          "qpsolver | quadprog",
          "qpsolver | quadprog",
          "qpsolver | quadprog",
          "qpsolver | quadprog",
          "qpsolver | quadprog",
          "qpsolver | quadprog",
          "qpsolver | quadprog",
          "qpsolver | quadprog",
          "qpsolver | quadprog"
         ],
         "x0": " ",
         "xaxis": "x",
         "y": [
          1043.3485481739044,
          1047.866336107254,
          1047.763755083084,
          1048.5088322162628,
          1047.7685720920565,
          1048.5433390140531,
          1048.5584840774536,
          1047.956298828125,
          1047.90087723732,
          1048.135773897171,
          1048.0025238990784,
          1048.3142838478088,
          1048.7250199317932,
          1048.2676367759705,
          1048.0792291164398,
          1048.7214467525482,
          1048.1846890449524,
          1048.4678480625153,
          1048.5390219688416,
          1048.1819200515747,
          1048.9046981334686,
          1048.406004190445,
          1048.4361679553986,
          1048.779778957367,
          1048.5143537521362,
          1048.3454477787018,
          1048.578362941742,
          1048.4650321006775,
          1048.798812866211,
          1048.7969851493835,
          1048.912710905075,
          1049.0949199199677,
          1049.1166808605194,
          1049.0011751651764,
          1048.5374352931976,
          1049.172236919403,
          1049.2110259532928,
          1048.870332956314,
          1048.8108489513395,
          1048.644570827484,
          1048.8494148254397,
          1049.27841091156,
          1049.0272932052612,
          1048.6638820171356,
          1048.5832760334015,
          1049.350093126297,
          1048.7279920578003,
          1048.816169977188,
          1048.8496141433716,
          1048.8030240535736,
          1049.1990101337433,
          1049.2120139598846,
          1049.0655488967896,
          1049.271852016449,
          1049.2649569511414,
          1048.9995930194857,
          1049.0937349796295,
          1049.0694448947906,
          1048.9309351444244,
          1049.2821221351624,
          1049.391010761261,
          1049.7322888374329,
          1049.3005640506744,
          1049.3973460197449,
          1049.0794591903689,
          1049.500482082367,
          1049.3498849868774,
          1049.4366850852966,
          1049.4352459907532,
          1049.2970690727234,
          1049.173800945282,
          1049.5940759181976,
          1049.4645760059357,
          1049.9477288722992,
          1049.485995054245,
          1049.9896802902222,
          1049.9975650310516,
          1050.0433270931244,
          1049.6319789886477,
          1049.9353489875791,
          1049.7273132801056,
          1049.352599143982,
          1049.738265991211,
          1049.49276804924,
          1049.8419661521912,
          1050.196912765503,
          1049.6431729793549,
          1049.74001288414,
          1049.8822979927063,
          1049.571916103363,
          1050.3987529277802,
          1049.6883318424225,
          1050.211802959442,
          1049.981926202774,
          1050.4700179100037,
          1050.005882978439,
          1049.8342399597168,
          1050.1202759742737,
          1049.9207382202148,
          1050.5547749996183,
          1073.1266400814056,
          1073.0191428661346,
          1073.6004631519318,
          1073.5468060970306,
          1074.1816267967224,
          1074.089008808136,
          1074.5687720775604,
          1074.708556652069,
          1075.034523010254,
          1075.091066122055,
          1075.3909571170807,
          1075.2076008319857,
          1076.1970701217651,
          1075.9022080898285,
          1076.1514501571655,
          1076.6575508117676,
          1076.5611538887024,
          1077.2522921562197,
          1077.223389863968,
          1077.5876052379608,
          1077.155501127243,
          1078.009535074234,
          1077.6824769973755,
          1078.6444919109344,
          1078.2592351436615,
          1078.7729902267456,
          1078.4444739818573,
          1079.4709839820862,
          1079.510521888733,
          1079.803999900818,
          1079.6678819656372,
          1080.1465966701508,
          1080.1223576068878,
          1080.391881942749,
          1080.350193977356,
          1081.2127220630646,
          1081.081553220749,
          1081.386527776718,
          1081.2117087841034,
          1081.8343710899353,
          1081.6593840122223,
          1082.5573880672457,
          1082.3468358516693,
          1082.442848920822,
          1082.7429060935974,
          1083.4883058071136,
          1083.6027529239657,
          1083.5967710018158,
          1083.575579881668,
          1083.9073159694672,
          1084.718652009964,
          1084.7426462173462,
          1084.5242581367493,
          1085.4489159584043,
          1085.3385002613068,
          1085.0120220184326,
          1085.6069259643557,
          1086.1567471027374,
          1086.1482899188995,
          1086.2785212993622,
          1086.3873569965365,
          1087.068841934204,
          1086.7003428936005,
          1086.7430980205536,
          1087.6570219993591,
          1087.590764760971,
          1087.9221050739288,
          1087.8323969841003,
          1088.3299810886383,
          1088.5764138698578,
          1088.4853901863098,
          1088.5666010379791,
          1089.4769730567932,
          1089.1798131465912,
          1089.55757188797,
          1090.2628281116486,
          1090.21785902977,
          1090.2836899757383,
          1090.1142737865448,
          1091.1329679489136,
          1090.79270029068,
          1090.980943918228,
          1091.420746088028,
          1092.0057361125946,
          1091.9481899738312,
          1091.9585318565369,
          1092.7920479774475,
          1092.880953788757,
          1092.7358770370483,
          1092.7160050868988,
          1092.9425609111786,
          1093.169321060181,
          1093.4142289161682,
          1094.1654992103577,
          1094.2793111801147,
          1094.5726778507233,
          1094.3345110416412,
          1094.6957850456238,
          1094.993535041809,
          1095.3931488990784,
          1286.4260997772217,
          1286.257959842682,
          1287.5708618164062,
          1289.0445220470428,
          1289.7988221645355,
          1291.2163870334623,
          1292.5666630268097,
          1293.650573015213,
          1295.299252986908,
          1296.0806488990784,
          1297.9148879051208,
          1298.7120361328125,
          1299.9138939380646,
          1301.194839000702,
          1302.738173007965,
          1303.7916371822355,
          1304.8816390037537,
          1306.1189639568329,
          1307.4806730747223,
          1308.5496010780334,
          1310.175181865692,
          1311.6074171066284,
          1312.5819327831268,
          1313.937311887741,
          1315.4971160888672,
          1316.4284360408783,
          1317.7865240573883,
          1318.9603598117828,
          1320.2845888137815,
          1321.5342273712158,
          1322.6438891887665,
          1324.5018908977509,
          1325.281939983368,
          1326.6563789844513,
          1328.0760610103607,
          1329.0925109386444,
          1330.9487948417664,
          1331.919506072998,
          1333.121980190277,
          1334.4103770256042,
          1336.0607948303225,
          1337.109302997589,
          1338.5297598838806,
          1339.398432016373,
          1340.9691121578217,
          1342.3146312236786,
          1343.67249417305,
          1344.8364939689636,
          1346.2914199829102,
          1347.2097368240356,
          1348.612540960312,
          1349.8706891536713,
          1351.1605038642883,
          1352.9171152114868,
          1353.7019300460815,
          1355.4971470832825,
          1356.686429977417,
          1357.8172101974487,
          1359.413166999817,
          1360.1989691257477,
          1361.7779698371887,
          1363.1992049217224,
          1364.0420529842377,
          1365.5619049072266,
          1366.5947182178495,
          1367.6236062049866,
          1369.324098110199,
          1370.741996049881,
          1371.5433731079102,
          1373.2992610931396,
          1374.2746269702911,
          1375.746742963791,
          1377.2465250492096,
          1378.3090093135834,
          1379.3717761039734,
          1381.1123147010803,
          1382.3720591068268,
          1383.5531418323517,
          1384.602460861206,
          1385.5331342220306,
          1387.264081954956,
          1388.2422740459442,
          1389.795705795288,
          1390.8278982639313,
          1392.2033278942108,
          1393.8583171367643,
          1394.926245212555,
          1395.760606050491,
          1397.313145160675,
          1398.5430309772491,
          1399.8050050735474,
          1401.2643988132477,
          1402.3353400230408,
          1403.3098030090332,
          1404.444155216217,
          1406.0342803001404,
          1406.877876996994,
          1407.9757888317108,
          1409.1346969604492,
          1409.6870501041412,
          0.0834801197052002,
          0.1758589744567871,
          0.0269560813903808,
          0.1015369892120361,
          0.0092589855194091,
          0.0877771377563476,
          0.1346533298492431,
          0.0716710090637207,
          0.1497750282287597,
          0.1048309803009033,
          0.0549781322479248,
          0.042856216430664,
          0.1472618579864502,
          0.0746686458587646,
          0.0196349620819091,
          0.1265878677368164,
          0.0477280616760253,
          0.1236870288848877,
          0.0799090862274169,
          0.0328760147094726,
          0.1388726234436035,
          0.1091358661651611,
          0.1071348190307617,
          0.181643009185791,
          0.0608561038970947,
          0.0281417369842529,
          0.1454169750213623,
          0.0475430488586425,
          0.1376452445983886,
          0.1684188842773437,
          0.0464868545532226,
          0.0490448474884033,
          0.0541567802429199,
          0.1250758171081543,
          0.0935840606689453,
          0.0335543155670166,
          0.0602507591247558,
          0.1235778331756591,
          0.0236637592315673,
          0.0154798030853271,
          0.1964330673217773,
          0.174494981765747,
          0.0181188583374023,
          0.0329909324645996,
          0.0953588485717773,
          0.1497559547424316,
          0.0449128150939941,
          0.0422248840332031,
          0.0578060150146484,
          0.1437423229217529,
          0.0301451683044433,
          0.0418050289154052,
          0.0630769729614257,
          0.0470819473266601,
          0.0832111835479736,
          0.0947797298431396,
          0.0935521125793457,
          0.0626518726348877,
          0.1762070655822754,
          0.0322821140289306,
          0.0279548168182373,
          0.0301070213317871,
          0.0331189632415771,
          0.0806200504302978,
          0.0780680179595947,
          0.0234088897705078,
          0.0563831329345703,
          0.0448923110961914,
          0.0373039245605468,
          0.0448400974273681,
          0.0519890785217285,
          0.0513250827789306,
          0.0743961334228515,
          0.0426640510559082,
          0.0443251132965087,
          0.1666090488433838,
          0.0530381202697753,
          0.2250208854675293,
          0.0335028171539306,
          0.0340538024902343,
          0.0418412685394287,
          0.0347120761871337,
          0.0360918045043945,
          0.0336260795593261,
          0.0461587905883789,
          0.0334751605987548,
          0.0376713275909423,
          0.0382828712463378,
          0.0310559272766113,
          0.0375430583953857,
          0.0388538837432861,
          0.037287950515747,
          0.0349998474121093,
          0.0348920822143554,
          0.0399799346923828,
          0.0321719646453857,
          0.0347568988800048,
          0.0418550968170166,
          0.03420090675354,
          0.1045258045196533,
          108.50712609291077,
          159.91624784469604,
          177.32092905044556,
          197.42453408241272,
          204.5232729911804,
          205.48576307296756,
          207.34867787361145,
          213.301305770874,
          213.93955898284912,
          214.34608268737796,
          215.67503595352173,
          218.01741528511047,
          224.49535298347476,
          226.7651581764221,
          229.75722813606265,
          231.73377680778503,
          239.32864689826965,
          240.5038719177246,
          240.44848585128784,
          240.42613101005557,
          243.79675817489624,
          244.3466010093689,
          244.88414001464844,
          245.4963200092316,
          247.4633240699768,
          248.84587788581848,
          248.70911502838132,
          251.74364304542544,
          251.89273285865784,
          254.48629021644592,
          256.01191687583923,
          261.0960109233856,
          260.8302209377289,
          262.95449805259705,
          263.03664112091064,
          263.81584787368774,
          263.9167890548706,
          263.9479568004608,
          263.9179079532624,
          264.74244689941406,
          265.3515372276306,
          266.1937952041626,
          266.67177295684814,
          266.7595450878144,
          266.50910902023315,
          268.18756198883057,
          268.33008885383606,
          268.4022059440613,
          268.9526309967041,
          268.88662004470825,
          269.0042612552643,
          270.1505308151245,
          270.2439661026001,
          270.25906777381897,
          270.28277134895325,
          270.2308990955353,
          270.42983984947205,
          270.70202231407166,
          270.71854400634766,
          271.01031017303467,
          270.8223509788513,
          271.1851761341095,
          270.9405770301819,
          271.7252190113068,
          271.2501711845398,
          271.38187885284424,
          271.4495198726654,
          271.3396632671356,
          271.4271490573883,
          271.6846091747284,
          271.6529221534729,
          271.7485067844391,
          271.7115340232849,
          271.6591601371765,
          271.9229669570923,
          271.9764790534973,
          272.15505504608154,
          272.18185210227966,
          271.9915211200714,
          272.3370840549469,
          272.00512886047363,
          272.2039580345154,
          272.05571579933167,
          272.02822971343994,
          272.0951280593872,
          272.05569791793823,
          272.16359186172485,
          272.5420649051666,
          272.1876122951508,
          272.5273289680481,
          272.4825820922852,
          272.254754781723,
          272.33332872390747,
          272.4769012928009,
          272.2167580127716,
          272.31186079978943,
          272.3038249015808,
          272.2521529197693,
          272.4084348678589,
          272.41257405281067,
          0.0317981243133544,
          0.0188510417938232,
          0.0270991325378417,
          0.0267419815063476,
          0.0147829055786132,
          0.0373539924621582,
          0.0451502799987793,
          0.0214991569519042,
          0.0264010429382324,
          0.0118811130523681,
          0.0337717533111572,
          0.0221431255340576,
          0.0277519226074218,
          0.0261430740356445,
          0.0236890316009521,
          0.0247027873992919,
          0.0237030982971191,
          0.0231509208679199,
          0.036931037902832,
          0.0619809627532959,
          0.0311408042907714,
          0.0329492092132568,
          0.0164222717285156,
          0.0300941467285156,
          0.0138921737670898,
          0.0204401016235351,
          0.0281910896301269,
          0.0500578880310058,
          0.0122170448303222,
          0.007509708404541,
          0.0321090221405029,
          0.0257599353790283,
          0.0197687149047851,
          0.0202789306640625,
          0.0151169300079345,
          0.032059907913208,
          0.0199768543243408,
          0.0284438133239746,
          0.0258760452270507,
          0.0297870635986328,
          0.0281901359558105,
          0.0141310691833496,
          0.0207579135894775,
          0.0101871490478515,
          0.0213329792022705,
          0.0306758880615234,
          0.0148220062255859,
          0.0357732772827148,
          0.0194571018218994,
          0.0397100448608398,
          0.0191199779510498,
          0.030257225036621,
          0.0181748867034912,
          0.0138759613037109,
          0.0288691520690917,
          0.0175178050994873,
          0.0164449214935302,
          0.0373580455780029,
          0.0295648574829101,
          0.0294837951660156,
          0.0346066951751709,
          0.0210030078887939,
          0.0314581394195556,
          0.0098209381103515,
          0.0321600437164306,
          0.0409929752349853,
          0.0348610877990722,
          0.0334436893463134,
          0.0331790447235107,
          0.0402050018310546,
          0.0444018840789794,
          0.0367810726165771,
          0.040860891342163,
          0.0468029975891113,
          0.0289630889892578,
          0.0235230922698974,
          0.0288300514221191,
          0.0205252170562744,
          0.0325360298156738,
          0.0381650924682617,
          0.039600133895874,
          0.0250110626220703,
          0.0416340827941894,
          0.0391182899475097,
          0.0269801616668701,
          0.0349280834197998,
          0.041558027267456,
          0.0313031673431396,
          0.0517706871032714,
          0.0440442562103271,
          0.0267450809478759,
          0.0433089733123779,
          0.0398919582366943,
          0.0385003089904785,
          0.0383150577545166,
          0.0425879955291748,
          0.0370380878448486,
          0.0504140853881835,
          0.0768928527832031,
          0.0766210556030273,
          1.1985859870910645,
          1.2664220333099363,
          1.3936760425567627,
          1.542423963546753,
          1.6350951194763184,
          1.6374080181121826,
          1.7013938426971436,
          1.654303789138794,
          1.5902299880981443,
          1.7691519260406494,
          1.7991931438446045,
          1.8170371055603027,
          1.8432977199554443,
          1.8618531227111816,
          1.8742649555206297,
          1.566777229309082,
          1.887725830078125,
          1.9888498783111568,
          2.180837869644165,
          2.084237813949585,
          1.9950270652771,
          2.23409104347229,
          2.097683906555176,
          2.0997209548950195,
          2.218146085739136,
          2.240224838256836,
          2.194185972213745,
          2.2330870628356934,
          2.276921033859253,
          2.1572511196136475,
          1.8957171440124512,
          2.183220863342285,
          2.27558970451355,
          2.1041722297668457,
          2.017416000366211,
          2.26094388961792,
          1.9378643035888672,
          2.2178030014038086,
          2.2655837535858154,
          2.231045961380005,
          2.1207051277160645,
          2.2793290615081787,
          2.139025926589966,
          2.236595392227173,
          2.288696765899658,
          2.0355210304260254,
          2.127379894256592,
          2.0564208030700684,
          2.2930078506469727,
          2.183445930480957,
          2.2611348628997803,
          2.129281044006348,
          2.099050998687744,
          2.3411810398101807,
          2.248383045196533,
          2.268604040145874,
          2.2504472732543945,
          2.1940600872039795,
          2.246188163757324,
          2.2170512676239014,
          2.3104567527771,
          2.0543360710144043,
          2.177879095077514,
          2.396346092224121,
          2.0540928840637207,
          2.3968307971954346,
          2.034444093704224,
          2.192225933074951,
          2.3412489891052246,
          2.286012887954712,
          2.1418559551239014,
          2.100949048995972,
          2.174239158630371,
          2.1571249961853027,
          2.0554778575897217,
          2.202390670776367,
          2.0590391159057617,
          2.0982227325439453,
          2.150461196899414,
          2.180871963500977,
          2.136620044708252,
          2.2342641353607178,
          2.296495199203491,
          2.292080879211426,
          2.2162740230560303,
          2.129036664962769,
          2.128087043762207,
          2.0943100452423096,
          2.1637487411499023,
          2.1460840702056885,
          2.1105520725250244,
          2.134390115737915,
          2.292786836624145,
          2.190602779388428,
          2.0578277111053467,
          2.2031402587890625,
          2.060103178024292,
          2.2754690647125244,
          2.084090232849121,
          2.0779409408569336
         ],
         "y0": " ",
         "yaxis": "y"
        }
       ],
       "layout": {
        "boxmode": "group",
        "legend": {
         "tracegroupgap": 0
        },
        "margin": {
         "t": 60
        },
        "template": {
         "data": {
          "bar": [
           {
            "error_x": {
             "color": "#2a3f5f"
            },
            "error_y": {
             "color": "#2a3f5f"
            },
            "marker": {
             "line": {
              "color": "#E5ECF6",
              "width": 0.5
             },
             "pattern": {
              "fillmode": "overlay",
              "size": 10,
              "solidity": 0.2
             }
            },
            "type": "bar"
           }
          ],
          "barpolar": [
           {
            "marker": {
             "line": {
              "color": "#E5ECF6",
              "width": 0.5
             },
             "pattern": {
              "fillmode": "overlay",
              "size": 10,
              "solidity": 0.2
             }
            },
            "type": "barpolar"
           }
          ],
          "carpet": [
           {
            "aaxis": {
             "endlinecolor": "#2a3f5f",
             "gridcolor": "white",
             "linecolor": "white",
             "minorgridcolor": "white",
             "startlinecolor": "#2a3f5f"
            },
            "baxis": {
             "endlinecolor": "#2a3f5f",
             "gridcolor": "white",
             "linecolor": "white",
             "minorgridcolor": "white",
             "startlinecolor": "#2a3f5f"
            },
            "type": "carpet"
           }
          ],
          "choropleth": [
           {
            "colorbar": {
             "outlinewidth": 0,
             "ticks": ""
            },
            "type": "choropleth"
           }
          ],
          "contour": [
           {
            "colorbar": {
             "outlinewidth": 0,
             "ticks": ""
            },
            "colorscale": [
             [
              0,
              "#0d0887"
             ],
             [
              0.1111111111111111,
              "#46039f"
             ],
             [
              0.2222222222222222,
              "#7201a8"
             ],
             [
              0.3333333333333333,
              "#9c179e"
             ],
             [
              0.4444444444444444,
              "#bd3786"
             ],
             [
              0.5555555555555556,
              "#d8576b"
             ],
             [
              0.6666666666666666,
              "#ed7953"
             ],
             [
              0.7777777777777778,
              "#fb9f3a"
             ],
             [
              0.8888888888888888,
              "#fdca26"
             ],
             [
              1,
              "#f0f921"
             ]
            ],
            "type": "contour"
           }
          ],
          "contourcarpet": [
           {
            "colorbar": {
             "outlinewidth": 0,
             "ticks": ""
            },
            "type": "contourcarpet"
           }
          ],
          "heatmap": [
           {
            "colorbar": {
             "outlinewidth": 0,
             "ticks": ""
            },
            "colorscale": [
             [
              0,
              "#0d0887"
             ],
             [
              0.1111111111111111,
              "#46039f"
             ],
             [
              0.2222222222222222,
              "#7201a8"
             ],
             [
              0.3333333333333333,
              "#9c179e"
             ],
             [
              0.4444444444444444,
              "#bd3786"
             ],
             [
              0.5555555555555556,
              "#d8576b"
             ],
             [
              0.6666666666666666,
              "#ed7953"
             ],
             [
              0.7777777777777778,
              "#fb9f3a"
             ],
             [
              0.8888888888888888,
              "#fdca26"
             ],
             [
              1,
              "#f0f921"
             ]
            ],
            "type": "heatmap"
           }
          ],
          "heatmapgl": [
           {
            "colorbar": {
             "outlinewidth": 0,
             "ticks": ""
            },
            "colorscale": [
             [
              0,
              "#0d0887"
             ],
             [
              0.1111111111111111,
              "#46039f"
             ],
             [
              0.2222222222222222,
              "#7201a8"
             ],
             [
              0.3333333333333333,
              "#9c179e"
             ],
             [
              0.4444444444444444,
              "#bd3786"
             ],
             [
              0.5555555555555556,
              "#d8576b"
             ],
             [
              0.6666666666666666,
              "#ed7953"
             ],
             [
              0.7777777777777778,
              "#fb9f3a"
             ],
             [
              0.8888888888888888,
              "#fdca26"
             ],
             [
              1,
              "#f0f921"
             ]
            ],
            "type": "heatmapgl"
           }
          ],
          "histogram": [
           {
            "marker": {
             "pattern": {
              "fillmode": "overlay",
              "size": 10,
              "solidity": 0.2
             }
            },
            "type": "histogram"
           }
          ],
          "histogram2d": [
           {
            "colorbar": {
             "outlinewidth": 0,
             "ticks": ""
            },
            "colorscale": [
             [
              0,
              "#0d0887"
             ],
             [
              0.1111111111111111,
              "#46039f"
             ],
             [
              0.2222222222222222,
              "#7201a8"
             ],
             [
              0.3333333333333333,
              "#9c179e"
             ],
             [
              0.4444444444444444,
              "#bd3786"
             ],
             [
              0.5555555555555556,
              "#d8576b"
             ],
             [
              0.6666666666666666,
              "#ed7953"
             ],
             [
              0.7777777777777778,
              "#fb9f3a"
             ],
             [
              0.8888888888888888,
              "#fdca26"
             ],
             [
              1,
              "#f0f921"
             ]
            ],
            "type": "histogram2d"
           }
          ],
          "histogram2dcontour": [
           {
            "colorbar": {
             "outlinewidth": 0,
             "ticks": ""
            },
            "colorscale": [
             [
              0,
              "#0d0887"
             ],
             [
              0.1111111111111111,
              "#46039f"
             ],
             [
              0.2222222222222222,
              "#7201a8"
             ],
             [
              0.3333333333333333,
              "#9c179e"
             ],
             [
              0.4444444444444444,
              "#bd3786"
             ],
             [
              0.5555555555555556,
              "#d8576b"
             ],
             [
              0.6666666666666666,
              "#ed7953"
             ],
             [
              0.7777777777777778,
              "#fb9f3a"
             ],
             [
              0.8888888888888888,
              "#fdca26"
             ],
             [
              1,
              "#f0f921"
             ]
            ],
            "type": "histogram2dcontour"
           }
          ],
          "mesh3d": [
           {
            "colorbar": {
             "outlinewidth": 0,
             "ticks": ""
            },
            "type": "mesh3d"
           }
          ],
          "parcoords": [
           {
            "line": {
             "colorbar": {
              "outlinewidth": 0,
              "ticks": ""
             }
            },
            "type": "parcoords"
           }
          ],
          "pie": [
           {
            "automargin": true,
            "type": "pie"
           }
          ],
          "scatter": [
           {
            "fillpattern": {
             "fillmode": "overlay",
             "size": 10,
             "solidity": 0.2
            },
            "type": "scatter"
           }
          ],
          "scatter3d": [
           {
            "line": {
             "colorbar": {
              "outlinewidth": 0,
              "ticks": ""
             }
            },
            "marker": {
             "colorbar": {
              "outlinewidth": 0,
              "ticks": ""
             }
            },
            "type": "scatter3d"
           }
          ],
          "scattercarpet": [
           {
            "marker": {
             "colorbar": {
              "outlinewidth": 0,
              "ticks": ""
             }
            },
            "type": "scattercarpet"
           }
          ],
          "scattergeo": [
           {
            "marker": {
             "colorbar": {
              "outlinewidth": 0,
              "ticks": ""
             }
            },
            "type": "scattergeo"
           }
          ],
          "scattergl": [
           {
            "marker": {
             "colorbar": {
              "outlinewidth": 0,
              "ticks": ""
             }
            },
            "type": "scattergl"
           }
          ],
          "scattermapbox": [
           {
            "marker": {
             "colorbar": {
              "outlinewidth": 0,
              "ticks": ""
             }
            },
            "type": "scattermapbox"
           }
          ],
          "scatterpolar": [
           {
            "marker": {
             "colorbar": {
              "outlinewidth": 0,
              "ticks": ""
             }
            },
            "type": "scatterpolar"
           }
          ],
          "scatterpolargl": [
           {
            "marker": {
             "colorbar": {
              "outlinewidth": 0,
              "ticks": ""
             }
            },
            "type": "scatterpolargl"
           }
          ],
          "scatterternary": [
           {
            "marker": {
             "colorbar": {
              "outlinewidth": 0,
              "ticks": ""
             }
            },
            "type": "scatterternary"
           }
          ],
          "surface": [
           {
            "colorbar": {
             "outlinewidth": 0,
             "ticks": ""
            },
            "colorscale": [
             [
              0,
              "#0d0887"
             ],
             [
              0.1111111111111111,
              "#46039f"
             ],
             [
              0.2222222222222222,
              "#7201a8"
             ],
             [
              0.3333333333333333,
              "#9c179e"
             ],
             [
              0.4444444444444444,
              "#bd3786"
             ],
             [
              0.5555555555555556,
              "#d8576b"
             ],
             [
              0.6666666666666666,
              "#ed7953"
             ],
             [
              0.7777777777777778,
              "#fb9f3a"
             ],
             [
              0.8888888888888888,
              "#fdca26"
             ],
             [
              1,
              "#f0f921"
             ]
            ],
            "type": "surface"
           }
          ],
          "table": [
           {
            "cells": {
             "fill": {
              "color": "#EBF0F8"
             },
             "line": {
              "color": "white"
             }
            },
            "header": {
             "fill": {
              "color": "#C8D4E3"
             },
             "line": {
              "color": "white"
             }
            },
            "type": "table"
           }
          ]
         },
         "layout": {
          "annotationdefaults": {
           "arrowcolor": "#2a3f5f",
           "arrowhead": 0,
           "arrowwidth": 1
          },
          "autotypenumbers": "strict",
          "coloraxis": {
           "colorbar": {
            "outlinewidth": 0,
            "ticks": ""
           }
          },
          "colorscale": {
           "diverging": [
            [
             0,
             "#8e0152"
            ],
            [
             0.1,
             "#c51b7d"
            ],
            [
             0.2,
             "#de77ae"
            ],
            [
             0.3,
             "#f1b6da"
            ],
            [
             0.4,
             "#fde0ef"
            ],
            [
             0.5,
             "#f7f7f7"
            ],
            [
             0.6,
             "#e6f5d0"
            ],
            [
             0.7,
             "#b8e186"
            ],
            [
             0.8,
             "#7fbc41"
            ],
            [
             0.9,
             "#4d9221"
            ],
            [
             1,
             "#276419"
            ]
           ],
           "sequential": [
            [
             0,
             "#0d0887"
            ],
            [
             0.1111111111111111,
             "#46039f"
            ],
            [
             0.2222222222222222,
             "#7201a8"
            ],
            [
             0.3333333333333333,
             "#9c179e"
            ],
            [
             0.4444444444444444,
             "#bd3786"
            ],
            [
             0.5555555555555556,
             "#d8576b"
            ],
            [
             0.6666666666666666,
             "#ed7953"
            ],
            [
             0.7777777777777778,
             "#fb9f3a"
            ],
            [
             0.8888888888888888,
             "#fdca26"
            ],
            [
             1,
             "#f0f921"
            ]
           ],
           "sequentialminus": [
            [
             0,
             "#0d0887"
            ],
            [
             0.1111111111111111,
             "#46039f"
            ],
            [
             0.2222222222222222,
             "#7201a8"
            ],
            [
             0.3333333333333333,
             "#9c179e"
            ],
            [
             0.4444444444444444,
             "#bd3786"
            ],
            [
             0.5555555555555556,
             "#d8576b"
            ],
            [
             0.6666666666666666,
             "#ed7953"
            ],
            [
             0.7777777777777778,
             "#fb9f3a"
            ],
            [
             0.8888888888888888,
             "#fdca26"
            ],
            [
             1,
             "#f0f921"
            ]
           ]
          },
          "colorway": [
           "#636efa",
           "#EF553B",
           "#00cc96",
           "#ab63fa",
           "#FFA15A",
           "#19d3f3",
           "#FF6692",
           "#B6E880",
           "#FF97FF",
           "#FECB52"
          ],
          "font": {
           "color": "#2a3f5f"
          },
          "geo": {
           "bgcolor": "white",
           "lakecolor": "white",
           "landcolor": "#E5ECF6",
           "showlakes": true,
           "showland": true,
           "subunitcolor": "white"
          },
          "hoverlabel": {
           "align": "left"
          },
          "hovermode": "closest",
          "mapbox": {
           "style": "light"
          },
          "paper_bgcolor": "white",
          "plot_bgcolor": "#E5ECF6",
          "polar": {
           "angularaxis": {
            "gridcolor": "white",
            "linecolor": "white",
            "ticks": ""
           },
           "bgcolor": "#E5ECF6",
           "radialaxis": {
            "gridcolor": "white",
            "linecolor": "white",
            "ticks": ""
           }
          },
          "scene": {
           "xaxis": {
            "backgroundcolor": "#E5ECF6",
            "gridcolor": "white",
            "gridwidth": 2,
            "linecolor": "white",
            "showbackground": true,
            "ticks": "",
            "zerolinecolor": "white"
           },
           "yaxis": {
            "backgroundcolor": "#E5ECF6",
            "gridcolor": "white",
            "gridwidth": 2,
            "linecolor": "white",
            "showbackground": true,
            "ticks": "",
            "zerolinecolor": "white"
           },
           "zaxis": {
            "backgroundcolor": "#E5ECF6",
            "gridcolor": "white",
            "gridwidth": 2,
            "linecolor": "white",
            "showbackground": true,
            "ticks": "",
            "zerolinecolor": "white"
           }
          },
          "shapedefaults": {
           "line": {
            "color": "#2a3f5f"
           }
          },
          "ternary": {
           "aaxis": {
            "gridcolor": "white",
            "linecolor": "white",
            "ticks": ""
           },
           "baxis": {
            "gridcolor": "white",
            "linecolor": "white",
            "ticks": ""
           },
           "bgcolor": "#E5ECF6",
           "caxis": {
            "gridcolor": "white",
            "linecolor": "white",
            "ticks": ""
           }
          },
          "title": {
           "x": 0.05
          },
          "xaxis": {
           "automargin": true,
           "gridcolor": "white",
           "linecolor": "white",
           "ticks": "",
           "title": {
            "standoff": 15
           },
           "zerolinecolor": "white",
           "zerolinewidth": 2
          },
          "yaxis": {
           "automargin": true,
           "gridcolor": "white",
           "linecolor": "white",
           "ticks": "",
           "title": {
            "standoff": 15
           },
           "zerolinecolor": "white",
           "zerolinewidth": 2
          }
         }
        },
        "xaxis": {
         "anchor": "y",
         "domain": [
          0,
          1
         ],
         "title": {
          "text": "Package | Solver Combo"
         }
        },
        "yaxis": {
         "anchor": "x",
         "domain": [
          0,
          1
         ],
         "title": {
          "text": "Time"
         }
        }
       }
      }
     },
     "metadata": {},
     "output_type": "display_data"
    },
    {
     "name": "stdout",
     "output_type": "stream",
     "text": [
      "numbAssets=5 numbOrders=100\n"
     ]
    },
    {
     "data": {
      "application/vnd.plotly.v1+json": {
       "config": {
        "plotlyServerURL": "https://plot.ly"
       },
       "data": [
        {
         "alignmentgroup": "True",
         "hovertemplate": "Package | Solver Combo=%{x}<br>Time=%{y}<extra></extra>",
         "legendgroup": "",
         "marker": {
          "color": "#636efa"
         },
         "name": "",
         "notched": false,
         "offsetgroup": "",
         "orientation": "v",
         "showlegend": false,
         "type": "box",
         "x": [
          "cvxpy | OSQP",
          "cvxpy | OSQP",
          "cvxpy | OSQP",
          "cvxpy | OSQP",
          "cvxpy | OSQP",
          "cvxpy | OSQP",
          "cvxpy | OSQP",
          "cvxpy | OSQP",
          "cvxpy | OSQP",
          "cvxpy | OSQP",
          "cvxpy | OSQP",
          "cvxpy | OSQP",
          "cvxpy | OSQP",
          "cvxpy | OSQP",
          "cvxpy | OSQP",
          "cvxpy | OSQP",
          "cvxpy | OSQP",
          "cvxpy | OSQP",
          "cvxpy | OSQP",
          "cvxpy | OSQP",
          "cvxpy | OSQP",
          "cvxpy | OSQP",
          "cvxpy | OSQP",
          "cvxpy | OSQP",
          "cvxpy | OSQP",
          "cvxpy | OSQP",
          "cvxpy | OSQP",
          "cvxpy | OSQP",
          "cvxpy | OSQP",
          "cvxpy | OSQP",
          "cvxpy | OSQP",
          "cvxpy | OSQP",
          "cvxpy | OSQP",
          "cvxpy | OSQP",
          "cvxpy | OSQP",
          "cvxpy | OSQP",
          "cvxpy | OSQP",
          "cvxpy | OSQP",
          "cvxpy | OSQP",
          "cvxpy | OSQP",
          "cvxpy | OSQP",
          "cvxpy | OSQP",
          "cvxpy | OSQP",
          "cvxpy | OSQP",
          "cvxpy | OSQP",
          "cvxpy | OSQP",
          "cvxpy | OSQP",
          "cvxpy | OSQP",
          "cvxpy | OSQP",
          "cvxpy | OSQP",
          "cvxpy | OSQP",
          "cvxpy | OSQP",
          "cvxpy | OSQP",
          "cvxpy | OSQP",
          "cvxpy | OSQP",
          "cvxpy | OSQP",
          "cvxpy | OSQP",
          "cvxpy | OSQP",
          "cvxpy | OSQP",
          "cvxpy | OSQP",
          "cvxpy | OSQP",
          "cvxpy | OSQP",
          "cvxpy | OSQP",
          "cvxpy | OSQP",
          "cvxpy | OSQP",
          "cvxpy | OSQP",
          "cvxpy | OSQP",
          "cvxpy | OSQP",
          "cvxpy | OSQP",
          "cvxpy | OSQP",
          "cvxpy | OSQP",
          "cvxpy | OSQP",
          "cvxpy | OSQP",
          "cvxpy | OSQP",
          "cvxpy | OSQP",
          "cvxpy | OSQP",
          "cvxpy | OSQP",
          "cvxpy | OSQP",
          "cvxpy | OSQP",
          "cvxpy | OSQP",
          "cvxpy | OSQP",
          "cvxpy | OSQP",
          "cvxpy | OSQP",
          "cvxpy | OSQP",
          "cvxpy | OSQP",
          "cvxpy | OSQP",
          "cvxpy | OSQP",
          "cvxpy | OSQP",
          "cvxpy | OSQP",
          "cvxpy | OSQP",
          "cvxpy | OSQP",
          "cvxpy | OSQP",
          "cvxpy | OSQP",
          "cvxpy | OSQP",
          "cvxpy | OSQP",
          "cvxpy | OSQP",
          "cvxpy | OSQP",
          "cvxpy | OSQP",
          "cvxpy | OSQP",
          "cvxpy | OSQP",
          "cvxpy | ECOS",
          "cvxpy | ECOS",
          "cvxpy | ECOS",
          "cvxpy | ECOS",
          "cvxpy | ECOS",
          "cvxpy | ECOS",
          "cvxpy | ECOS",
          "cvxpy | ECOS",
          "cvxpy | ECOS",
          "cvxpy | ECOS",
          "cvxpy | ECOS",
          "cvxpy | ECOS",
          "cvxpy | ECOS",
          "cvxpy | ECOS",
          "cvxpy | ECOS",
          "cvxpy | ECOS",
          "cvxpy | ECOS",
          "cvxpy | ECOS",
          "cvxpy | ECOS",
          "cvxpy | ECOS",
          "cvxpy | ECOS",
          "cvxpy | ECOS",
          "cvxpy | ECOS",
          "cvxpy | ECOS",
          "cvxpy | ECOS",
          "cvxpy | ECOS",
          "cvxpy | ECOS",
          "cvxpy | ECOS",
          "cvxpy | ECOS",
          "cvxpy | ECOS",
          "cvxpy | ECOS",
          "cvxpy | ECOS",
          "cvxpy | ECOS",
          "cvxpy | ECOS",
          "cvxpy | ECOS",
          "cvxpy | ECOS",
          "cvxpy | ECOS",
          "cvxpy | ECOS",
          "cvxpy | ECOS",
          "cvxpy | ECOS",
          "cvxpy | ECOS",
          "cvxpy | ECOS",
          "cvxpy | ECOS",
          "cvxpy | ECOS",
          "cvxpy | ECOS",
          "cvxpy | ECOS",
          "cvxpy | ECOS",
          "cvxpy | ECOS",
          "cvxpy | ECOS",
          "cvxpy | ECOS",
          "cvxpy | ECOS",
          "cvxpy | ECOS",
          "cvxpy | ECOS",
          "cvxpy | ECOS",
          "cvxpy | ECOS",
          "cvxpy | ECOS",
          "cvxpy | ECOS",
          "cvxpy | ECOS",
          "cvxpy | ECOS",
          "cvxpy | ECOS",
          "cvxpy | ECOS",
          "cvxpy | ECOS",
          "cvxpy | ECOS",
          "cvxpy | ECOS",
          "cvxpy | ECOS",
          "cvxpy | ECOS",
          "cvxpy | ECOS",
          "cvxpy | ECOS",
          "cvxpy | ECOS",
          "cvxpy | ECOS",
          "cvxpy | ECOS",
          "cvxpy | ECOS",
          "cvxpy | ECOS",
          "cvxpy | ECOS",
          "cvxpy | ECOS",
          "cvxpy | ECOS",
          "cvxpy | ECOS",
          "cvxpy | ECOS",
          "cvxpy | ECOS",
          "cvxpy | ECOS",
          "cvxpy | ECOS",
          "cvxpy | ECOS",
          "cvxpy | ECOS",
          "cvxpy | ECOS",
          "cvxpy | ECOS",
          "cvxpy | ECOS",
          "cvxpy | ECOS",
          "cvxpy | ECOS",
          "cvxpy | ECOS",
          "cvxpy | ECOS",
          "cvxpy | ECOS",
          "cvxpy | ECOS",
          "cvxpy | ECOS",
          "cvxpy | ECOS",
          "cvxpy | ECOS",
          "cvxpy | ECOS",
          "cvxpy | ECOS",
          "cvxpy | ECOS",
          "cvxpy | ECOS",
          "cvxpy | ECOS",
          "cvxpy | SCS",
          "cvxpy | SCS",
          "cvxpy | SCS",
          "cvxpy | SCS",
          "cvxpy | SCS",
          "cvxpy | SCS",
          "cvxpy | SCS",
          "cvxpy | SCS",
          "cvxpy | SCS",
          "cvxpy | SCS",
          "cvxpy | SCS",
          "cvxpy | SCS",
          "cvxpy | SCS",
          "cvxpy | SCS",
          "cvxpy | SCS",
          "cvxpy | SCS",
          "cvxpy | SCS",
          "cvxpy | SCS",
          "cvxpy | SCS",
          "cvxpy | SCS",
          "cvxpy | SCS",
          "cvxpy | SCS",
          "cvxpy | SCS",
          "cvxpy | SCS",
          "cvxpy | SCS",
          "cvxpy | SCS",
          "cvxpy | SCS",
          "cvxpy | SCS",
          "cvxpy | SCS",
          "cvxpy | SCS",
          "cvxpy | SCS",
          "cvxpy | SCS",
          "cvxpy | SCS",
          "cvxpy | SCS",
          "cvxpy | SCS",
          "cvxpy | SCS",
          "cvxpy | SCS",
          "cvxpy | SCS",
          "cvxpy | SCS",
          "cvxpy | SCS",
          "cvxpy | SCS",
          "cvxpy | SCS",
          "cvxpy | SCS",
          "cvxpy | SCS",
          "cvxpy | SCS",
          "cvxpy | SCS",
          "cvxpy | SCS",
          "cvxpy | SCS",
          "cvxpy | SCS",
          "cvxpy | SCS",
          "cvxpy | SCS",
          "cvxpy | SCS",
          "cvxpy | SCS",
          "cvxpy | SCS",
          "cvxpy | SCS",
          "cvxpy | SCS",
          "cvxpy | SCS",
          "cvxpy | SCS",
          "cvxpy | SCS",
          "cvxpy | SCS",
          "cvxpy | SCS",
          "cvxpy | SCS",
          "cvxpy | SCS",
          "cvxpy | SCS",
          "cvxpy | SCS",
          "cvxpy | SCS",
          "cvxpy | SCS",
          "cvxpy | SCS",
          "cvxpy | SCS",
          "cvxpy | SCS",
          "cvxpy | SCS",
          "cvxpy | SCS",
          "cvxpy | SCS",
          "cvxpy | SCS",
          "cvxpy | SCS",
          "cvxpy | SCS",
          "cvxpy | SCS",
          "cvxpy | SCS",
          "cvxpy | SCS",
          "cvxpy | SCS",
          "cvxpy | SCS",
          "cvxpy | SCS",
          "cvxpy | SCS",
          "cvxpy | SCS",
          "cvxpy | SCS",
          "cvxpy | SCS",
          "cvxpy | SCS",
          "cvxpy | SCS",
          "cvxpy | SCS",
          "cvxpy | SCS",
          "cvxpy | SCS",
          "cvxpy | SCS",
          "cvxpy | SCS",
          "cvxpy | SCS",
          "cvxpy | SCS",
          "cvxpy | SCS",
          "cvxpy | SCS",
          "cvxpy | SCS",
          "cvxpy | SCS",
          "cvxpy | SCS",
          "qpsolver | osqp",
          "qpsolver | osqp",
          "qpsolver | osqp",
          "qpsolver | osqp",
          "qpsolver | osqp",
          "qpsolver | osqp",
          "qpsolver | osqp",
          "qpsolver | osqp",
          "qpsolver | osqp",
          "qpsolver | osqp",
          "qpsolver | osqp",
          "qpsolver | osqp",
          "qpsolver | osqp",
          "qpsolver | osqp",
          "qpsolver | osqp",
          "qpsolver | osqp",
          "qpsolver | osqp",
          "qpsolver | osqp",
          "qpsolver | osqp",
          "qpsolver | osqp",
          "qpsolver | osqp",
          "qpsolver | osqp",
          "qpsolver | osqp",
          "qpsolver | osqp",
          "qpsolver | osqp",
          "qpsolver | osqp",
          "qpsolver | osqp",
          "qpsolver | osqp",
          "qpsolver | osqp",
          "qpsolver | osqp",
          "qpsolver | osqp",
          "qpsolver | osqp",
          "qpsolver | osqp",
          "qpsolver | osqp",
          "qpsolver | osqp",
          "qpsolver | osqp",
          "qpsolver | osqp",
          "qpsolver | osqp",
          "qpsolver | osqp",
          "qpsolver | osqp",
          "qpsolver | osqp",
          "qpsolver | osqp",
          "qpsolver | osqp",
          "qpsolver | osqp",
          "qpsolver | osqp",
          "qpsolver | osqp",
          "qpsolver | osqp",
          "qpsolver | osqp",
          "qpsolver | osqp",
          "qpsolver | osqp",
          "qpsolver | osqp",
          "qpsolver | osqp",
          "qpsolver | osqp",
          "qpsolver | osqp",
          "qpsolver | osqp",
          "qpsolver | osqp",
          "qpsolver | osqp",
          "qpsolver | osqp",
          "qpsolver | osqp",
          "qpsolver | osqp",
          "qpsolver | osqp",
          "qpsolver | osqp",
          "qpsolver | osqp",
          "qpsolver | osqp",
          "qpsolver | osqp",
          "qpsolver | osqp",
          "qpsolver | osqp",
          "qpsolver | osqp",
          "qpsolver | osqp",
          "qpsolver | osqp",
          "qpsolver | osqp",
          "qpsolver | osqp",
          "qpsolver | osqp",
          "qpsolver | osqp",
          "qpsolver | osqp",
          "qpsolver | osqp",
          "qpsolver | osqp",
          "qpsolver | osqp",
          "qpsolver | osqp",
          "qpsolver | osqp",
          "qpsolver | osqp",
          "qpsolver | osqp",
          "qpsolver | osqp",
          "qpsolver | osqp",
          "qpsolver | osqp",
          "qpsolver | osqp",
          "qpsolver | osqp",
          "qpsolver | osqp",
          "qpsolver | osqp",
          "qpsolver | osqp",
          "qpsolver | osqp",
          "qpsolver | osqp",
          "qpsolver | osqp",
          "qpsolver | osqp",
          "qpsolver | osqp",
          "qpsolver | osqp",
          "qpsolver | osqp",
          "qpsolver | osqp",
          "qpsolver | osqp",
          "qpsolver | osqp",
          "qpsolver | ecos",
          "qpsolver | ecos",
          "qpsolver | ecos",
          "qpsolver | ecos",
          "qpsolver | ecos",
          "qpsolver | ecos",
          "qpsolver | ecos",
          "qpsolver | ecos",
          "qpsolver | ecos",
          "qpsolver | ecos",
          "qpsolver | ecos",
          "qpsolver | ecos",
          "qpsolver | ecos",
          "qpsolver | ecos",
          "qpsolver | ecos",
          "qpsolver | ecos",
          "qpsolver | ecos",
          "qpsolver | ecos",
          "qpsolver | ecos",
          "qpsolver | ecos",
          "qpsolver | ecos",
          "qpsolver | ecos",
          "qpsolver | ecos",
          "qpsolver | ecos",
          "qpsolver | ecos",
          "qpsolver | ecos",
          "qpsolver | ecos",
          "qpsolver | ecos",
          "qpsolver | ecos",
          "qpsolver | ecos",
          "qpsolver | ecos",
          "qpsolver | ecos",
          "qpsolver | ecos",
          "qpsolver | ecos",
          "qpsolver | ecos",
          "qpsolver | ecos",
          "qpsolver | ecos",
          "qpsolver | ecos",
          "qpsolver | ecos",
          "qpsolver | ecos",
          "qpsolver | ecos",
          "qpsolver | ecos",
          "qpsolver | ecos",
          "qpsolver | ecos",
          "qpsolver | ecos",
          "qpsolver | ecos",
          "qpsolver | ecos",
          "qpsolver | ecos",
          "qpsolver | ecos",
          "qpsolver | ecos",
          "qpsolver | ecos",
          "qpsolver | ecos",
          "qpsolver | ecos",
          "qpsolver | ecos",
          "qpsolver | ecos",
          "qpsolver | ecos",
          "qpsolver | ecos",
          "qpsolver | ecos",
          "qpsolver | ecos",
          "qpsolver | ecos",
          "qpsolver | ecos",
          "qpsolver | ecos",
          "qpsolver | ecos",
          "qpsolver | ecos",
          "qpsolver | ecos",
          "qpsolver | ecos",
          "qpsolver | ecos",
          "qpsolver | ecos",
          "qpsolver | ecos",
          "qpsolver | ecos",
          "qpsolver | ecos",
          "qpsolver | ecos",
          "qpsolver | ecos",
          "qpsolver | ecos",
          "qpsolver | ecos",
          "qpsolver | ecos",
          "qpsolver | ecos",
          "qpsolver | ecos",
          "qpsolver | ecos",
          "qpsolver | ecos",
          "qpsolver | ecos",
          "qpsolver | ecos",
          "qpsolver | ecos",
          "qpsolver | ecos",
          "qpsolver | ecos",
          "qpsolver | ecos",
          "qpsolver | ecos",
          "qpsolver | ecos",
          "qpsolver | ecos",
          "qpsolver | ecos",
          "qpsolver | ecos",
          "qpsolver | ecos",
          "qpsolver | ecos",
          "qpsolver | ecos",
          "qpsolver | ecos",
          "qpsolver | ecos",
          "qpsolver | ecos",
          "qpsolver | ecos",
          "qpsolver | ecos",
          "qpsolver | ecos",
          "qpsolver | scs",
          "qpsolver | scs",
          "qpsolver | scs",
          "qpsolver | scs",
          "qpsolver | scs",
          "qpsolver | scs",
          "qpsolver | scs",
          "qpsolver | scs",
          "qpsolver | scs",
          "qpsolver | scs",
          "qpsolver | scs",
          "qpsolver | scs",
          "qpsolver | scs",
          "qpsolver | scs",
          "qpsolver | scs",
          "qpsolver | scs",
          "qpsolver | scs",
          "qpsolver | scs",
          "qpsolver | scs",
          "qpsolver | scs",
          "qpsolver | scs",
          "qpsolver | scs",
          "qpsolver | scs",
          "qpsolver | scs",
          "qpsolver | scs",
          "qpsolver | scs",
          "qpsolver | scs",
          "qpsolver | scs",
          "qpsolver | scs",
          "qpsolver | scs",
          "qpsolver | scs",
          "qpsolver | scs",
          "qpsolver | scs",
          "qpsolver | scs",
          "qpsolver | scs",
          "qpsolver | scs",
          "qpsolver | scs",
          "qpsolver | scs",
          "qpsolver | scs",
          "qpsolver | scs",
          "qpsolver | scs",
          "qpsolver | scs",
          "qpsolver | scs",
          "qpsolver | scs",
          "qpsolver | scs",
          "qpsolver | scs",
          "qpsolver | scs",
          "qpsolver | scs",
          "qpsolver | scs",
          "qpsolver | scs",
          "qpsolver | scs",
          "qpsolver | scs",
          "qpsolver | scs",
          "qpsolver | scs",
          "qpsolver | scs",
          "qpsolver | scs",
          "qpsolver | scs",
          "qpsolver | scs",
          "qpsolver | scs",
          "qpsolver | scs",
          "qpsolver | scs",
          "qpsolver | scs",
          "qpsolver | scs",
          "qpsolver | scs",
          "qpsolver | scs",
          "qpsolver | scs",
          "qpsolver | scs",
          "qpsolver | scs",
          "qpsolver | scs",
          "qpsolver | scs",
          "qpsolver | scs",
          "qpsolver | scs",
          "qpsolver | scs",
          "qpsolver | scs",
          "qpsolver | scs",
          "qpsolver | scs",
          "qpsolver | scs",
          "qpsolver | scs",
          "qpsolver | scs",
          "qpsolver | scs",
          "qpsolver | scs",
          "qpsolver | scs",
          "qpsolver | scs",
          "qpsolver | scs",
          "qpsolver | scs",
          "qpsolver | scs",
          "qpsolver | scs",
          "qpsolver | scs",
          "qpsolver | scs",
          "qpsolver | scs",
          "qpsolver | scs",
          "qpsolver | scs",
          "qpsolver | scs",
          "qpsolver | scs",
          "qpsolver | scs",
          "qpsolver | scs",
          "qpsolver | scs",
          "qpsolver | scs",
          "qpsolver | scs",
          "qpsolver | scs",
          "qpsolver | quadprog",
          "qpsolver | quadprog",
          "qpsolver | quadprog",
          "qpsolver | quadprog",
          "qpsolver | quadprog",
          "qpsolver | quadprog",
          "qpsolver | quadprog",
          "qpsolver | quadprog",
          "qpsolver | quadprog",
          "qpsolver | quadprog",
          "qpsolver | quadprog",
          "qpsolver | quadprog",
          "qpsolver | quadprog",
          "qpsolver | quadprog",
          "qpsolver | quadprog",
          "qpsolver | quadprog",
          "qpsolver | quadprog",
          "qpsolver | quadprog",
          "qpsolver | quadprog",
          "qpsolver | quadprog",
          "qpsolver | quadprog",
          "qpsolver | quadprog",
          "qpsolver | quadprog",
          "qpsolver | quadprog",
          "qpsolver | quadprog",
          "qpsolver | quadprog",
          "qpsolver | quadprog",
          "qpsolver | quadprog",
          "qpsolver | quadprog",
          "qpsolver | quadprog",
          "qpsolver | quadprog",
          "qpsolver | quadprog",
          "qpsolver | quadprog",
          "qpsolver | quadprog",
          "qpsolver | quadprog",
          "qpsolver | quadprog",
          "qpsolver | quadprog",
          "qpsolver | quadprog",
          "qpsolver | quadprog",
          "qpsolver | quadprog",
          "qpsolver | quadprog",
          "qpsolver | quadprog",
          "qpsolver | quadprog",
          "qpsolver | quadprog",
          "qpsolver | quadprog",
          "qpsolver | quadprog",
          "qpsolver | quadprog",
          "qpsolver | quadprog",
          "qpsolver | quadprog",
          "qpsolver | quadprog",
          "qpsolver | quadprog",
          "qpsolver | quadprog",
          "qpsolver | quadprog",
          "qpsolver | quadprog",
          "qpsolver | quadprog",
          "qpsolver | quadprog",
          "qpsolver | quadprog",
          "qpsolver | quadprog",
          "qpsolver | quadprog",
          "qpsolver | quadprog",
          "qpsolver | quadprog",
          "qpsolver | quadprog",
          "qpsolver | quadprog",
          "qpsolver | quadprog",
          "qpsolver | quadprog",
          "qpsolver | quadprog",
          "qpsolver | quadprog",
          "qpsolver | quadprog",
          "qpsolver | quadprog",
          "qpsolver | quadprog",
          "qpsolver | quadprog",
          "qpsolver | quadprog",
          "qpsolver | quadprog",
          "qpsolver | quadprog",
          "qpsolver | quadprog",
          "qpsolver | quadprog",
          "qpsolver | quadprog",
          "qpsolver | quadprog",
          "qpsolver | quadprog",
          "qpsolver | quadprog",
          "qpsolver | quadprog",
          "qpsolver | quadprog",
          "qpsolver | quadprog",
          "qpsolver | quadprog",
          "qpsolver | quadprog",
          "qpsolver | quadprog",
          "qpsolver | quadprog",
          "qpsolver | quadprog",
          "qpsolver | quadprog",
          "qpsolver | quadprog",
          "qpsolver | quadprog",
          "qpsolver | quadprog",
          "qpsolver | quadprog",
          "qpsolver | quadprog",
          "qpsolver | quadprog",
          "qpsolver | quadprog",
          "qpsolver | quadprog",
          "qpsolver | quadprog",
          "qpsolver | quadprog",
          "qpsolver | quadprog"
         ],
         "x0": " ",
         "xaxis": "x",
         "y": [
          228.7505440711975,
          328.07460498809814,
          355.55012798309326,
          360.0798251628876,
          360.8908972740173,
          364.0137250423432,
          363.9708950519562,
          364.1257281303406,
          364.00256395339966,
          363.839802980423,
          364.0389387607575,
          364.11089301109314,
          364.0170669555664,
          367.1302318572998,
          367.7579169273377,
          374.795015335083,
          374.79400610923767,
          376.3724308013916,
          376.4325981140137,
          376.7141261100769,
          377.22898411750793,
          377.19508814811707,
          379.6150908470154,
          380.9539620876312,
          380.99229311943054,
          381.6911668777466,
          381.91572403907776,
          382.0649819374085,
          382.1276819705963,
          382.8968548774719,
          382.6844058036804,
          382.8442499637604,
          383.7326290607453,
          383.7852191925049,
          383.9822909832001,
          383.8152029514313,
          383.9359362125397,
          383.94906091690063,
          383.9102580547333,
          383.9443709850311,
          383.9610729217529,
          384.0618050098419,
          383.9931938648224,
          383.9648010730744,
          384.0824329853058,
          383.9734489917755,
          384.07482385635376,
          384.1830289363861,
          383.95534801483154,
          384.13502502441406,
          384.11228799819946,
          384.2169499397278,
          384.2493419647217,
          384.2828011512756,
          384.0449841022492,
          384.48440384864807,
          384.3346421718597,
          384.256621837616,
          384.28854608535767,
          384.547593832016,
          384.26306986808777,
          384.3957169055939,
          384.6957821846008,
          384.59918117523193,
          384.5871438980103,
          384.8510639667511,
          384.7600841522217,
          385.50074911117554,
          385.5758519172669,
          385.3139269351959,
          385.44025182724,
          385.4828910827637,
          385.7639348506928,
          385.8018779754639,
          385.6858818531037,
          385.9758989810944,
          386.1006178855896,
          386.01168060302734,
          386.3219358921051,
          385.9483859539032,
          386.0587320327759,
          386.1877818107605,
          386.0076758861542,
          386.26684498786926,
          386.20634412765503,
          386.1972270011902,
          386.0175869464874,
          386.0592081546784,
          386.29021191596985,
          386.0930881500244,
          386.3368110656738,
          386.1254818439484,
          386.2081279754639,
          386.3725690841675,
          386.2865469455719,
          386.4761791229248,
          386.33960604667664,
          386.2747719287872,
          386.48321890830994,
          386.6725161075592,
          388.3609731197357,
          388.3531758785248,
          388.467212677002,
          388.52313709259033,
          388.7706108093262,
          388.78337478637695,
          388.6720681190491,
          388.9718770980835,
          388.9663028717041,
          388.8709988594055,
          389.0703451633453,
          388.9194619655609,
          389.2273139953613,
          389.05157995224,
          389.16019320487976,
          389.08704018592834,
          389.0538868904114,
          389.3987839221954,
          389.1460871696472,
          389.0537538528442,
          389.10046005249023,
          389.1195960044861,
          389.1169579029083,
          389.4479649066925,
          389.2422959804535,
          389.4661808013916,
          389.40570092201233,
          389.3819110393524,
          389.5136020183563,
          389.24636912345886,
          389.5305869579315,
          389.78483390808105,
          389.6462080478668,
          389.8897500038147,
          389.77017617225647,
          389.9136798381805,
          389.6111278533936,
          389.615834236145,
          389.9565598964691,
          389.8608572483063,
          389.9184350967407,
          389.7350609302521,
          389.8841478824616,
          390.0602538585663,
          390.00514030456543,
          390.0817520618439,
          389.8863537311554,
          390.0022881031037,
          390.1752710342407,
          390.1788470745087,
          390.0229871273041,
          390.3342771530152,
          390.072829246521,
          390.4361078739166,
          390.173807144165,
          390.144540309906,
          390.1952939033508,
          390.51997685432434,
          390.448707818985,
          390.63630509376526,
          390.5573291778565,
          390.66987681388855,
          390.4329690933228,
          390.5533349514008,
          390.46479392051697,
          390.6237082481384,
          390.4690029621124,
          390.8932271003723,
          390.6497888565064,
          390.6319217681885,
          390.74229764938354,
          390.6620330810547,
          390.7889080047608,
          391.0215418338776,
          390.85680103302,
          390.8386299610138,
          390.937852859497,
          390.82945704460144,
          390.84093713760376,
          391.0941197872162,
          391.0316729545593,
          390.9887170791626,
          391.0332181453705,
          391.0881109237671,
          391.0967538356781,
          391.06521797180176,
          390.9948351383209,
          391.2473771572113,
          391.2849869728088,
          391.6194298267365,
          391.4557089805603,
          391.3376851081848,
          391.3488371372223,
          391.70937180519104,
          391.36681485176086,
          391.4059720039368,
          391.6660430431366,
          391.7841572761536,
          391.4143171310425,
          391.77171993255615,
          392.0697028636933,
          391.9949479103088,
          391.9624807834625,
          392.0099811553955,
          392.2629091739655,
          392.30796694755554,
          392.1667449474335,
          392.014897108078,
          392.43581318855286,
          392.08793592453,
          392.8770010471344,
          393.2863891124725,
          393.20650601387024,
          393.2868230342865,
          393.10179018974304,
          393.0908088684082,
          393.2512938976288,
          393.4642899036408,
          393.3486490249634,
          393.4956181049347,
          393.4423491954804,
          393.4918301105499,
          393.5041520595551,
          393.70922231674194,
          393.8545989990234,
          393.85797572135925,
          393.6303188800812,
          393.8312940597534,
          393.8127460479736,
          394.1171500682831,
          393.90109181404114,
          393.8167862892151,
          394.2353789806366,
          393.98460268974304,
          393.9795968532562,
          393.92031812667847,
          394.2260489463806,
          394.3094539642334,
          394.35641503334045,
          394.44618916511536,
          394.49279594421387,
          394.5782518386841,
          394.4487700462341,
          394.3652429580689,
          394.55544424057007,
          394.6531310081482,
          394.57050704956055,
          394.72035098075867,
          394.6226150989533,
          394.82597398757935,
          394.7253220081329,
          394.78778409957886,
          394.7492949962616,
          394.983831167221,
          394.7610948085785,
          394.8093092441559,
          394.7099990844727,
          394.8406617641449,
          394.9142317771912,
          394.9589648246765,
          395.0129108428955,
          394.79620599746704,
          394.76256918907166,
          394.9351229667664,
          394.7054989337921,
          394.7818880081177,
          394.9117691516876,
          394.9546570777893,
          395.0786371231079,
          394.9615051746368,
          395.1237459182739,
          394.8658668994904,
          394.99663376808167,
          395.0177581310272,
          394.9834382534027,
          395.1299419403076,
          394.9908118247986,
          394.9791572093964,
          394.9359571933746,
          394.9747920036316,
          395.0872120857239,
          395.23746824264526,
          395.1583888530731,
          395.10320520401,
          395.0763649940491,
          395.16666173934937,
          394.99471616745,
          395.1258029937744,
          394.8801240921021,
          394.8930189609528,
          394.9089879989624,
          395.0172498226166,
          395.032035112381,
          395.2187159061432,
          394.913722038269,
          395.23808574676514,
          395.0192241668701,
          395.0563578605652,
          394.9533760547638,
          395.24562978744507,
          0.0139310359954833,
          0.0301697254180908,
          0.0162036418914794,
          0.059237003326416,
          0.0120749473571777,
          0.049746036529541,
          0.0162649154663085,
          0.0556750297546386,
          0.0108458995819091,
          0.0683839321136474,
          0.0358951091766357,
          0.0127103328704833,
          0.0439977645874023,
          0.0402412414550781,
          0.0028071403503417,
          0.0563569068908691,
          0.0037372112274169,
          0.0394520759582519,
          0.0275959968566894,
          0.0683290958404541,
          0.0512309074401855,
          0.0027880668640136,
          0.0027887821197509,
          0.0078668594360351,
          0.0591170787811279,
          0.030534029006958,
          0.006519079208374,
          0.0629687309265136,
          0.0317487716674804,
          0.0611147880554199,
          0.0088472366333007,
          0.015449047088623,
          0.0034751892089843,
          0.0457856655120849,
          0.0270521640777587,
          0.0028028488159179,
          0.0160028934478759,
          0.0027799606323242,
          0.0539281368255615,
          0.0138337612152099,
          0.0189180374145507,
          0.0475461483001709,
          0.0055389404296875,
          0.0059640407562255,
          0.0908319950103759,
          0.0719599723815918,
          0.0257370471954345,
          0.0367588996887207,
          0.0606670379638671,
          0.0846991539001464,
          0.0100321769714355,
          0.008523941040039,
          0.010962963104248,
          0.0118629932403564,
          0.0480120182037353,
          0.0552558898925781,
          0.039691686630249,
          0.0100698471069335,
          0.0418708324432373,
          0.0804171562194824,
          0.0795850753784179,
          0.0256600379943847,
          0.0786669254302978,
          0.0425319671630859,
          0.0044960975646972,
          0.0335476398468017,
          0.0231449604034423,
          0.0028600692749023,
          0.0140027999877929,
          0.0056149959564208,
          0.0064702033996582,
          0.0379230976104736,
          0.0379550457000732,
          0.0496561527252197,
          0.0600440502166748,
          0.0521826744079589,
          0.0382201671600341,
          0.1116170883178711,
          0.0467200279235839,
          0.0866880416870117,
          0.0427272319793701,
          0.0675587654113769,
          0.0497961044311523,
          0.0196311473846435,
          0.0222721099853515,
          0.0418150424957275,
          0.0057909488677978,
          0.0070579051971435,
          0.0076861381530761,
          0.0081148147583007,
          0.0106449127197265,
          0.0092620849609375,
          0.0369150638580322,
          0.0144071578979492,
          0.0139620304107666,
          0.0110106468200683,
          0.0107290744781494,
          0.0122351646423339,
          0.0119431018829345,
          0.0126368999481201,
          0.0297479629516601,
          0.0049591064453125,
          0.0157361030578613,
          0.0307579040527343,
          0.0196328163146972,
          0.0211231708526611,
          0.0024356842041015,
          0.0025649070739746,
          0.0053861141204833,
          0.0049200057983398,
          0.0029351711273193,
          0.0505557060241699,
          0.0109367370605468,
          0.0359790325164794,
          0.0053598880767822,
          0.0051929950714111,
          0.0056319236755371,
          0.0023918151855468,
          0.0350840091705322,
          0.0125181674957275,
          0.0216448307037353,
          0.0100359916687011,
          0.0271899700164794,
          0.0836231708526611,
          0.0052828788757324,
          0.0098700523376464,
          0.0359821319580078,
          0.0383949279785156,
          0.0312807559967041,
          0.0024147033691406,
          0.0024149417877197,
          0.06744384765625,
          4.587500810623169,
          4.565058946609497,
          5.032015800476074,
          4.902803182601929,
          6.533576965332031,
          6.442419767379761,
          6.749518156051636,
          6.884677886962891,
          7.352404117584228,
          7.209511995315552,
          7.56259822845459,
          7.532432794570923,
          7.7064220905303955,
          7.375556707382202,
          7.754873991012573,
          7.772112846374512,
          7.822763204574585,
          7.724361896514893,
          8.084694147109985,
          8.324908018112183,
          7.927537202835083,
          7.956010103225708,
          8.375936031341553,
          8.12173318862915,
          8.478432893753052,
          8.315757751464844,
          8.41626524925232,
          8.506285667419434,
          8.813225269317627,
          8.709971189498901,
          8.733793020248413,
          8.613073825836182,
          8.603898048400879,
          8.882259130477905,
          8.797576904296875,
          8.875030994415283,
          8.845228910446167,
          9.056324005126951,
          9.039058923721312,
          9.060431003570557,
          9.136803150177002,
          8.86552906036377,
          8.798927068710327,
          8.927074909210205,
          9.037487745285034,
          8.903243064880371,
          9.0679771900177,
          8.979099750518799,
          9.114485025405884,
          9.04243302345276,
          9.1460120677948,
          9.166482210159302,
          9.17131519317627,
          8.930819988250732,
          9.16557002067566,
          9.075030088424684,
          8.962180137634277,
          9.094731092453005,
          8.954240083694458,
          9.03069519996643,
          9.135933876037598,
          9.051092863082886,
          9.09917426109314,
          9.224826097488403,
          9.006044864654541,
          9.251325845718384,
          9.303210020065308,
          9.06214714050293,
          0.0109210014343261,
          0.0137758255004882,
          0.0484640598297119,
          0.0351970195770263,
          0.0170388221740722,
          0.0237739086151123,
          0.017482042312622,
          0.0121090412139892,
          0.0152020454406738,
          0.0324697494506835,
          0.071199893951416,
          0.0292451381683349,
          0.0370271205902099,
          0.0461540222167968,
          0.0322692394256591,
          0.0390563011169433,
          0.0300829410552978,
          0.0033662319183349,
          0.0116279125213623,
          0.0323362350463867,
          0.0387279987335205,
          0.0432939529418945,
          0.003537893295288,
          0.0050768852233886,
          0.0067369937896728,
          0.0151770114898681,
          0.0164108276367187,
          0.0032567977905273,
          0.0298187732696533,
          0.0461668968200683,
          0.0032958984375,
          0.019162893295288,
          0.0269172191619873,
          0.0362160205841064,
          0.0101079940795898,
          0.0119621753692626,
          0.0643818378448486,
          0.0091111660003662,
          0.0033090114593505,
          0.003310203552246,
          0.04069185256958,
          0.0487937927246093,
          0.0139782428741455,
          0.0084450244903564,
          0.0033719539642333,
          0.0182960033416748,
          0.0398669242858886,
          0.0033059120178222,
          0.0142860412597656,
          0.0032448768615722,
          0.0336968898773193,
          0.0092899799346923,
          0.0350010395050048,
          0.0312581062316894,
          0.0033128261566162,
          0.0038118362426757,
          0.0313618183135986,
          0.0033159255981445,
          0.0152530670166015,
          0.0035679340362548,
          0.0085501670837402,
          0.0141339302062988,
          0.0389480590820312,
          0.0551621913909912,
          0.0103049278259277,
          0.0303840637207031,
          0.0129899978637695,
          0.0369772911071777,
          0.0032510757446289,
          0.0510139465332031,
          0.0520613193511962,
          0.0286688804626464,
          0.0199222564697265,
          0.0092558860778808,
          0.0141658782958984,
          0.0224509239196777,
          0.014819860458374,
          0.0205087661743164,
          0.0196712017059326,
          0.0298280715942382,
          0.0180187225341796,
          0.0167560577392578,
          0.0289230346679687,
          0.0196368694305419,
          0.0207500457763671,
          0.0200860500335693,
          0.025033950805664,
          0.0269291400909423,
          0.0270509719848632,
          0.0270678997039794,
          0.0228328704833984,
          0.0122082233428955,
          0.0278501510620117,
          0.0145747661590576,
          0.0345950126647949,
          0.021414041519165,
          0.0216450691223144,
          0.0160498619079589,
          0.0224738121032714,
          0.0455341339111328,
          0.0410528182983398,
          0.003695011138916,
          0.0039408206939697,
          0.002795934677124,
          0.0064802169799804,
          0.0055878162384033,
          0.0028038024902343,
          0.0042800903320312,
          0.0040578842163085,
          0.0031909942626953,
          0.0026271343231201,
          0.0021359920501708,
          0.0029020309448242,
          0.0017893314361572,
          0.0032150745391845,
          0.0034422874450683,
          0.001835823059082,
          0.0025899410247802,
          0.0019047260284423,
          0.001457929611206,
          0.0031569004058837,
          0.0017092227935791,
          0.0048701763153076,
          0.0421020984649658,
          0.0016708374023437,
          0.0409848690032959,
          0.0028300285339355,
          0.0394701957702636,
          0.0415034294128418,
          0.0024950504302978,
          0.0020952224731445,
          0.043201208114624,
          0.0462551116943359,
          0.047677993774414,
          0.0018632411956787,
          0.0022187232971191,
          0.0017290115356445,
          0.0446949005126953,
          0.0031361579895019,
          0.0435059070587158,
          0.0018451213836669,
          0.0024399757385253,
          0.0035891532897949,
          0.0026969909667968,
          0.0020642280578613,
          0.0023598670959472,
          0.0027263164520263,
          0.0032980442047119,
          0.0022411346435546,
          0.002521276473999,
          0.0434098243713378,
          0.0039370059967041,
          0.0046110153198242,
          0.0414919853210449,
          0.0031783580780029,
          0.0408098697662353,
          0.0435500144958496,
          0.0038068294525146,
          0.0407581329345703,
          0.0030522346496582,
          0.0024299621582031,
          0.0018360614776611,
          0.041813850402832,
          0.0014312267303466,
          0.0023670196533203,
          0.0038552284240722,
          0.0031840801239013,
          0.0025720596313476,
          0.0413591861724853,
          0.0435242652893066,
          0.0051140785217285,
          0.0066018104553222,
          0.0042638778686523,
          0.0058577060699462,
          0.0048129558563232,
          0.0049669742584228,
          0.0058958530426025,
          0.0051960945129394,
          0.0045421123504638,
          0.0057470798492431,
          0.0034592151641845,
          0.0076982975006103,
          0.0049200057983398,
          0.0046050548553466,
          0.0054919719696044,
          0.0041239261627197,
          0.0070929527282714,
          0.0056462287902832,
          0.0032899379730224,
          0.0064430236816406,
          0.0086560249328613,
          0.008415937423706,
          0.0054900646209716,
          0.0100190639495849,
          0.0054578781127929,
          0.0056889057159423,
          0.0074250698089599,
          0.0090422630310058,
          0.0071690082550048,
          0.0225899219512939
         ],
         "y0": " ",
         "yaxis": "y"
        }
       ],
       "layout": {
        "boxmode": "group",
        "legend": {
         "tracegroupgap": 0
        },
        "margin": {
         "t": 60
        },
        "template": {
         "data": {
          "bar": [
           {
            "error_x": {
             "color": "#2a3f5f"
            },
            "error_y": {
             "color": "#2a3f5f"
            },
            "marker": {
             "line": {
              "color": "#E5ECF6",
              "width": 0.5
             },
             "pattern": {
              "fillmode": "overlay",
              "size": 10,
              "solidity": 0.2
             }
            },
            "type": "bar"
           }
          ],
          "barpolar": [
           {
            "marker": {
             "line": {
              "color": "#E5ECF6",
              "width": 0.5
             },
             "pattern": {
              "fillmode": "overlay",
              "size": 10,
              "solidity": 0.2
             }
            },
            "type": "barpolar"
           }
          ],
          "carpet": [
           {
            "aaxis": {
             "endlinecolor": "#2a3f5f",
             "gridcolor": "white",
             "linecolor": "white",
             "minorgridcolor": "white",
             "startlinecolor": "#2a3f5f"
            },
            "baxis": {
             "endlinecolor": "#2a3f5f",
             "gridcolor": "white",
             "linecolor": "white",
             "minorgridcolor": "white",
             "startlinecolor": "#2a3f5f"
            },
            "type": "carpet"
           }
          ],
          "choropleth": [
           {
            "colorbar": {
             "outlinewidth": 0,
             "ticks": ""
            },
            "type": "choropleth"
           }
          ],
          "contour": [
           {
            "colorbar": {
             "outlinewidth": 0,
             "ticks": ""
            },
            "colorscale": [
             [
              0,
              "#0d0887"
             ],
             [
              0.1111111111111111,
              "#46039f"
             ],
             [
              0.2222222222222222,
              "#7201a8"
             ],
             [
              0.3333333333333333,
              "#9c179e"
             ],
             [
              0.4444444444444444,
              "#bd3786"
             ],
             [
              0.5555555555555556,
              "#d8576b"
             ],
             [
              0.6666666666666666,
              "#ed7953"
             ],
             [
              0.7777777777777778,
              "#fb9f3a"
             ],
             [
              0.8888888888888888,
              "#fdca26"
             ],
             [
              1,
              "#f0f921"
             ]
            ],
            "type": "contour"
           }
          ],
          "contourcarpet": [
           {
            "colorbar": {
             "outlinewidth": 0,
             "ticks": ""
            },
            "type": "contourcarpet"
           }
          ],
          "heatmap": [
           {
            "colorbar": {
             "outlinewidth": 0,
             "ticks": ""
            },
            "colorscale": [
             [
              0,
              "#0d0887"
             ],
             [
              0.1111111111111111,
              "#46039f"
             ],
             [
              0.2222222222222222,
              "#7201a8"
             ],
             [
              0.3333333333333333,
              "#9c179e"
             ],
             [
              0.4444444444444444,
              "#bd3786"
             ],
             [
              0.5555555555555556,
              "#d8576b"
             ],
             [
              0.6666666666666666,
              "#ed7953"
             ],
             [
              0.7777777777777778,
              "#fb9f3a"
             ],
             [
              0.8888888888888888,
              "#fdca26"
             ],
             [
              1,
              "#f0f921"
             ]
            ],
            "type": "heatmap"
           }
          ],
          "heatmapgl": [
           {
            "colorbar": {
             "outlinewidth": 0,
             "ticks": ""
            },
            "colorscale": [
             [
              0,
              "#0d0887"
             ],
             [
              0.1111111111111111,
              "#46039f"
             ],
             [
              0.2222222222222222,
              "#7201a8"
             ],
             [
              0.3333333333333333,
              "#9c179e"
             ],
             [
              0.4444444444444444,
              "#bd3786"
             ],
             [
              0.5555555555555556,
              "#d8576b"
             ],
             [
              0.6666666666666666,
              "#ed7953"
             ],
             [
              0.7777777777777778,
              "#fb9f3a"
             ],
             [
              0.8888888888888888,
              "#fdca26"
             ],
             [
              1,
              "#f0f921"
             ]
            ],
            "type": "heatmapgl"
           }
          ],
          "histogram": [
           {
            "marker": {
             "pattern": {
              "fillmode": "overlay",
              "size": 10,
              "solidity": 0.2
             }
            },
            "type": "histogram"
           }
          ],
          "histogram2d": [
           {
            "colorbar": {
             "outlinewidth": 0,
             "ticks": ""
            },
            "colorscale": [
             [
              0,
              "#0d0887"
             ],
             [
              0.1111111111111111,
              "#46039f"
             ],
             [
              0.2222222222222222,
              "#7201a8"
             ],
             [
              0.3333333333333333,
              "#9c179e"
             ],
             [
              0.4444444444444444,
              "#bd3786"
             ],
             [
              0.5555555555555556,
              "#d8576b"
             ],
             [
              0.6666666666666666,
              "#ed7953"
             ],
             [
              0.7777777777777778,
              "#fb9f3a"
             ],
             [
              0.8888888888888888,
              "#fdca26"
             ],
             [
              1,
              "#f0f921"
             ]
            ],
            "type": "histogram2d"
           }
          ],
          "histogram2dcontour": [
           {
            "colorbar": {
             "outlinewidth": 0,
             "ticks": ""
            },
            "colorscale": [
             [
              0,
              "#0d0887"
             ],
             [
              0.1111111111111111,
              "#46039f"
             ],
             [
              0.2222222222222222,
              "#7201a8"
             ],
             [
              0.3333333333333333,
              "#9c179e"
             ],
             [
              0.4444444444444444,
              "#bd3786"
             ],
             [
              0.5555555555555556,
              "#d8576b"
             ],
             [
              0.6666666666666666,
              "#ed7953"
             ],
             [
              0.7777777777777778,
              "#fb9f3a"
             ],
             [
              0.8888888888888888,
              "#fdca26"
             ],
             [
              1,
              "#f0f921"
             ]
            ],
            "type": "histogram2dcontour"
           }
          ],
          "mesh3d": [
           {
            "colorbar": {
             "outlinewidth": 0,
             "ticks": ""
            },
            "type": "mesh3d"
           }
          ],
          "parcoords": [
           {
            "line": {
             "colorbar": {
              "outlinewidth": 0,
              "ticks": ""
             }
            },
            "type": "parcoords"
           }
          ],
          "pie": [
           {
            "automargin": true,
            "type": "pie"
           }
          ],
          "scatter": [
           {
            "fillpattern": {
             "fillmode": "overlay",
             "size": 10,
             "solidity": 0.2
            },
            "type": "scatter"
           }
          ],
          "scatter3d": [
           {
            "line": {
             "colorbar": {
              "outlinewidth": 0,
              "ticks": ""
             }
            },
            "marker": {
             "colorbar": {
              "outlinewidth": 0,
              "ticks": ""
             }
            },
            "type": "scatter3d"
           }
          ],
          "scattercarpet": [
           {
            "marker": {
             "colorbar": {
              "outlinewidth": 0,
              "ticks": ""
             }
            },
            "type": "scattercarpet"
           }
          ],
          "scattergeo": [
           {
            "marker": {
             "colorbar": {
              "outlinewidth": 0,
              "ticks": ""
             }
            },
            "type": "scattergeo"
           }
          ],
          "scattergl": [
           {
            "marker": {
             "colorbar": {
              "outlinewidth": 0,
              "ticks": ""
             }
            },
            "type": "scattergl"
           }
          ],
          "scattermapbox": [
           {
            "marker": {
             "colorbar": {
              "outlinewidth": 0,
              "ticks": ""
             }
            },
            "type": "scattermapbox"
           }
          ],
          "scatterpolar": [
           {
            "marker": {
             "colorbar": {
              "outlinewidth": 0,
              "ticks": ""
             }
            },
            "type": "scatterpolar"
           }
          ],
          "scatterpolargl": [
           {
            "marker": {
             "colorbar": {
              "outlinewidth": 0,
              "ticks": ""
             }
            },
            "type": "scatterpolargl"
           }
          ],
          "scatterternary": [
           {
            "marker": {
             "colorbar": {
              "outlinewidth": 0,
              "ticks": ""
             }
            },
            "type": "scatterternary"
           }
          ],
          "surface": [
           {
            "colorbar": {
             "outlinewidth": 0,
             "ticks": ""
            },
            "colorscale": [
             [
              0,
              "#0d0887"
             ],
             [
              0.1111111111111111,
              "#46039f"
             ],
             [
              0.2222222222222222,
              "#7201a8"
             ],
             [
              0.3333333333333333,
              "#9c179e"
             ],
             [
              0.4444444444444444,
              "#bd3786"
             ],
             [
              0.5555555555555556,
              "#d8576b"
             ],
             [
              0.6666666666666666,
              "#ed7953"
             ],
             [
              0.7777777777777778,
              "#fb9f3a"
             ],
             [
              0.8888888888888888,
              "#fdca26"
             ],
             [
              1,
              "#f0f921"
             ]
            ],
            "type": "surface"
           }
          ],
          "table": [
           {
            "cells": {
             "fill": {
              "color": "#EBF0F8"
             },
             "line": {
              "color": "white"
             }
            },
            "header": {
             "fill": {
              "color": "#C8D4E3"
             },
             "line": {
              "color": "white"
             }
            },
            "type": "table"
           }
          ]
         },
         "layout": {
          "annotationdefaults": {
           "arrowcolor": "#2a3f5f",
           "arrowhead": 0,
           "arrowwidth": 1
          },
          "autotypenumbers": "strict",
          "coloraxis": {
           "colorbar": {
            "outlinewidth": 0,
            "ticks": ""
           }
          },
          "colorscale": {
           "diverging": [
            [
             0,
             "#8e0152"
            ],
            [
             0.1,
             "#c51b7d"
            ],
            [
             0.2,
             "#de77ae"
            ],
            [
             0.3,
             "#f1b6da"
            ],
            [
             0.4,
             "#fde0ef"
            ],
            [
             0.5,
             "#f7f7f7"
            ],
            [
             0.6,
             "#e6f5d0"
            ],
            [
             0.7,
             "#b8e186"
            ],
            [
             0.8,
             "#7fbc41"
            ],
            [
             0.9,
             "#4d9221"
            ],
            [
             1,
             "#276419"
            ]
           ],
           "sequential": [
            [
             0,
             "#0d0887"
            ],
            [
             0.1111111111111111,
             "#46039f"
            ],
            [
             0.2222222222222222,
             "#7201a8"
            ],
            [
             0.3333333333333333,
             "#9c179e"
            ],
            [
             0.4444444444444444,
             "#bd3786"
            ],
            [
             0.5555555555555556,
             "#d8576b"
            ],
            [
             0.6666666666666666,
             "#ed7953"
            ],
            [
             0.7777777777777778,
             "#fb9f3a"
            ],
            [
             0.8888888888888888,
             "#fdca26"
            ],
            [
             1,
             "#f0f921"
            ]
           ],
           "sequentialminus": [
            [
             0,
             "#0d0887"
            ],
            [
             0.1111111111111111,
             "#46039f"
            ],
            [
             0.2222222222222222,
             "#7201a8"
            ],
            [
             0.3333333333333333,
             "#9c179e"
            ],
            [
             0.4444444444444444,
             "#bd3786"
            ],
            [
             0.5555555555555556,
             "#d8576b"
            ],
            [
             0.6666666666666666,
             "#ed7953"
            ],
            [
             0.7777777777777778,
             "#fb9f3a"
            ],
            [
             0.8888888888888888,
             "#fdca26"
            ],
            [
             1,
             "#f0f921"
            ]
           ]
          },
          "colorway": [
           "#636efa",
           "#EF553B",
           "#00cc96",
           "#ab63fa",
           "#FFA15A",
           "#19d3f3",
           "#FF6692",
           "#B6E880",
           "#FF97FF",
           "#FECB52"
          ],
          "font": {
           "color": "#2a3f5f"
          },
          "geo": {
           "bgcolor": "white",
           "lakecolor": "white",
           "landcolor": "#E5ECF6",
           "showlakes": true,
           "showland": true,
           "subunitcolor": "white"
          },
          "hoverlabel": {
           "align": "left"
          },
          "hovermode": "closest",
          "mapbox": {
           "style": "light"
          },
          "paper_bgcolor": "white",
          "plot_bgcolor": "#E5ECF6",
          "polar": {
           "angularaxis": {
            "gridcolor": "white",
            "linecolor": "white",
            "ticks": ""
           },
           "bgcolor": "#E5ECF6",
           "radialaxis": {
            "gridcolor": "white",
            "linecolor": "white",
            "ticks": ""
           }
          },
          "scene": {
           "xaxis": {
            "backgroundcolor": "#E5ECF6",
            "gridcolor": "white",
            "gridwidth": 2,
            "linecolor": "white",
            "showbackground": true,
            "ticks": "",
            "zerolinecolor": "white"
           },
           "yaxis": {
            "backgroundcolor": "#E5ECF6",
            "gridcolor": "white",
            "gridwidth": 2,
            "linecolor": "white",
            "showbackground": true,
            "ticks": "",
            "zerolinecolor": "white"
           },
           "zaxis": {
            "backgroundcolor": "#E5ECF6",
            "gridcolor": "white",
            "gridwidth": 2,
            "linecolor": "white",
            "showbackground": true,
            "ticks": "",
            "zerolinecolor": "white"
           }
          },
          "shapedefaults": {
           "line": {
            "color": "#2a3f5f"
           }
          },
          "ternary": {
           "aaxis": {
            "gridcolor": "white",
            "linecolor": "white",
            "ticks": ""
           },
           "baxis": {
            "gridcolor": "white",
            "linecolor": "white",
            "ticks": ""
           },
           "bgcolor": "#E5ECF6",
           "caxis": {
            "gridcolor": "white",
            "linecolor": "white",
            "ticks": ""
           }
          },
          "title": {
           "x": 0.05
          },
          "xaxis": {
           "automargin": true,
           "gridcolor": "white",
           "linecolor": "white",
           "ticks": "",
           "title": {
            "standoff": 15
           },
           "zerolinecolor": "white",
           "zerolinewidth": 2
          },
          "yaxis": {
           "automargin": true,
           "gridcolor": "white",
           "linecolor": "white",
           "ticks": "",
           "title": {
            "standoff": 15
           },
           "zerolinecolor": "white",
           "zerolinewidth": 2
          }
         }
        },
        "xaxis": {
         "anchor": "y",
         "domain": [
          0,
          1
         ],
         "title": {
          "text": "Package | Solver Combo"
         }
        },
        "yaxis": {
         "anchor": "x",
         "domain": [
          0,
          1
         ],
         "title": {
          "text": "Time"
         }
        }
       }
      }
     },
     "metadata": {},
     "output_type": "display_data"
    },
    {
     "name": "stdout",
     "output_type": "stream",
     "text": [
      "numbAssets=5 numbOrders=1000\n"
     ]
    },
    {
     "data": {
      "application/vnd.plotly.v1+json": {
       "config": {
        "plotlyServerURL": "https://plot.ly"
       },
       "data": [
        {
         "alignmentgroup": "True",
         "hovertemplate": "Package | Solver Combo=%{x}<br>Time=%{y}<extra></extra>",
         "legendgroup": "",
         "marker": {
          "color": "#636efa"
         },
         "name": "",
         "notched": false,
         "offsetgroup": "",
         "orientation": "v",
         "showlegend": false,
         "type": "box",
         "x": [
          "cvxpy | OSQP",
          "cvxpy | OSQP",
          "cvxpy | OSQP",
          "cvxpy | OSQP",
          "cvxpy | OSQP",
          "cvxpy | OSQP",
          "cvxpy | OSQP",
          "cvxpy | OSQP",
          "cvxpy | OSQP",
          "cvxpy | OSQP",
          "cvxpy | OSQP",
          "cvxpy | OSQP",
          "cvxpy | OSQP",
          "cvxpy | OSQP",
          "cvxpy | OSQP",
          "cvxpy | OSQP",
          "cvxpy | OSQP",
          "cvxpy | OSQP",
          "cvxpy | OSQP",
          "cvxpy | OSQP",
          "cvxpy | OSQP",
          "cvxpy | OSQP",
          "cvxpy | OSQP",
          "cvxpy | OSQP",
          "cvxpy | OSQP",
          "cvxpy | OSQP",
          "cvxpy | OSQP",
          "cvxpy | OSQP",
          "cvxpy | OSQP",
          "cvxpy | OSQP",
          "cvxpy | OSQP",
          "cvxpy | OSQP",
          "cvxpy | OSQP",
          "cvxpy | OSQP",
          "cvxpy | OSQP",
          "cvxpy | OSQP",
          "cvxpy | OSQP",
          "cvxpy | OSQP",
          "cvxpy | OSQP",
          "cvxpy | OSQP",
          "cvxpy | OSQP",
          "cvxpy | OSQP",
          "cvxpy | OSQP",
          "cvxpy | OSQP",
          "cvxpy | OSQP",
          "cvxpy | OSQP",
          "cvxpy | OSQP",
          "cvxpy | OSQP",
          "cvxpy | OSQP",
          "cvxpy | OSQP",
          "cvxpy | OSQP",
          "cvxpy | OSQP",
          "cvxpy | OSQP",
          "cvxpy | OSQP",
          "cvxpy | OSQP",
          "cvxpy | OSQP",
          "cvxpy | OSQP",
          "cvxpy | OSQP",
          "cvxpy | OSQP",
          "cvxpy | OSQP",
          "cvxpy | OSQP",
          "cvxpy | OSQP",
          "cvxpy | OSQP",
          "cvxpy | OSQP",
          "cvxpy | OSQP",
          "cvxpy | OSQP",
          "cvxpy | OSQP",
          "cvxpy | OSQP",
          "cvxpy | OSQP",
          "cvxpy | OSQP",
          "cvxpy | OSQP",
          "cvxpy | OSQP",
          "cvxpy | OSQP",
          "cvxpy | OSQP",
          "cvxpy | OSQP",
          "cvxpy | OSQP",
          "cvxpy | OSQP",
          "cvxpy | OSQP",
          "cvxpy | OSQP",
          "cvxpy | OSQP",
          "cvxpy | OSQP",
          "cvxpy | OSQP",
          "cvxpy | OSQP",
          "cvxpy | OSQP",
          "cvxpy | OSQP",
          "cvxpy | OSQP",
          "cvxpy | OSQP",
          "cvxpy | OSQP",
          "cvxpy | OSQP",
          "cvxpy | OSQP",
          "cvxpy | OSQP",
          "cvxpy | OSQP",
          "cvxpy | OSQP",
          "cvxpy | OSQP",
          "cvxpy | OSQP",
          "cvxpy | OSQP",
          "cvxpy | OSQP",
          "cvxpy | OSQP",
          "cvxpy | OSQP",
          "cvxpy | OSQP",
          "cvxpy | ECOS",
          "cvxpy | ECOS",
          "cvxpy | ECOS",
          "cvxpy | ECOS",
          "cvxpy | ECOS",
          "cvxpy | ECOS",
          "cvxpy | ECOS",
          "cvxpy | ECOS",
          "cvxpy | ECOS",
          "cvxpy | ECOS",
          "cvxpy | ECOS",
          "cvxpy | ECOS",
          "cvxpy | ECOS",
          "cvxpy | ECOS",
          "cvxpy | ECOS",
          "cvxpy | ECOS",
          "cvxpy | ECOS",
          "cvxpy | ECOS",
          "cvxpy | ECOS",
          "cvxpy | ECOS",
          "cvxpy | ECOS",
          "cvxpy | ECOS",
          "cvxpy | ECOS",
          "cvxpy | ECOS",
          "cvxpy | ECOS",
          "cvxpy | ECOS",
          "cvxpy | ECOS",
          "cvxpy | ECOS",
          "cvxpy | ECOS",
          "cvxpy | ECOS",
          "cvxpy | ECOS",
          "cvxpy | ECOS",
          "cvxpy | ECOS",
          "cvxpy | ECOS",
          "cvxpy | ECOS",
          "cvxpy | ECOS",
          "cvxpy | ECOS",
          "cvxpy | ECOS",
          "cvxpy | ECOS",
          "cvxpy | ECOS",
          "cvxpy | ECOS",
          "cvxpy | ECOS",
          "cvxpy | ECOS",
          "cvxpy | ECOS",
          "cvxpy | ECOS",
          "cvxpy | ECOS",
          "cvxpy | ECOS",
          "cvxpy | ECOS",
          "cvxpy | ECOS",
          "cvxpy | ECOS",
          "cvxpy | ECOS",
          "cvxpy | ECOS",
          "cvxpy | ECOS",
          "cvxpy | ECOS",
          "cvxpy | ECOS",
          "cvxpy | ECOS",
          "cvxpy | ECOS",
          "cvxpy | ECOS",
          "cvxpy | ECOS",
          "cvxpy | ECOS",
          "cvxpy | ECOS",
          "cvxpy | ECOS",
          "cvxpy | ECOS",
          "cvxpy | ECOS",
          "cvxpy | ECOS",
          "cvxpy | ECOS",
          "cvxpy | ECOS",
          "cvxpy | ECOS",
          "cvxpy | ECOS",
          "cvxpy | ECOS",
          "cvxpy | ECOS",
          "cvxpy | ECOS",
          "cvxpy | ECOS",
          "cvxpy | ECOS",
          "cvxpy | ECOS",
          "cvxpy | ECOS",
          "cvxpy | ECOS",
          "cvxpy | ECOS",
          "cvxpy | ECOS",
          "cvxpy | ECOS",
          "cvxpy | ECOS",
          "cvxpy | ECOS",
          "cvxpy | ECOS",
          "cvxpy | ECOS",
          "cvxpy | ECOS",
          "cvxpy | ECOS",
          "cvxpy | ECOS",
          "cvxpy | ECOS",
          "cvxpy | ECOS",
          "cvxpy | ECOS",
          "cvxpy | ECOS",
          "cvxpy | ECOS",
          "cvxpy | ECOS",
          "cvxpy | ECOS",
          "cvxpy | ECOS",
          "cvxpy | ECOS",
          "cvxpy | ECOS",
          "cvxpy | ECOS",
          "cvxpy | ECOS",
          "cvxpy | ECOS",
          "cvxpy | SCS",
          "cvxpy | SCS",
          "cvxpy | SCS",
          "cvxpy | SCS",
          "cvxpy | SCS",
          "cvxpy | SCS",
          "cvxpy | SCS",
          "cvxpy | SCS",
          "cvxpy | SCS",
          "cvxpy | SCS",
          "cvxpy | SCS",
          "cvxpy | SCS",
          "cvxpy | SCS",
          "cvxpy | SCS",
          "cvxpy | SCS",
          "cvxpy | SCS",
          "cvxpy | SCS",
          "cvxpy | SCS",
          "cvxpy | SCS",
          "cvxpy | SCS",
          "cvxpy | SCS",
          "cvxpy | SCS",
          "cvxpy | SCS",
          "cvxpy | SCS",
          "cvxpy | SCS",
          "cvxpy | SCS",
          "cvxpy | SCS",
          "cvxpy | SCS",
          "cvxpy | SCS",
          "cvxpy | SCS",
          "cvxpy | SCS",
          "cvxpy | SCS",
          "cvxpy | SCS",
          "cvxpy | SCS",
          "cvxpy | SCS",
          "cvxpy | SCS",
          "cvxpy | SCS",
          "cvxpy | SCS",
          "cvxpy | SCS",
          "cvxpy | SCS",
          "cvxpy | SCS",
          "cvxpy | SCS",
          "cvxpy | SCS",
          "cvxpy | SCS",
          "cvxpy | SCS",
          "cvxpy | SCS",
          "cvxpy | SCS",
          "cvxpy | SCS",
          "cvxpy | SCS",
          "cvxpy | SCS",
          "cvxpy | SCS",
          "cvxpy | SCS",
          "cvxpy | SCS",
          "cvxpy | SCS",
          "cvxpy | SCS",
          "cvxpy | SCS",
          "cvxpy | SCS",
          "cvxpy | SCS",
          "cvxpy | SCS",
          "cvxpy | SCS",
          "cvxpy | SCS",
          "cvxpy | SCS",
          "cvxpy | SCS",
          "cvxpy | SCS",
          "cvxpy | SCS",
          "cvxpy | SCS",
          "cvxpy | SCS",
          "cvxpy | SCS",
          "cvxpy | SCS",
          "cvxpy | SCS",
          "cvxpy | SCS",
          "cvxpy | SCS",
          "cvxpy | SCS",
          "cvxpy | SCS",
          "cvxpy | SCS",
          "cvxpy | SCS",
          "cvxpy | SCS",
          "cvxpy | SCS",
          "cvxpy | SCS",
          "cvxpy | SCS",
          "cvxpy | SCS",
          "cvxpy | SCS",
          "cvxpy | SCS",
          "cvxpy | SCS",
          "cvxpy | SCS",
          "cvxpy | SCS",
          "cvxpy | SCS",
          "cvxpy | SCS",
          "cvxpy | SCS",
          "cvxpy | SCS",
          "cvxpy | SCS",
          "cvxpy | SCS",
          "cvxpy | SCS",
          "cvxpy | SCS",
          "cvxpy | SCS",
          "cvxpy | SCS",
          "cvxpy | SCS",
          "cvxpy | SCS",
          "cvxpy | SCS",
          "cvxpy | SCS",
          "qpsolver | osqp",
          "qpsolver | osqp",
          "qpsolver | osqp",
          "qpsolver | osqp",
          "qpsolver | osqp",
          "qpsolver | osqp",
          "qpsolver | osqp",
          "qpsolver | osqp",
          "qpsolver | osqp",
          "qpsolver | osqp",
          "qpsolver | osqp",
          "qpsolver | osqp",
          "qpsolver | osqp",
          "qpsolver | osqp",
          "qpsolver | osqp",
          "qpsolver | osqp",
          "qpsolver | osqp",
          "qpsolver | osqp",
          "qpsolver | osqp",
          "qpsolver | osqp",
          "qpsolver | osqp",
          "qpsolver | osqp",
          "qpsolver | osqp",
          "qpsolver | osqp",
          "qpsolver | osqp",
          "qpsolver | osqp",
          "qpsolver | osqp",
          "qpsolver | osqp",
          "qpsolver | osqp",
          "qpsolver | osqp",
          "qpsolver | osqp",
          "qpsolver | osqp",
          "qpsolver | osqp",
          "qpsolver | osqp",
          "qpsolver | osqp",
          "qpsolver | osqp",
          "qpsolver | osqp",
          "qpsolver | osqp",
          "qpsolver | osqp",
          "qpsolver | osqp",
          "qpsolver | osqp",
          "qpsolver | osqp",
          "qpsolver | osqp",
          "qpsolver | osqp",
          "qpsolver | osqp",
          "qpsolver | osqp",
          "qpsolver | osqp",
          "qpsolver | osqp",
          "qpsolver | osqp",
          "qpsolver | osqp",
          "qpsolver | osqp",
          "qpsolver | osqp",
          "qpsolver | osqp",
          "qpsolver | osqp",
          "qpsolver | osqp",
          "qpsolver | osqp",
          "qpsolver | osqp",
          "qpsolver | osqp",
          "qpsolver | osqp",
          "qpsolver | osqp",
          "qpsolver | osqp",
          "qpsolver | osqp",
          "qpsolver | osqp",
          "qpsolver | osqp",
          "qpsolver | osqp",
          "qpsolver | osqp",
          "qpsolver | osqp",
          "qpsolver | osqp",
          "qpsolver | osqp",
          "qpsolver | osqp",
          "qpsolver | osqp",
          "qpsolver | osqp",
          "qpsolver | osqp",
          "qpsolver | osqp",
          "qpsolver | osqp",
          "qpsolver | osqp",
          "qpsolver | osqp",
          "qpsolver | osqp",
          "qpsolver | osqp",
          "qpsolver | osqp",
          "qpsolver | osqp",
          "qpsolver | osqp",
          "qpsolver | osqp",
          "qpsolver | osqp",
          "qpsolver | osqp",
          "qpsolver | osqp",
          "qpsolver | osqp",
          "qpsolver | osqp",
          "qpsolver | osqp",
          "qpsolver | osqp",
          "qpsolver | osqp",
          "qpsolver | osqp",
          "qpsolver | osqp",
          "qpsolver | osqp",
          "qpsolver | osqp",
          "qpsolver | osqp",
          "qpsolver | osqp",
          "qpsolver | osqp",
          "qpsolver | osqp",
          "qpsolver | osqp",
          "qpsolver | scs",
          "qpsolver | scs",
          "qpsolver | scs",
          "qpsolver | scs",
          "qpsolver | scs",
          "qpsolver | scs",
          "qpsolver | scs",
          "qpsolver | scs",
          "qpsolver | scs",
          "qpsolver | scs",
          "qpsolver | scs",
          "qpsolver | scs",
          "qpsolver | scs",
          "qpsolver | scs",
          "qpsolver | scs",
          "qpsolver | scs",
          "qpsolver | scs",
          "qpsolver | scs",
          "qpsolver | scs",
          "qpsolver | scs",
          "qpsolver | scs",
          "qpsolver | scs",
          "qpsolver | scs",
          "qpsolver | scs",
          "qpsolver | scs",
          "qpsolver | scs",
          "qpsolver | scs",
          "qpsolver | scs",
          "qpsolver | scs",
          "qpsolver | scs",
          "qpsolver | scs",
          "qpsolver | scs",
          "qpsolver | scs",
          "qpsolver | scs",
          "qpsolver | scs",
          "qpsolver | scs",
          "qpsolver | scs",
          "qpsolver | scs",
          "qpsolver | scs",
          "qpsolver | scs",
          "qpsolver | scs",
          "qpsolver | scs",
          "qpsolver | scs",
          "qpsolver | scs",
          "qpsolver | scs",
          "qpsolver | scs",
          "qpsolver | scs",
          "qpsolver | scs",
          "qpsolver | scs",
          "qpsolver | scs",
          "qpsolver | scs",
          "qpsolver | scs",
          "qpsolver | scs",
          "qpsolver | scs",
          "qpsolver | scs",
          "qpsolver | scs",
          "qpsolver | scs",
          "qpsolver | scs",
          "qpsolver | scs",
          "qpsolver | scs",
          "qpsolver | scs",
          "qpsolver | scs",
          "qpsolver | scs",
          "qpsolver | scs",
          "qpsolver | scs",
          "qpsolver | scs",
          "qpsolver | scs",
          "qpsolver | scs",
          "qpsolver | scs",
          "qpsolver | scs",
          "qpsolver | scs",
          "qpsolver | scs",
          "qpsolver | scs",
          "qpsolver | scs",
          "qpsolver | scs",
          "qpsolver | scs",
          "qpsolver | scs",
          "qpsolver | scs",
          "qpsolver | scs",
          "qpsolver | scs",
          "qpsolver | scs",
          "qpsolver | scs",
          "qpsolver | scs",
          "qpsolver | scs",
          "qpsolver | scs",
          "qpsolver | scs",
          "qpsolver | scs",
          "qpsolver | scs",
          "qpsolver | scs",
          "qpsolver | scs",
          "qpsolver | scs",
          "qpsolver | scs",
          "qpsolver | scs",
          "qpsolver | scs",
          "qpsolver | scs",
          "qpsolver | scs",
          "qpsolver | scs",
          "qpsolver | scs",
          "qpsolver | scs",
          "qpsolver | scs",
          "qpsolver | quadprog",
          "qpsolver | quadprog",
          "qpsolver | quadprog",
          "qpsolver | quadprog",
          "qpsolver | quadprog",
          "qpsolver | quadprog",
          "qpsolver | quadprog",
          "qpsolver | quadprog",
          "qpsolver | quadprog",
          "qpsolver | quadprog",
          "qpsolver | quadprog",
          "qpsolver | quadprog",
          "qpsolver | quadprog",
          "qpsolver | quadprog",
          "qpsolver | quadprog",
          "qpsolver | quadprog",
          "qpsolver | quadprog",
          "qpsolver | quadprog",
          "qpsolver | quadprog",
          "qpsolver | quadprog",
          "qpsolver | quadprog",
          "qpsolver | quadprog",
          "qpsolver | quadprog",
          "qpsolver | quadprog",
          "qpsolver | quadprog",
          "qpsolver | quadprog",
          "qpsolver | quadprog",
          "qpsolver | quadprog",
          "qpsolver | quadprog",
          "qpsolver | quadprog",
          "qpsolver | quadprog",
          "qpsolver | quadprog",
          "qpsolver | quadprog",
          "qpsolver | quadprog",
          "qpsolver | quadprog",
          "qpsolver | quadprog",
          "qpsolver | quadprog",
          "qpsolver | quadprog",
          "qpsolver | quadprog",
          "qpsolver | quadprog",
          "qpsolver | quadprog",
          "qpsolver | quadprog",
          "qpsolver | quadprog",
          "qpsolver | quadprog",
          "qpsolver | quadprog",
          "qpsolver | quadprog",
          "qpsolver | quadprog",
          "qpsolver | quadprog",
          "qpsolver | quadprog",
          "qpsolver | quadprog",
          "qpsolver | quadprog",
          "qpsolver | quadprog",
          "qpsolver | quadprog",
          "qpsolver | quadprog",
          "qpsolver | quadprog",
          "qpsolver | quadprog",
          "qpsolver | quadprog",
          "qpsolver | quadprog",
          "qpsolver | quadprog",
          "qpsolver | quadprog",
          "qpsolver | quadprog",
          "qpsolver | quadprog",
          "qpsolver | quadprog",
          "qpsolver | quadprog",
          "qpsolver | quadprog",
          "qpsolver | quadprog",
          "qpsolver | quadprog",
          "qpsolver | quadprog",
          "qpsolver | quadprog",
          "qpsolver | quadprog",
          "qpsolver | quadprog",
          "qpsolver | quadprog",
          "qpsolver | quadprog",
          "qpsolver | quadprog",
          "qpsolver | quadprog",
          "qpsolver | quadprog",
          "qpsolver | quadprog",
          "qpsolver | quadprog",
          "qpsolver | quadprog",
          "qpsolver | quadprog",
          "qpsolver | quadprog",
          "qpsolver | quadprog",
          "qpsolver | quadprog",
          "qpsolver | quadprog",
          "qpsolver | quadprog",
          "qpsolver | quadprog",
          "qpsolver | quadprog",
          "qpsolver | quadprog",
          "qpsolver | quadprog",
          "qpsolver | quadprog",
          "qpsolver | quadprog",
          "qpsolver | quadprog",
          "qpsolver | quadprog",
          "qpsolver | quadprog",
          "qpsolver | quadprog",
          "qpsolver | quadprog",
          "qpsolver | quadprog",
          "qpsolver | quadprog",
          "qpsolver | quadprog",
          "qpsolver | quadprog"
         ],
         "x0": " ",
         "xaxis": "x",
         "y": [
          2013.049606084824,
          2012.626631975174,
          2012.693087100983,
          2012.7137608528135,
          2013.577105998993,
          2013.086681842804,
          2013.2858057022092,
          2013.4750137329104,
          2013.0082619190216,
          2013.5952591896057,
          2013.6493129730225,
          2014.218314886093,
          2013.7136631011963,
          2013.3965828418727,
          2013.6258549690249,
          2013.873668193817,
          2013.7510640621183,
          2014.580624103546,
          2013.687531709671,
          2014.2241649627688,
          2013.974641084671,
          2014.077394723892,
          2014.0280861854555,
          2014.0324580669403,
          2014.9772980213163,
          2014.448023796081,
          2014.8709290027616,
          2014.4087798595428,
          2015.2427008152008,
          2015.3154180049896,
          2014.82142996788,
          2015.401566028595,
          2015.4385831356049,
          2015.3391580581665,
          2014.804772138596,
          2015.792005777359,
          2014.9971148967743,
          2015.09752702713,
          2015.590406894684,
          2016.08212184906,
          2016.2142930030825,
          2016.2047820091248,
          2015.768623113632,
          2015.9892926216123,
          2016.4780671596527,
          2015.596738815308,
          2016.29146194458,
          2016.069324016571,
          2016.1944432258608,
          2016.3922758102417,
          2016.3390731811523,
          2015.9942219257357,
          2016.6187088489528,
          2017.0379619598389,
          2016.289759159088,
          2016.2165050506592,
          2016.9457581043243,
          2017.031171798706,
          2017.00767493248,
          2016.9352719783783,
          2016.499613046646,
          2016.7060632705688,
          2017.5969557762144,
          2017.145527124405,
          2017.26304936409,
          2016.900910139084,
          2017.318008184433,
          2017.9010779857635,
          2017.6940977573397,
          2017.295886039734,
          2017.6834740638733,
          2017.7138078212736,
          2017.6351470947263,
          2017.64954996109,
          2018.062245130539,
          2017.867525100708,
          2018.1841809749603,
          2018.4540469646452,
          2018.7413330078125,
          2018.3322439193728,
          2018.626800060272,
          2018.9319422245023,
          2018.594084024429,
          2019.2051930427551,
          2018.3448388576508,
          2018.518372774124,
          2019.0017158985136,
          2018.8048779964447,
          2018.997542142868,
          2019.5976519584656,
          2019.740653038025,
          2019.412828922272,
          2019.187344789505,
          2019.047217130661,
          2019.1242759227755,
          2019.0930109024048,
          2019.4761250019076,
          2019.7471809387207,
          2019.508143901825,
          2019.977305173874,
          1998.1094748973849,
          1998.9663879871368,
          1999.1843149662016,
          2000.457690000534,
          2000.543275117874,
          2000.882747173309,
          2002.158117055893,
          2002.4276359081268,
          2002.6291408538816,
          2002.9012541770933,
          2004.224349975586,
          2004.8653047084808,
          2005.1152300834656,
          2005.6273338794708,
          2005.9868240356443,
          2006.4534740448,
          2006.797698020935,
          2007.3952538967133,
          2007.7017891407013,
          2008.9993760585785,
          2009.119870185852,
          2009.435616016388,
          2010.6530272960665,
          2010.7394790649412,
          2010.992503643036,
          2011.3617689609528,
          2012.2670059204104,
          2012.4990239143367,
          2012.9165189266205,
          2014.0926990509035,
          2014.0020911693573,
          2015.1526267528532,
          2015.4770629405973,
          2015.65714097023,
          2016.131355047226,
          2016.9729130268097,
          2017.1701731681824,
          2017.9130799770355,
          2017.9951949119568,
          2018.9590520858765,
          2019.138456106186,
          2019.987192153931,
          2019.983579158783,
          2021.27330493927,
          2021.7436389923096,
          2021.9473168849945,
          2022.531619787216,
          2022.739109992981,
          2023.774925947189,
          2024.357219219208,
          2024.1216490268707,
          2024.6965839862823,
          2025.3629128932955,
          2025.716449022293,
          2026.1448967456815,
          2026.959381103516,
          2027.438235759735,
          2027.9998972415924,
          2028.1846430301664,
          2029.4682490825653,
          2029.409754037857,
          2030.47207903862,
          2030.286014080048,
          2030.7642290592196,
          2031.722368955612,
          2032.0732591152191,
          2032.6687259674072,
          2032.6778302192688,
          2033.5798437595367,
          2033.6164500713348,
          2034.3082060813904,
          2034.826363801956,
          2034.9579491615293,
          2035.832975149155,
          2036.6462059021,
          2036.9080839157104,
          2037.4659299850464,
          2037.5758509635923,
          2038.693253993988,
          2038.4814867973328,
          2039.2952699661253,
          2039.7595348358157,
          2040.3116450309756,
          2041.2473950386047,
          2041.0218937397003,
          2041.448660850525,
          2042.076618909836,
          2042.7746741771696,
          2043.831505060196,
          2044.2343530654907,
          2044.951451778412,
          2045.0593798160555,
          2045.197735786438,
          2045.8817110061648,
          2047.124899148941,
          2047.051337003708,
          2047.1330370903013,
          2047.7973880767825,
          2048.1772940158844,
          2048.840106010437,
          2011.6996479034424,
          2014.3661761283877,
          2014.146471977234,
          2019.916746854782,
          2020.0861451625824,
          2026.9744229316711,
          2029.5840051174164,
          2033.1159989833832,
          2032.426046848297,
          2035.8869140148165,
          2044.8454582691195,
          2044.1704671382904,
          2049.0908501148224,
          2051.3686339855194,
          2053.746913909912,
          2061.397650718689,
          2061.600816011429,
          2067.4679102897644,
          2067.535717010498,
          2074.412431001663,
          2078.8340640068054,
          2078.100865840912,
          2082.0815720558167,
          2085.141261816025,
          2092.215359210968,
          2094.790471792221,
          2095.120877981186,
          2102.125298023224,
          2101.3370599746704,
          2105.630264043808,
          2112.3813948631287,
          2112.4627380371094,
          2115.402224779129,
          2119.6841039657597,
          2122.498960018158,
          2129.066009998321,
          2132.1623129844666,
          2136.666221141815,
          2138.749691963196,
          2138.0200667381287,
          2145.1802937984467,
          2149.229711055756,
          2152.1490659713745,
          2152.77970290184,
          2159.229815006256,
          2159.593812942505,
          2165.797038078308,
          2168.7199606895447,
          2169.04408621788,
          2172.187180042267,
          2175.32484292984,
          2183.891723871231,
          2183.8894851207733,
          2186.811247110367,
          2190.1599543094635,
          2196.354320049286,
          2200.4682857990265,
          2201.153321027756,
          2205.0415427684784,
          2207.398962020874,
          2211.311642885208,
          2215.545309782028,
          2218.8686830997467,
          2225.0934178829198,
          2228.411921262741,
          2228.0221688747406,
          2234.6223101615906,
          2234.327658891678,
          2237.8778138160706,
          2244.349553823471,
          2247.320304870605,
          2250.591293811798,
          2250.6002311706543,
          2252.653191804886,
          2261.173905849457,
          2264.6744468212128,
          2264.007539987564,
          2267.098908185959,
          2273.0391018390656,
          2276.931433916092,
          2280.360949993133,
          2283.430866956711,
          2287.058950185776,
          2286.485216856003,
          2294.6762170791626,
          2294.6946680545807,
          2296.8321928977966,
          2300.163176059723,
          2306.478891849518,
          2309.857043981552,
          2309.1845088005066,
          2312.6204600334167,
          2316.476900100708,
          2324.8299672603607,
          2324.661185741425,
          2327.742007017136,
          2329.0488731861115,
          2331.371017932892,
          2333.649297952652,
          2335.8329889774323,
          0.0452139377593994,
          0.0447380542755126,
          0.090256929397583,
          0.0811326503753662,
          0.0624809265136718,
          0.030764102935791,
          0.0852191448211669,
          0.0511560440063476,
          0.0429089069366455,
          0.1490900516510009,
          0.0480937957763671,
          0.0662128925323486,
          0.0573508739471435,
          0.081965684890747,
          0.0514898300170898,
          0.0558173656463623,
          0.0559890270233154,
          0.0160131454467773,
          0.0567939281463623,
          0.0796568393707275,
          0.0155470371246337,
          0.0619451999664306,
          0.0505528450012207,
          0.0634820461273193,
          0.0586130619049072,
          0.0775229930877685,
          0.0638520717620849,
          0.0597507953643798,
          0.0576128959655761,
          0.0456860065460205,
          0.0852189064025878,
          0.0903041362762451,
          0.0541832447052001,
          0.112027883529663,
          0.0715148448944091,
          0.0582509040832519,
          0.0983781814575195,
          0.0908310413360595,
          0.0626931190490722,
          0.1142473220825195,
          0.0754258632659912,
          0.0352098941802978,
          0.0616261959075927,
          0.0374598503112793,
          0.0408709049224853,
          0.0897111892700195,
          0.1145708560943603,
          0.0704362392425537,
          0.0431170463562011,
          0.0158650875091552,
          0.0345187187194824,
          0.0575349330902099,
          0.0514502525329589,
          0.074470043182373,
          0.0581200122833251,
          0.1109352111816406,
          0.0655627250671386,
          0.0695738792419433,
          0.1059226989746093,
          0.0905261039733886,
          0.0769619941711425,
          0.1117861270904541,
          0.0976982116699218,
          0.1312971115112304,
          0.0766341686248779,
          0.0651412010192871,
          0.0503742694854736,
          0.1073360443115234,
          0.1190009117126464,
          0.0657551288604736,
          0.0691790580749511,
          0.0918312072753906,
          0.082460880279541,
          0.0581421852111816,
          0.0694611072540283,
          0.0449230670928955,
          0.090548038482666,
          0.0933020114898681,
          0.0646519660949707,
          0.10732102394104,
          0.090749979019165,
          0.0612421035766601,
          0.0645179748535156,
          0.0728471279144287,
          0.1441259384155273,
          0.0543441772460937,
          0.0959668159484863,
          0.0655698776245117,
          0.0679481029510498,
          0.0660600662231445,
          0.054326057434082,
          0.077423095703125,
          0.0680890083312988,
          0.0795159339904785,
          0.0630989074707031,
          0.0862209796905517,
          0.0888283252716064,
          0.0799741744995117,
          0.0763251781463623,
          0.1083457469940185,
          0.0688748359680175,
          0.1586039066314697,
          0.0456430912017822,
          0.0304169654846191,
          0.0496361255645751,
          0.0378360748291015,
          0.0434789657592773,
          0.0706319808959961,
          0.0504670143127441,
          0.0586888790130615,
          0.1301109790802002,
          0.0403869152069091,
          0.1522910594940185,
          0.0384609699249267,
          0.0389220714569091,
          0.0444710254669189,
          0.0506219863891601,
          0.0395519733428955,
          0.0503900051116943,
          0.0332849025726318,
          0.0395851135253906,
          0.0365221500396728,
          0.0781350135803222,
          0.0400741100311279,
          0.0999248027801513,
          0.0600819587707519,
          0.0606980323791503,
          0.0697479248046875,
          0.0492489337921142,
          0.0646159648895263,
          0.0442430973052978,
          0.0371589660644531,
          0.0393579006195068,
          0.0680677890777587,
          0.0473270416259765,
          0.0566639900207519,
          0.0372309684753418,
          0.0531129837036132,
          0.0665700435638427,
          0.0479228496551513,
          0.1123671531677246,
          0.0486140251159668,
          0.1060569286346435,
          0.0432729721069335,
          0.1781930923461914,
          0.0458450317382812,
          0.0590293407440185,
          0.060392141342163,
          0.0367708206176757,
          0.0594110488891601,
          0.1287989616394043,
          0.043187141418457,
          0.0453324317932128,
          0.0592889785766601,
          0.043421983718872,
          0.0416591167449951,
          0.0332207679748535,
          0.0547661781311035,
          0.0607807636260986,
          0.0740847587585449,
          0.0343348979949951,
          0.197695255279541,
          0.1494040489196777,
          0.0707981586456298,
          0.114311933517456,
          0.038304328918457,
          0.0897390842437744,
          0.043856143951416,
          0.0400521755218505,
          0.0506608486175537,
          0.1063711643218994,
          0.1533119678497314,
          0.1332180500030517,
          0.1914188861846923,
          0.2006080150604248,
          0.2169930934906005,
          0.0787501335144043,
          0.1468520164489746,
          0.1239449977874755,
          0.1484491825103759,
          0.15195894241333,
          0.049307107925415,
          0.0843579769134521,
          0.0925920009613037,
          0.149900197982788,
          0.1039328575134277,
          0.1032590866088867,
          0.158074140548706,
          0.2288141250610351,
          0.0899190902709961,
          0.0828940868377685,
          0.1122760772705078,
          0.093592882156372,
          0.09641695022583,
          0.0924892425537109,
          0.0909898281097412,
          0.1187820434570312,
          0.1248440742492675,
          0.0958399772644043,
          0.1048738956451416,
          21.525768995285038,
          21.649102687835693,
          21.796671152114868,
          21.855584859848022,
          21.898855924606323,
          21.913430213928223,
          22.04565691947937,
          22.05004501342773,
          22.17348599433899,
          22.445000171661377,
          22.41526699066162,
          22.47720313072205,
          22.61916995048523,
          22.715801000595093,
          22.787988424301147,
          22.655251026153564,
          22.60930585861206,
          22.81866431236267,
          22.73966217041016,
          22.78173518180847,
          22.788622856140137,
          22.862576723098755,
          23.154020071029663,
          23.106115102767944,
          23.05705189704895,
          23.0836820602417,
          23.235851049423218,
          23.07045030593872,
          22.909510135650635,
          23.116129875183105,
          23.039639949798584,
          23.166579008102417,
          23.094390869140625,
          23.38284730911255,
          23.047383785247803,
          23.181430101394653,
          23.134649991989136,
          23.50339388847351,
          23.317693948745728,
          23.57316303253174,
          23.40232491493225,
          23.36211609840393,
          23.310883045196533,
          23.12196111679077,
          23.533382177352905,
          23.22908115386963,
          23.641695976257324,
          23.47407627105713,
          23.51138710975647,
          23.378824949264526,
          24.21794414520264,
          23.56718707084656,
          23.2737340927124,
          23.609242916107178,
          23.908955097198486,
          23.40504002571106,
          24.06930994987488,
          23.57629084587097,
          23.64730191230774,
          24.148948907852173,
          22.984952211380005,
          23.97640323638916,
          23.9343900680542,
          23.826378107070923,
          23.59392189979553,
          24.38142204284668,
          23.47170114517212,
          24.132539749145508,
          23.171040058135983,
          23.67525696754456,
          23.71245694160461,
          23.14976000785828,
          23.550048112869263,
          23.51413083076477,
          23.412962913513184,
          23.238194942474365,
          23.841349840164185,
          23.842056274414062,
          23.19292902946472,
          23.598476886749268,
          23.27560377120972,
          24.301839113235477,
          23.362058877944943,
          23.622877836227417,
          23.620512008666992,
          23.906640768051147,
          23.629566192626957,
          23.657665729522705,
          23.808668851852417,
          23.35520315170288,
          23.537347078323364,
          23.661845922470093,
          22.779702186584476,
          22.873500108718872,
          23.237408876419067,
          23.663923978805546,
          23.43321394920349,
          23.72487711906433,
          23.248443126678467,
          23.658271074295044
         ],
         "y0": " ",
         "yaxis": "y"
        }
       ],
       "layout": {
        "boxmode": "group",
        "legend": {
         "tracegroupgap": 0
        },
        "margin": {
         "t": 60
        },
        "template": {
         "data": {
          "bar": [
           {
            "error_x": {
             "color": "#2a3f5f"
            },
            "error_y": {
             "color": "#2a3f5f"
            },
            "marker": {
             "line": {
              "color": "#E5ECF6",
              "width": 0.5
             },
             "pattern": {
              "fillmode": "overlay",
              "size": 10,
              "solidity": 0.2
             }
            },
            "type": "bar"
           }
          ],
          "barpolar": [
           {
            "marker": {
             "line": {
              "color": "#E5ECF6",
              "width": 0.5
             },
             "pattern": {
              "fillmode": "overlay",
              "size": 10,
              "solidity": 0.2
             }
            },
            "type": "barpolar"
           }
          ],
          "carpet": [
           {
            "aaxis": {
             "endlinecolor": "#2a3f5f",
             "gridcolor": "white",
             "linecolor": "white",
             "minorgridcolor": "white",
             "startlinecolor": "#2a3f5f"
            },
            "baxis": {
             "endlinecolor": "#2a3f5f",
             "gridcolor": "white",
             "linecolor": "white",
             "minorgridcolor": "white",
             "startlinecolor": "#2a3f5f"
            },
            "type": "carpet"
           }
          ],
          "choropleth": [
           {
            "colorbar": {
             "outlinewidth": 0,
             "ticks": ""
            },
            "type": "choropleth"
           }
          ],
          "contour": [
           {
            "colorbar": {
             "outlinewidth": 0,
             "ticks": ""
            },
            "colorscale": [
             [
              0,
              "#0d0887"
             ],
             [
              0.1111111111111111,
              "#46039f"
             ],
             [
              0.2222222222222222,
              "#7201a8"
             ],
             [
              0.3333333333333333,
              "#9c179e"
             ],
             [
              0.4444444444444444,
              "#bd3786"
             ],
             [
              0.5555555555555556,
              "#d8576b"
             ],
             [
              0.6666666666666666,
              "#ed7953"
             ],
             [
              0.7777777777777778,
              "#fb9f3a"
             ],
             [
              0.8888888888888888,
              "#fdca26"
             ],
             [
              1,
              "#f0f921"
             ]
            ],
            "type": "contour"
           }
          ],
          "contourcarpet": [
           {
            "colorbar": {
             "outlinewidth": 0,
             "ticks": ""
            },
            "type": "contourcarpet"
           }
          ],
          "heatmap": [
           {
            "colorbar": {
             "outlinewidth": 0,
             "ticks": ""
            },
            "colorscale": [
             [
              0,
              "#0d0887"
             ],
             [
              0.1111111111111111,
              "#46039f"
             ],
             [
              0.2222222222222222,
              "#7201a8"
             ],
             [
              0.3333333333333333,
              "#9c179e"
             ],
             [
              0.4444444444444444,
              "#bd3786"
             ],
             [
              0.5555555555555556,
              "#d8576b"
             ],
             [
              0.6666666666666666,
              "#ed7953"
             ],
             [
              0.7777777777777778,
              "#fb9f3a"
             ],
             [
              0.8888888888888888,
              "#fdca26"
             ],
             [
              1,
              "#f0f921"
             ]
            ],
            "type": "heatmap"
           }
          ],
          "heatmapgl": [
           {
            "colorbar": {
             "outlinewidth": 0,
             "ticks": ""
            },
            "colorscale": [
             [
              0,
              "#0d0887"
             ],
             [
              0.1111111111111111,
              "#46039f"
             ],
             [
              0.2222222222222222,
              "#7201a8"
             ],
             [
              0.3333333333333333,
              "#9c179e"
             ],
             [
              0.4444444444444444,
              "#bd3786"
             ],
             [
              0.5555555555555556,
              "#d8576b"
             ],
             [
              0.6666666666666666,
              "#ed7953"
             ],
             [
              0.7777777777777778,
              "#fb9f3a"
             ],
             [
              0.8888888888888888,
              "#fdca26"
             ],
             [
              1,
              "#f0f921"
             ]
            ],
            "type": "heatmapgl"
           }
          ],
          "histogram": [
           {
            "marker": {
             "pattern": {
              "fillmode": "overlay",
              "size": 10,
              "solidity": 0.2
             }
            },
            "type": "histogram"
           }
          ],
          "histogram2d": [
           {
            "colorbar": {
             "outlinewidth": 0,
             "ticks": ""
            },
            "colorscale": [
             [
              0,
              "#0d0887"
             ],
             [
              0.1111111111111111,
              "#46039f"
             ],
             [
              0.2222222222222222,
              "#7201a8"
             ],
             [
              0.3333333333333333,
              "#9c179e"
             ],
             [
              0.4444444444444444,
              "#bd3786"
             ],
             [
              0.5555555555555556,
              "#d8576b"
             ],
             [
              0.6666666666666666,
              "#ed7953"
             ],
             [
              0.7777777777777778,
              "#fb9f3a"
             ],
             [
              0.8888888888888888,
              "#fdca26"
             ],
             [
              1,
              "#f0f921"
             ]
            ],
            "type": "histogram2d"
           }
          ],
          "histogram2dcontour": [
           {
            "colorbar": {
             "outlinewidth": 0,
             "ticks": ""
            },
            "colorscale": [
             [
              0,
              "#0d0887"
             ],
             [
              0.1111111111111111,
              "#46039f"
             ],
             [
              0.2222222222222222,
              "#7201a8"
             ],
             [
              0.3333333333333333,
              "#9c179e"
             ],
             [
              0.4444444444444444,
              "#bd3786"
             ],
             [
              0.5555555555555556,
              "#d8576b"
             ],
             [
              0.6666666666666666,
              "#ed7953"
             ],
             [
              0.7777777777777778,
              "#fb9f3a"
             ],
             [
              0.8888888888888888,
              "#fdca26"
             ],
             [
              1,
              "#f0f921"
             ]
            ],
            "type": "histogram2dcontour"
           }
          ],
          "mesh3d": [
           {
            "colorbar": {
             "outlinewidth": 0,
             "ticks": ""
            },
            "type": "mesh3d"
           }
          ],
          "parcoords": [
           {
            "line": {
             "colorbar": {
              "outlinewidth": 0,
              "ticks": ""
             }
            },
            "type": "parcoords"
           }
          ],
          "pie": [
           {
            "automargin": true,
            "type": "pie"
           }
          ],
          "scatter": [
           {
            "fillpattern": {
             "fillmode": "overlay",
             "size": 10,
             "solidity": 0.2
            },
            "type": "scatter"
           }
          ],
          "scatter3d": [
           {
            "line": {
             "colorbar": {
              "outlinewidth": 0,
              "ticks": ""
             }
            },
            "marker": {
             "colorbar": {
              "outlinewidth": 0,
              "ticks": ""
             }
            },
            "type": "scatter3d"
           }
          ],
          "scattercarpet": [
           {
            "marker": {
             "colorbar": {
              "outlinewidth": 0,
              "ticks": ""
             }
            },
            "type": "scattercarpet"
           }
          ],
          "scattergeo": [
           {
            "marker": {
             "colorbar": {
              "outlinewidth": 0,
              "ticks": ""
             }
            },
            "type": "scattergeo"
           }
          ],
          "scattergl": [
           {
            "marker": {
             "colorbar": {
              "outlinewidth": 0,
              "ticks": ""
             }
            },
            "type": "scattergl"
           }
          ],
          "scattermapbox": [
           {
            "marker": {
             "colorbar": {
              "outlinewidth": 0,
              "ticks": ""
             }
            },
            "type": "scattermapbox"
           }
          ],
          "scatterpolar": [
           {
            "marker": {
             "colorbar": {
              "outlinewidth": 0,
              "ticks": ""
             }
            },
            "type": "scatterpolar"
           }
          ],
          "scatterpolargl": [
           {
            "marker": {
             "colorbar": {
              "outlinewidth": 0,
              "ticks": ""
             }
            },
            "type": "scatterpolargl"
           }
          ],
          "scatterternary": [
           {
            "marker": {
             "colorbar": {
              "outlinewidth": 0,
              "ticks": ""
             }
            },
            "type": "scatterternary"
           }
          ],
          "surface": [
           {
            "colorbar": {
             "outlinewidth": 0,
             "ticks": ""
            },
            "colorscale": [
             [
              0,
              "#0d0887"
             ],
             [
              0.1111111111111111,
              "#46039f"
             ],
             [
              0.2222222222222222,
              "#7201a8"
             ],
             [
              0.3333333333333333,
              "#9c179e"
             ],
             [
              0.4444444444444444,
              "#bd3786"
             ],
             [
              0.5555555555555556,
              "#d8576b"
             ],
             [
              0.6666666666666666,
              "#ed7953"
             ],
             [
              0.7777777777777778,
              "#fb9f3a"
             ],
             [
              0.8888888888888888,
              "#fdca26"
             ],
             [
              1,
              "#f0f921"
             ]
            ],
            "type": "surface"
           }
          ],
          "table": [
           {
            "cells": {
             "fill": {
              "color": "#EBF0F8"
             },
             "line": {
              "color": "white"
             }
            },
            "header": {
             "fill": {
              "color": "#C8D4E3"
             },
             "line": {
              "color": "white"
             }
            },
            "type": "table"
           }
          ]
         },
         "layout": {
          "annotationdefaults": {
           "arrowcolor": "#2a3f5f",
           "arrowhead": 0,
           "arrowwidth": 1
          },
          "autotypenumbers": "strict",
          "coloraxis": {
           "colorbar": {
            "outlinewidth": 0,
            "ticks": ""
           }
          },
          "colorscale": {
           "diverging": [
            [
             0,
             "#8e0152"
            ],
            [
             0.1,
             "#c51b7d"
            ],
            [
             0.2,
             "#de77ae"
            ],
            [
             0.3,
             "#f1b6da"
            ],
            [
             0.4,
             "#fde0ef"
            ],
            [
             0.5,
             "#f7f7f7"
            ],
            [
             0.6,
             "#e6f5d0"
            ],
            [
             0.7,
             "#b8e186"
            ],
            [
             0.8,
             "#7fbc41"
            ],
            [
             0.9,
             "#4d9221"
            ],
            [
             1,
             "#276419"
            ]
           ],
           "sequential": [
            [
             0,
             "#0d0887"
            ],
            [
             0.1111111111111111,
             "#46039f"
            ],
            [
             0.2222222222222222,
             "#7201a8"
            ],
            [
             0.3333333333333333,
             "#9c179e"
            ],
            [
             0.4444444444444444,
             "#bd3786"
            ],
            [
             0.5555555555555556,
             "#d8576b"
            ],
            [
             0.6666666666666666,
             "#ed7953"
            ],
            [
             0.7777777777777778,
             "#fb9f3a"
            ],
            [
             0.8888888888888888,
             "#fdca26"
            ],
            [
             1,
             "#f0f921"
            ]
           ],
           "sequentialminus": [
            [
             0,
             "#0d0887"
            ],
            [
             0.1111111111111111,
             "#46039f"
            ],
            [
             0.2222222222222222,
             "#7201a8"
            ],
            [
             0.3333333333333333,
             "#9c179e"
            ],
            [
             0.4444444444444444,
             "#bd3786"
            ],
            [
             0.5555555555555556,
             "#d8576b"
            ],
            [
             0.6666666666666666,
             "#ed7953"
            ],
            [
             0.7777777777777778,
             "#fb9f3a"
            ],
            [
             0.8888888888888888,
             "#fdca26"
            ],
            [
             1,
             "#f0f921"
            ]
           ]
          },
          "colorway": [
           "#636efa",
           "#EF553B",
           "#00cc96",
           "#ab63fa",
           "#FFA15A",
           "#19d3f3",
           "#FF6692",
           "#B6E880",
           "#FF97FF",
           "#FECB52"
          ],
          "font": {
           "color": "#2a3f5f"
          },
          "geo": {
           "bgcolor": "white",
           "lakecolor": "white",
           "landcolor": "#E5ECF6",
           "showlakes": true,
           "showland": true,
           "subunitcolor": "white"
          },
          "hoverlabel": {
           "align": "left"
          },
          "hovermode": "closest",
          "mapbox": {
           "style": "light"
          },
          "paper_bgcolor": "white",
          "plot_bgcolor": "#E5ECF6",
          "polar": {
           "angularaxis": {
            "gridcolor": "white",
            "linecolor": "white",
            "ticks": ""
           },
           "bgcolor": "#E5ECF6",
           "radialaxis": {
            "gridcolor": "white",
            "linecolor": "white",
            "ticks": ""
           }
          },
          "scene": {
           "xaxis": {
            "backgroundcolor": "#E5ECF6",
            "gridcolor": "white",
            "gridwidth": 2,
            "linecolor": "white",
            "showbackground": true,
            "ticks": "",
            "zerolinecolor": "white"
           },
           "yaxis": {
            "backgroundcolor": "#E5ECF6",
            "gridcolor": "white",
            "gridwidth": 2,
            "linecolor": "white",
            "showbackground": true,
            "ticks": "",
            "zerolinecolor": "white"
           },
           "zaxis": {
            "backgroundcolor": "#E5ECF6",
            "gridcolor": "white",
            "gridwidth": 2,
            "linecolor": "white",
            "showbackground": true,
            "ticks": "",
            "zerolinecolor": "white"
           }
          },
          "shapedefaults": {
           "line": {
            "color": "#2a3f5f"
           }
          },
          "ternary": {
           "aaxis": {
            "gridcolor": "white",
            "linecolor": "white",
            "ticks": ""
           },
           "baxis": {
            "gridcolor": "white",
            "linecolor": "white",
            "ticks": ""
           },
           "bgcolor": "#E5ECF6",
           "caxis": {
            "gridcolor": "white",
            "linecolor": "white",
            "ticks": ""
           }
          },
          "title": {
           "x": 0.05
          },
          "xaxis": {
           "automargin": true,
           "gridcolor": "white",
           "linecolor": "white",
           "ticks": "",
           "title": {
            "standoff": 15
           },
           "zerolinecolor": "white",
           "zerolinewidth": 2
          },
          "yaxis": {
           "automargin": true,
           "gridcolor": "white",
           "linecolor": "white",
           "ticks": "",
           "title": {
            "standoff": 15
           },
           "zerolinecolor": "white",
           "zerolinewidth": 2
          }
         }
        },
        "xaxis": {
         "anchor": "y",
         "domain": [
          0,
          1
         ],
         "title": {
          "text": "Package | Solver Combo"
         }
        },
        "yaxis": {
         "anchor": "x",
         "domain": [
          0,
          1
         ],
         "title": {
          "text": "Time"
         }
        }
       }
      }
     },
     "metadata": {},
     "output_type": "display_data"
    },
    {
     "name": "stdout",
     "output_type": "stream",
     "text": [
      "numbAssets=5 numbOrders=500\n"
     ]
    },
    {
     "data": {
      "application/vnd.plotly.v1+json": {
       "config": {
        "plotlyServerURL": "https://plot.ly"
       },
       "data": [
        {
         "alignmentgroup": "True",
         "hovertemplate": "Package | Solver Combo=%{x}<br>Time=%{y}<extra></extra>",
         "legendgroup": "",
         "marker": {
          "color": "#636efa"
         },
         "name": "",
         "notched": false,
         "offsetgroup": "",
         "orientation": "v",
         "showlegend": false,
         "type": "box",
         "x": [
          "cvxpy | OSQP",
          "cvxpy | OSQP",
          "cvxpy | OSQP",
          "cvxpy | OSQP",
          "cvxpy | OSQP",
          "cvxpy | OSQP",
          "cvxpy | OSQP",
          "cvxpy | OSQP",
          "cvxpy | OSQP",
          "cvxpy | OSQP",
          "cvxpy | OSQP",
          "cvxpy | OSQP",
          "cvxpy | OSQP",
          "cvxpy | OSQP",
          "cvxpy | OSQP",
          "cvxpy | OSQP",
          "cvxpy | OSQP",
          "cvxpy | OSQP",
          "cvxpy | OSQP",
          "cvxpy | OSQP",
          "cvxpy | OSQP",
          "cvxpy | OSQP",
          "cvxpy | OSQP",
          "cvxpy | OSQP",
          "cvxpy | OSQP",
          "cvxpy | OSQP",
          "cvxpy | OSQP",
          "cvxpy | OSQP",
          "cvxpy | OSQP",
          "cvxpy | OSQP",
          "cvxpy | OSQP",
          "cvxpy | OSQP",
          "cvxpy | OSQP",
          "cvxpy | OSQP",
          "cvxpy | OSQP",
          "cvxpy | OSQP",
          "cvxpy | OSQP",
          "cvxpy | OSQP",
          "cvxpy | OSQP",
          "cvxpy | OSQP",
          "cvxpy | OSQP",
          "cvxpy | OSQP",
          "cvxpy | OSQP",
          "cvxpy | OSQP",
          "cvxpy | OSQP",
          "cvxpy | OSQP",
          "cvxpy | OSQP",
          "cvxpy | OSQP",
          "cvxpy | OSQP",
          "cvxpy | OSQP",
          "cvxpy | OSQP",
          "cvxpy | OSQP",
          "cvxpy | OSQP",
          "cvxpy | OSQP",
          "cvxpy | OSQP",
          "cvxpy | OSQP",
          "cvxpy | OSQP",
          "cvxpy | OSQP",
          "cvxpy | OSQP",
          "cvxpy | OSQP",
          "cvxpy | OSQP",
          "cvxpy | OSQP",
          "cvxpy | OSQP",
          "cvxpy | OSQP",
          "cvxpy | OSQP",
          "cvxpy | OSQP",
          "cvxpy | OSQP",
          "cvxpy | OSQP",
          "cvxpy | OSQP",
          "cvxpy | OSQP",
          "cvxpy | OSQP",
          "cvxpy | OSQP",
          "cvxpy | OSQP",
          "cvxpy | OSQP",
          "cvxpy | OSQP",
          "cvxpy | OSQP",
          "cvxpy | OSQP",
          "cvxpy | OSQP",
          "cvxpy | OSQP",
          "cvxpy | OSQP",
          "cvxpy | OSQP",
          "cvxpy | OSQP",
          "cvxpy | OSQP",
          "cvxpy | OSQP",
          "cvxpy | OSQP",
          "cvxpy | OSQP",
          "cvxpy | OSQP",
          "cvxpy | OSQP",
          "cvxpy | OSQP",
          "cvxpy | OSQP",
          "cvxpy | OSQP",
          "cvxpy | OSQP",
          "cvxpy | OSQP",
          "cvxpy | OSQP",
          "cvxpy | OSQP",
          "cvxpy | OSQP",
          "cvxpy | OSQP",
          "cvxpy | OSQP",
          "cvxpy | OSQP",
          "cvxpy | OSQP",
          "cvxpy | ECOS",
          "cvxpy | ECOS",
          "cvxpy | ECOS",
          "cvxpy | ECOS",
          "cvxpy | ECOS",
          "cvxpy | ECOS",
          "cvxpy | ECOS",
          "cvxpy | ECOS",
          "cvxpy | ECOS",
          "cvxpy | ECOS",
          "cvxpy | ECOS",
          "cvxpy | ECOS",
          "cvxpy | ECOS",
          "cvxpy | ECOS",
          "cvxpy | ECOS",
          "cvxpy | ECOS",
          "cvxpy | ECOS",
          "cvxpy | ECOS",
          "cvxpy | ECOS",
          "cvxpy | ECOS",
          "cvxpy | ECOS",
          "cvxpy | ECOS",
          "cvxpy | ECOS",
          "cvxpy | ECOS",
          "cvxpy | ECOS",
          "cvxpy | ECOS",
          "cvxpy | ECOS",
          "cvxpy | ECOS",
          "cvxpy | ECOS",
          "cvxpy | ECOS",
          "cvxpy | ECOS",
          "cvxpy | ECOS",
          "cvxpy | ECOS",
          "cvxpy | ECOS",
          "cvxpy | ECOS",
          "cvxpy | ECOS",
          "cvxpy | ECOS",
          "cvxpy | ECOS",
          "cvxpy | ECOS",
          "cvxpy | ECOS",
          "cvxpy | ECOS",
          "cvxpy | ECOS",
          "cvxpy | ECOS",
          "cvxpy | ECOS",
          "cvxpy | ECOS",
          "cvxpy | ECOS",
          "cvxpy | ECOS",
          "cvxpy | ECOS",
          "cvxpy | ECOS",
          "cvxpy | ECOS",
          "cvxpy | ECOS",
          "cvxpy | ECOS",
          "cvxpy | ECOS",
          "cvxpy | ECOS",
          "cvxpy | ECOS",
          "cvxpy | ECOS",
          "cvxpy | ECOS",
          "cvxpy | ECOS",
          "cvxpy | ECOS",
          "cvxpy | ECOS",
          "cvxpy | ECOS",
          "cvxpy | ECOS",
          "cvxpy | ECOS",
          "cvxpy | ECOS",
          "cvxpy | ECOS",
          "cvxpy | ECOS",
          "cvxpy | ECOS",
          "cvxpy | ECOS",
          "cvxpy | ECOS",
          "cvxpy | ECOS",
          "cvxpy | ECOS",
          "cvxpy | ECOS",
          "cvxpy | ECOS",
          "cvxpy | ECOS",
          "cvxpy | ECOS",
          "cvxpy | ECOS",
          "cvxpy | ECOS",
          "cvxpy | ECOS",
          "cvxpy | ECOS",
          "cvxpy | ECOS",
          "cvxpy | ECOS",
          "cvxpy | ECOS",
          "cvxpy | ECOS",
          "cvxpy | ECOS",
          "cvxpy | ECOS",
          "cvxpy | ECOS",
          "cvxpy | ECOS",
          "cvxpy | ECOS",
          "cvxpy | ECOS",
          "cvxpy | ECOS",
          "cvxpy | ECOS",
          "cvxpy | ECOS",
          "cvxpy | ECOS",
          "cvxpy | ECOS",
          "cvxpy | ECOS",
          "cvxpy | ECOS",
          "cvxpy | ECOS",
          "cvxpy | ECOS",
          "cvxpy | ECOS",
          "cvxpy | ECOS",
          "cvxpy | SCS",
          "cvxpy | SCS",
          "cvxpy | SCS",
          "cvxpy | SCS",
          "cvxpy | SCS",
          "cvxpy | SCS",
          "cvxpy | SCS",
          "cvxpy | SCS",
          "cvxpy | SCS",
          "cvxpy | SCS",
          "cvxpy | SCS",
          "cvxpy | SCS",
          "cvxpy | SCS",
          "cvxpy | SCS",
          "cvxpy | SCS",
          "cvxpy | SCS",
          "cvxpy | SCS",
          "cvxpy | SCS",
          "cvxpy | SCS",
          "cvxpy | SCS",
          "cvxpy | SCS",
          "cvxpy | SCS",
          "cvxpy | SCS",
          "cvxpy | SCS",
          "cvxpy | SCS",
          "cvxpy | SCS",
          "cvxpy | SCS",
          "cvxpy | SCS",
          "cvxpy | SCS",
          "cvxpy | SCS",
          "cvxpy | SCS",
          "cvxpy | SCS",
          "cvxpy | SCS",
          "cvxpy | SCS",
          "cvxpy | SCS",
          "cvxpy | SCS",
          "cvxpy | SCS",
          "cvxpy | SCS",
          "cvxpy | SCS",
          "cvxpy | SCS",
          "cvxpy | SCS",
          "cvxpy | SCS",
          "cvxpy | SCS",
          "cvxpy | SCS",
          "cvxpy | SCS",
          "cvxpy | SCS",
          "cvxpy | SCS",
          "cvxpy | SCS",
          "cvxpy | SCS",
          "cvxpy | SCS",
          "cvxpy | SCS",
          "cvxpy | SCS",
          "cvxpy | SCS",
          "cvxpy | SCS",
          "cvxpy | SCS",
          "cvxpy | SCS",
          "cvxpy | SCS",
          "cvxpy | SCS",
          "cvxpy | SCS",
          "cvxpy | SCS",
          "cvxpy | SCS",
          "cvxpy | SCS",
          "cvxpy | SCS",
          "cvxpy | SCS",
          "cvxpy | SCS",
          "cvxpy | SCS",
          "cvxpy | SCS",
          "cvxpy | SCS",
          "cvxpy | SCS",
          "cvxpy | SCS",
          "cvxpy | SCS",
          "cvxpy | SCS",
          "cvxpy | SCS",
          "cvxpy | SCS",
          "cvxpy | SCS",
          "cvxpy | SCS",
          "cvxpy | SCS",
          "cvxpy | SCS",
          "cvxpy | SCS",
          "cvxpy | SCS",
          "cvxpy | SCS",
          "cvxpy | SCS",
          "cvxpy | SCS",
          "cvxpy | SCS",
          "cvxpy | SCS",
          "cvxpy | SCS",
          "cvxpy | SCS",
          "cvxpy | SCS",
          "cvxpy | SCS",
          "cvxpy | SCS",
          "cvxpy | SCS",
          "cvxpy | SCS",
          "cvxpy | SCS",
          "cvxpy | SCS",
          "cvxpy | SCS",
          "cvxpy | SCS",
          "cvxpy | SCS",
          "cvxpy | SCS",
          "cvxpy | SCS",
          "cvxpy | SCS",
          "qpsolver | osqp",
          "qpsolver | osqp",
          "qpsolver | osqp",
          "qpsolver | osqp",
          "qpsolver | osqp",
          "qpsolver | osqp",
          "qpsolver | osqp",
          "qpsolver | osqp",
          "qpsolver | osqp",
          "qpsolver | osqp",
          "qpsolver | osqp",
          "qpsolver | osqp",
          "qpsolver | osqp",
          "qpsolver | osqp",
          "qpsolver | osqp",
          "qpsolver | osqp",
          "qpsolver | osqp",
          "qpsolver | osqp",
          "qpsolver | osqp",
          "qpsolver | osqp",
          "qpsolver | osqp",
          "qpsolver | osqp",
          "qpsolver | osqp",
          "qpsolver | osqp",
          "qpsolver | osqp",
          "qpsolver | osqp",
          "qpsolver | osqp",
          "qpsolver | osqp",
          "qpsolver | osqp",
          "qpsolver | osqp",
          "qpsolver | osqp",
          "qpsolver | osqp",
          "qpsolver | osqp",
          "qpsolver | osqp",
          "qpsolver | osqp",
          "qpsolver | osqp",
          "qpsolver | osqp",
          "qpsolver | osqp",
          "qpsolver | osqp",
          "qpsolver | osqp",
          "qpsolver | osqp",
          "qpsolver | osqp",
          "qpsolver | osqp",
          "qpsolver | osqp",
          "qpsolver | osqp",
          "qpsolver | osqp",
          "qpsolver | osqp",
          "qpsolver | osqp",
          "qpsolver | osqp",
          "qpsolver | osqp",
          "qpsolver | osqp",
          "qpsolver | osqp",
          "qpsolver | osqp",
          "qpsolver | osqp",
          "qpsolver | osqp",
          "qpsolver | osqp",
          "qpsolver | osqp",
          "qpsolver | osqp",
          "qpsolver | osqp",
          "qpsolver | osqp",
          "qpsolver | osqp",
          "qpsolver | osqp",
          "qpsolver | osqp",
          "qpsolver | osqp",
          "qpsolver | osqp",
          "qpsolver | osqp",
          "qpsolver | osqp",
          "qpsolver | osqp",
          "qpsolver | osqp",
          "qpsolver | osqp",
          "qpsolver | osqp",
          "qpsolver | osqp",
          "qpsolver | osqp",
          "qpsolver | osqp",
          "qpsolver | osqp",
          "qpsolver | osqp",
          "qpsolver | osqp",
          "qpsolver | osqp",
          "qpsolver | osqp",
          "qpsolver | osqp",
          "qpsolver | osqp",
          "qpsolver | osqp",
          "qpsolver | osqp",
          "qpsolver | osqp",
          "qpsolver | osqp",
          "qpsolver | osqp",
          "qpsolver | osqp",
          "qpsolver | osqp",
          "qpsolver | osqp",
          "qpsolver | osqp",
          "qpsolver | osqp",
          "qpsolver | osqp",
          "qpsolver | osqp",
          "qpsolver | osqp",
          "qpsolver | osqp",
          "qpsolver | osqp",
          "qpsolver | osqp",
          "qpsolver | osqp",
          "qpsolver | osqp",
          "qpsolver | osqp",
          "qpsolver | ecos",
          "qpsolver | ecos",
          "qpsolver | ecos",
          "qpsolver | ecos",
          "qpsolver | ecos",
          "qpsolver | ecos",
          "qpsolver | ecos",
          "qpsolver | ecos",
          "qpsolver | ecos",
          "qpsolver | ecos",
          "qpsolver | ecos",
          "qpsolver | ecos",
          "qpsolver | ecos",
          "qpsolver | ecos",
          "qpsolver | ecos",
          "qpsolver | ecos",
          "qpsolver | ecos",
          "qpsolver | ecos",
          "qpsolver | ecos",
          "qpsolver | ecos",
          "qpsolver | ecos",
          "qpsolver | ecos",
          "qpsolver | ecos",
          "qpsolver | ecos",
          "qpsolver | ecos",
          "qpsolver | ecos",
          "qpsolver | ecos",
          "qpsolver | ecos",
          "qpsolver | ecos",
          "qpsolver | ecos",
          "qpsolver | ecos",
          "qpsolver | ecos",
          "qpsolver | ecos",
          "qpsolver | ecos",
          "qpsolver | ecos",
          "qpsolver | ecos",
          "qpsolver | ecos",
          "qpsolver | ecos",
          "qpsolver | ecos",
          "qpsolver | ecos",
          "qpsolver | ecos",
          "qpsolver | ecos",
          "qpsolver | ecos",
          "qpsolver | ecos",
          "qpsolver | ecos",
          "qpsolver | ecos",
          "qpsolver | ecos",
          "qpsolver | ecos",
          "qpsolver | ecos",
          "qpsolver | ecos",
          "qpsolver | ecos",
          "qpsolver | ecos",
          "qpsolver | ecos",
          "qpsolver | ecos",
          "qpsolver | ecos",
          "qpsolver | ecos",
          "qpsolver | ecos",
          "qpsolver | ecos",
          "qpsolver | ecos",
          "qpsolver | ecos",
          "qpsolver | ecos",
          "qpsolver | ecos",
          "qpsolver | ecos",
          "qpsolver | ecos",
          "qpsolver | ecos",
          "qpsolver | ecos",
          "qpsolver | ecos",
          "qpsolver | ecos",
          "qpsolver | ecos",
          "qpsolver | ecos",
          "qpsolver | ecos",
          "qpsolver | ecos",
          "qpsolver | ecos",
          "qpsolver | ecos",
          "qpsolver | ecos",
          "qpsolver | ecos",
          "qpsolver | ecos",
          "qpsolver | ecos",
          "qpsolver | ecos",
          "qpsolver | ecos",
          "qpsolver | ecos",
          "qpsolver | ecos",
          "qpsolver | ecos",
          "qpsolver | ecos",
          "qpsolver | ecos",
          "qpsolver | ecos",
          "qpsolver | ecos",
          "qpsolver | ecos",
          "qpsolver | ecos",
          "qpsolver | ecos",
          "qpsolver | ecos",
          "qpsolver | ecos",
          "qpsolver | ecos",
          "qpsolver | ecos",
          "qpsolver | ecos",
          "qpsolver | ecos",
          "qpsolver | ecos",
          "qpsolver | ecos",
          "qpsolver | ecos",
          "qpsolver | ecos",
          "qpsolver | scs",
          "qpsolver | scs",
          "qpsolver | scs",
          "qpsolver | scs",
          "qpsolver | scs",
          "qpsolver | scs",
          "qpsolver | scs",
          "qpsolver | scs",
          "qpsolver | scs",
          "qpsolver | scs",
          "qpsolver | scs",
          "qpsolver | scs",
          "qpsolver | scs",
          "qpsolver | scs",
          "qpsolver | scs",
          "qpsolver | scs",
          "qpsolver | scs",
          "qpsolver | scs",
          "qpsolver | scs",
          "qpsolver | scs",
          "qpsolver | scs",
          "qpsolver | scs",
          "qpsolver | scs",
          "qpsolver | scs",
          "qpsolver | scs",
          "qpsolver | scs",
          "qpsolver | scs",
          "qpsolver | scs",
          "qpsolver | scs",
          "qpsolver | scs",
          "qpsolver | scs",
          "qpsolver | scs",
          "qpsolver | scs",
          "qpsolver | scs",
          "qpsolver | scs",
          "qpsolver | scs",
          "qpsolver | scs",
          "qpsolver | scs",
          "qpsolver | scs",
          "qpsolver | scs",
          "qpsolver | scs",
          "qpsolver | scs",
          "qpsolver | scs",
          "qpsolver | scs",
          "qpsolver | scs",
          "qpsolver | scs",
          "qpsolver | scs",
          "qpsolver | scs",
          "qpsolver | scs",
          "qpsolver | scs",
          "qpsolver | scs",
          "qpsolver | scs",
          "qpsolver | scs",
          "qpsolver | scs",
          "qpsolver | scs",
          "qpsolver | scs",
          "qpsolver | scs",
          "qpsolver | scs",
          "qpsolver | scs",
          "qpsolver | scs",
          "qpsolver | scs",
          "qpsolver | scs",
          "qpsolver | scs",
          "qpsolver | scs",
          "qpsolver | scs",
          "qpsolver | scs",
          "qpsolver | scs",
          "qpsolver | scs",
          "qpsolver | scs",
          "qpsolver | scs",
          "qpsolver | scs",
          "qpsolver | scs",
          "qpsolver | scs",
          "qpsolver | scs",
          "qpsolver | scs",
          "qpsolver | scs",
          "qpsolver | scs",
          "qpsolver | scs",
          "qpsolver | scs",
          "qpsolver | scs",
          "qpsolver | scs",
          "qpsolver | scs",
          "qpsolver | scs",
          "qpsolver | scs",
          "qpsolver | scs",
          "qpsolver | scs",
          "qpsolver | scs",
          "qpsolver | scs",
          "qpsolver | scs",
          "qpsolver | scs",
          "qpsolver | scs",
          "qpsolver | scs",
          "qpsolver | scs",
          "qpsolver | scs",
          "qpsolver | scs",
          "qpsolver | scs",
          "qpsolver | scs",
          "qpsolver | scs",
          "qpsolver | scs",
          "qpsolver | scs",
          "qpsolver | quadprog",
          "qpsolver | quadprog",
          "qpsolver | quadprog",
          "qpsolver | quadprog",
          "qpsolver | quadprog",
          "qpsolver | quadprog",
          "qpsolver | quadprog",
          "qpsolver | quadprog",
          "qpsolver | quadprog",
          "qpsolver | quadprog",
          "qpsolver | quadprog",
          "qpsolver | quadprog",
          "qpsolver | quadprog",
          "qpsolver | quadprog",
          "qpsolver | quadprog",
          "qpsolver | quadprog",
          "qpsolver | quadprog",
          "qpsolver | quadprog",
          "qpsolver | quadprog",
          "qpsolver | quadprog",
          "qpsolver | quadprog",
          "qpsolver | quadprog",
          "qpsolver | quadprog",
          "qpsolver | quadprog",
          "qpsolver | quadprog",
          "qpsolver | quadprog",
          "qpsolver | quadprog",
          "qpsolver | quadprog",
          "qpsolver | quadprog",
          "qpsolver | quadprog",
          "qpsolver | quadprog",
          "qpsolver | quadprog",
          "qpsolver | quadprog",
          "qpsolver | quadprog",
          "qpsolver | quadprog",
          "qpsolver | quadprog",
          "qpsolver | quadprog",
          "qpsolver | quadprog",
          "qpsolver | quadprog",
          "qpsolver | quadprog",
          "qpsolver | quadprog",
          "qpsolver | quadprog",
          "qpsolver | quadprog",
          "qpsolver | quadprog",
          "qpsolver | quadprog",
          "qpsolver | quadprog",
          "qpsolver | quadprog",
          "qpsolver | quadprog",
          "qpsolver | quadprog",
          "qpsolver | quadprog",
          "qpsolver | quadprog",
          "qpsolver | quadprog",
          "qpsolver | quadprog",
          "qpsolver | quadprog",
          "qpsolver | quadprog",
          "qpsolver | quadprog",
          "qpsolver | quadprog",
          "qpsolver | quadprog",
          "qpsolver | quadprog",
          "qpsolver | quadprog",
          "qpsolver | quadprog",
          "qpsolver | quadprog",
          "qpsolver | quadprog",
          "qpsolver | quadprog",
          "qpsolver | quadprog",
          "qpsolver | quadprog",
          "qpsolver | quadprog",
          "qpsolver | quadprog",
          "qpsolver | quadprog",
          "qpsolver | quadprog",
          "qpsolver | quadprog",
          "qpsolver | quadprog",
          "qpsolver | quadprog",
          "qpsolver | quadprog",
          "qpsolver | quadprog",
          "qpsolver | quadprog",
          "qpsolver | quadprog",
          "qpsolver | quadprog",
          "qpsolver | quadprog",
          "qpsolver | quadprog",
          "qpsolver | quadprog",
          "qpsolver | quadprog",
          "qpsolver | quadprog",
          "qpsolver | quadprog",
          "qpsolver | quadprog",
          "qpsolver | quadprog",
          "qpsolver | quadprog",
          "qpsolver | quadprog",
          "qpsolver | quadprog",
          "qpsolver | quadprog",
          "qpsolver | quadprog",
          "qpsolver | quadprog",
          "qpsolver | quadprog",
          "qpsolver | quadprog",
          "qpsolver | quadprog",
          "qpsolver | quadprog",
          "qpsolver | quadprog",
          "qpsolver | quadprog",
          "qpsolver | quadprog",
          "qpsolver | quadprog"
         ],
         "x0": " ",
         "xaxis": "x",
         "y": [
          1623.9482131004331,
          1623.9996390342712,
          1623.5901799201963,
          1623.8392078876495,
          1624.2455441951752,
          1624.2889909744265,
          1623.914102077484,
          1624.0477340221405,
          1624.138237953186,
          1624.0291771888733,
          1624.3098948001862,
          1624.206899881363,
          1624.1015076637268,
          1624.2888469696045,
          1624.5972862243652,
          1624.62575006485,
          1624.1154489517212,
          1624.131041765213,
          1624.1372561454773,
          1624.234235048294,
          1624.2544848918917,
          1624.6206328868866,
          1624.5961451530457,
          1624.870974302292,
          1624.357428073883,
          1624.5361061096191,
          1624.9442343711853,
          1624.5761761665344,
          1624.7034630775452,
          1625.0676531791687,
          1624.7059440612793,
          1624.827800035477,
          1624.883574962616,
          1624.8130888938904,
          1625.075799703598,
          1624.708046913147,
          1625.2964990139008,
          1625.3181262016296,
          1625.139566898346,
          1624.9332752227783,
          1625.2251958847046,
          1625.2222180366516,
          1625.2589089870453,
          1625.2412197589874,
          1625.1287338733673,
          1625.4652271270752,
          1625.4249348640442,
          1625.53826212883,
          1625.4992468357086,
          1625.2797918319702,
          1625.6486930847168,
          1625.4039368629456,
          1625.647516965866,
          1625.645439863205,
          1625.8878288269043,
          1625.4085519313812,
          1625.7725760936737,
          1625.6585099697113,
          1625.7119297981262,
          1625.6424458026886,
          1625.6377670764923,
          1626.161866903305,
          1626.02902674675,
          1626.0660951137545,
          1626.0481100082395,
          1625.8421642780304,
          1626.1631927490234,
          1626.2326822280884,
          1625.9612259864807,
          1626.4364778995514,
          1626.5361158847809,
          1626.468957901001,
          1626.5491888523102,
          1626.2409448623655,
          1626.4067120552063,
          1626.5010647773745,
          1626.7603690624237,
          1626.5759530067444,
          1626.318963766098,
          1626.6327688694,
          1626.850458860397,
          1626.391301870346,
          1626.4859330654144,
          1626.983288049698,
          1626.4969367980957,
          1626.808884859085,
          1626.803957939148,
          1627.0972468852997,
          1626.8294217586515,
          1626.8615229129791,
          1627.030294895172,
          1627.02956700325,
          1626.953155040741,
          1627.067794084549,
          1627.0572350025177,
          1626.9730067253113,
          1627.0364363193512,
          1627.236674785614,
          1627.306771993637,
          1627.1946532726288,
          1535.4192790985107,
          1535.781021118164,
          1536.2086799144745,
          1536.1304261684418,
          1536.4408988952637,
          1537.1981840133667,
          1537.0700316429138,
          1537.2873091697693,
          1537.5699021816254,
          1537.526113033295,
          1537.8509318828585,
          1538.1881930828094,
          1538.3842039108276,
          1538.6478118896484,
          1539.0583081245422,
          1539.15363407135,
          1539.5174179077148,
          1539.5367171764374,
          1540.0398399829865,
          1540.3134999275208,
          1540.4598820209503,
          1540.3372299671173,
          1541.0524270534515,
          1541.1909177303314,
          1541.4981589317322,
          1541.7602531909945,
          1541.571078300476,
          1542.2619080543518,
          1542.0436158180237,
          1542.574428319931,
          1542.5182468891144,
          1543.0902080535889,
          1542.8351612091064,
          1543.2416188716888,
          1543.386909008026,
          1543.9542899131775,
          1544.0639519691467,
          1544.1110200881958,
          1544.1090052127838,
          1545.3303518295288,
          1545.1078729629517,
          1545.4668378829956,
          1545.7580547332764,
          1546.0312230587006,
          1546.0847959518433,
          1546.4104340076449,
          1546.74125623703,
          1547.103042125702,
          1546.816640138626,
          1547.476861000061,
          1547.364028930664,
          1547.60258603096,
          1547.9808719158173,
          1548.290855884552,
          1548.037934064865,
          1548.809446811676,
          1548.583494901657,
          1549.0883257389069,
          1549.1517791748047,
          1549.1961960792542,
          1549.2382822036743,
          1550.0460500717163,
          1549.6931519508362,
          1550.1020679473877,
          1550.1438300609589,
          1550.5918309688568,
          1550.7171919345856,
          1550.850642204285,
          1551.3550279140472,
          1551.559338092804,
          1552.0752232074738,
          1552.2032120227814,
          1552.7169251441956,
          1552.9633708000183,
          1553.148654937744,
          1553.5747299194336,
          1553.6467020511627,
          1553.7589991092682,
          1553.9723529815674,
          1554.2235689163208,
          1554.4841856956482,
          1554.8541338443756,
          1554.9217011928558,
          1555.2289628982544,
          1555.9713847637177,
          1555.9637732505798,
          1555.9260799884796,
          1556.6888711452484,
          1556.6398351192474,
          1557.100499868393,
          1557.275130033493,
          1557.7074298858645,
          1557.5905468463898,
          1558.0204601287842,
          1558.3009219169617,
          1558.6590487957,
          1558.8204970359802,
          1559.032576084137,
          1559.675761938095,
          1559.394331216812,
          1577.8571949005127,
          1578.9733538627625,
          1579.353264093399,
          1579.9267809391022,
          1580.4822866916656,
          1580.8827550411224,
          1581.9633119106293,
          1582.3792700767517,
          1582.7315211296082,
          1583.7258920669556,
          1584.0691277980804,
          1584.4833641052246,
          1585.1298859119415,
          1585.8661971092224,
          1586.696392774582,
          1586.9619328975675,
          1587.755145072937,
          1588.0074481964111,
          1588.463854074478,
          1589.0568251609802,
          1589.753082036972,
          1590.3069398403168,
          1590.9797389507294,
          1591.3930549621582,
          1592.0022559165957,
          1592.8017671108246,
          1593.1501519680023,
          1594.20485663414,
          1594.3009538650513,
          1595.3687250614166,
          1595.7467839717865,
          1596.300010919571,
          1596.701173067093,
          1597.1010160446167,
          1597.921464920044,
          1598.8218369483948,
          1599.0208110809326,
          1599.9739933013916,
          1600.4270219802856,
          1601.1952028274536,
          1601.5875992774963,
          1601.9074919223783,
          1602.8275487422943,
          1602.8500287532806,
          1603.9940416812897,
          1604.355621099472,
          1604.8695380687714,
          1605.45015501976,
          1606.0079927444458,
          1606.2940590381622,
          1606.9631690979004,
          1607.59681391716,
          1608.2846641540527,
          1608.753898859024,
          1609.1727769374847,
          1610.2998869419098,
          1610.8667750358582,
          1611.051186800003,
          1612.0122821331024,
          1612.5154149532318,
          1612.868224143982,
          1613.458579301834,
          1614.1007177829742,
          1614.4356970787048,
          1615.4637579917908,
          1615.3669157028198,
          1616.3640038967133,
          1616.3778610229492,
          1617.0892958641052,
          1617.8307299613953,
          1618.6564829349518,
          1618.9351298809052,
          1619.4290459156036,
          1620.4287490844729,
          1620.9156489372251,
          1621.1518778800964,
          1622.200219154358,
          1622.436126947403,
          1622.9023070335388,
          1623.557736158371,
          1624.459485054016,
          1624.524169921875,
          1625.478525876999,
          1626.0968329906464,
          1626.9113171100616,
          1627.2730119228363,
          1627.7159750461578,
          1628.2968089580536,
          1629.260526895523,
          1629.2383971214294,
          1630.0267188549042,
          1630.6899132728577,
          1631.3523149490356,
          1632.0252783298492,
          1632.4377970695496,
          1633.2016937732697,
          1633.312058925629,
          1634.3187091350555,
          1634.3124041557312,
          1634.8747148513794,
          0.155895709991455,
          0.1358089447021484,
          0.2112078666687011,
          0.0240910053253173,
          0.1178538799285888,
          0.0608019828796386,
          0.0819129943847656,
          0.1728980541229248,
          0.0201292037963867,
          0.0683403015136718,
          0.0356128215789794,
          0.0983028411865234,
          0.0312831401824951,
          0.1421000957489013,
          0.0358262062072753,
          0.0126309394836425,
          0.0739660263061523,
          0.0203099250793457,
          0.1481499671936035,
          0.0224668979644775,
          0.103424072265625,
          0.1854579448699951,
          0.1116032600402832,
          0.0282390117645263,
          0.1395001411437988,
          0.1923220157623291,
          0.0486483573913574,
          0.1992731094360351,
          0.031649112701416,
          0.052739143371582,
          0.2139556407928466,
          0.0279910564422607,
          0.0325009822845459,
          0.0185909271240234,
          0.1321189403533935,
          0.0436229705810546,
          0.033074140548706,
          0.1607251167297363,
          0.1377928256988525,
          0.0288591384887695,
          0.0546481609344482,
          0.0840158462524414,
          0.0733098983764648,
          0.0300819873809814,
          0.0314090251922607,
          0.1992809772491455,
          0.1401360034942627,
          0.1023952960968017,
          0.0755739212036132,
          0.0946230888366699,
          0.0190870761871337,
          0.1881778240203857,
          0.0601379871368408,
          0.0673499107360839,
          0.1626229286193847,
          0.0359389781951904,
          0.1321167945861816,
          0.0476081371307373,
          0.112210988998413,
          0.0319161415100097,
          0.1705620288848877,
          0.1036188602447509,
          0.1454322338104248,
          0.0890219211578369,
          0.1101720333099365,
          0.0385782718658447,
          0.0393807888031005,
          0.0462877750396728,
          0.0385372638702392,
          0.0480058193206787,
          0.1365551948547363,
          0.0384929180145263,
          0.0520470142364501,
          0.0304789543151855,
          0.0539147853851318,
          0.0620150566101074,
          0.060680866241455,
          0.059258222579956,
          0.0792162418365478,
          0.0523159503936767,
          0.0416860580444335,
          0.0290920734405517,
          0.0339248180389404,
          0.0543799400329589,
          0.0497400760650634,
          0.034330129623413,
          0.0498831272125244,
          0.0333259105682373,
          0.0390889644622802,
          0.0331740379333496,
          0.0451259613037109,
          0.0251598358154296,
          0.037632942199707,
          0.0401792526245117,
          0.0497138500213623,
          0.0321378707885742,
          0.054595947265625,
          0.069551944732666,
          0.0649399757385253,
          0.0493829250335693,
          133.837153673172,
          160.76971983909607,
          182.9377920627594,
          199.4868750572205,
          204.8517038822174,
          212.76032996177676,
          215.32608604431152,
          216.3459599018097,
          217.55347514152527,
          222.26203799247745,
          223.9278647899628,
          231.24849581718445,
          246.3599739074707,
          247.39906001091003,
          249.8398642539978,
          250.837907075882,
          251.8308811187744,
          255.8786261081696,
          256.4154140949249,
          258.1758019924164,
          259.2136640548706,
          259.39103412628174,
          260.9751441478729,
          263.0047791004181,
          266.7471764087677,
          266.92840909957886,
          268.0703899860382,
          270.4423670768738,
          271.1117932796478,
          271.6705811023712,
          271.41301679611206,
          271.97235798835754,
          272.79995703697205,
          272.8610329627991,
          273.61221718788147,
          273.5543179512024,
          273.7394480705261,
          273.9505579471588,
          274.65833497047424,
          274.68732595443726,
          276.3554289340973,
          276.234002828598,
          276.3497200012207,
          276.2506048679352,
          278.0761070251465,
          278.9498641490936,
          278.4551649093628,
          278.93811988830566,
          279.125746011734,
          279.1285037994385,
          280.2957372665405,
          280.264102935791,
          280.6580078601837,
          280.530326128006,
          280.7542657852173,
          280.62114810943604,
          280.65416288375854,
          280.9141728878021,
          280.8387169837952,
          281.30644392967224,
          281.03236508369446,
          280.91160702705383,
          281.06495690345764,
          281.4537630081177,
          281.35401225090027,
          281.33032178878784,
          281.51935482025146,
          281.74001717567444,
          282.10424184799194,
          282.2850329875946,
          282.35133814811707,
          282.32757115364075,
          282.0868718624115,
          282.11846470832825,
          282.095716714859,
          282.268180847168,
          282.69963693618774,
          282.30334091186523,
          282.6213812828064,
          282.9316432476044,
          282.746511220932,
          282.89624404907227,
          282.74075412750244,
          282.72513818740845,
          283.12311816215515,
          282.947940826416,
          282.81839513778687,
          282.9116370677948,
          282.97609877586365,
          283.1470160484314,
          282.8215878009796,
          283.1115012168884,
          283.2447249889374,
          283.0875461101532,
          282.8640148639679,
          283.2665002346039,
          283.2347090244293,
          283.12615990638733,
          283.1259140968323,
          282.97629594802856,
          0.0629289150238037,
          0.0417780876159668,
          0.0672371387481689,
          0.037510871887207,
          0.035099983215332,
          0.0313186645507812,
          0.026606798171997,
          0.068246841430664,
          0.0527989864349365,
          0.0403130054473876,
          0.0440320968627929,
          0.0387370586395263,
          0.0435001850128173,
          0.0539121627807617,
          0.0504548549652099,
          0.0569891929626464,
          0.0409691333770751,
          0.0490250587463378,
          0.0635771751403808,
          0.056016206741333,
          0.0342628955841064,
          0.0510568618774414,
          0.0418291091918945,
          0.0427100658416748,
          0.0345211029052734,
          0.0180971622467041,
          0.0158219337463378,
          0.0539679527282714,
          0.068138837814331,
          0.0360238552093505,
          0.0401210784912109,
          0.031419038772583,
          0.031282901763916,
          0.0274150371551513,
          0.0557610988616943,
          0.0444650650024414,
          0.060133934020996,
          0.0522520542144775,
          0.0137877464294433,
          0.0351731777191162,
          0.0123488903045654,
          0.0445778369903564,
          0.0428318977355957,
          0.0356748104095459,
          0.0507729053497314,
          0.0374431610107421,
          0.0464000701904296,
          0.0489952564239501,
          0.0550978183746337,
          0.0420038700103759,
          0.0336689949035644,
          0.0434191226959228,
          0.0632708072662353,
          0.0506410598754882,
          0.0400021076202392,
          0.0403478145599365,
          0.0665321350097656,
          0.0640740394592285,
          0.0330431461334228,
          0.0404689311981201,
          0.0345139503479003,
          0.0243408679962158,
          0.0297992229461669,
          0.0301899909973144,
          0.0409982204437255,
          0.0478301048278808,
          0.0497949123382568,
          0.0473721027374267,
          0.0225090980529785,
          0.0605020523071289,
          0.0563971996307373,
          0.0547969341278076,
          0.0574750900268554,
          0.0561950206756591,
          0.0476601123809814,
          0.0673789978027343,
          0.0355639457702636,
          0.0654451847076416,
          0.0562272071838378,
          0.0579431056976318,
          0.0506391525268554,
          0.0411899089813232,
          0.0686616897583007,
          0.0481688976287841,
          0.050537109375,
          0.0410249233245849,
          0.068547248840332,
          0.050861120223999,
          0.0667061805725097,
          0.0910689830780029,
          0.0521430969238281,
          0.0358541011810302,
          0.0495541095733642,
          0.057830810546875,
          0.0838227272033691,
          0.0510599613189697,
          0.0819451808929443,
          0.0671079158782959,
          0.080665111541748,
          0.0902678966522216,
          0.4487330913543701,
          0.9456219673156738,
          0.6387646198272705,
          1.261141061782837,
          1.2691168785095217,
          1.3537819385528564,
          1.3759098052978516,
          1.359977960586548,
          1.5398080348968506,
          1.6338727474212646,
          1.6855380535125732,
          1.7137458324432373,
          1.6487939357757568,
          1.701826095581055,
          1.7253150939941406,
          1.7671501636505127,
          1.7243049144744873,
          1.792125940322876,
          1.8847553730010984,
          1.6550467014312744,
          1.904029130935669,
          1.5745298862457275,
          1.7234807014465332,
          2.0516879558563232,
          1.9300651550292969,
          1.995727777481079,
          2.1018178462982178,
          2.193246364593506,
          2.175135850906372,
          2.093146085739136,
          2.2846007347106934,
          2.000127077102661,
          2.1962287425994877,
          2.0517570972442627,
          1.887503147125244,
          2.006319046020508,
          2.1190741062164307,
          2.2733712196350098,
          2.009740829467773,
          2.086464166641236,
          2.2488808631896973,
          2.298031806945801,
          2.232508897781372,
          2.296654224395752,
          2.142311811447144,
          2.147379875183105,
          2.35530686378479,
          2.2383360862731934,
          2.0704832077026367,
          2.1349871158599854,
          1.9857258796691892,
          2.130746841430664,
          1.9755330085754397,
          2.1628410816192627,
          2.383565187454224,
          2.166874885559082,
          2.303797960281372,
          2.083301067352295,
          2.1751580238342285,
          2.3062069416046143,
          2.033285856246948,
          2.043668031692505,
          2.2997586727142334,
          2.150675058364868,
          2.169842004776001,
          2.1273789405822754,
          2.3124589920043945,
          2.0596141815185547,
          2.274210929870605,
          2.258186101913452,
          2.291562795639038,
          2.2832372188568115,
          2.0845961570739746,
          2.0957019329071045,
          2.403775930404663,
          2.2191271781921387,
          2.105199098587036,
          2.248382091522217,
          2.098295927047729,
          2.1565558910369877,
          2.215092897415161,
          2.280113935470581,
          2.1670901775360107,
          2.043541193008423,
          2.0433270931243896,
          2.1078271865844727,
          2.406824350357056,
          2.107020854949951,
          2.06494402885437,
          2.1468169689178467,
          2.342879056930542,
          2.0571439266204834,
          2.089177131652832,
          2.099493741989136,
          2.171503782272339,
          2.1410670280456543,
          2.2644131183624268,
          2.137277126312256,
          2.0968780517578125,
          2.2050392627716064
         ],
         "y0": " ",
         "yaxis": "y"
        }
       ],
       "layout": {
        "boxmode": "group",
        "legend": {
         "tracegroupgap": 0
        },
        "margin": {
         "t": 60
        },
        "template": {
         "data": {
          "bar": [
           {
            "error_x": {
             "color": "#2a3f5f"
            },
            "error_y": {
             "color": "#2a3f5f"
            },
            "marker": {
             "line": {
              "color": "#E5ECF6",
              "width": 0.5
             },
             "pattern": {
              "fillmode": "overlay",
              "size": 10,
              "solidity": 0.2
             }
            },
            "type": "bar"
           }
          ],
          "barpolar": [
           {
            "marker": {
             "line": {
              "color": "#E5ECF6",
              "width": 0.5
             },
             "pattern": {
              "fillmode": "overlay",
              "size": 10,
              "solidity": 0.2
             }
            },
            "type": "barpolar"
           }
          ],
          "carpet": [
           {
            "aaxis": {
             "endlinecolor": "#2a3f5f",
             "gridcolor": "white",
             "linecolor": "white",
             "minorgridcolor": "white",
             "startlinecolor": "#2a3f5f"
            },
            "baxis": {
             "endlinecolor": "#2a3f5f",
             "gridcolor": "white",
             "linecolor": "white",
             "minorgridcolor": "white",
             "startlinecolor": "#2a3f5f"
            },
            "type": "carpet"
           }
          ],
          "choropleth": [
           {
            "colorbar": {
             "outlinewidth": 0,
             "ticks": ""
            },
            "type": "choropleth"
           }
          ],
          "contour": [
           {
            "colorbar": {
             "outlinewidth": 0,
             "ticks": ""
            },
            "colorscale": [
             [
              0,
              "#0d0887"
             ],
             [
              0.1111111111111111,
              "#46039f"
             ],
             [
              0.2222222222222222,
              "#7201a8"
             ],
             [
              0.3333333333333333,
              "#9c179e"
             ],
             [
              0.4444444444444444,
              "#bd3786"
             ],
             [
              0.5555555555555556,
              "#d8576b"
             ],
             [
              0.6666666666666666,
              "#ed7953"
             ],
             [
              0.7777777777777778,
              "#fb9f3a"
             ],
             [
              0.8888888888888888,
              "#fdca26"
             ],
             [
              1,
              "#f0f921"
             ]
            ],
            "type": "contour"
           }
          ],
          "contourcarpet": [
           {
            "colorbar": {
             "outlinewidth": 0,
             "ticks": ""
            },
            "type": "contourcarpet"
           }
          ],
          "heatmap": [
           {
            "colorbar": {
             "outlinewidth": 0,
             "ticks": ""
            },
            "colorscale": [
             [
              0,
              "#0d0887"
             ],
             [
              0.1111111111111111,
              "#46039f"
             ],
             [
              0.2222222222222222,
              "#7201a8"
             ],
             [
              0.3333333333333333,
              "#9c179e"
             ],
             [
              0.4444444444444444,
              "#bd3786"
             ],
             [
              0.5555555555555556,
              "#d8576b"
             ],
             [
              0.6666666666666666,
              "#ed7953"
             ],
             [
              0.7777777777777778,
              "#fb9f3a"
             ],
             [
              0.8888888888888888,
              "#fdca26"
             ],
             [
              1,
              "#f0f921"
             ]
            ],
            "type": "heatmap"
           }
          ],
          "heatmapgl": [
           {
            "colorbar": {
             "outlinewidth": 0,
             "ticks": ""
            },
            "colorscale": [
             [
              0,
              "#0d0887"
             ],
             [
              0.1111111111111111,
              "#46039f"
             ],
             [
              0.2222222222222222,
              "#7201a8"
             ],
             [
              0.3333333333333333,
              "#9c179e"
             ],
             [
              0.4444444444444444,
              "#bd3786"
             ],
             [
              0.5555555555555556,
              "#d8576b"
             ],
             [
              0.6666666666666666,
              "#ed7953"
             ],
             [
              0.7777777777777778,
              "#fb9f3a"
             ],
             [
              0.8888888888888888,
              "#fdca26"
             ],
             [
              1,
              "#f0f921"
             ]
            ],
            "type": "heatmapgl"
           }
          ],
          "histogram": [
           {
            "marker": {
             "pattern": {
              "fillmode": "overlay",
              "size": 10,
              "solidity": 0.2
             }
            },
            "type": "histogram"
           }
          ],
          "histogram2d": [
           {
            "colorbar": {
             "outlinewidth": 0,
             "ticks": ""
            },
            "colorscale": [
             [
              0,
              "#0d0887"
             ],
             [
              0.1111111111111111,
              "#46039f"
             ],
             [
              0.2222222222222222,
              "#7201a8"
             ],
             [
              0.3333333333333333,
              "#9c179e"
             ],
             [
              0.4444444444444444,
              "#bd3786"
             ],
             [
              0.5555555555555556,
              "#d8576b"
             ],
             [
              0.6666666666666666,
              "#ed7953"
             ],
             [
              0.7777777777777778,
              "#fb9f3a"
             ],
             [
              0.8888888888888888,
              "#fdca26"
             ],
             [
              1,
              "#f0f921"
             ]
            ],
            "type": "histogram2d"
           }
          ],
          "histogram2dcontour": [
           {
            "colorbar": {
             "outlinewidth": 0,
             "ticks": ""
            },
            "colorscale": [
             [
              0,
              "#0d0887"
             ],
             [
              0.1111111111111111,
              "#46039f"
             ],
             [
              0.2222222222222222,
              "#7201a8"
             ],
             [
              0.3333333333333333,
              "#9c179e"
             ],
             [
              0.4444444444444444,
              "#bd3786"
             ],
             [
              0.5555555555555556,
              "#d8576b"
             ],
             [
              0.6666666666666666,
              "#ed7953"
             ],
             [
              0.7777777777777778,
              "#fb9f3a"
             ],
             [
              0.8888888888888888,
              "#fdca26"
             ],
             [
              1,
              "#f0f921"
             ]
            ],
            "type": "histogram2dcontour"
           }
          ],
          "mesh3d": [
           {
            "colorbar": {
             "outlinewidth": 0,
             "ticks": ""
            },
            "type": "mesh3d"
           }
          ],
          "parcoords": [
           {
            "line": {
             "colorbar": {
              "outlinewidth": 0,
              "ticks": ""
             }
            },
            "type": "parcoords"
           }
          ],
          "pie": [
           {
            "automargin": true,
            "type": "pie"
           }
          ],
          "scatter": [
           {
            "fillpattern": {
             "fillmode": "overlay",
             "size": 10,
             "solidity": 0.2
            },
            "type": "scatter"
           }
          ],
          "scatter3d": [
           {
            "line": {
             "colorbar": {
              "outlinewidth": 0,
              "ticks": ""
             }
            },
            "marker": {
             "colorbar": {
              "outlinewidth": 0,
              "ticks": ""
             }
            },
            "type": "scatter3d"
           }
          ],
          "scattercarpet": [
           {
            "marker": {
             "colorbar": {
              "outlinewidth": 0,
              "ticks": ""
             }
            },
            "type": "scattercarpet"
           }
          ],
          "scattergeo": [
           {
            "marker": {
             "colorbar": {
              "outlinewidth": 0,
              "ticks": ""
             }
            },
            "type": "scattergeo"
           }
          ],
          "scattergl": [
           {
            "marker": {
             "colorbar": {
              "outlinewidth": 0,
              "ticks": ""
             }
            },
            "type": "scattergl"
           }
          ],
          "scattermapbox": [
           {
            "marker": {
             "colorbar": {
              "outlinewidth": 0,
              "ticks": ""
             }
            },
            "type": "scattermapbox"
           }
          ],
          "scatterpolar": [
           {
            "marker": {
             "colorbar": {
              "outlinewidth": 0,
              "ticks": ""
             }
            },
            "type": "scatterpolar"
           }
          ],
          "scatterpolargl": [
           {
            "marker": {
             "colorbar": {
              "outlinewidth": 0,
              "ticks": ""
             }
            },
            "type": "scatterpolargl"
           }
          ],
          "scatterternary": [
           {
            "marker": {
             "colorbar": {
              "outlinewidth": 0,
              "ticks": ""
             }
            },
            "type": "scatterternary"
           }
          ],
          "surface": [
           {
            "colorbar": {
             "outlinewidth": 0,
             "ticks": ""
            },
            "colorscale": [
             [
              0,
              "#0d0887"
             ],
             [
              0.1111111111111111,
              "#46039f"
             ],
             [
              0.2222222222222222,
              "#7201a8"
             ],
             [
              0.3333333333333333,
              "#9c179e"
             ],
             [
              0.4444444444444444,
              "#bd3786"
             ],
             [
              0.5555555555555556,
              "#d8576b"
             ],
             [
              0.6666666666666666,
              "#ed7953"
             ],
             [
              0.7777777777777778,
              "#fb9f3a"
             ],
             [
              0.8888888888888888,
              "#fdca26"
             ],
             [
              1,
              "#f0f921"
             ]
            ],
            "type": "surface"
           }
          ],
          "table": [
           {
            "cells": {
             "fill": {
              "color": "#EBF0F8"
             },
             "line": {
              "color": "white"
             }
            },
            "header": {
             "fill": {
              "color": "#C8D4E3"
             },
             "line": {
              "color": "white"
             }
            },
            "type": "table"
           }
          ]
         },
         "layout": {
          "annotationdefaults": {
           "arrowcolor": "#2a3f5f",
           "arrowhead": 0,
           "arrowwidth": 1
          },
          "autotypenumbers": "strict",
          "coloraxis": {
           "colorbar": {
            "outlinewidth": 0,
            "ticks": ""
           }
          },
          "colorscale": {
           "diverging": [
            [
             0,
             "#8e0152"
            ],
            [
             0.1,
             "#c51b7d"
            ],
            [
             0.2,
             "#de77ae"
            ],
            [
             0.3,
             "#f1b6da"
            ],
            [
             0.4,
             "#fde0ef"
            ],
            [
             0.5,
             "#f7f7f7"
            ],
            [
             0.6,
             "#e6f5d0"
            ],
            [
             0.7,
             "#b8e186"
            ],
            [
             0.8,
             "#7fbc41"
            ],
            [
             0.9,
             "#4d9221"
            ],
            [
             1,
             "#276419"
            ]
           ],
           "sequential": [
            [
             0,
             "#0d0887"
            ],
            [
             0.1111111111111111,
             "#46039f"
            ],
            [
             0.2222222222222222,
             "#7201a8"
            ],
            [
             0.3333333333333333,
             "#9c179e"
            ],
            [
             0.4444444444444444,
             "#bd3786"
            ],
            [
             0.5555555555555556,
             "#d8576b"
            ],
            [
             0.6666666666666666,
             "#ed7953"
            ],
            [
             0.7777777777777778,
             "#fb9f3a"
            ],
            [
             0.8888888888888888,
             "#fdca26"
            ],
            [
             1,
             "#f0f921"
            ]
           ],
           "sequentialminus": [
            [
             0,
             "#0d0887"
            ],
            [
             0.1111111111111111,
             "#46039f"
            ],
            [
             0.2222222222222222,
             "#7201a8"
            ],
            [
             0.3333333333333333,
             "#9c179e"
            ],
            [
             0.4444444444444444,
             "#bd3786"
            ],
            [
             0.5555555555555556,
             "#d8576b"
            ],
            [
             0.6666666666666666,
             "#ed7953"
            ],
            [
             0.7777777777777778,
             "#fb9f3a"
            ],
            [
             0.8888888888888888,
             "#fdca26"
            ],
            [
             1,
             "#f0f921"
            ]
           ]
          },
          "colorway": [
           "#636efa",
           "#EF553B",
           "#00cc96",
           "#ab63fa",
           "#FFA15A",
           "#19d3f3",
           "#FF6692",
           "#B6E880",
           "#FF97FF",
           "#FECB52"
          ],
          "font": {
           "color": "#2a3f5f"
          },
          "geo": {
           "bgcolor": "white",
           "lakecolor": "white",
           "landcolor": "#E5ECF6",
           "showlakes": true,
           "showland": true,
           "subunitcolor": "white"
          },
          "hoverlabel": {
           "align": "left"
          },
          "hovermode": "closest",
          "mapbox": {
           "style": "light"
          },
          "paper_bgcolor": "white",
          "plot_bgcolor": "#E5ECF6",
          "polar": {
           "angularaxis": {
            "gridcolor": "white",
            "linecolor": "white",
            "ticks": ""
           },
           "bgcolor": "#E5ECF6",
           "radialaxis": {
            "gridcolor": "white",
            "linecolor": "white",
            "ticks": ""
           }
          },
          "scene": {
           "xaxis": {
            "backgroundcolor": "#E5ECF6",
            "gridcolor": "white",
            "gridwidth": 2,
            "linecolor": "white",
            "showbackground": true,
            "ticks": "",
            "zerolinecolor": "white"
           },
           "yaxis": {
            "backgroundcolor": "#E5ECF6",
            "gridcolor": "white",
            "gridwidth": 2,
            "linecolor": "white",
            "showbackground": true,
            "ticks": "",
            "zerolinecolor": "white"
           },
           "zaxis": {
            "backgroundcolor": "#E5ECF6",
            "gridcolor": "white",
            "gridwidth": 2,
            "linecolor": "white",
            "showbackground": true,
            "ticks": "",
            "zerolinecolor": "white"
           }
          },
          "shapedefaults": {
           "line": {
            "color": "#2a3f5f"
           }
          },
          "ternary": {
           "aaxis": {
            "gridcolor": "white",
            "linecolor": "white",
            "ticks": ""
           },
           "baxis": {
            "gridcolor": "white",
            "linecolor": "white",
            "ticks": ""
           },
           "bgcolor": "#E5ECF6",
           "caxis": {
            "gridcolor": "white",
            "linecolor": "white",
            "ticks": ""
           }
          },
          "title": {
           "x": 0.05
          },
          "xaxis": {
           "automargin": true,
           "gridcolor": "white",
           "linecolor": "white",
           "ticks": "",
           "title": {
            "standoff": 15
           },
           "zerolinecolor": "white",
           "zerolinewidth": 2
          },
          "yaxis": {
           "automargin": true,
           "gridcolor": "white",
           "linecolor": "white",
           "ticks": "",
           "title": {
            "standoff": 15
           },
           "zerolinecolor": "white",
           "zerolinewidth": 2
          }
         }
        },
        "xaxis": {
         "anchor": "y",
         "domain": [
          0,
          1
         ],
         "title": {
          "text": "Package | Solver Combo"
         }
        },
        "yaxis": {
         "anchor": "x",
         "domain": [
          0,
          1
         ],
         "title": {
          "text": "Time"
         }
        }
       }
      }
     },
     "metadata": {},
     "output_type": "display_data"
    }
   ],
   "source": [
    "for file in files:\n",
    "    info = file.split(\"_\")\n",
    "    numb_assets, numb_orders = info[4], info[5].split(\".\")[0]\n",
    "    df = pd.read_csv(directory + \"/\" + file, index_col=0)[[\"Package\", \"Solver\", \"Time\", \"Iteration\"]].dropna()\n",
    "\n",
    "    print(numb_assets, numb_orders)\n",
    "    df_box = pd.DataFrame()\n",
    "    df[\"Package | Solver Combo\"] = df[\"Package\"].astype(str) + \" | \" + df[\"Solver\"].astype(str)\n",
    "\n",
    "    fig = px.box(df, x=\"Package | Solver Combo\", y=\"Time\")\n",
    "    fig.show()\n",
    "    fig.write_html(\"boxplots/{}_{}.html\".format(numb_assets, numb_orders))\n",
    "\n",
    "\n",
    "\n"
   ]
  }
 ],
 "metadata": {
  "kernelspec": {
   "display_name": "Python 3.9.6 64-bit",
   "language": "python",
   "name": "python3"
  },
  "language_info": {
   "codemirror_mode": {
    "name": "ipython",
    "version": 3
   },
   "file_extension": ".py",
   "mimetype": "text/x-python",
   "name": "python",
   "nbconvert_exporter": "python",
   "pygments_lexer": "ipython3",
   "version": "3.9.6"
  },
  "orig_nbformat": 4,
  "vscode": {
   "interpreter": {
    "hash": "31f2aee4e71d21fbe5cf8b01ff0e069b9275f58929596ceb00d14d90e3e16cd6"
   }
  }
 },
 "nbformat": 4,
 "nbformat_minor": 2
}
