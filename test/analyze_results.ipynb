{
 "cells": [
  {
   "cell_type": "code",
   "execution_count": 30,
   "metadata": {},
   "outputs": [],
   "source": [
    "import pandas as pd\n",
    "import os\n",
    "import plotly.express as px"
   ]
  },
  {
   "cell_type": "code",
   "execution_count": 13,
   "metadata": {},
   "outputs": [
    {
     "data": {
      "text/plain": [
       "['quad_program_library_comparison_numbAssets=2_numbOrders=100.csv',\n",
       " 'quad_program_library_comparison_numbAssets=2_numbOrders=2.csv',\n",
       " 'quad_program_library_comparison_numbAssets=2_numbOrders=500.csv']"
      ]
     },
     "execution_count": 13,
     "metadata": {},
     "output_type": "execute_result"
    }
   ],
   "source": [
    "directory = \"results/\"\n",
    "files = [file.replace(\"\\n\", \"\") for file in os.popen(\"ls results\")]\n",
    "files"
   ]
  },
  {
   "cell_type": "code",
   "execution_count": 39,
   "metadata": {},
   "outputs": [
    {
     "name": "stdout",
     "output_type": "stream",
     "text": [
      "numbAssets=2 numbOrders=100\n"
     ]
    },
    {
     "data": {
      "application/vnd.plotly.v1+json": {
       "config": {
        "plotlyServerURL": "https://plot.ly"
       },
       "data": [
        {
         "alignmentgroup": "True",
         "hovertemplate": "Package | Solver Combo=%{x}<br>Time=%{y}<extra></extra>",
         "legendgroup": "",
         "marker": {
          "color": "#636efa"
         },
         "name": "",
         "notched": false,
         "offsetgroup": "",
         "orientation": "v",
         "showlegend": false,
         "type": "box",
         "x": [
          "cvxpy | OSQP",
          "cvxpy | OSQP",
          "cvxpy | OSQP",
          "cvxpy | OSQP",
          "cvxpy | OSQP",
          "cvxpy | OSQP",
          "cvxpy | OSQP",
          "cvxpy | OSQP",
          "cvxpy | OSQP",
          "cvxpy | OSQP",
          "cvxpy | OSQP",
          "cvxpy | OSQP",
          "cvxpy | OSQP",
          "cvxpy | OSQP",
          "cvxpy | OSQP",
          "cvxpy | OSQP",
          "cvxpy | OSQP",
          "cvxpy | OSQP",
          "cvxpy | OSQP",
          "cvxpy | OSQP",
          "cvxpy | OSQP",
          "cvxpy | OSQP",
          "cvxpy | OSQP",
          "cvxpy | OSQP",
          "cvxpy | OSQP",
          "cvxpy | OSQP",
          "cvxpy | OSQP",
          "cvxpy | OSQP",
          "cvxpy | OSQP",
          "cvxpy | OSQP",
          "cvxpy | OSQP",
          "cvxpy | OSQP",
          "cvxpy | OSQP",
          "cvxpy | OSQP",
          "cvxpy | OSQP",
          "cvxpy | OSQP",
          "cvxpy | OSQP",
          "cvxpy | OSQP",
          "cvxpy | OSQP",
          "cvxpy | OSQP",
          "cvxpy | OSQP",
          "cvxpy | OSQP",
          "cvxpy | OSQP",
          "cvxpy | OSQP",
          "cvxpy | OSQP",
          "cvxpy | OSQP",
          "cvxpy | OSQP",
          "cvxpy | OSQP",
          "cvxpy | OSQP",
          "cvxpy | OSQP",
          "cvxpy | OSQP",
          "cvxpy | OSQP",
          "cvxpy | OSQP",
          "cvxpy | OSQP",
          "cvxpy | OSQP",
          "cvxpy | OSQP",
          "cvxpy | OSQP",
          "cvxpy | OSQP",
          "cvxpy | OSQP",
          "cvxpy | OSQP",
          "cvxpy | OSQP",
          "cvxpy | OSQP",
          "cvxpy | OSQP",
          "cvxpy | OSQP",
          "cvxpy | OSQP",
          "cvxpy | OSQP",
          "cvxpy | OSQP",
          "cvxpy | OSQP",
          "cvxpy | OSQP",
          "cvxpy | OSQP",
          "cvxpy | OSQP",
          "cvxpy | OSQP",
          "cvxpy | OSQP",
          "cvxpy | OSQP",
          "cvxpy | OSQP",
          "cvxpy | OSQP",
          "cvxpy | OSQP",
          "cvxpy | OSQP",
          "cvxpy | OSQP",
          "cvxpy | OSQP",
          "cvxpy | OSQP",
          "cvxpy | OSQP",
          "cvxpy | OSQP",
          "cvxpy | OSQP",
          "cvxpy | OSQP",
          "cvxpy | OSQP",
          "cvxpy | OSQP",
          "cvxpy | OSQP",
          "cvxpy | OSQP",
          "cvxpy | OSQP",
          "cvxpy | OSQP",
          "cvxpy | OSQP",
          "cvxpy | OSQP",
          "cvxpy | OSQP",
          "cvxpy | OSQP",
          "cvxpy | OSQP",
          "cvxpy | OSQP",
          "cvxpy | OSQP",
          "cvxpy | OSQP",
          "cvxpy | OSQP",
          "cvxpy | ECOS",
          "cvxpy | ECOS",
          "cvxpy | ECOS",
          "cvxpy | ECOS",
          "cvxpy | ECOS",
          "cvxpy | ECOS",
          "cvxpy | ECOS",
          "cvxpy | ECOS",
          "cvxpy | ECOS",
          "cvxpy | ECOS",
          "cvxpy | ECOS",
          "cvxpy | ECOS",
          "cvxpy | ECOS",
          "cvxpy | ECOS",
          "cvxpy | ECOS",
          "cvxpy | ECOS",
          "cvxpy | ECOS",
          "cvxpy | ECOS",
          "cvxpy | ECOS",
          "cvxpy | ECOS",
          "cvxpy | ECOS",
          "cvxpy | ECOS",
          "cvxpy | ECOS",
          "cvxpy | ECOS",
          "cvxpy | ECOS",
          "cvxpy | ECOS",
          "cvxpy | ECOS",
          "cvxpy | ECOS",
          "cvxpy | ECOS",
          "cvxpy | ECOS",
          "cvxpy | ECOS",
          "cvxpy | ECOS",
          "cvxpy | ECOS",
          "cvxpy | ECOS",
          "cvxpy | ECOS",
          "cvxpy | ECOS",
          "cvxpy | ECOS",
          "cvxpy | ECOS",
          "cvxpy | ECOS",
          "cvxpy | ECOS",
          "cvxpy | ECOS",
          "cvxpy | ECOS",
          "cvxpy | ECOS",
          "cvxpy | ECOS",
          "cvxpy | ECOS",
          "cvxpy | ECOS",
          "cvxpy | ECOS",
          "cvxpy | ECOS",
          "cvxpy | ECOS",
          "cvxpy | ECOS",
          "cvxpy | ECOS",
          "cvxpy | ECOS",
          "cvxpy | ECOS",
          "cvxpy | ECOS",
          "cvxpy | ECOS",
          "cvxpy | ECOS",
          "cvxpy | ECOS",
          "cvxpy | ECOS",
          "cvxpy | ECOS",
          "cvxpy | ECOS",
          "cvxpy | ECOS",
          "cvxpy | ECOS",
          "cvxpy | ECOS",
          "cvxpy | ECOS",
          "cvxpy | ECOS",
          "cvxpy | ECOS",
          "cvxpy | ECOS",
          "cvxpy | ECOS",
          "cvxpy | ECOS",
          "cvxpy | ECOS",
          "cvxpy | ECOS",
          "cvxpy | ECOS",
          "cvxpy | ECOS",
          "cvxpy | ECOS",
          "cvxpy | ECOS",
          "cvxpy | ECOS",
          "cvxpy | ECOS",
          "cvxpy | ECOS",
          "cvxpy | ECOS",
          "cvxpy | ECOS",
          "cvxpy | ECOS",
          "cvxpy | ECOS",
          "cvxpy | ECOS",
          "cvxpy | ECOS",
          "cvxpy | ECOS",
          "cvxpy | ECOS",
          "cvxpy | ECOS",
          "cvxpy | ECOS",
          "cvxpy | ECOS",
          "cvxpy | ECOS",
          "cvxpy | ECOS",
          "cvxpy | ECOS",
          "cvxpy | ECOS",
          "cvxpy | ECOS",
          "cvxpy | ECOS",
          "cvxpy | ECOS",
          "cvxpy | ECOS",
          "cvxpy | ECOS",
          "cvxpy | ECOS",
          "cvxpy | ECOS",
          "cvxpy | SCS",
          "cvxpy | SCS",
          "cvxpy | SCS",
          "cvxpy | SCS",
          "cvxpy | SCS",
          "cvxpy | SCS",
          "cvxpy | SCS",
          "cvxpy | SCS",
          "cvxpy | SCS",
          "cvxpy | SCS",
          "cvxpy | SCS",
          "cvxpy | SCS",
          "cvxpy | SCS",
          "cvxpy | SCS",
          "cvxpy | SCS",
          "cvxpy | SCS",
          "cvxpy | SCS",
          "cvxpy | SCS",
          "cvxpy | SCS",
          "cvxpy | SCS",
          "cvxpy | SCS",
          "cvxpy | SCS",
          "cvxpy | SCS",
          "cvxpy | SCS",
          "cvxpy | SCS",
          "cvxpy | SCS",
          "cvxpy | SCS",
          "cvxpy | SCS",
          "cvxpy | SCS",
          "cvxpy | SCS",
          "cvxpy | SCS",
          "cvxpy | SCS",
          "cvxpy | SCS",
          "cvxpy | SCS",
          "cvxpy | SCS",
          "cvxpy | SCS",
          "cvxpy | SCS",
          "cvxpy | SCS",
          "cvxpy | SCS",
          "cvxpy | SCS",
          "cvxpy | SCS",
          "cvxpy | SCS",
          "cvxpy | SCS",
          "cvxpy | SCS",
          "cvxpy | SCS",
          "cvxpy | SCS",
          "cvxpy | SCS",
          "cvxpy | SCS",
          "cvxpy | SCS",
          "cvxpy | SCS",
          "cvxpy | SCS",
          "cvxpy | SCS",
          "cvxpy | SCS",
          "cvxpy | SCS",
          "cvxpy | SCS",
          "cvxpy | SCS",
          "cvxpy | SCS",
          "cvxpy | SCS",
          "cvxpy | SCS",
          "cvxpy | SCS",
          "cvxpy | SCS",
          "cvxpy | SCS",
          "cvxpy | SCS",
          "cvxpy | SCS",
          "cvxpy | SCS",
          "cvxpy | SCS",
          "cvxpy | SCS",
          "cvxpy | SCS",
          "cvxpy | SCS",
          "cvxpy | SCS",
          "cvxpy | SCS",
          "cvxpy | SCS",
          "cvxpy | SCS",
          "cvxpy | SCS",
          "cvxpy | SCS",
          "cvxpy | SCS",
          "cvxpy | SCS",
          "cvxpy | SCS",
          "cvxpy | SCS",
          "cvxpy | SCS",
          "cvxpy | SCS",
          "cvxpy | SCS",
          "cvxpy | SCS",
          "cvxpy | SCS",
          "cvxpy | SCS",
          "cvxpy | SCS",
          "cvxpy | SCS",
          "cvxpy | SCS",
          "cvxpy | SCS",
          "cvxpy | SCS",
          "cvxpy | SCS",
          "cvxpy | SCS",
          "cvxpy | SCS",
          "cvxpy | SCS",
          "cvxpy | SCS",
          "cvxpy | SCS",
          "cvxpy | SCS",
          "cvxpy | SCS",
          "cvxpy | SCS",
          "cvxpy | SCS",
          "qpsolver | osqp",
          "qpsolver | osqp",
          "qpsolver | osqp",
          "qpsolver | osqp",
          "qpsolver | osqp",
          "qpsolver | osqp",
          "qpsolver | osqp",
          "qpsolver | osqp",
          "qpsolver | osqp",
          "qpsolver | osqp",
          "qpsolver | osqp",
          "qpsolver | osqp",
          "qpsolver | osqp",
          "qpsolver | osqp",
          "qpsolver | osqp",
          "qpsolver | osqp",
          "qpsolver | osqp",
          "qpsolver | osqp",
          "qpsolver | osqp",
          "qpsolver | osqp",
          "qpsolver | osqp",
          "qpsolver | osqp",
          "qpsolver | osqp",
          "qpsolver | osqp",
          "qpsolver | osqp",
          "qpsolver | osqp",
          "qpsolver | osqp",
          "qpsolver | osqp",
          "qpsolver | osqp",
          "qpsolver | osqp",
          "qpsolver | osqp",
          "qpsolver | osqp",
          "qpsolver | osqp",
          "qpsolver | osqp",
          "qpsolver | osqp",
          "qpsolver | osqp",
          "qpsolver | osqp",
          "qpsolver | osqp",
          "qpsolver | osqp",
          "qpsolver | osqp",
          "qpsolver | osqp",
          "qpsolver | osqp",
          "qpsolver | osqp",
          "qpsolver | osqp",
          "qpsolver | osqp",
          "qpsolver | osqp",
          "qpsolver | osqp",
          "qpsolver | osqp",
          "qpsolver | osqp",
          "qpsolver | osqp",
          "qpsolver | osqp",
          "qpsolver | osqp",
          "qpsolver | osqp",
          "qpsolver | osqp",
          "qpsolver | osqp",
          "qpsolver | osqp",
          "qpsolver | osqp",
          "qpsolver | osqp",
          "qpsolver | osqp",
          "qpsolver | osqp",
          "qpsolver | osqp",
          "qpsolver | osqp",
          "qpsolver | osqp",
          "qpsolver | osqp",
          "qpsolver | osqp",
          "qpsolver | osqp",
          "qpsolver | osqp",
          "qpsolver | osqp",
          "qpsolver | osqp",
          "qpsolver | osqp",
          "qpsolver | osqp",
          "qpsolver | osqp",
          "qpsolver | osqp",
          "qpsolver | osqp",
          "qpsolver | osqp",
          "qpsolver | osqp",
          "qpsolver | osqp",
          "qpsolver | osqp",
          "qpsolver | osqp",
          "qpsolver | osqp",
          "qpsolver | osqp",
          "qpsolver | osqp",
          "qpsolver | osqp",
          "qpsolver | osqp",
          "qpsolver | osqp",
          "qpsolver | osqp",
          "qpsolver | osqp",
          "qpsolver | osqp",
          "qpsolver | osqp",
          "qpsolver | osqp",
          "qpsolver | osqp",
          "qpsolver | osqp",
          "qpsolver | osqp",
          "qpsolver | osqp",
          "qpsolver | osqp",
          "qpsolver | osqp",
          "qpsolver | osqp",
          "qpsolver | osqp",
          "qpsolver | osqp",
          "qpsolver | osqp",
          "qpsolver | ecos",
          "qpsolver | ecos",
          "qpsolver | ecos",
          "qpsolver | ecos",
          "qpsolver | ecos",
          "qpsolver | ecos",
          "qpsolver | ecos",
          "qpsolver | ecos",
          "qpsolver | ecos",
          "qpsolver | ecos",
          "qpsolver | ecos",
          "qpsolver | ecos",
          "qpsolver | ecos",
          "qpsolver | ecos",
          "qpsolver | ecos",
          "qpsolver | ecos",
          "qpsolver | ecos",
          "qpsolver | ecos",
          "qpsolver | ecos",
          "qpsolver | ecos",
          "qpsolver | ecos",
          "qpsolver | ecos",
          "qpsolver | ecos",
          "qpsolver | ecos",
          "qpsolver | ecos",
          "qpsolver | ecos",
          "qpsolver | ecos",
          "qpsolver | ecos",
          "qpsolver | ecos",
          "qpsolver | ecos",
          "qpsolver | ecos",
          "qpsolver | ecos",
          "qpsolver | ecos",
          "qpsolver | ecos",
          "qpsolver | ecos",
          "qpsolver | ecos",
          "qpsolver | ecos",
          "qpsolver | ecos",
          "qpsolver | ecos",
          "qpsolver | ecos",
          "qpsolver | ecos",
          "qpsolver | ecos",
          "qpsolver | ecos",
          "qpsolver | ecos",
          "qpsolver | ecos",
          "qpsolver | ecos",
          "qpsolver | ecos",
          "qpsolver | ecos",
          "qpsolver | ecos",
          "qpsolver | ecos",
          "qpsolver | ecos",
          "qpsolver | ecos",
          "qpsolver | ecos",
          "qpsolver | ecos",
          "qpsolver | ecos",
          "qpsolver | ecos",
          "qpsolver | ecos",
          "qpsolver | ecos",
          "qpsolver | ecos",
          "qpsolver | ecos",
          "qpsolver | ecos",
          "qpsolver | ecos",
          "qpsolver | ecos",
          "qpsolver | ecos",
          "qpsolver | ecos",
          "qpsolver | ecos",
          "qpsolver | ecos",
          "qpsolver | ecos",
          "qpsolver | ecos",
          "qpsolver | ecos",
          "qpsolver | ecos",
          "qpsolver | ecos",
          "qpsolver | ecos",
          "qpsolver | ecos",
          "qpsolver | ecos",
          "qpsolver | ecos",
          "qpsolver | ecos",
          "qpsolver | ecos",
          "qpsolver | ecos",
          "qpsolver | ecos",
          "qpsolver | ecos",
          "qpsolver | ecos",
          "qpsolver | ecos",
          "qpsolver | ecos",
          "qpsolver | ecos",
          "qpsolver | ecos",
          "qpsolver | ecos",
          "qpsolver | ecos",
          "qpsolver | ecos",
          "qpsolver | ecos",
          "qpsolver | ecos",
          "qpsolver | ecos",
          "qpsolver | ecos",
          "qpsolver | ecos",
          "qpsolver | ecos",
          "qpsolver | ecos",
          "qpsolver | ecos",
          "qpsolver | ecos",
          "qpsolver | ecos",
          "qpsolver | ecos",
          "qpsolver | scs",
          "qpsolver | scs",
          "qpsolver | scs",
          "qpsolver | scs",
          "qpsolver | scs",
          "qpsolver | scs",
          "qpsolver | scs",
          "qpsolver | scs",
          "qpsolver | scs",
          "qpsolver | scs",
          "qpsolver | scs",
          "qpsolver | scs",
          "qpsolver | scs",
          "qpsolver | scs",
          "qpsolver | scs",
          "qpsolver | scs",
          "qpsolver | scs",
          "qpsolver | scs",
          "qpsolver | scs",
          "qpsolver | scs",
          "qpsolver | scs",
          "qpsolver | scs",
          "qpsolver | scs",
          "qpsolver | scs",
          "qpsolver | scs",
          "qpsolver | scs",
          "qpsolver | scs",
          "qpsolver | scs",
          "qpsolver | scs",
          "qpsolver | scs",
          "qpsolver | scs",
          "qpsolver | scs",
          "qpsolver | scs",
          "qpsolver | scs",
          "qpsolver | scs",
          "qpsolver | scs",
          "qpsolver | scs",
          "qpsolver | scs",
          "qpsolver | scs",
          "qpsolver | scs",
          "qpsolver | scs",
          "qpsolver | scs",
          "qpsolver | scs",
          "qpsolver | scs",
          "qpsolver | scs",
          "qpsolver | scs",
          "qpsolver | scs",
          "qpsolver | scs",
          "qpsolver | scs",
          "qpsolver | scs",
          "qpsolver | scs",
          "qpsolver | scs",
          "qpsolver | scs",
          "qpsolver | scs",
          "qpsolver | scs",
          "qpsolver | scs",
          "qpsolver | scs",
          "qpsolver | scs",
          "qpsolver | scs",
          "qpsolver | scs",
          "qpsolver | scs",
          "qpsolver | scs",
          "qpsolver | scs",
          "qpsolver | scs",
          "qpsolver | scs",
          "qpsolver | scs",
          "qpsolver | scs",
          "qpsolver | scs",
          "qpsolver | scs",
          "qpsolver | scs",
          "qpsolver | scs",
          "qpsolver | scs",
          "qpsolver | scs",
          "qpsolver | scs",
          "qpsolver | scs",
          "qpsolver | scs",
          "qpsolver | scs",
          "qpsolver | scs",
          "qpsolver | scs",
          "qpsolver | scs",
          "qpsolver | scs",
          "qpsolver | scs",
          "qpsolver | scs",
          "qpsolver | scs",
          "qpsolver | scs",
          "qpsolver | scs",
          "qpsolver | scs",
          "qpsolver | scs",
          "qpsolver | scs",
          "qpsolver | scs",
          "qpsolver | scs",
          "qpsolver | scs",
          "qpsolver | scs",
          "qpsolver | scs",
          "qpsolver | scs",
          "qpsolver | scs",
          "qpsolver | scs",
          "qpsolver | scs",
          "qpsolver | scs",
          "qpsolver | scs",
          "qpsolver | quadprog",
          "qpsolver | quadprog",
          "qpsolver | quadprog",
          "qpsolver | quadprog",
          "qpsolver | quadprog",
          "qpsolver | quadprog",
          "qpsolver | quadprog",
          "qpsolver | quadprog",
          "qpsolver | quadprog",
          "qpsolver | quadprog",
          "qpsolver | quadprog",
          "qpsolver | quadprog",
          "qpsolver | quadprog",
          "qpsolver | quadprog",
          "qpsolver | quadprog",
          "qpsolver | quadprog",
          "qpsolver | quadprog",
          "qpsolver | quadprog",
          "qpsolver | quadprog",
          "qpsolver | quadprog",
          "qpsolver | quadprog",
          "qpsolver | quadprog",
          "qpsolver | quadprog",
          "qpsolver | quadprog",
          "qpsolver | quadprog",
          "qpsolver | quadprog",
          "qpsolver | quadprog",
          "qpsolver | quadprog",
          "qpsolver | quadprog",
          "qpsolver | quadprog",
          "qpsolver | quadprog",
          "qpsolver | quadprog",
          "qpsolver | quadprog",
          "qpsolver | quadprog",
          "qpsolver | quadprog",
          "qpsolver | quadprog",
          "qpsolver | quadprog",
          "qpsolver | quadprog",
          "qpsolver | quadprog",
          "qpsolver | quadprog",
          "qpsolver | quadprog",
          "qpsolver | quadprog",
          "qpsolver | quadprog",
          "qpsolver | quadprog",
          "qpsolver | quadprog",
          "qpsolver | quadprog",
          "qpsolver | quadprog",
          "qpsolver | quadprog",
          "qpsolver | quadprog",
          "qpsolver | quadprog",
          "qpsolver | quadprog",
          "qpsolver | quadprog",
          "qpsolver | quadprog",
          "qpsolver | quadprog",
          "qpsolver | quadprog",
          "qpsolver | quadprog",
          "qpsolver | quadprog",
          "qpsolver | quadprog",
          "qpsolver | quadprog",
          "qpsolver | quadprog",
          "qpsolver | quadprog",
          "qpsolver | quadprog",
          "qpsolver | quadprog",
          "qpsolver | quadprog",
          "qpsolver | quadprog",
          "qpsolver | quadprog",
          "qpsolver | quadprog",
          "qpsolver | quadprog",
          "qpsolver | quadprog",
          "qpsolver | quadprog",
          "qpsolver | quadprog",
          "qpsolver | quadprog",
          "qpsolver | quadprog",
          "qpsolver | quadprog",
          "qpsolver | quadprog",
          "qpsolver | quadprog",
          "qpsolver | quadprog",
          "qpsolver | quadprog",
          "qpsolver | quadprog",
          "qpsolver | quadprog",
          "qpsolver | quadprog",
          "qpsolver | quadprog",
          "qpsolver | quadprog",
          "qpsolver | quadprog",
          "qpsolver | quadprog",
          "qpsolver | quadprog",
          "qpsolver | quadprog",
          "qpsolver | quadprog",
          "qpsolver | quadprog",
          "qpsolver | quadprog",
          "qpsolver | quadprog",
          "qpsolver | quadprog",
          "qpsolver | quadprog",
          "qpsolver | quadprog",
          "qpsolver | quadprog",
          "qpsolver | quadprog",
          "qpsolver | quadprog",
          "qpsolver | quadprog",
          "qpsolver | quadprog",
          "qpsolver | quadprog"
         ],
         "x0": " ",
         "xaxis": "x",
         "y": [
          170.66442322731018,
          210.1997816562653,
          213.26534295082087,
          213.63541293144223,
          213.2359700202942,
          215.2168719768524,
          221.9462299346924,
          222.9259648323059,
          227.8664600849152,
          232.34202194213867,
          235.2600197792053,
          237.0452389717102,
          238.9082272052765,
          239.8405692577362,
          244.09297704696652,
          250.3308098316193,
          250.8251669406891,
          252.95670914649963,
          252.8013207912445,
          253.10062789916992,
          253.26718425750727,
          253.30174589157104,
          253.30952620506287,
          253.78447222709656,
          253.9304916858673,
          254.40486598014832,
          255.36911797523496,
          255.3749761581421,
          256.0912938117981,
          256.2988784313202,
          256.7659339904785,
          257.01251101493835,
          256.87591910362244,
          256.9401130676269,
          257.45628023147583,
          257.8219482898712,
          258.1847779750824,
          258.10237169265747,
          258.1580238342285,
          258.3192908763885,
          258.2099390029907,
          258.2500758171081,
          258.93323802948,
          258.5455439090729,
          258.83496594429016,
          258.73555994033813,
          258.9270520210266,
          259.1261250972748,
          258.9943370819092,
          259.5260179042816,
          259.7675371170044,
          259.39461302757263,
          259.50266218185425,
          259.8930549621582,
          259.9235661029816,
          260.2554371356964,
          259.62530994415283,
          259.698273897171,
          260.32398891448975,
          259.8148488998413,
          259.6680221557617,
          259.9688949584961,
          260.1002411842346,
          259.88002371788025,
          260.162734746933,
          259.9995651245117,
          259.8837959766388,
          260.43088269233704,
          260.3084490299225,
          259.85446882247925,
          260.1683959960937,
          259.97440791130066,
          260.4067630767822,
          260.34415221214294,
          260.0356960296631,
          260.19905710220337,
          260.3550181388855,
          260.61982798576355,
          260.28136801719666,
          260.7527742385864,
          260.19962882995605,
          260.5458838939667,
          260.3931701183319,
          260.7246401309967,
          260.2034409046173,
          260.9710280895233,
          260.9695270061493,
          260.42031812667847,
          260.9636662006378,
          260.2498471736908,
          260.53028202056885,
          260.4536640644073,
          260.4040081501007,
          260.53127908706665,
          260.34467792510986,
          260.6582226753235,
          260.90680408477783,
          260.35810923576355,
          260.70544695854187,
          260.66401195526123,
          250.02045106887817,
          249.68585014343265,
          250.06781005859372,
          250.3565378189087,
          250.32293105125427,
          250.50389885902405,
          250.484799861908,
          250.49197101593015,
          250.46880197525024,
          250.3502857685089,
          250.5070559978485,
          250.35819816589355,
          250.74684715271,
          250.76557302474976,
          250.5697169303894,
          250.59415817260745,
          250.83162689208984,
          250.44429898262024,
          250.87345480918884,
          250.42300820350647,
          250.81107926368716,
          250.6988129615784,
          250.98470306396484,
          250.8052840232849,
          250.42430806159973,
          250.71229481697085,
          250.46782302856445,
          250.53756403923035,
          250.50142121315,
          251.08244490623477,
          250.67781782150269,
          251.08896899223328,
          250.68385291099548,
          250.93825888633728,
          250.77574801445007,
          250.67127084732056,
          250.78900718688965,
          251.16467308998108,
          250.83216500282288,
          251.25978994369507,
          251.1134238243103,
          251.04423809051517,
          250.92283511161804,
          251.10895824432373,
          250.96864104270932,
          251.1730921268463,
          251.3878619670868,
          251.2472238540649,
          251.55721020698547,
          251.48199701309204,
          251.29624199867249,
          251.2138650417328,
          251.55115485191345,
          251.3045299053192,
          251.46209812164307,
          251.58834099769592,
          251.3795740604401,
          251.6647610664368,
          251.49194407463077,
          251.5194478034973,
          251.67253398895264,
          251.8637101650238,
          251.6301348209381,
          251.75191807746887,
          251.63934302330017,
          251.755224943161,
          251.996954202652,
          251.73590898513797,
          251.8025062084198,
          251.88399410247803,
          251.79181504249573,
          252.2849700450897,
          252.1952509880066,
          252.4876039028168,
          252.3592917919159,
          251.92683219909668,
          252.38401794433597,
          252.46955108642575,
          252.16257429122925,
          252.517126083374,
          252.51975083351132,
          252.0105690956116,
          252.33993887901303,
          252.52318167686465,
          252.38988494873047,
          252.47581124305725,
          252.3387761116028,
          252.28315901756287,
          252.601154088974,
          252.26661705970764,
          252.34943890571597,
          252.7272942066193,
          252.54633331298828,
          252.61209988594052,
          252.69940304756165,
          252.51146006584167,
          252.836788892746,
          252.56379795074463,
          252.6062819957733,
          252.687344789505,
          243.5924220085144,
          243.56672620773315,
          243.4751780033112,
          243.84035301208496,
          243.5228350162506,
          243.8524799346924,
          243.7851250171661,
          243.6934168338776,
          244.0134768486023,
          243.9120481014252,
          244.59942603111267,
          244.3302948474884,
          244.1823301315308,
          244.3236548900604,
          244.50048685073853,
          244.33839988708496,
          244.5330879688263,
          244.61778712272644,
          244.52384185791016,
          244.77309489250183,
          244.9859960079193,
          244.70086669921875,
          244.83656811714167,
          244.93885684013367,
          245.10611009597775,
          245.29999804496765,
          245.19824385643005,
          245.16131567955017,
          245.08771514892575,
          245.2951729297638,
          245.11104893684387,
          245.26905989646912,
          245.2025809288025,
          245.1377799510956,
          245.15432476997373,
          245.34354400634768,
          245.40190315246585,
          245.3456997871399,
          245.482458114624,
          245.54186296463013,
          245.29959106445312,
          245.6712281703949,
          245.37230491638184,
          245.5752308368683,
          245.3989770412445,
          245.3710699081421,
          245.60915565490723,
          245.6348659992218,
          245.66846299171448,
          245.76253581047055,
          245.87014508247373,
          245.7782447338104,
          245.62198495864868,
          246.08019185066223,
          246.1791307926178,
          245.8787200450897,
          245.780357837677,
          245.8644139766693,
          245.9406840801239,
          246.25170373916623,
          246.1994230747223,
          245.9675669670105,
          246.23202276229856,
          246.0565676689148,
          246.2769629955292,
          246.19304394721985,
          246.24161005020144,
          246.33280205726624,
          246.381098985672,
          246.14410591125488,
          246.17664408683777,
          246.53624606132507,
          246.49746203422544,
          246.1731469631195,
          246.1243360042572,
          246.4912576675415,
          246.2024247646332,
          246.3907446861267,
          246.40540289878845,
          246.35421299934387,
          246.5262520313263,
          246.6889133453369,
          246.67192912101743,
          246.4606659412384,
          246.42474102973935,
          246.49340391159055,
          246.64376878738403,
          246.71609807014465,
          246.2909309864044,
          246.69861316680908,
          246.45252895355225,
          246.7693610191345,
          246.56218075752255,
          246.5750229358673,
          246.6019310951233,
          246.63841009140012,
          246.4800071716309,
          246.78957414627075,
          246.66367626190183,
          246.86511492729187,
          0.0414247512817382,
          0.052535057067871,
          0.014315128326416,
          0.0621576309204101,
          0.0169389247894287,
          0.0660440921783447,
          0.0484440326690673,
          0.0217509269714355,
          0.0071849822998046,
          0.0480737686157226,
          0.0256848335266113,
          0.0312402248382568,
          0.0136260986328125,
          0.0056612491607666,
          0.0248489379882812,
          0.0225849151611328,
          0.0188689231872558,
          0.0279409885406494,
          0.0106079578399658,
          0.0119140148162841,
          0.0374360084533691,
          0.0393829345703125,
          0.0219841003417968,
          0.0210518836975097,
          0.0368680953979492,
          0.0154471397399902,
          0.0079870223999023,
          0.0101418495178222,
          0.0108180046081542,
          0.0063130855560302,
          0.0396740436553955,
          0.0361912250518798,
          0.0285019874572753,
          0.0455670356750488,
          0.0276572704315185,
          0.0066940784454345,
          0.0240740776062011,
          0.0338191986083984,
          0.0177803039550781,
          0.0344879627227783,
          0.0167710781097412,
          0.0220417976379394,
          0.0022249221801757,
          0.0066630840301513,
          0.0116081237792968,
          0.0268890857696533,
          0.0065000057220458,
          0.0392460823059082,
          0.0219180583953857,
          0.0386760234832763,
          0.0057699680328369,
          0.0259230136871337,
          0.0011088848114013,
          0.0222289562225341,
          0.0325701236724853,
          0.0112779140472412,
          0.032623291015625,
          0.0111019611358642,
          0.0068368911743164,
          0.0109109878540039,
          0.0008811950683593,
          0.0201349258422851,
          0.045361042022705,
          0.034316062927246,
          0.0432689189910888,
          0.0412318706512451,
          0.0009491443634033,
          0.0357589721679687,
          0.0140690803527832,
          0.0404341220855712,
          0.0223622322082519,
          0.0166399478912353,
          0.0251131057739257,
          0.0225751399993896,
          0.01416015625,
          0.0208349227905273,
          0.0195240974426269,
          0.0195398330688476,
          0.022627830505371,
          0.0286982059478759,
          0.0311470031738281,
          0.0008847713470458,
          0.0302352905273437,
          0.0440180301666259,
          0.0433440208435058,
          0.0353388786315918,
          0.0355362892150878,
          0.037132978439331,
          0.0558557510375976,
          0.0575001239776611,
          0.025986909866333,
          0.0139789581298828,
          0.0478389263153076,
          0.0179581642150878,
          0.0193290710449218,
          0.0467419624328613,
          0.0466859340667724,
          0.0271627902984619,
          0.0211150646209716,
          0.0265216827392578,
          0.0063581466674804,
          0.0034928321838378,
          0.0070188045501708,
          0.2205448150634765,
          0.3046250343322754,
          0.101747989654541,
          0.0049300193786621,
          0.923564910888672,
          1.5640881061553955,
          1.4810149669647217,
          1.7904980182647705,
          1.8247621059417725,
          1.256516933441162,
          2.1593470573425293,
          2.7475950717926025,
          2.2298150062561035,
          2.618659734725952,
          3.1451048851013184,
          3.1743640899658203,
          3.643989086151123,
          4.245208024978638,
          4.392002105712891,
          4.58946704864502,
          4.789838075637817,
          4.952727794647217,
          4.907228946685791,
          4.97179913520813,
          5.5147459506988525,
          5.875771760940552,
          5.849889039993286,
          5.686362266540527,
          5.63984489440918,
          5.85274076461792,
          6.149256944656372,
          6.3462889194488525,
          6.0180580615997314,
          6.428948163986206,
          6.283611059188843,
          6.181071043014526,
          6.518912076950073,
          6.3820672035217285,
          6.053586006164551,
          6.519582033157349,
          6.187121868133545,
          6.606594085693359,
          6.283250093460083,
          6.102972030639648,
          6.322002172470093,
          6.339004993438721,
          6.193455934524536,
          6.693888902664185,
          6.354582786560059,
          6.167856931686401,
          6.103605031967163,
          6.279886960983276,
          6.183948040008545,
          6.260354995727539,
          6.239736795425415,
          6.294628143310547,
          6.222004890441895,
          6.21498703956604,
          6.300992965698242,
          6.33386492729187,
          6.140357255935669,
          6.187134027481079,
          6.504321098327637,
          6.33381986618042,
          6.592360973358154,
          6.246440172195435,
          6.341984033584595,
          6.582642793655396,
          6.149166107177734,
          6.251555919647217,
          6.385394334793091,
          6.201569080352783,
          6.425218105316162,
          6.242135047912598,
          6.178385972976685,
          6.479552745819092,
          6.348970890045166,
          6.671290874481201,
          6.493028163909912,
          6.304504156112671,
          6.4685423374176025,
          6.405256032943726,
          6.250204086303711,
          6.247137784957886,
          6.377286195755005,
          6.294742107391357,
          6.3521013259887695,
          6.682614088058472,
          6.204616069793701,
          6.291463136672974,
          6.332789182662964,
          6.406324148178101,
          6.391102075576782,
          6.283655166625977,
          6.313746929168701,
          6.33902907371521,
          6.565501928329468,
          0.0121140480041503,
          0.0167179107666015,
          0.0216939449310302,
          0.0045430660247802,
          0.001335859298706,
          0.0105118751525878,
          0.0123252868652343,
          0.0088968276977539,
          0.0077879428863525,
          0.004540205001831,
          0.0012369155883789,
          0.0075080394744873,
          0.0165262222290039,
          0.0063109397888183,
          0.012667179107666,
          0.0146491527557373,
          0.0026948451995849,
          0.0093169212341308,
          0.0143427848815917,
          0.0065760612487792,
          0.0090560913085937,
          0.0149509906768798,
          0.0040688514709472,
          0.0108664035797119,
          0.0128829479217529,
          0.0172879695892334,
          0.0175049304962158,
          0.0182549953460693,
          0.0156259536743164,
          0.0079257488250732,
          0.0011870861053466,
          0.0148088932037353,
          0.0174992084503173,
          0.0078461170196533,
          0.0091750621795654,
          0.0069801807403564,
          0.0120389461517333,
          0.0044569969177246,
          0.0012900829315185,
          0.0257010459899902,
          0.0139179229736328,
          0.0112912654876708,
          0.0011980533599853,
          0.0154280662536621,
          0.0012049674987792,
          0.0232949256896972,
          0.01186203956604,
          0.0052051544189453,
          0.0115787982940673,
          0.0138280391693115,
          0.0196700096130371,
          0.010840892791748,
          0.0217838287353515,
          0.0044147968292236,
          0.0101361274719238,
          0.0056090354919433,
          0.0012001991271972,
          0.004789113998413,
          0.0012030601501464,
          0.0220930576324462,
          0.001173973083496,
          0.0012381076812744,
          0.012794017791748,
          0.0046720504760742,
          0.014664888381958,
          0.0176870822906494,
          0.0123257637023925,
          0.0099470615386962,
          0.0012106895446777,
          0.0088789463043212,
          0.0252768993377685,
          0.0138437747955322,
          0.0215249061584472,
          0.0237660408020019,
          0.0173227787017822,
          0.0181760787963867,
          0.024036169052124,
          0.0152318477630615,
          0.0198771953582763,
          0.0153779983520507,
          0.0259912014007568,
          0.0178959369659423,
          0.0342211723327636,
          0.0206341743469238,
          0.0186431407928466,
          0.0125267505645751,
          0.0210261344909667,
          0.0192759037017822,
          0.014085054397583,
          0.0273029804229736,
          0.0206589698791503,
          0.0287318229675292,
          0.0243968963623046,
          0.0238409042358398,
          0.0231909751892089,
          0.0312020778656005,
          0.0268111228942871,
          0.0260529518127441,
          0.0469467639923095,
          0.0577290058135986,
          0.0031707286834716,
          0.00313401222229,
          0.0038540363311767,
          0.00236177444458,
          0.0121190547943115,
          0.0045030117034912,
          0.00850510597229,
          0.0030689239501953,
          0.0067672729492187,
          0.0032746791839599,
          0.0018208026885986,
          0.003706932067871,
          0.0016899108886718,
          0.0013909339904785,
          0.0022969245910644,
          0.0025088787078857,
          0.0058507919311523,
          0.0020930767059326,
          0.0024452209472656,
          0.0060579776763916,
          0.0013608932495117,
          0.0022830963134765,
          0.0035040378570556,
          0.0055110454559326,
          0.0020291805267333,
          0.0045709609985351,
          0.0057380199432373,
          0.0037450790405273,
          0.0030491352081298,
          0.002655029296875,
          0.0021030902862548,
          0.0098741054534912,
          0.0048820972442626,
          0.0024921894073486,
          0.0048120021820068,
          0.0013508796691894,
          0.0054969787597656,
          0.0043561458587646,
          0.003443956375122,
          0.0040061473846435,
          0.0031149387359619,
          0.0013990402221679,
          0.0062408447265625,
          0.0035531520843505,
          0.003612995147705,
          0.00144624710083,
          0.0028250217437744,
          0.0048167705535888,
          0.0019750595092773,
          0.0026390552520751,
          0.0022709369659423,
          0.001540184020996,
          0.0036330223083496,
          0.0050959587097167,
          0.0096540451049804,
          0.0028557777404785,
          0.0050511360168457,
          0.0035700798034667,
          0.0018291473388671,
          0.0055768489837646,
          0.0059399604797363,
          0.0051026344299316,
          0.0064978599548339,
          0.0018501281738281,
          0.0032038688659667,
          0.0029718875885009,
          0.0052630901336669,
          0.0056078433990478,
          0.0019519329071044,
          0.0051381587982177,
          0.0034000873565673,
          0.0067808628082275,
          0.0047090053558349,
          0.0027861595153808,
          0.0086662769317626,
          0.0102558135986328,
          0.0056030750274658,
          0.0064892768859863,
          0.005260944366455,
          0.0068259239196777,
          0.0064990520477294,
          0.0058367252349853,
          0.0053040981292724,
          0.0030210018157958,
          0.0076339244842529,
          0.0041098594665527,
          0.0077710151672363,
          0.0049290657043457,
          0.002835988998413,
          0.0035958290100097,
          0.0124628543853759,
          0.0061068534851074,
          0.0041663646697998,
          0.0064470767974853,
          0.0039918422698974,
          0.0046601295471191,
          0.0065319538116455,
          0.0088057518005371,
          0.0078508853912353,
          0.026954174041748
         ],
         "y0": " ",
         "yaxis": "y"
        }
       ],
       "layout": {
        "boxmode": "group",
        "legend": {
         "tracegroupgap": 0
        },
        "margin": {
         "t": 60
        },
        "template": {
         "data": {
          "bar": [
           {
            "error_x": {
             "color": "#2a3f5f"
            },
            "error_y": {
             "color": "#2a3f5f"
            },
            "marker": {
             "line": {
              "color": "#E5ECF6",
              "width": 0.5
             },
             "pattern": {
              "fillmode": "overlay",
              "size": 10,
              "solidity": 0.2
             }
            },
            "type": "bar"
           }
          ],
          "barpolar": [
           {
            "marker": {
             "line": {
              "color": "#E5ECF6",
              "width": 0.5
             },
             "pattern": {
              "fillmode": "overlay",
              "size": 10,
              "solidity": 0.2
             }
            },
            "type": "barpolar"
           }
          ],
          "carpet": [
           {
            "aaxis": {
             "endlinecolor": "#2a3f5f",
             "gridcolor": "white",
             "linecolor": "white",
             "minorgridcolor": "white",
             "startlinecolor": "#2a3f5f"
            },
            "baxis": {
             "endlinecolor": "#2a3f5f",
             "gridcolor": "white",
             "linecolor": "white",
             "minorgridcolor": "white",
             "startlinecolor": "#2a3f5f"
            },
            "type": "carpet"
           }
          ],
          "choropleth": [
           {
            "colorbar": {
             "outlinewidth": 0,
             "ticks": ""
            },
            "type": "choropleth"
           }
          ],
          "contour": [
           {
            "colorbar": {
             "outlinewidth": 0,
             "ticks": ""
            },
            "colorscale": [
             [
              0,
              "#0d0887"
             ],
             [
              0.1111111111111111,
              "#46039f"
             ],
             [
              0.2222222222222222,
              "#7201a8"
             ],
             [
              0.3333333333333333,
              "#9c179e"
             ],
             [
              0.4444444444444444,
              "#bd3786"
             ],
             [
              0.5555555555555556,
              "#d8576b"
             ],
             [
              0.6666666666666666,
              "#ed7953"
             ],
             [
              0.7777777777777778,
              "#fb9f3a"
             ],
             [
              0.8888888888888888,
              "#fdca26"
             ],
             [
              1,
              "#f0f921"
             ]
            ],
            "type": "contour"
           }
          ],
          "contourcarpet": [
           {
            "colorbar": {
             "outlinewidth": 0,
             "ticks": ""
            },
            "type": "contourcarpet"
           }
          ],
          "heatmap": [
           {
            "colorbar": {
             "outlinewidth": 0,
             "ticks": ""
            },
            "colorscale": [
             [
              0,
              "#0d0887"
             ],
             [
              0.1111111111111111,
              "#46039f"
             ],
             [
              0.2222222222222222,
              "#7201a8"
             ],
             [
              0.3333333333333333,
              "#9c179e"
             ],
             [
              0.4444444444444444,
              "#bd3786"
             ],
             [
              0.5555555555555556,
              "#d8576b"
             ],
             [
              0.6666666666666666,
              "#ed7953"
             ],
             [
              0.7777777777777778,
              "#fb9f3a"
             ],
             [
              0.8888888888888888,
              "#fdca26"
             ],
             [
              1,
              "#f0f921"
             ]
            ],
            "type": "heatmap"
           }
          ],
          "heatmapgl": [
           {
            "colorbar": {
             "outlinewidth": 0,
             "ticks": ""
            },
            "colorscale": [
             [
              0,
              "#0d0887"
             ],
             [
              0.1111111111111111,
              "#46039f"
             ],
             [
              0.2222222222222222,
              "#7201a8"
             ],
             [
              0.3333333333333333,
              "#9c179e"
             ],
             [
              0.4444444444444444,
              "#bd3786"
             ],
             [
              0.5555555555555556,
              "#d8576b"
             ],
             [
              0.6666666666666666,
              "#ed7953"
             ],
             [
              0.7777777777777778,
              "#fb9f3a"
             ],
             [
              0.8888888888888888,
              "#fdca26"
             ],
             [
              1,
              "#f0f921"
             ]
            ],
            "type": "heatmapgl"
           }
          ],
          "histogram": [
           {
            "marker": {
             "pattern": {
              "fillmode": "overlay",
              "size": 10,
              "solidity": 0.2
             }
            },
            "type": "histogram"
           }
          ],
          "histogram2d": [
           {
            "colorbar": {
             "outlinewidth": 0,
             "ticks": ""
            },
            "colorscale": [
             [
              0,
              "#0d0887"
             ],
             [
              0.1111111111111111,
              "#46039f"
             ],
             [
              0.2222222222222222,
              "#7201a8"
             ],
             [
              0.3333333333333333,
              "#9c179e"
             ],
             [
              0.4444444444444444,
              "#bd3786"
             ],
             [
              0.5555555555555556,
              "#d8576b"
             ],
             [
              0.6666666666666666,
              "#ed7953"
             ],
             [
              0.7777777777777778,
              "#fb9f3a"
             ],
             [
              0.8888888888888888,
              "#fdca26"
             ],
             [
              1,
              "#f0f921"
             ]
            ],
            "type": "histogram2d"
           }
          ],
          "histogram2dcontour": [
           {
            "colorbar": {
             "outlinewidth": 0,
             "ticks": ""
            },
            "colorscale": [
             [
              0,
              "#0d0887"
             ],
             [
              0.1111111111111111,
              "#46039f"
             ],
             [
              0.2222222222222222,
              "#7201a8"
             ],
             [
              0.3333333333333333,
              "#9c179e"
             ],
             [
              0.4444444444444444,
              "#bd3786"
             ],
             [
              0.5555555555555556,
              "#d8576b"
             ],
             [
              0.6666666666666666,
              "#ed7953"
             ],
             [
              0.7777777777777778,
              "#fb9f3a"
             ],
             [
              0.8888888888888888,
              "#fdca26"
             ],
             [
              1,
              "#f0f921"
             ]
            ],
            "type": "histogram2dcontour"
           }
          ],
          "mesh3d": [
           {
            "colorbar": {
             "outlinewidth": 0,
             "ticks": ""
            },
            "type": "mesh3d"
           }
          ],
          "parcoords": [
           {
            "line": {
             "colorbar": {
              "outlinewidth": 0,
              "ticks": ""
             }
            },
            "type": "parcoords"
           }
          ],
          "pie": [
           {
            "automargin": true,
            "type": "pie"
           }
          ],
          "scatter": [
           {
            "fillpattern": {
             "fillmode": "overlay",
             "size": 10,
             "solidity": 0.2
            },
            "type": "scatter"
           }
          ],
          "scatter3d": [
           {
            "line": {
             "colorbar": {
              "outlinewidth": 0,
              "ticks": ""
             }
            },
            "marker": {
             "colorbar": {
              "outlinewidth": 0,
              "ticks": ""
             }
            },
            "type": "scatter3d"
           }
          ],
          "scattercarpet": [
           {
            "marker": {
             "colorbar": {
              "outlinewidth": 0,
              "ticks": ""
             }
            },
            "type": "scattercarpet"
           }
          ],
          "scattergeo": [
           {
            "marker": {
             "colorbar": {
              "outlinewidth": 0,
              "ticks": ""
             }
            },
            "type": "scattergeo"
           }
          ],
          "scattergl": [
           {
            "marker": {
             "colorbar": {
              "outlinewidth": 0,
              "ticks": ""
             }
            },
            "type": "scattergl"
           }
          ],
          "scattermapbox": [
           {
            "marker": {
             "colorbar": {
              "outlinewidth": 0,
              "ticks": ""
             }
            },
            "type": "scattermapbox"
           }
          ],
          "scatterpolar": [
           {
            "marker": {
             "colorbar": {
              "outlinewidth": 0,
              "ticks": ""
             }
            },
            "type": "scatterpolar"
           }
          ],
          "scatterpolargl": [
           {
            "marker": {
             "colorbar": {
              "outlinewidth": 0,
              "ticks": ""
             }
            },
            "type": "scatterpolargl"
           }
          ],
          "scatterternary": [
           {
            "marker": {
             "colorbar": {
              "outlinewidth": 0,
              "ticks": ""
             }
            },
            "type": "scatterternary"
           }
          ],
          "surface": [
           {
            "colorbar": {
             "outlinewidth": 0,
             "ticks": ""
            },
            "colorscale": [
             [
              0,
              "#0d0887"
             ],
             [
              0.1111111111111111,
              "#46039f"
             ],
             [
              0.2222222222222222,
              "#7201a8"
             ],
             [
              0.3333333333333333,
              "#9c179e"
             ],
             [
              0.4444444444444444,
              "#bd3786"
             ],
             [
              0.5555555555555556,
              "#d8576b"
             ],
             [
              0.6666666666666666,
              "#ed7953"
             ],
             [
              0.7777777777777778,
              "#fb9f3a"
             ],
             [
              0.8888888888888888,
              "#fdca26"
             ],
             [
              1,
              "#f0f921"
             ]
            ],
            "type": "surface"
           }
          ],
          "table": [
           {
            "cells": {
             "fill": {
              "color": "#EBF0F8"
             },
             "line": {
              "color": "white"
             }
            },
            "header": {
             "fill": {
              "color": "#C8D4E3"
             },
             "line": {
              "color": "white"
             }
            },
            "type": "table"
           }
          ]
         },
         "layout": {
          "annotationdefaults": {
           "arrowcolor": "#2a3f5f",
           "arrowhead": 0,
           "arrowwidth": 1
          },
          "autotypenumbers": "strict",
          "coloraxis": {
           "colorbar": {
            "outlinewidth": 0,
            "ticks": ""
           }
          },
          "colorscale": {
           "diverging": [
            [
             0,
             "#8e0152"
            ],
            [
             0.1,
             "#c51b7d"
            ],
            [
             0.2,
             "#de77ae"
            ],
            [
             0.3,
             "#f1b6da"
            ],
            [
             0.4,
             "#fde0ef"
            ],
            [
             0.5,
             "#f7f7f7"
            ],
            [
             0.6,
             "#e6f5d0"
            ],
            [
             0.7,
             "#b8e186"
            ],
            [
             0.8,
             "#7fbc41"
            ],
            [
             0.9,
             "#4d9221"
            ],
            [
             1,
             "#276419"
            ]
           ],
           "sequential": [
            [
             0,
             "#0d0887"
            ],
            [
             0.1111111111111111,
             "#46039f"
            ],
            [
             0.2222222222222222,
             "#7201a8"
            ],
            [
             0.3333333333333333,
             "#9c179e"
            ],
            [
             0.4444444444444444,
             "#bd3786"
            ],
            [
             0.5555555555555556,
             "#d8576b"
            ],
            [
             0.6666666666666666,
             "#ed7953"
            ],
            [
             0.7777777777777778,
             "#fb9f3a"
            ],
            [
             0.8888888888888888,
             "#fdca26"
            ],
            [
             1,
             "#f0f921"
            ]
           ],
           "sequentialminus": [
            [
             0,
             "#0d0887"
            ],
            [
             0.1111111111111111,
             "#46039f"
            ],
            [
             0.2222222222222222,
             "#7201a8"
            ],
            [
             0.3333333333333333,
             "#9c179e"
            ],
            [
             0.4444444444444444,
             "#bd3786"
            ],
            [
             0.5555555555555556,
             "#d8576b"
            ],
            [
             0.6666666666666666,
             "#ed7953"
            ],
            [
             0.7777777777777778,
             "#fb9f3a"
            ],
            [
             0.8888888888888888,
             "#fdca26"
            ],
            [
             1,
             "#f0f921"
            ]
           ]
          },
          "colorway": [
           "#636efa",
           "#EF553B",
           "#00cc96",
           "#ab63fa",
           "#FFA15A",
           "#19d3f3",
           "#FF6692",
           "#B6E880",
           "#FF97FF",
           "#FECB52"
          ],
          "font": {
           "color": "#2a3f5f"
          },
          "geo": {
           "bgcolor": "white",
           "lakecolor": "white",
           "landcolor": "#E5ECF6",
           "showlakes": true,
           "showland": true,
           "subunitcolor": "white"
          },
          "hoverlabel": {
           "align": "left"
          },
          "hovermode": "closest",
          "mapbox": {
           "style": "light"
          },
          "paper_bgcolor": "white",
          "plot_bgcolor": "#E5ECF6",
          "polar": {
           "angularaxis": {
            "gridcolor": "white",
            "linecolor": "white",
            "ticks": ""
           },
           "bgcolor": "#E5ECF6",
           "radialaxis": {
            "gridcolor": "white",
            "linecolor": "white",
            "ticks": ""
           }
          },
          "scene": {
           "xaxis": {
            "backgroundcolor": "#E5ECF6",
            "gridcolor": "white",
            "gridwidth": 2,
            "linecolor": "white",
            "showbackground": true,
            "ticks": "",
            "zerolinecolor": "white"
           },
           "yaxis": {
            "backgroundcolor": "#E5ECF6",
            "gridcolor": "white",
            "gridwidth": 2,
            "linecolor": "white",
            "showbackground": true,
            "ticks": "",
            "zerolinecolor": "white"
           },
           "zaxis": {
            "backgroundcolor": "#E5ECF6",
            "gridcolor": "white",
            "gridwidth": 2,
            "linecolor": "white",
            "showbackground": true,
            "ticks": "",
            "zerolinecolor": "white"
           }
          },
          "shapedefaults": {
           "line": {
            "color": "#2a3f5f"
           }
          },
          "ternary": {
           "aaxis": {
            "gridcolor": "white",
            "linecolor": "white",
            "ticks": ""
           },
           "baxis": {
            "gridcolor": "white",
            "linecolor": "white",
            "ticks": ""
           },
           "bgcolor": "#E5ECF6",
           "caxis": {
            "gridcolor": "white",
            "linecolor": "white",
            "ticks": ""
           }
          },
          "title": {
           "x": 0.05
          },
          "xaxis": {
           "automargin": true,
           "gridcolor": "white",
           "linecolor": "white",
           "ticks": "",
           "title": {
            "standoff": 15
           },
           "zerolinecolor": "white",
           "zerolinewidth": 2
          },
          "yaxis": {
           "automargin": true,
           "gridcolor": "white",
           "linecolor": "white",
           "ticks": "",
           "title": {
            "standoff": 15
           },
           "zerolinecolor": "white",
           "zerolinewidth": 2
          }
         }
        },
        "xaxis": {
         "anchor": "y",
         "domain": [
          0,
          1
         ],
         "title": {
          "text": "Package | Solver Combo"
         }
        },
        "yaxis": {
         "anchor": "x",
         "domain": [
          0,
          1
         ],
         "title": {
          "text": "Time"
         }
        }
       }
      }
     },
     "metadata": {},
     "output_type": "display_data"
    },
    {
     "name": "stdout",
     "output_type": "stream",
     "text": [
      "numbAssets=2 numbOrders=2\n"
     ]
    },
    {
     "data": {
      "application/vnd.plotly.v1+json": {
       "config": {
        "plotlyServerURL": "https://plot.ly"
       },
       "data": [
        {
         "alignmentgroup": "True",
         "hovertemplate": "Package | Solver Combo=%{x}<br>Time=%{y}<extra></extra>",
         "legendgroup": "",
         "marker": {
          "color": "#636efa"
         },
         "name": "",
         "notched": false,
         "offsetgroup": "",
         "orientation": "v",
         "showlegend": false,
         "type": "box",
         "x": [
          "cvxpy | OSQP",
          "cvxpy | OSQP",
          "cvxpy | OSQP",
          "cvxpy | OSQP",
          "cvxpy | OSQP",
          "cvxpy | OSQP",
          "cvxpy | OSQP",
          "cvxpy | OSQP",
          "cvxpy | OSQP",
          "cvxpy | OSQP",
          "cvxpy | OSQP",
          "cvxpy | OSQP",
          "cvxpy | OSQP",
          "cvxpy | OSQP",
          "cvxpy | OSQP",
          "cvxpy | OSQP",
          "cvxpy | OSQP",
          "cvxpy | OSQP",
          "cvxpy | OSQP",
          "cvxpy | OSQP",
          "cvxpy | OSQP",
          "cvxpy | OSQP",
          "cvxpy | OSQP",
          "cvxpy | OSQP",
          "cvxpy | OSQP",
          "cvxpy | OSQP",
          "cvxpy | OSQP",
          "cvxpy | OSQP",
          "cvxpy | OSQP",
          "cvxpy | OSQP",
          "cvxpy | OSQP",
          "cvxpy | OSQP",
          "cvxpy | OSQP",
          "cvxpy | OSQP",
          "cvxpy | OSQP",
          "cvxpy | OSQP",
          "cvxpy | OSQP",
          "cvxpy | OSQP",
          "cvxpy | OSQP",
          "cvxpy | OSQP",
          "cvxpy | OSQP",
          "cvxpy | OSQP",
          "cvxpy | OSQP",
          "cvxpy | OSQP",
          "cvxpy | OSQP",
          "cvxpy | OSQP",
          "cvxpy | OSQP",
          "cvxpy | OSQP",
          "cvxpy | OSQP",
          "cvxpy | OSQP",
          "cvxpy | OSQP",
          "cvxpy | OSQP",
          "cvxpy | OSQP",
          "cvxpy | OSQP",
          "cvxpy | OSQP",
          "cvxpy | OSQP",
          "cvxpy | OSQP",
          "cvxpy | OSQP",
          "cvxpy | OSQP",
          "cvxpy | OSQP",
          "cvxpy | OSQP",
          "cvxpy | OSQP",
          "cvxpy | OSQP",
          "cvxpy | OSQP",
          "cvxpy | OSQP",
          "cvxpy | OSQP",
          "cvxpy | OSQP",
          "cvxpy | OSQP",
          "cvxpy | OSQP",
          "cvxpy | OSQP",
          "cvxpy | OSQP",
          "cvxpy | OSQP",
          "cvxpy | OSQP",
          "cvxpy | OSQP",
          "cvxpy | OSQP",
          "cvxpy | OSQP",
          "cvxpy | OSQP",
          "cvxpy | OSQP",
          "cvxpy | OSQP",
          "cvxpy | OSQP",
          "cvxpy | OSQP",
          "cvxpy | OSQP",
          "cvxpy | OSQP",
          "cvxpy | OSQP",
          "cvxpy | OSQP",
          "cvxpy | OSQP",
          "cvxpy | OSQP",
          "cvxpy | OSQP",
          "cvxpy | OSQP",
          "cvxpy | OSQP",
          "cvxpy | OSQP",
          "cvxpy | OSQP",
          "cvxpy | OSQP",
          "cvxpy | OSQP",
          "cvxpy | OSQP",
          "cvxpy | OSQP",
          "cvxpy | OSQP",
          "cvxpy | OSQP",
          "cvxpy | OSQP",
          "cvxpy | OSQP",
          "cvxpy | ECOS",
          "cvxpy | ECOS",
          "cvxpy | ECOS",
          "cvxpy | ECOS",
          "cvxpy | ECOS",
          "cvxpy | ECOS",
          "cvxpy | ECOS",
          "cvxpy | ECOS",
          "cvxpy | ECOS",
          "cvxpy | ECOS",
          "cvxpy | ECOS",
          "cvxpy | ECOS",
          "cvxpy | ECOS",
          "cvxpy | ECOS",
          "cvxpy | ECOS",
          "cvxpy | ECOS",
          "cvxpy | ECOS",
          "cvxpy | ECOS",
          "cvxpy | ECOS",
          "cvxpy | ECOS",
          "cvxpy | ECOS",
          "cvxpy | ECOS",
          "cvxpy | ECOS",
          "cvxpy | ECOS",
          "cvxpy | ECOS",
          "cvxpy | ECOS",
          "cvxpy | ECOS",
          "cvxpy | ECOS",
          "cvxpy | ECOS",
          "cvxpy | ECOS",
          "cvxpy | ECOS",
          "cvxpy | ECOS",
          "cvxpy | ECOS",
          "cvxpy | ECOS",
          "cvxpy | ECOS",
          "cvxpy | ECOS",
          "cvxpy | ECOS",
          "cvxpy | ECOS",
          "cvxpy | ECOS",
          "cvxpy | ECOS",
          "cvxpy | ECOS",
          "cvxpy | ECOS",
          "cvxpy | ECOS",
          "cvxpy | ECOS",
          "cvxpy | ECOS",
          "cvxpy | ECOS",
          "cvxpy | ECOS",
          "cvxpy | ECOS",
          "cvxpy | ECOS",
          "cvxpy | ECOS",
          "cvxpy | ECOS",
          "cvxpy | ECOS",
          "cvxpy | ECOS",
          "cvxpy | ECOS",
          "cvxpy | ECOS",
          "cvxpy | ECOS",
          "cvxpy | ECOS",
          "cvxpy | ECOS",
          "cvxpy | ECOS",
          "cvxpy | ECOS",
          "cvxpy | ECOS",
          "cvxpy | ECOS",
          "cvxpy | ECOS",
          "cvxpy | ECOS",
          "cvxpy | ECOS",
          "cvxpy | ECOS",
          "cvxpy | ECOS",
          "cvxpy | ECOS",
          "cvxpy | ECOS",
          "cvxpy | ECOS",
          "cvxpy | ECOS",
          "cvxpy | ECOS",
          "cvxpy | ECOS",
          "cvxpy | ECOS",
          "cvxpy | ECOS",
          "cvxpy | ECOS",
          "cvxpy | ECOS",
          "cvxpy | ECOS",
          "cvxpy | ECOS",
          "cvxpy | ECOS",
          "cvxpy | ECOS",
          "cvxpy | ECOS",
          "cvxpy | ECOS",
          "cvxpy | ECOS",
          "cvxpy | ECOS",
          "cvxpy | ECOS",
          "cvxpy | ECOS",
          "cvxpy | ECOS",
          "cvxpy | ECOS",
          "cvxpy | ECOS",
          "cvxpy | ECOS",
          "cvxpy | ECOS",
          "cvxpy | ECOS",
          "cvxpy | ECOS",
          "cvxpy | ECOS",
          "cvxpy | ECOS",
          "cvxpy | ECOS",
          "cvxpy | ECOS",
          "cvxpy | ECOS",
          "cvxpy | ECOS",
          "cvxpy | SCS",
          "cvxpy | SCS",
          "cvxpy | SCS",
          "cvxpy | SCS",
          "cvxpy | SCS",
          "cvxpy | SCS",
          "cvxpy | SCS",
          "cvxpy | SCS",
          "cvxpy | SCS",
          "cvxpy | SCS",
          "cvxpy | SCS",
          "cvxpy | SCS",
          "cvxpy | SCS",
          "cvxpy | SCS",
          "cvxpy | SCS",
          "cvxpy | SCS",
          "cvxpy | SCS",
          "cvxpy | SCS",
          "cvxpy | SCS",
          "cvxpy | SCS",
          "cvxpy | SCS",
          "cvxpy | SCS",
          "cvxpy | SCS",
          "cvxpy | SCS",
          "cvxpy | SCS",
          "cvxpy | SCS",
          "cvxpy | SCS",
          "cvxpy | SCS",
          "cvxpy | SCS",
          "cvxpy | SCS",
          "cvxpy | SCS",
          "cvxpy | SCS",
          "cvxpy | SCS",
          "cvxpy | SCS",
          "cvxpy | SCS",
          "cvxpy | SCS",
          "cvxpy | SCS",
          "cvxpy | SCS",
          "cvxpy | SCS",
          "cvxpy | SCS",
          "cvxpy | SCS",
          "cvxpy | SCS",
          "cvxpy | SCS",
          "cvxpy | SCS",
          "cvxpy | SCS",
          "cvxpy | SCS",
          "cvxpy | SCS",
          "cvxpy | SCS",
          "cvxpy | SCS",
          "cvxpy | SCS",
          "cvxpy | SCS",
          "cvxpy | SCS",
          "cvxpy | SCS",
          "cvxpy | SCS",
          "cvxpy | SCS",
          "cvxpy | SCS",
          "cvxpy | SCS",
          "cvxpy | SCS",
          "cvxpy | SCS",
          "cvxpy | SCS",
          "cvxpy | SCS",
          "cvxpy | SCS",
          "cvxpy | SCS",
          "cvxpy | SCS",
          "cvxpy | SCS",
          "cvxpy | SCS",
          "cvxpy | SCS",
          "cvxpy | SCS",
          "cvxpy | SCS",
          "cvxpy | SCS",
          "cvxpy | SCS",
          "cvxpy | SCS",
          "cvxpy | SCS",
          "cvxpy | SCS",
          "cvxpy | SCS",
          "cvxpy | SCS",
          "cvxpy | SCS",
          "cvxpy | SCS",
          "cvxpy | SCS",
          "cvxpy | SCS",
          "cvxpy | SCS",
          "cvxpy | SCS",
          "cvxpy | SCS",
          "cvxpy | SCS",
          "cvxpy | SCS",
          "cvxpy | SCS",
          "cvxpy | SCS",
          "cvxpy | SCS",
          "cvxpy | SCS",
          "cvxpy | SCS",
          "cvxpy | SCS",
          "cvxpy | SCS",
          "cvxpy | SCS",
          "cvxpy | SCS",
          "cvxpy | SCS",
          "cvxpy | SCS",
          "cvxpy | SCS",
          "cvxpy | SCS",
          "cvxpy | SCS",
          "cvxpy | SCS",
          "qpsolver | osqp",
          "qpsolver | osqp",
          "qpsolver | osqp",
          "qpsolver | osqp",
          "qpsolver | osqp",
          "qpsolver | osqp",
          "qpsolver | osqp",
          "qpsolver | osqp",
          "qpsolver | osqp",
          "qpsolver | osqp",
          "qpsolver | osqp",
          "qpsolver | osqp",
          "qpsolver | osqp",
          "qpsolver | osqp",
          "qpsolver | osqp",
          "qpsolver | osqp",
          "qpsolver | osqp",
          "qpsolver | osqp",
          "qpsolver | osqp",
          "qpsolver | osqp",
          "qpsolver | osqp",
          "qpsolver | osqp",
          "qpsolver | osqp",
          "qpsolver | osqp",
          "qpsolver | osqp",
          "qpsolver | osqp",
          "qpsolver | osqp",
          "qpsolver | osqp",
          "qpsolver | osqp",
          "qpsolver | osqp",
          "qpsolver | osqp",
          "qpsolver | osqp",
          "qpsolver | osqp",
          "qpsolver | osqp",
          "qpsolver | osqp",
          "qpsolver | osqp",
          "qpsolver | osqp",
          "qpsolver | osqp",
          "qpsolver | osqp",
          "qpsolver | osqp",
          "qpsolver | osqp",
          "qpsolver | osqp",
          "qpsolver | osqp",
          "qpsolver | osqp",
          "qpsolver | osqp",
          "qpsolver | osqp",
          "qpsolver | osqp",
          "qpsolver | osqp",
          "qpsolver | osqp",
          "qpsolver | osqp",
          "qpsolver | osqp",
          "qpsolver | osqp",
          "qpsolver | osqp",
          "qpsolver | osqp",
          "qpsolver | osqp",
          "qpsolver | osqp",
          "qpsolver | osqp",
          "qpsolver | osqp",
          "qpsolver | osqp",
          "qpsolver | osqp",
          "qpsolver | osqp",
          "qpsolver | osqp",
          "qpsolver | osqp",
          "qpsolver | osqp",
          "qpsolver | osqp",
          "qpsolver | osqp",
          "qpsolver | osqp",
          "qpsolver | osqp",
          "qpsolver | osqp",
          "qpsolver | osqp",
          "qpsolver | osqp",
          "qpsolver | osqp",
          "qpsolver | osqp",
          "qpsolver | osqp",
          "qpsolver | osqp",
          "qpsolver | osqp",
          "qpsolver | osqp",
          "qpsolver | osqp",
          "qpsolver | osqp",
          "qpsolver | osqp",
          "qpsolver | osqp",
          "qpsolver | osqp",
          "qpsolver | osqp",
          "qpsolver | osqp",
          "qpsolver | osqp",
          "qpsolver | osqp",
          "qpsolver | osqp",
          "qpsolver | osqp",
          "qpsolver | osqp",
          "qpsolver | osqp",
          "qpsolver | osqp",
          "qpsolver | osqp",
          "qpsolver | osqp",
          "qpsolver | osqp",
          "qpsolver | osqp",
          "qpsolver | osqp",
          "qpsolver | osqp",
          "qpsolver | osqp",
          "qpsolver | osqp",
          "qpsolver | osqp",
          "qpsolver | ecos",
          "qpsolver | ecos",
          "qpsolver | ecos",
          "qpsolver | ecos",
          "qpsolver | ecos",
          "qpsolver | ecos",
          "qpsolver | ecos",
          "qpsolver | ecos",
          "qpsolver | ecos",
          "qpsolver | ecos",
          "qpsolver | ecos",
          "qpsolver | ecos",
          "qpsolver | ecos",
          "qpsolver | ecos",
          "qpsolver | ecos",
          "qpsolver | ecos",
          "qpsolver | ecos",
          "qpsolver | ecos",
          "qpsolver | ecos",
          "qpsolver | ecos",
          "qpsolver | ecos",
          "qpsolver | ecos",
          "qpsolver | ecos",
          "qpsolver | ecos",
          "qpsolver | ecos",
          "qpsolver | ecos",
          "qpsolver | ecos",
          "qpsolver | ecos",
          "qpsolver | ecos",
          "qpsolver | ecos",
          "qpsolver | ecos",
          "qpsolver | ecos",
          "qpsolver | ecos",
          "qpsolver | ecos",
          "qpsolver | ecos",
          "qpsolver | ecos",
          "qpsolver | ecos",
          "qpsolver | ecos",
          "qpsolver | ecos",
          "qpsolver | ecos",
          "qpsolver | ecos",
          "qpsolver | ecos",
          "qpsolver | ecos",
          "qpsolver | ecos",
          "qpsolver | ecos",
          "qpsolver | ecos",
          "qpsolver | ecos",
          "qpsolver | ecos",
          "qpsolver | ecos",
          "qpsolver | ecos",
          "qpsolver | ecos",
          "qpsolver | ecos",
          "qpsolver | ecos",
          "qpsolver | ecos",
          "qpsolver | ecos",
          "qpsolver | ecos",
          "qpsolver | ecos",
          "qpsolver | ecos",
          "qpsolver | ecos",
          "qpsolver | ecos",
          "qpsolver | ecos",
          "qpsolver | ecos",
          "qpsolver | ecos",
          "qpsolver | ecos",
          "qpsolver | ecos",
          "qpsolver | ecos",
          "qpsolver | ecos",
          "qpsolver | ecos",
          "qpsolver | ecos",
          "qpsolver | ecos",
          "qpsolver | ecos",
          "qpsolver | ecos",
          "qpsolver | ecos",
          "qpsolver | ecos",
          "qpsolver | ecos",
          "qpsolver | ecos",
          "qpsolver | ecos",
          "qpsolver | ecos",
          "qpsolver | ecos",
          "qpsolver | ecos",
          "qpsolver | ecos",
          "qpsolver | ecos",
          "qpsolver | ecos",
          "qpsolver | ecos",
          "qpsolver | ecos",
          "qpsolver | ecos",
          "qpsolver | ecos",
          "qpsolver | ecos",
          "qpsolver | ecos",
          "qpsolver | ecos",
          "qpsolver | ecos",
          "qpsolver | ecos",
          "qpsolver | ecos",
          "qpsolver | ecos",
          "qpsolver | ecos",
          "qpsolver | ecos",
          "qpsolver | ecos",
          "qpsolver | ecos",
          "qpsolver | ecos",
          "qpsolver | ecos",
          "qpsolver | scs",
          "qpsolver | scs",
          "qpsolver | scs",
          "qpsolver | scs",
          "qpsolver | scs",
          "qpsolver | scs",
          "qpsolver | scs",
          "qpsolver | scs",
          "qpsolver | scs",
          "qpsolver | scs",
          "qpsolver | scs",
          "qpsolver | scs",
          "qpsolver | scs",
          "qpsolver | scs",
          "qpsolver | scs",
          "qpsolver | scs",
          "qpsolver | scs",
          "qpsolver | scs",
          "qpsolver | scs",
          "qpsolver | scs",
          "qpsolver | scs",
          "qpsolver | scs",
          "qpsolver | scs",
          "qpsolver | scs",
          "qpsolver | scs",
          "qpsolver | scs",
          "qpsolver | scs",
          "qpsolver | scs",
          "qpsolver | scs",
          "qpsolver | scs",
          "qpsolver | scs",
          "qpsolver | scs",
          "qpsolver | scs",
          "qpsolver | scs",
          "qpsolver | scs",
          "qpsolver | scs",
          "qpsolver | scs",
          "qpsolver | scs",
          "qpsolver | scs",
          "qpsolver | scs",
          "qpsolver | scs",
          "qpsolver | scs",
          "qpsolver | scs",
          "qpsolver | scs",
          "qpsolver | scs",
          "qpsolver | scs",
          "qpsolver | scs",
          "qpsolver | scs",
          "qpsolver | scs",
          "qpsolver | scs",
          "qpsolver | scs",
          "qpsolver | scs",
          "qpsolver | scs",
          "qpsolver | scs",
          "qpsolver | scs",
          "qpsolver | scs",
          "qpsolver | scs",
          "qpsolver | scs",
          "qpsolver | scs",
          "qpsolver | scs",
          "qpsolver | scs",
          "qpsolver | scs",
          "qpsolver | scs",
          "qpsolver | scs",
          "qpsolver | scs",
          "qpsolver | scs",
          "qpsolver | scs",
          "qpsolver | scs",
          "qpsolver | scs",
          "qpsolver | scs",
          "qpsolver | scs",
          "qpsolver | scs",
          "qpsolver | scs",
          "qpsolver | scs",
          "qpsolver | scs",
          "qpsolver | scs",
          "qpsolver | scs",
          "qpsolver | scs",
          "qpsolver | scs",
          "qpsolver | scs",
          "qpsolver | scs",
          "qpsolver | scs",
          "qpsolver | scs",
          "qpsolver | scs",
          "qpsolver | scs",
          "qpsolver | scs",
          "qpsolver | scs",
          "qpsolver | scs",
          "qpsolver | scs",
          "qpsolver | scs",
          "qpsolver | scs",
          "qpsolver | scs",
          "qpsolver | scs",
          "qpsolver | scs",
          "qpsolver | scs",
          "qpsolver | scs",
          "qpsolver | scs",
          "qpsolver | scs",
          "qpsolver | scs",
          "qpsolver | scs",
          "qpsolver | quadprog",
          "qpsolver | quadprog",
          "qpsolver | quadprog",
          "qpsolver | quadprog",
          "qpsolver | quadprog",
          "qpsolver | quadprog",
          "qpsolver | quadprog",
          "qpsolver | quadprog",
          "qpsolver | quadprog",
          "qpsolver | quadprog",
          "qpsolver | quadprog",
          "qpsolver | quadprog",
          "qpsolver | quadprog",
          "qpsolver | quadprog",
          "qpsolver | quadprog",
          "qpsolver | quadprog",
          "qpsolver | quadprog",
          "qpsolver | quadprog",
          "qpsolver | quadprog",
          "qpsolver | quadprog",
          "qpsolver | quadprog",
          "qpsolver | quadprog",
          "qpsolver | quadprog",
          "qpsolver | quadprog",
          "qpsolver | quadprog",
          "qpsolver | quadprog",
          "qpsolver | quadprog",
          "qpsolver | quadprog",
          "qpsolver | quadprog",
          "qpsolver | quadprog",
          "qpsolver | quadprog",
          "qpsolver | quadprog",
          "qpsolver | quadprog",
          "qpsolver | quadprog",
          "qpsolver | quadprog",
          "qpsolver | quadprog",
          "qpsolver | quadprog",
          "qpsolver | quadprog",
          "qpsolver | quadprog",
          "qpsolver | quadprog",
          "qpsolver | quadprog",
          "qpsolver | quadprog",
          "qpsolver | quadprog",
          "qpsolver | quadprog",
          "qpsolver | quadprog",
          "qpsolver | quadprog",
          "qpsolver | quadprog",
          "qpsolver | quadprog",
          "qpsolver | quadprog",
          "qpsolver | quadprog",
          "qpsolver | quadprog",
          "qpsolver | quadprog",
          "qpsolver | quadprog",
          "qpsolver | quadprog",
          "qpsolver | quadprog",
          "qpsolver | quadprog",
          "qpsolver | quadprog",
          "qpsolver | quadprog",
          "qpsolver | quadprog",
          "qpsolver | quadprog",
          "qpsolver | quadprog",
          "qpsolver | quadprog",
          "qpsolver | quadprog",
          "qpsolver | quadprog",
          "qpsolver | quadprog",
          "qpsolver | quadprog",
          "qpsolver | quadprog",
          "qpsolver | quadprog",
          "qpsolver | quadprog",
          "qpsolver | quadprog",
          "qpsolver | quadprog",
          "qpsolver | quadprog",
          "qpsolver | quadprog",
          "qpsolver | quadprog",
          "qpsolver | quadprog",
          "qpsolver | quadprog",
          "qpsolver | quadprog",
          "qpsolver | quadprog",
          "qpsolver | quadprog",
          "qpsolver | quadprog",
          "qpsolver | quadprog",
          "qpsolver | quadprog",
          "qpsolver | quadprog",
          "qpsolver | quadprog",
          "qpsolver | quadprog",
          "qpsolver | quadprog",
          "qpsolver | quadprog",
          "qpsolver | quadprog",
          "qpsolver | quadprog",
          "qpsolver | quadprog",
          "qpsolver | quadprog",
          "qpsolver | quadprog",
          "qpsolver | quadprog",
          "qpsolver | quadprog",
          "qpsolver | quadprog",
          "qpsolver | quadprog",
          "qpsolver | quadprog",
          "qpsolver | quadprog",
          "qpsolver | quadprog",
          "qpsolver | quadprog"
         ],
         "x0": " ",
         "xaxis": "x",
         "y": [
          0.0947558879852294,
          0.0197181701660156,
          0.0435929298400878,
          0.0399942398071289,
          0.0286457538604736,
          0.0391743183135986,
          0.0372228622436523,
          0.0308170318603515,
          0.0603821277618408,
          0.0133981704711914,
          0.0725278854370117,
          0.0111749172210693,
          0.0727758407592773,
          0.0582442283630371,
          0.07401704788208,
          0.0303359031677246,
          0.0074951648712158,
          0.051232099533081,
          0.0146288871765136,
          0.0706140995025634,
          0.0366039276123046,
          0.0358343124389648,
          0.0627782344818115,
          0.055513858795166,
          0.0787851810455322,
          0.0191190242767334,
          0.0470950603485107,
          0.0600571632385253,
          0.0545918941497802,
          0.0653131008148193,
          0.0491809844970703,
          0.0417728424072265,
          0.0135631561279296,
          0.0676238536834716,
          0.1018590927124023,
          0.1041269302368164,
          0.1110210418701171,
          0.1134231090545654,
          0.1132171154022216,
          0.1137840747833252,
          0.1183748245239257,
          0.1218588352203369,
          0.140439748764038,
          0.1417210102081298,
          0.143909215927124,
          0.1444859504699707,
          0.1442141532897949,
          0.1496031284332275,
          0.1533491611480713,
          0.1525099277496338,
          0.1529819965362548,
          0.1592340469360351,
          0.1603367328643798,
          0.1629290580749511,
          0.1606819629669189,
          0.1630141735076904,
          0.1717729568481445,
          0.1676857471466064,
          0.1674690246582031,
          0.1724770069122314,
          0.1710717678070068,
          0.1726489067077636,
          0.1734850406646728,
          0.1709651947021484,
          0.1715977191925048,
          0.1743240356445312,
          0.1744759082794189,
          0.1765189170837402,
          0.1786611080169677,
          0.1807429790496826,
          0.1827530860900879,
          0.1899850368499755,
          0.190335988998413,
          0.1949601173400879,
          0.1962511539459228,
          0.198195219039917,
          0.1990468502044677,
          0.2018468379974365,
          0.2007737159729004,
          0.2015881538391113,
          0.2053909301757812,
          0.2038710117340088,
          0.2121520042419433,
          0.2068359851837158,
          0.208899974822998,
          0.2103121280670166,
          0.2148089408874511,
          0.2160320281982422,
          0.2201240062713623,
          0.2207212448120117,
          0.2238011360168457,
          0.211871862411499,
          0.2268571853637695,
          0.2140331268310547,
          0.2179226875305175,
          0.2240798473358154,
          0.2433400154113769,
          0.2284739017486572,
          0.2282691001892089,
          0.2288849353790283,
          0.0132689476013183,
          0.0569269657135009,
          0.0115358829498291,
          0.0334689617156982,
          0.0758929252624511,
          0.0117328166961669,
          0.0470526218414306,
          0.0455513000488281,
          0.0639810562133789,
          0.0219581127166748,
          0.0538749694824218,
          0.0861179828643798,
          0.0342998504638671,
          0.0170240402221679,
          0.0835461616516113,
          0.0241179466247558,
          0.0040161609649658,
          0.0179178714752197,
          0.0943779945373535,
          0.0777828693389892,
          0.0832529067993164,
          0.0487678050994873,
          0.0210058689117431,
          0.032801866531372,
          0.06703782081604,
          0.0558369159698486,
          0.0595459938049316,
          0.0304329395294189,
          0.0892400741577148,
          0.0345211029052734,
          0.0552682876586914,
          0.0408875942230224,
          0.0707721710205078,
          0.0181303024291992,
          0.0266990661621093,
          0.0038270950317382,
          0.0078902244567871,
          0.07790207862854,
          0.0383901596069335,
          0.1001229286193847,
          0.1026480197906494,
          0.1051061153411865,
          0.1107878684997558,
          0.1156632900238037,
          0.1166980266571044,
          0.1231303215026855,
          0.1200733184814453,
          0.1213119029998779,
          0.1245250701904296,
          0.1376702785491943,
          0.1542432308197021,
          0.1578919887542724,
          0.1614670753479004,
          0.1617491245269775,
          0.165266752243042,
          0.1654441356658935,
          0.174710988998413,
          0.1765799522399902,
          0.1769049167633056,
          0.1768391132354736,
          0.1798169612884521,
          0.1770758628845214,
          0.1806449890136718,
          0.1809430122375488,
          0.1902179718017578,
          0.1871607303619384,
          0.191180944442749,
          0.1920669078826904,
          0.1956391334533691,
          0.1992909908294677,
          0.2029330730438232,
          0.209439992904663,
          0.214473009109497,
          0.2153122425079345,
          0.2186930179595947,
          0.2238280773162841,
          0.2298541069030761,
          0.2374610900878906,
          0.2315409183502197,
          0.2337889671325683,
          0.2456040382385254,
          0.2374260425567627,
          0.238671064376831,
          0.2408020496368408,
          0.2507638931274414,
          0.2508549690246582,
          0.2482140064239502,
          0.2478289604187011,
          0.2504529953002929,
          0.2521378993988037,
          0.2506706714630127,
          0.2543618679046631,
          0.2581110000610351,
          0.2613520622253418,
          0.2655818462371826,
          0.2689409255981445,
          0.2804818153381347,
          0.275515079498291,
          0.277559757232666,
          0.2792708873748779,
          0.0674552917480468,
          0.1061601638793945,
          0.076658010482788,
          0.0807089805603027,
          0.0491950511932373,
          0.0701360702514648,
          0.0262153148651123,
          0.0290427207946777,
          0.0190770626068115,
          0.1113312244415283,
          0.0382499694824218,
          0.1140551567077636,
          0.0212769508361816,
          0.1031768321990966,
          0.0190508365631103,
          0.0366327762603759,
          0.0599811077117919,
          0.1295549869537353,
          0.1319191455841064,
          0.0906691551208496,
          0.0751512050628662,
          0.0688049793243408,
          0.0929222106933593,
          0.0214679241180419,
          0.1355609893798828,
          0.1297519207000732,
          0.1300170421600341,
          0.1394019126892089,
          0.1523761749267578,
          0.1508347988128662,
          0.1522700786590576,
          0.1643331050872802,
          0.16829514503479,
          0.1699368953704834,
          0.1785559654235839,
          0.1955931186676025,
          0.1925210952758789,
          0.1971309185028076,
          0.2020239830017089,
          0.2041771411895752,
          0.2017138004302978,
          0.2163739204406738,
          0.2167270183563232,
          0.21675705909729,
          0.2181348800659179,
          0.2203338146209716,
          0.2261190414428711,
          0.2329800128936767,
          0.2388410568237304,
          0.2384619712829589,
          0.2463748455047607,
          0.2490999698638916,
          0.2428979873657226,
          0.2452616691589355,
          0.2506759166717529,
          0.2536098957061767,
          0.261613130569458,
          0.2598791122436523,
          0.2643370628356933,
          0.2624068260192871,
          0.2755110263824463,
          0.274799108505249,
          0.2786598205566406,
          0.2824990749359131,
          0.2876942157745361,
          0.2839627265930176,
          0.2886788845062256,
          0.2866718769073486,
          0.2906968593597412,
          0.2965819835662842,
          0.3017029762268066,
          0.3018360137939453,
          0.3114852905273437,
          0.316025972366333,
          0.3191051483154297,
          0.3251357078552246,
          0.3256847858428955,
          0.3336739540100097,
          0.325920820236206,
          0.3329598903656006,
          0.3414690494537353,
          0.3430819511413574,
          0.3449082374572754,
          0.3405280113220215,
          0.3472511768341064,
          0.355539321899414,
          0.3584797382354736,
          0.3676099777221679,
          0.3666808605194092,
          0.3713071346282959,
          0.3715131282806396,
          0.3677051067352295,
          0.379040002822876,
          0.3815217018127441,
          0.387078046798706,
          0.3744921684265136,
          0.3789129257202148,
          0.382098913192749,
          0.3861401081085205,
          0.3876590728759765,
          0.0042080879211425,
          0.0056869983673095,
          0.0065956115722656,
          0.0095181465148925,
          0.009235143661499,
          0.0088376998901367,
          0.0051229000091552,
          0.0029158592224121,
          0.0026910305023193,
          0.0139162540435791,
          0.0069930553436279,
          0.0024261474609375,
          0.0116426944732666,
          0.0014610290527343,
          0.0094850063323974,
          0.0051712989807128,
          0.0162372589111328,
          0.0063352584838867,
          0.0059549808502197,
          0.0126199722290039,
          0.002432107925415,
          0.0019621849060058,
          0.0081763267517089,
          0.0100998878479003,
          0.0012762546539306,
          0.0039370059967041,
          0.0131862163543701,
          0.0090749263763427,
          0.003396987915039,
          0.0089831352233886,
          0.0127959251403808,
          0.0120658874511718,
          0.0007808208465576,
          0.0075290203094482,
          0.0036709308624267,
          0.0006079673767089,
          0.0067813396453857,
          0.0047278404235839,
          0.0043220520019531,
          0.0074160099029541,
          0.0062761306762695,
          0.0100140571594238,
          0.0156311988830566,
          0.003831148147583,
          0.0074739456176757,
          0.0065898895263671,
          0.0009536743164062,
          0.0062959194183349,
          0.0038871765136718,
          0.0184221267700195,
          0.0108637809753417,
          0.0027163028717041,
          0.0040020942687988,
          0.0082650184631347,
          0.0011019706726074,
          0.005436897277832,
          0.0179362297058105,
          0.0016961097717285,
          0.0043120384216308,
          0.0193691253662109,
          0.0066080093383789,
          0.016387939453125,
          0.00816011428833,
          0.0099949836730957,
          0.0119502544403076,
          0.0012059211730957,
          0.02195405960083,
          0.0086879730224609,
          0.0007669925689697,
          0.0032050609588623,
          0.0141127109527587,
          0.0089352130889892,
          0.0081598758697509,
          0.010869026184082,
          0.0227420330047607,
          0.017698049545288,
          0.0119478702545166,
          0.0214409828186035,
          0.0079119205474853,
          0.0125818252563476,
          0.0079338550567626,
          0.0123279094696044,
          0.0093669891357421,
          0.0131514072418212,
          0.0083568096160888,
          0.0207080841064453,
          0.0079798698425292,
          0.0208971500396728,
          0.0101909637451171,
          0.0180401802062988,
          0.0100710391998291,
          0.0136778354644775,
          0.0057191848754882,
          0.0082528591156005,
          0.0100030899047851,
          0.0185670852661132,
          0.0205979347229003,
          0.0146276950836181,
          0.0268490314483642,
          0.0238232612609863,
          0.0054361820220947,
          0.016028881072998,
          0.0066690444946289,
          0.0034351348876953,
          0.0005989074707031,
          0.0138080120086669,
          0.0169951915740966,
          0.010110855102539,
          0.0166559219360351,
          0.0057992935180664,
          0.0012269020080566,
          0.0112209320068359,
          0.018481969833374,
          0.0020151138305664,
          0.0038897991180419,
          0.0151059627532958,
          0.0172569751739501,
          0.0076479911804199,
          0.0021400451660156,
          0.0060832500457763,
          0.0080273151397705,
          0.006800889968872,
          0.0009000301361083,
          0.0045697689056396,
          0.0085151195526123,
          0.0121691226959228,
          0.0137789249420166,
          0.0097217559814453,
          0.0062611103057861,
          0.0132369995117187,
          0.0041310787200927,
          0.0011258125305175,
          0.0131671428680419,
          0.0106759071350097,
          0.0200791358947753,
          0.0033087730407714,
          0.0125172138214111,
          0.0150260925292968,
          0.0121641159057617,
          0.0142168998718261,
          0.0016193389892578,
          0.006948709487915,
          0.0163829326629638,
          0.0038540363311767,
          0.0201311111450195,
          0.0119690895080566,
          0.0095221996307373,
          0.0093588829040527,
          0.0121321678161621,
          0.0063860416412353,
          0.011178970336914,
          0.0014209747314453,
          0.0077848434448242,
          0.0048909187316894,
          0.0070881843566894,
          0.0023298263549804,
          0.0026490688323974,
          0.0070929527282714,
          0.0132818222045898,
          0.0122649669647216,
          0.0053241252899169,
          0.0099067687988281,
          0.0114178657531738,
          0.0132148265838623,
          0.0082607269287109,
          0.0123970508575439,
          0.0148761272430419,
          0.0177769660949707,
          0.0005679130554199,
          0.0090878009796142,
          0.0207941532135009,
          0.0040340423583984,
          0.0181853771209716,
          0.0121970176696777,
          0.023292064666748,
          0.0189630985260009,
          0.020946979522705,
          0.0212311744689941,
          0.016514778137207,
          0.019888162612915,
          0.0176470279693603,
          0.0218119621276855,
          0.0183758735656738,
          0.0190978050231933,
          0.0421969890594482,
          0.0300328731536865,
          0.0219330787658691,
          0.0219430923461914,
          0.0192818641662597,
          0.0203230381011962,
          0.027001142501831,
          0.027811050415039,
          0.0254518985748291,
          0.0266079902648925,
          0.0059599876403808,
          0.0237541198730468,
          0.005821943283081,
          0.0256977081298828,
          0.0240840911865234,
          0.0097057819366455,
          0.0122129917144775,
          0.0099627971649169,
          0.0091431140899658,
          0.005202293395996,
          0.0021560192108154,
          0.0038690567016601,
          0.0071978569030761,
          0.0061581134796142,
          0.0021829605102539,
          0.0146000385284423,
          0.0079512596130371,
          0.0078520774841308,
          0.0146989822387695,
          0.0077080726623535,
          0.007944107055664,
          0.0021541118621826,
          0.0086019039154052,
          0.002465009689331,
          0.00874924659729,
          0.0032470226287841,
          0.0015180110931396,
          0.0062217712402343,
          0.0093390941619873,
          0.0062329769134521,
          0.0064589977264404,
          0.008862018585205,
          0.0015389919281005,
          0.0039501190185546,
          0.0069067478179931,
          0.0029819011688232,
          0.0032148361206054,
          0.0028789043426513,
          0.0040171146392822,
          0.0043861865997314,
          0.0118811130523681,
          0.0038573741912841,
          0.0075998306274414,
          0.0023210048675537,
          0.0038280487060546,
          0.0081532001495361,
          0.0039310455322265,
          0.0143892765045166,
          0.0052230358123779,
          0.009153127670288,
          0.0136241912841796,
          0.0016157627105712,
          0.0027830600738525,
          0.0083038806915283,
          0.003415822982788,
          0.0054309368133544,
          0.0026938915252685,
          0.0073270797729492,
          0.0088100433349609,
          0.0117628574371337,
          0.0082738399505615,
          0.0021817684173583,
          0.0058910846710205,
          0.0091829299926757,
          0.0166828632354736,
          0.0076689720153808,
          0.0053739547729492,
          0.0029220581054687,
          0.0033240318298339,
          0.0025901794433593,
          0.0035541057586669,
          0.0024776458740234,
          0.0038812160491943,
          0.00868821144104,
          0.0057830810546875,
          0.002885103225708,
          0.0140738487243652,
          0.0121190547943115,
          0.0163087844848632,
          0.0065672397613525,
          0.0114531517028808,
          0.0110640525817871,
          0.0171990394592285,
          0.0131199359893798,
          0.0125970840454101,
          0.0068399906158447,
          0.0069081783294677,
          0.0116717815399169,
          0.0054149627685546,
          0.0122950077056884,
          0.0027811527252197,
          0.0059571266174316,
          0.0083179473876953,
          0.0148417949676513,
          0.0146510601043701,
          0.0043671131134033,
          0.023310899734497,
          0.0066919326782226,
          0.0230369567871093,
          0.0309531688690185,
          0.0096330642700195,
          0.012847900390625,
          0.0092458724975585,
          0.0100347995758056,
          0.017223834991455,
          0.0327229499816894,
          0.0002658367156982,
          0.00008320808410644531,
          0.00004315376281738281,
          0.000029087066650390625,
          0.00003719329833984375,
          0.0004420280456542,
          0.000572919845581,
          0.0003418922424316,
          0.00003504753112792969,
          0.0000591278076171875,
          0.00004506111145019531,
          0.0004580020904541,
          0.0007848739624023,
          0.0000247955322265625,
          0.00006318092346191406,
          0.0001478195190429,
          0.0001420974731445,
          0.000030040740966796875,
          0.000025033950805664062,
          0.0003862380981445,
          0.000209093093872,
          0.0001130104064941,
          0.000031948089599609375,
          0.0007140636444091,
          0.000051021575927734375,
          0.0002467632293701,
          0.0008590221405029,
          0.000033855438232421875,
          0.0005879402160644,
          0.0001969337463378,
          0.00003504753112792969,
          0.00006389617919921875,
          0.0007998943328857,
          0.00006914138793945312,
          0.0017611980438232,
          0.00002813339233398437,
          0.00006914138793945312,
          0.0003368854522705,
          0.0002520084381103,
          0.000033855438232421875,
          0.0003299713134765,
          0.00004601478576660156,
          0.000057220458984375,
          0.00002384185791015625,
          0.00007581710815429688,
          0.00003910064697265625,
          0.00003409385681152344,
          0.00006198883056640625,
          0.00006079673767089844,
          0.000533103942871,
          0.0027410984039306,
          0.00004506111145019531,
          0.00002694129943847656,
          0.000025033950805664062,
          0.00002312660217285156,
          0.00003790855407714844,
          0.0014572143554687,
          0.00002694129943847656,
          0.000032901763916015625,
          0.0012931823730468,
          0.0013997554779052,
          0.0004510879516601,
          0.000031948089599609375,
          0.000022172927856445312,
          0.000026702880859375,
          0.00006580352783203125,
          0.0000667572021484375,
          0.00002193450927734375,
          0.00002288818359375,
          0.0002579689025878,
          0.000027179718017578125,
          0.00004792213439941406,
          0.0014448165893554,
          0.000029087066650390625,
          0.0007092952728271,
          0.0005378723144531,
          0.000032901763916015625,
          0.0002260208129882,
          0.00004887580871582031,
          0.00003027915954589844,
          0.0010030269622802,
          0.00006198883056640625,
          0.0001800060272216,
          0.000019788742065429688,
          0.0006189346313476,
          0.000025033950805664062,
          0.00005793571472167969,
          0.00006222724914550781,
          0.0008208751678466,
          0.000026702880859375,
          0.0002999305725097,
          0.002263069152832,
          0.000561237335205,
          0.00004029273986816406,
          0.0039808750152587,
          0.00007486343383789062,
          0.00005507469177246094,
          0.00003409385681152344,
          0.0021350383758544,
          0.0037500858306884
         ],
         "y0": " ",
         "yaxis": "y"
        }
       ],
       "layout": {
        "boxmode": "group",
        "legend": {
         "tracegroupgap": 0
        },
        "margin": {
         "t": 60
        },
        "template": {
         "data": {
          "bar": [
           {
            "error_x": {
             "color": "#2a3f5f"
            },
            "error_y": {
             "color": "#2a3f5f"
            },
            "marker": {
             "line": {
              "color": "#E5ECF6",
              "width": 0.5
             },
             "pattern": {
              "fillmode": "overlay",
              "size": 10,
              "solidity": 0.2
             }
            },
            "type": "bar"
           }
          ],
          "barpolar": [
           {
            "marker": {
             "line": {
              "color": "#E5ECF6",
              "width": 0.5
             },
             "pattern": {
              "fillmode": "overlay",
              "size": 10,
              "solidity": 0.2
             }
            },
            "type": "barpolar"
           }
          ],
          "carpet": [
           {
            "aaxis": {
             "endlinecolor": "#2a3f5f",
             "gridcolor": "white",
             "linecolor": "white",
             "minorgridcolor": "white",
             "startlinecolor": "#2a3f5f"
            },
            "baxis": {
             "endlinecolor": "#2a3f5f",
             "gridcolor": "white",
             "linecolor": "white",
             "minorgridcolor": "white",
             "startlinecolor": "#2a3f5f"
            },
            "type": "carpet"
           }
          ],
          "choropleth": [
           {
            "colorbar": {
             "outlinewidth": 0,
             "ticks": ""
            },
            "type": "choropleth"
           }
          ],
          "contour": [
           {
            "colorbar": {
             "outlinewidth": 0,
             "ticks": ""
            },
            "colorscale": [
             [
              0,
              "#0d0887"
             ],
             [
              0.1111111111111111,
              "#46039f"
             ],
             [
              0.2222222222222222,
              "#7201a8"
             ],
             [
              0.3333333333333333,
              "#9c179e"
             ],
             [
              0.4444444444444444,
              "#bd3786"
             ],
             [
              0.5555555555555556,
              "#d8576b"
             ],
             [
              0.6666666666666666,
              "#ed7953"
             ],
             [
              0.7777777777777778,
              "#fb9f3a"
             ],
             [
              0.8888888888888888,
              "#fdca26"
             ],
             [
              1,
              "#f0f921"
             ]
            ],
            "type": "contour"
           }
          ],
          "contourcarpet": [
           {
            "colorbar": {
             "outlinewidth": 0,
             "ticks": ""
            },
            "type": "contourcarpet"
           }
          ],
          "heatmap": [
           {
            "colorbar": {
             "outlinewidth": 0,
             "ticks": ""
            },
            "colorscale": [
             [
              0,
              "#0d0887"
             ],
             [
              0.1111111111111111,
              "#46039f"
             ],
             [
              0.2222222222222222,
              "#7201a8"
             ],
             [
              0.3333333333333333,
              "#9c179e"
             ],
             [
              0.4444444444444444,
              "#bd3786"
             ],
             [
              0.5555555555555556,
              "#d8576b"
             ],
             [
              0.6666666666666666,
              "#ed7953"
             ],
             [
              0.7777777777777778,
              "#fb9f3a"
             ],
             [
              0.8888888888888888,
              "#fdca26"
             ],
             [
              1,
              "#f0f921"
             ]
            ],
            "type": "heatmap"
           }
          ],
          "heatmapgl": [
           {
            "colorbar": {
             "outlinewidth": 0,
             "ticks": ""
            },
            "colorscale": [
             [
              0,
              "#0d0887"
             ],
             [
              0.1111111111111111,
              "#46039f"
             ],
             [
              0.2222222222222222,
              "#7201a8"
             ],
             [
              0.3333333333333333,
              "#9c179e"
             ],
             [
              0.4444444444444444,
              "#bd3786"
             ],
             [
              0.5555555555555556,
              "#d8576b"
             ],
             [
              0.6666666666666666,
              "#ed7953"
             ],
             [
              0.7777777777777778,
              "#fb9f3a"
             ],
             [
              0.8888888888888888,
              "#fdca26"
             ],
             [
              1,
              "#f0f921"
             ]
            ],
            "type": "heatmapgl"
           }
          ],
          "histogram": [
           {
            "marker": {
             "pattern": {
              "fillmode": "overlay",
              "size": 10,
              "solidity": 0.2
             }
            },
            "type": "histogram"
           }
          ],
          "histogram2d": [
           {
            "colorbar": {
             "outlinewidth": 0,
             "ticks": ""
            },
            "colorscale": [
             [
              0,
              "#0d0887"
             ],
             [
              0.1111111111111111,
              "#46039f"
             ],
             [
              0.2222222222222222,
              "#7201a8"
             ],
             [
              0.3333333333333333,
              "#9c179e"
             ],
             [
              0.4444444444444444,
              "#bd3786"
             ],
             [
              0.5555555555555556,
              "#d8576b"
             ],
             [
              0.6666666666666666,
              "#ed7953"
             ],
             [
              0.7777777777777778,
              "#fb9f3a"
             ],
             [
              0.8888888888888888,
              "#fdca26"
             ],
             [
              1,
              "#f0f921"
             ]
            ],
            "type": "histogram2d"
           }
          ],
          "histogram2dcontour": [
           {
            "colorbar": {
             "outlinewidth": 0,
             "ticks": ""
            },
            "colorscale": [
             [
              0,
              "#0d0887"
             ],
             [
              0.1111111111111111,
              "#46039f"
             ],
             [
              0.2222222222222222,
              "#7201a8"
             ],
             [
              0.3333333333333333,
              "#9c179e"
             ],
             [
              0.4444444444444444,
              "#bd3786"
             ],
             [
              0.5555555555555556,
              "#d8576b"
             ],
             [
              0.6666666666666666,
              "#ed7953"
             ],
             [
              0.7777777777777778,
              "#fb9f3a"
             ],
             [
              0.8888888888888888,
              "#fdca26"
             ],
             [
              1,
              "#f0f921"
             ]
            ],
            "type": "histogram2dcontour"
           }
          ],
          "mesh3d": [
           {
            "colorbar": {
             "outlinewidth": 0,
             "ticks": ""
            },
            "type": "mesh3d"
           }
          ],
          "parcoords": [
           {
            "line": {
             "colorbar": {
              "outlinewidth": 0,
              "ticks": ""
             }
            },
            "type": "parcoords"
           }
          ],
          "pie": [
           {
            "automargin": true,
            "type": "pie"
           }
          ],
          "scatter": [
           {
            "fillpattern": {
             "fillmode": "overlay",
             "size": 10,
             "solidity": 0.2
            },
            "type": "scatter"
           }
          ],
          "scatter3d": [
           {
            "line": {
             "colorbar": {
              "outlinewidth": 0,
              "ticks": ""
             }
            },
            "marker": {
             "colorbar": {
              "outlinewidth": 0,
              "ticks": ""
             }
            },
            "type": "scatter3d"
           }
          ],
          "scattercarpet": [
           {
            "marker": {
             "colorbar": {
              "outlinewidth": 0,
              "ticks": ""
             }
            },
            "type": "scattercarpet"
           }
          ],
          "scattergeo": [
           {
            "marker": {
             "colorbar": {
              "outlinewidth": 0,
              "ticks": ""
             }
            },
            "type": "scattergeo"
           }
          ],
          "scattergl": [
           {
            "marker": {
             "colorbar": {
              "outlinewidth": 0,
              "ticks": ""
             }
            },
            "type": "scattergl"
           }
          ],
          "scattermapbox": [
           {
            "marker": {
             "colorbar": {
              "outlinewidth": 0,
              "ticks": ""
             }
            },
            "type": "scattermapbox"
           }
          ],
          "scatterpolar": [
           {
            "marker": {
             "colorbar": {
              "outlinewidth": 0,
              "ticks": ""
             }
            },
            "type": "scatterpolar"
           }
          ],
          "scatterpolargl": [
           {
            "marker": {
             "colorbar": {
              "outlinewidth": 0,
              "ticks": ""
             }
            },
            "type": "scatterpolargl"
           }
          ],
          "scatterternary": [
           {
            "marker": {
             "colorbar": {
              "outlinewidth": 0,
              "ticks": ""
             }
            },
            "type": "scatterternary"
           }
          ],
          "surface": [
           {
            "colorbar": {
             "outlinewidth": 0,
             "ticks": ""
            },
            "colorscale": [
             [
              0,
              "#0d0887"
             ],
             [
              0.1111111111111111,
              "#46039f"
             ],
             [
              0.2222222222222222,
              "#7201a8"
             ],
             [
              0.3333333333333333,
              "#9c179e"
             ],
             [
              0.4444444444444444,
              "#bd3786"
             ],
             [
              0.5555555555555556,
              "#d8576b"
             ],
             [
              0.6666666666666666,
              "#ed7953"
             ],
             [
              0.7777777777777778,
              "#fb9f3a"
             ],
             [
              0.8888888888888888,
              "#fdca26"
             ],
             [
              1,
              "#f0f921"
             ]
            ],
            "type": "surface"
           }
          ],
          "table": [
           {
            "cells": {
             "fill": {
              "color": "#EBF0F8"
             },
             "line": {
              "color": "white"
             }
            },
            "header": {
             "fill": {
              "color": "#C8D4E3"
             },
             "line": {
              "color": "white"
             }
            },
            "type": "table"
           }
          ]
         },
         "layout": {
          "annotationdefaults": {
           "arrowcolor": "#2a3f5f",
           "arrowhead": 0,
           "arrowwidth": 1
          },
          "autotypenumbers": "strict",
          "coloraxis": {
           "colorbar": {
            "outlinewidth": 0,
            "ticks": ""
           }
          },
          "colorscale": {
           "diverging": [
            [
             0,
             "#8e0152"
            ],
            [
             0.1,
             "#c51b7d"
            ],
            [
             0.2,
             "#de77ae"
            ],
            [
             0.3,
             "#f1b6da"
            ],
            [
             0.4,
             "#fde0ef"
            ],
            [
             0.5,
             "#f7f7f7"
            ],
            [
             0.6,
             "#e6f5d0"
            ],
            [
             0.7,
             "#b8e186"
            ],
            [
             0.8,
             "#7fbc41"
            ],
            [
             0.9,
             "#4d9221"
            ],
            [
             1,
             "#276419"
            ]
           ],
           "sequential": [
            [
             0,
             "#0d0887"
            ],
            [
             0.1111111111111111,
             "#46039f"
            ],
            [
             0.2222222222222222,
             "#7201a8"
            ],
            [
             0.3333333333333333,
             "#9c179e"
            ],
            [
             0.4444444444444444,
             "#bd3786"
            ],
            [
             0.5555555555555556,
             "#d8576b"
            ],
            [
             0.6666666666666666,
             "#ed7953"
            ],
            [
             0.7777777777777778,
             "#fb9f3a"
            ],
            [
             0.8888888888888888,
             "#fdca26"
            ],
            [
             1,
             "#f0f921"
            ]
           ],
           "sequentialminus": [
            [
             0,
             "#0d0887"
            ],
            [
             0.1111111111111111,
             "#46039f"
            ],
            [
             0.2222222222222222,
             "#7201a8"
            ],
            [
             0.3333333333333333,
             "#9c179e"
            ],
            [
             0.4444444444444444,
             "#bd3786"
            ],
            [
             0.5555555555555556,
             "#d8576b"
            ],
            [
             0.6666666666666666,
             "#ed7953"
            ],
            [
             0.7777777777777778,
             "#fb9f3a"
            ],
            [
             0.8888888888888888,
             "#fdca26"
            ],
            [
             1,
             "#f0f921"
            ]
           ]
          },
          "colorway": [
           "#636efa",
           "#EF553B",
           "#00cc96",
           "#ab63fa",
           "#FFA15A",
           "#19d3f3",
           "#FF6692",
           "#B6E880",
           "#FF97FF",
           "#FECB52"
          ],
          "font": {
           "color": "#2a3f5f"
          },
          "geo": {
           "bgcolor": "white",
           "lakecolor": "white",
           "landcolor": "#E5ECF6",
           "showlakes": true,
           "showland": true,
           "subunitcolor": "white"
          },
          "hoverlabel": {
           "align": "left"
          },
          "hovermode": "closest",
          "mapbox": {
           "style": "light"
          },
          "paper_bgcolor": "white",
          "plot_bgcolor": "#E5ECF6",
          "polar": {
           "angularaxis": {
            "gridcolor": "white",
            "linecolor": "white",
            "ticks": ""
           },
           "bgcolor": "#E5ECF6",
           "radialaxis": {
            "gridcolor": "white",
            "linecolor": "white",
            "ticks": ""
           }
          },
          "scene": {
           "xaxis": {
            "backgroundcolor": "#E5ECF6",
            "gridcolor": "white",
            "gridwidth": 2,
            "linecolor": "white",
            "showbackground": true,
            "ticks": "",
            "zerolinecolor": "white"
           },
           "yaxis": {
            "backgroundcolor": "#E5ECF6",
            "gridcolor": "white",
            "gridwidth": 2,
            "linecolor": "white",
            "showbackground": true,
            "ticks": "",
            "zerolinecolor": "white"
           },
           "zaxis": {
            "backgroundcolor": "#E5ECF6",
            "gridcolor": "white",
            "gridwidth": 2,
            "linecolor": "white",
            "showbackground": true,
            "ticks": "",
            "zerolinecolor": "white"
           }
          },
          "shapedefaults": {
           "line": {
            "color": "#2a3f5f"
           }
          },
          "ternary": {
           "aaxis": {
            "gridcolor": "white",
            "linecolor": "white",
            "ticks": ""
           },
           "baxis": {
            "gridcolor": "white",
            "linecolor": "white",
            "ticks": ""
           },
           "bgcolor": "#E5ECF6",
           "caxis": {
            "gridcolor": "white",
            "linecolor": "white",
            "ticks": ""
           }
          },
          "title": {
           "x": 0.05
          },
          "xaxis": {
           "automargin": true,
           "gridcolor": "white",
           "linecolor": "white",
           "ticks": "",
           "title": {
            "standoff": 15
           },
           "zerolinecolor": "white",
           "zerolinewidth": 2
          },
          "yaxis": {
           "automargin": true,
           "gridcolor": "white",
           "linecolor": "white",
           "ticks": "",
           "title": {
            "standoff": 15
           },
           "zerolinecolor": "white",
           "zerolinewidth": 2
          }
         }
        },
        "xaxis": {
         "anchor": "y",
         "domain": [
          0,
          1
         ],
         "title": {
          "text": "Package | Solver Combo"
         }
        },
        "yaxis": {
         "anchor": "x",
         "domain": [
          0,
          1
         ],
         "title": {
          "text": "Time"
         }
        }
       }
      }
     },
     "metadata": {},
     "output_type": "display_data"
    },
    {
     "name": "stdout",
     "output_type": "stream",
     "text": [
      "numbAssets=2 numbOrders=500\n"
     ]
    },
    {
     "data": {
      "application/vnd.plotly.v1+json": {
       "config": {
        "plotlyServerURL": "https://plot.ly"
       },
       "data": [
        {
         "alignmentgroup": "True",
         "hovertemplate": "Package | Solver Combo=%{x}<br>Time=%{y}<extra></extra>",
         "legendgroup": "",
         "marker": {
          "color": "#636efa"
         },
         "name": "",
         "notched": false,
         "offsetgroup": "",
         "orientation": "v",
         "showlegend": false,
         "type": "box",
         "x": [
          "cvxpy | OSQP",
          "cvxpy | OSQP",
          "cvxpy | OSQP",
          "cvxpy | OSQP",
          "cvxpy | OSQP",
          "cvxpy | OSQP",
          "cvxpy | OSQP",
          "cvxpy | OSQP",
          "cvxpy | OSQP",
          "cvxpy | OSQP",
          "cvxpy | OSQP",
          "cvxpy | OSQP",
          "cvxpy | OSQP",
          "cvxpy | OSQP",
          "cvxpy | OSQP",
          "cvxpy | OSQP",
          "cvxpy | OSQP",
          "cvxpy | OSQP",
          "cvxpy | OSQP",
          "cvxpy | OSQP",
          "cvxpy | OSQP",
          "cvxpy | OSQP",
          "cvxpy | OSQP",
          "cvxpy | OSQP",
          "cvxpy | OSQP",
          "cvxpy | OSQP",
          "cvxpy | OSQP",
          "cvxpy | OSQP",
          "cvxpy | OSQP",
          "cvxpy | OSQP",
          "cvxpy | OSQP",
          "cvxpy | OSQP",
          "cvxpy | OSQP",
          "cvxpy | OSQP",
          "cvxpy | OSQP",
          "cvxpy | OSQP",
          "cvxpy | OSQP",
          "cvxpy | OSQP",
          "cvxpy | OSQP",
          "cvxpy | OSQP",
          "cvxpy | OSQP",
          "cvxpy | OSQP",
          "cvxpy | OSQP",
          "cvxpy | OSQP",
          "cvxpy | OSQP",
          "cvxpy | OSQP",
          "cvxpy | OSQP",
          "cvxpy | OSQP",
          "cvxpy | OSQP",
          "cvxpy | OSQP",
          "cvxpy | OSQP",
          "cvxpy | OSQP",
          "cvxpy | OSQP",
          "cvxpy | OSQP",
          "cvxpy | OSQP",
          "cvxpy | OSQP",
          "cvxpy | OSQP",
          "cvxpy | OSQP",
          "cvxpy | OSQP",
          "cvxpy | OSQP",
          "cvxpy | OSQP",
          "cvxpy | OSQP",
          "cvxpy | OSQP",
          "cvxpy | OSQP",
          "cvxpy | OSQP",
          "cvxpy | OSQP",
          "cvxpy | OSQP",
          "cvxpy | OSQP",
          "cvxpy | OSQP",
          "cvxpy | OSQP",
          "cvxpy | OSQP",
          "cvxpy | OSQP",
          "cvxpy | OSQP",
          "cvxpy | OSQP",
          "cvxpy | OSQP",
          "cvxpy | OSQP",
          "cvxpy | OSQP",
          "cvxpy | OSQP",
          "cvxpy | OSQP",
          "cvxpy | OSQP",
          "cvxpy | OSQP",
          "cvxpy | OSQP",
          "cvxpy | OSQP",
          "cvxpy | OSQP",
          "cvxpy | OSQP",
          "cvxpy | OSQP",
          "cvxpy | OSQP",
          "cvxpy | OSQP",
          "cvxpy | OSQP",
          "cvxpy | OSQP",
          "cvxpy | OSQP",
          "cvxpy | OSQP",
          "cvxpy | OSQP",
          "cvxpy | OSQP",
          "cvxpy | OSQP",
          "cvxpy | OSQP",
          "cvxpy | OSQP",
          "cvxpy | OSQP",
          "cvxpy | OSQP",
          "cvxpy | OSQP",
          "cvxpy | ECOS",
          "cvxpy | ECOS",
          "cvxpy | ECOS",
          "cvxpy | ECOS",
          "cvxpy | ECOS",
          "cvxpy | ECOS",
          "cvxpy | ECOS",
          "cvxpy | ECOS",
          "cvxpy | ECOS",
          "cvxpy | ECOS",
          "cvxpy | ECOS",
          "cvxpy | ECOS",
          "cvxpy | ECOS",
          "cvxpy | ECOS",
          "cvxpy | ECOS",
          "cvxpy | ECOS",
          "cvxpy | ECOS",
          "cvxpy | ECOS",
          "cvxpy | ECOS",
          "cvxpy | ECOS",
          "cvxpy | ECOS",
          "cvxpy | ECOS",
          "cvxpy | ECOS",
          "cvxpy | ECOS",
          "cvxpy | ECOS",
          "cvxpy | ECOS",
          "cvxpy | ECOS",
          "cvxpy | ECOS",
          "cvxpy | ECOS",
          "cvxpy | ECOS",
          "cvxpy | ECOS",
          "cvxpy | ECOS",
          "cvxpy | ECOS",
          "cvxpy | ECOS",
          "cvxpy | ECOS",
          "cvxpy | ECOS",
          "cvxpy | ECOS",
          "cvxpy | ECOS",
          "cvxpy | ECOS",
          "cvxpy | ECOS",
          "cvxpy | ECOS",
          "cvxpy | ECOS",
          "cvxpy | ECOS",
          "cvxpy | ECOS",
          "cvxpy | ECOS",
          "cvxpy | ECOS",
          "cvxpy | ECOS",
          "cvxpy | ECOS",
          "cvxpy | ECOS",
          "cvxpy | ECOS",
          "cvxpy | ECOS",
          "cvxpy | ECOS",
          "cvxpy | ECOS",
          "cvxpy | ECOS",
          "cvxpy | ECOS",
          "cvxpy | ECOS",
          "cvxpy | ECOS",
          "cvxpy | ECOS",
          "cvxpy | ECOS",
          "cvxpy | ECOS",
          "cvxpy | ECOS",
          "cvxpy | ECOS",
          "cvxpy | ECOS",
          "cvxpy | ECOS",
          "cvxpy | ECOS",
          "cvxpy | ECOS",
          "cvxpy | ECOS",
          "cvxpy | ECOS",
          "cvxpy | ECOS",
          "cvxpy | ECOS",
          "cvxpy | ECOS",
          "cvxpy | ECOS",
          "cvxpy | ECOS",
          "cvxpy | ECOS",
          "cvxpy | ECOS",
          "cvxpy | ECOS",
          "cvxpy | ECOS",
          "cvxpy | ECOS",
          "cvxpy | ECOS",
          "cvxpy | ECOS",
          "cvxpy | ECOS",
          "cvxpy | ECOS",
          "cvxpy | ECOS",
          "cvxpy | ECOS",
          "cvxpy | ECOS",
          "cvxpy | ECOS",
          "cvxpy | ECOS",
          "cvxpy | ECOS",
          "cvxpy | ECOS",
          "cvxpy | ECOS",
          "cvxpy | ECOS",
          "cvxpy | ECOS",
          "cvxpy | ECOS",
          "cvxpy | ECOS",
          "cvxpy | ECOS",
          "cvxpy | ECOS",
          "cvxpy | ECOS",
          "cvxpy | ECOS",
          "cvxpy | ECOS",
          "cvxpy | ECOS",
          "cvxpy | SCS",
          "cvxpy | SCS",
          "cvxpy | SCS",
          "cvxpy | SCS",
          "cvxpy | SCS",
          "cvxpy | SCS",
          "cvxpy | SCS",
          "cvxpy | SCS",
          "cvxpy | SCS",
          "cvxpy | SCS",
          "cvxpy | SCS",
          "cvxpy | SCS",
          "cvxpy | SCS",
          "cvxpy | SCS",
          "cvxpy | SCS",
          "cvxpy | SCS",
          "cvxpy | SCS",
          "cvxpy | SCS",
          "cvxpy | SCS",
          "cvxpy | SCS",
          "cvxpy | SCS",
          "cvxpy | SCS",
          "cvxpy | SCS",
          "cvxpy | SCS",
          "cvxpy | SCS",
          "cvxpy | SCS",
          "cvxpy | SCS",
          "cvxpy | SCS",
          "cvxpy | SCS",
          "cvxpy | SCS",
          "cvxpy | SCS",
          "cvxpy | SCS",
          "cvxpy | SCS",
          "cvxpy | SCS",
          "cvxpy | SCS",
          "cvxpy | SCS",
          "cvxpy | SCS",
          "cvxpy | SCS",
          "cvxpy | SCS",
          "cvxpy | SCS",
          "cvxpy | SCS",
          "cvxpy | SCS",
          "cvxpy | SCS",
          "cvxpy | SCS",
          "cvxpy | SCS",
          "cvxpy | SCS",
          "cvxpy | SCS",
          "cvxpy | SCS",
          "cvxpy | SCS",
          "cvxpy | SCS",
          "cvxpy | SCS",
          "cvxpy | SCS",
          "cvxpy | SCS",
          "cvxpy | SCS",
          "cvxpy | SCS",
          "cvxpy | SCS",
          "cvxpy | SCS",
          "cvxpy | SCS",
          "cvxpy | SCS",
          "cvxpy | SCS",
          "cvxpy | SCS",
          "cvxpy | SCS",
          "cvxpy | SCS",
          "cvxpy | SCS",
          "cvxpy | SCS",
          "cvxpy | SCS",
          "cvxpy | SCS",
          "cvxpy | SCS",
          "cvxpy | SCS",
          "cvxpy | SCS",
          "cvxpy | SCS",
          "cvxpy | SCS",
          "cvxpy | SCS",
          "cvxpy | SCS",
          "cvxpy | SCS",
          "cvxpy | SCS",
          "cvxpy | SCS",
          "cvxpy | SCS",
          "cvxpy | SCS",
          "cvxpy | SCS",
          "cvxpy | SCS",
          "cvxpy | SCS",
          "cvxpy | SCS",
          "cvxpy | SCS",
          "cvxpy | SCS",
          "cvxpy | SCS",
          "cvxpy | SCS",
          "cvxpy | SCS",
          "cvxpy | SCS",
          "cvxpy | SCS",
          "cvxpy | SCS",
          "cvxpy | SCS",
          "cvxpy | SCS",
          "cvxpy | SCS",
          "cvxpy | SCS",
          "cvxpy | SCS",
          "cvxpy | SCS",
          "cvxpy | SCS",
          "cvxpy | SCS",
          "cvxpy | SCS",
          "qpsolver | osqp",
          "qpsolver | osqp",
          "qpsolver | osqp",
          "qpsolver | osqp",
          "qpsolver | osqp",
          "qpsolver | osqp",
          "qpsolver | osqp",
          "qpsolver | osqp",
          "qpsolver | osqp",
          "qpsolver | osqp",
          "qpsolver | osqp",
          "qpsolver | osqp",
          "qpsolver | osqp",
          "qpsolver | osqp",
          "qpsolver | osqp",
          "qpsolver | osqp",
          "qpsolver | osqp",
          "qpsolver | osqp",
          "qpsolver | osqp",
          "qpsolver | osqp",
          "qpsolver | osqp",
          "qpsolver | osqp",
          "qpsolver | osqp",
          "qpsolver | osqp",
          "qpsolver | osqp",
          "qpsolver | osqp",
          "qpsolver | osqp",
          "qpsolver | osqp",
          "qpsolver | osqp",
          "qpsolver | osqp",
          "qpsolver | osqp",
          "qpsolver | osqp",
          "qpsolver | osqp",
          "qpsolver | osqp",
          "qpsolver | osqp",
          "qpsolver | osqp",
          "qpsolver | osqp",
          "qpsolver | osqp",
          "qpsolver | osqp",
          "qpsolver | osqp",
          "qpsolver | osqp",
          "qpsolver | osqp",
          "qpsolver | osqp",
          "qpsolver | osqp",
          "qpsolver | osqp",
          "qpsolver | osqp",
          "qpsolver | osqp",
          "qpsolver | osqp",
          "qpsolver | osqp",
          "qpsolver | osqp",
          "qpsolver | osqp",
          "qpsolver | osqp",
          "qpsolver | osqp",
          "qpsolver | osqp",
          "qpsolver | osqp",
          "qpsolver | osqp",
          "qpsolver | osqp",
          "qpsolver | osqp",
          "qpsolver | osqp",
          "qpsolver | osqp",
          "qpsolver | osqp",
          "qpsolver | osqp",
          "qpsolver | osqp",
          "qpsolver | osqp",
          "qpsolver | osqp",
          "qpsolver | osqp",
          "qpsolver | osqp",
          "qpsolver | osqp",
          "qpsolver | osqp",
          "qpsolver | osqp",
          "qpsolver | osqp",
          "qpsolver | osqp",
          "qpsolver | osqp",
          "qpsolver | osqp",
          "qpsolver | osqp",
          "qpsolver | osqp",
          "qpsolver | osqp",
          "qpsolver | osqp",
          "qpsolver | osqp",
          "qpsolver | osqp",
          "qpsolver | osqp",
          "qpsolver | osqp",
          "qpsolver | osqp",
          "qpsolver | osqp",
          "qpsolver | osqp",
          "qpsolver | osqp",
          "qpsolver | osqp",
          "qpsolver | osqp",
          "qpsolver | osqp",
          "qpsolver | osqp",
          "qpsolver | osqp",
          "qpsolver | osqp",
          "qpsolver | osqp",
          "qpsolver | osqp",
          "qpsolver | osqp",
          "qpsolver | osqp",
          "qpsolver | osqp",
          "qpsolver | osqp",
          "qpsolver | osqp",
          "qpsolver | osqp",
          "qpsolver | ecos",
          "qpsolver | ecos",
          "qpsolver | ecos",
          "qpsolver | ecos",
          "qpsolver | ecos",
          "qpsolver | ecos",
          "qpsolver | ecos",
          "qpsolver | ecos",
          "qpsolver | ecos",
          "qpsolver | ecos",
          "qpsolver | ecos",
          "qpsolver | ecos",
          "qpsolver | ecos",
          "qpsolver | ecos",
          "qpsolver | ecos",
          "qpsolver | ecos",
          "qpsolver | ecos",
          "qpsolver | ecos",
          "qpsolver | ecos",
          "qpsolver | ecos",
          "qpsolver | ecos",
          "qpsolver | ecos",
          "qpsolver | ecos",
          "qpsolver | ecos",
          "qpsolver | ecos",
          "qpsolver | ecos",
          "qpsolver | ecos",
          "qpsolver | ecos",
          "qpsolver | ecos",
          "qpsolver | ecos",
          "qpsolver | ecos",
          "qpsolver | ecos",
          "qpsolver | ecos",
          "qpsolver | ecos",
          "qpsolver | ecos",
          "qpsolver | ecos",
          "qpsolver | ecos",
          "qpsolver | ecos",
          "qpsolver | ecos",
          "qpsolver | ecos",
          "qpsolver | ecos",
          "qpsolver | ecos",
          "qpsolver | ecos",
          "qpsolver | ecos",
          "qpsolver | ecos",
          "qpsolver | ecos",
          "qpsolver | ecos",
          "qpsolver | ecos",
          "qpsolver | ecos",
          "qpsolver | ecos",
          "qpsolver | ecos",
          "qpsolver | ecos",
          "qpsolver | ecos",
          "qpsolver | ecos",
          "qpsolver | ecos",
          "qpsolver | ecos",
          "qpsolver | ecos",
          "qpsolver | ecos",
          "qpsolver | ecos",
          "qpsolver | ecos",
          "qpsolver | ecos",
          "qpsolver | ecos",
          "qpsolver | ecos",
          "qpsolver | ecos",
          "qpsolver | ecos",
          "qpsolver | ecos",
          "qpsolver | ecos",
          "qpsolver | ecos",
          "qpsolver | ecos",
          "qpsolver | ecos",
          "qpsolver | ecos",
          "qpsolver | ecos",
          "qpsolver | ecos",
          "qpsolver | ecos",
          "qpsolver | ecos",
          "qpsolver | ecos",
          "qpsolver | ecos",
          "qpsolver | ecos",
          "qpsolver | ecos",
          "qpsolver | ecos",
          "qpsolver | ecos",
          "qpsolver | ecos",
          "qpsolver | ecos",
          "qpsolver | ecos",
          "qpsolver | ecos",
          "qpsolver | ecos",
          "qpsolver | ecos",
          "qpsolver | ecos",
          "qpsolver | ecos",
          "qpsolver | ecos",
          "qpsolver | ecos",
          "qpsolver | ecos",
          "qpsolver | ecos",
          "qpsolver | ecos",
          "qpsolver | ecos",
          "qpsolver | ecos",
          "qpsolver | ecos",
          "qpsolver | ecos",
          "qpsolver | ecos",
          "qpsolver | ecos",
          "qpsolver | scs",
          "qpsolver | scs",
          "qpsolver | scs",
          "qpsolver | scs",
          "qpsolver | scs",
          "qpsolver | scs",
          "qpsolver | scs",
          "qpsolver | scs",
          "qpsolver | scs",
          "qpsolver | scs",
          "qpsolver | scs",
          "qpsolver | scs",
          "qpsolver | scs",
          "qpsolver | scs",
          "qpsolver | scs",
          "qpsolver | scs",
          "qpsolver | scs",
          "qpsolver | scs",
          "qpsolver | scs",
          "qpsolver | scs",
          "qpsolver | scs",
          "qpsolver | scs",
          "qpsolver | scs",
          "qpsolver | scs",
          "qpsolver | scs",
          "qpsolver | scs",
          "qpsolver | scs",
          "qpsolver | scs",
          "qpsolver | scs",
          "qpsolver | scs",
          "qpsolver | scs",
          "qpsolver | scs",
          "qpsolver | scs",
          "qpsolver | scs",
          "qpsolver | scs",
          "qpsolver | scs",
          "qpsolver | scs",
          "qpsolver | scs",
          "qpsolver | scs",
          "qpsolver | scs",
          "qpsolver | scs",
          "qpsolver | scs",
          "qpsolver | scs",
          "qpsolver | scs",
          "qpsolver | scs",
          "qpsolver | scs",
          "qpsolver | scs",
          "qpsolver | scs",
          "qpsolver | scs",
          "qpsolver | scs",
          "qpsolver | scs",
          "qpsolver | scs",
          "qpsolver | scs",
          "qpsolver | scs",
          "qpsolver | scs",
          "qpsolver | scs",
          "qpsolver | scs",
          "qpsolver | scs",
          "qpsolver | scs",
          "qpsolver | scs",
          "qpsolver | scs",
          "qpsolver | scs",
          "qpsolver | scs",
          "qpsolver | scs",
          "qpsolver | scs",
          "qpsolver | scs",
          "qpsolver | scs",
          "qpsolver | scs",
          "qpsolver | scs",
          "qpsolver | scs",
          "qpsolver | scs",
          "qpsolver | scs",
          "qpsolver | scs",
          "qpsolver | scs",
          "qpsolver | scs",
          "qpsolver | scs",
          "qpsolver | scs",
          "qpsolver | scs",
          "qpsolver | scs",
          "qpsolver | scs",
          "qpsolver | scs",
          "qpsolver | scs",
          "qpsolver | scs",
          "qpsolver | scs",
          "qpsolver | scs",
          "qpsolver | scs",
          "qpsolver | scs",
          "qpsolver | scs",
          "qpsolver | scs",
          "qpsolver | scs",
          "qpsolver | scs",
          "qpsolver | scs",
          "qpsolver | scs",
          "qpsolver | scs",
          "qpsolver | scs",
          "qpsolver | scs",
          "qpsolver | scs",
          "qpsolver | scs",
          "qpsolver | scs",
          "qpsolver | scs",
          "qpsolver | quadprog",
          "qpsolver | quadprog",
          "qpsolver | quadprog",
          "qpsolver | quadprog",
          "qpsolver | quadprog",
          "qpsolver | quadprog",
          "qpsolver | quadprog",
          "qpsolver | quadprog",
          "qpsolver | quadprog",
          "qpsolver | quadprog",
          "qpsolver | quadprog",
          "qpsolver | quadprog",
          "qpsolver | quadprog",
          "qpsolver | quadprog",
          "qpsolver | quadprog",
          "qpsolver | quadprog",
          "qpsolver | quadprog",
          "qpsolver | quadprog",
          "qpsolver | quadprog",
          "qpsolver | quadprog",
          "qpsolver | quadprog",
          "qpsolver | quadprog",
          "qpsolver | quadprog",
          "qpsolver | quadprog",
          "qpsolver | quadprog",
          "qpsolver | quadprog",
          "qpsolver | quadprog",
          "qpsolver | quadprog",
          "qpsolver | quadprog",
          "qpsolver | quadprog",
          "qpsolver | quadprog",
          "qpsolver | quadprog",
          "qpsolver | quadprog",
          "qpsolver | quadprog",
          "qpsolver | quadprog",
          "qpsolver | quadprog",
          "qpsolver | quadprog",
          "qpsolver | quadprog",
          "qpsolver | quadprog",
          "qpsolver | quadprog",
          "qpsolver | quadprog",
          "qpsolver | quadprog",
          "qpsolver | quadprog",
          "qpsolver | quadprog",
          "qpsolver | quadprog",
          "qpsolver | quadprog",
          "qpsolver | quadprog",
          "qpsolver | quadprog",
          "qpsolver | quadprog",
          "qpsolver | quadprog",
          "qpsolver | quadprog",
          "qpsolver | quadprog",
          "qpsolver | quadprog",
          "qpsolver | quadprog",
          "qpsolver | quadprog",
          "qpsolver | quadprog",
          "qpsolver | quadprog",
          "qpsolver | quadprog",
          "qpsolver | quadprog",
          "qpsolver | quadprog",
          "qpsolver | quadprog",
          "qpsolver | quadprog",
          "qpsolver | quadprog",
          "qpsolver | quadprog",
          "qpsolver | quadprog",
          "qpsolver | quadprog",
          "qpsolver | quadprog",
          "qpsolver | quadprog",
          "qpsolver | quadprog",
          "qpsolver | quadprog",
          "qpsolver | quadprog",
          "qpsolver | quadprog",
          "qpsolver | quadprog",
          "qpsolver | quadprog",
          "qpsolver | quadprog",
          "qpsolver | quadprog",
          "qpsolver | quadprog",
          "qpsolver | quadprog",
          "qpsolver | quadprog",
          "qpsolver | quadprog",
          "qpsolver | quadprog",
          "qpsolver | quadprog",
          "qpsolver | quadprog",
          "qpsolver | quadprog",
          "qpsolver | quadprog",
          "qpsolver | quadprog",
          "qpsolver | quadprog",
          "qpsolver | quadprog",
          "qpsolver | quadprog",
          "qpsolver | quadprog",
          "qpsolver | quadprog",
          "qpsolver | quadprog",
          "qpsolver | quadprog",
          "qpsolver | quadprog",
          "qpsolver | quadprog",
          "qpsolver | quadprog",
          "qpsolver | quadprog",
          "qpsolver | quadprog",
          "qpsolver | quadprog",
          "qpsolver | quadprog"
         ],
         "x0": " ",
         "xaxis": "x",
         "y": [
          1043.3485481739044,
          1047.866336107254,
          1047.763755083084,
          1048.5088322162628,
          1047.7685720920565,
          1048.5433390140531,
          1048.5584840774536,
          1047.956298828125,
          1047.90087723732,
          1048.135773897171,
          1048.0025238990784,
          1048.3142838478088,
          1048.7250199317932,
          1048.2676367759705,
          1048.0792291164398,
          1048.7214467525482,
          1048.1846890449524,
          1048.4678480625153,
          1048.5390219688416,
          1048.1819200515747,
          1048.9046981334686,
          1048.406004190445,
          1048.4361679553986,
          1048.779778957367,
          1048.5143537521362,
          1048.3454477787018,
          1048.578362941742,
          1048.4650321006775,
          1048.798812866211,
          1048.7969851493835,
          1048.912710905075,
          1049.0949199199677,
          1049.1166808605194,
          1049.0011751651764,
          1048.5374352931976,
          1049.172236919403,
          1049.2110259532928,
          1048.870332956314,
          1048.8108489513395,
          1048.644570827484,
          1048.8494148254397,
          1049.27841091156,
          1049.0272932052612,
          1048.6638820171356,
          1048.5832760334015,
          1049.350093126297,
          1048.7279920578003,
          1048.816169977188,
          1048.8496141433716,
          1048.8030240535736,
          1049.1990101337433,
          1049.2120139598846,
          1049.0655488967896,
          1049.271852016449,
          1049.2649569511414,
          1048.9995930194857,
          1049.0937349796295,
          1049.0694448947906,
          1048.9309351444244,
          1049.2821221351624,
          1049.391010761261,
          1049.7322888374329,
          1049.3005640506744,
          1049.3973460197449,
          1049.0794591903689,
          1049.500482082367,
          1049.3498849868774,
          1049.4366850852966,
          1049.4352459907532,
          1049.2970690727234,
          1049.173800945282,
          1049.5940759181976,
          1049.4645760059357,
          1049.9477288722992,
          1049.485995054245,
          1049.9896802902222,
          1049.9975650310516,
          1050.0433270931244,
          1049.6319789886477,
          1049.9353489875791,
          1049.7273132801056,
          1049.352599143982,
          1049.738265991211,
          1049.49276804924,
          1049.8419661521912,
          1050.196912765503,
          1049.6431729793549,
          1049.74001288414,
          1049.8822979927063,
          1049.571916103363,
          1050.3987529277802,
          1049.6883318424225,
          1050.211802959442,
          1049.981926202774,
          1050.4700179100037,
          1050.005882978439,
          1049.8342399597168,
          1050.1202759742737,
          1049.9207382202148,
          1050.5547749996183,
          1073.1266400814056,
          1073.0191428661346,
          1073.6004631519318,
          1073.5468060970306,
          1074.1816267967224,
          1074.089008808136,
          1074.5687720775604,
          1074.708556652069,
          1075.034523010254,
          1075.091066122055,
          1075.3909571170807,
          1075.2076008319857,
          1076.1970701217651,
          1075.9022080898285,
          1076.1514501571655,
          1076.6575508117676,
          1076.5611538887024,
          1077.2522921562197,
          1077.223389863968,
          1077.5876052379608,
          1077.155501127243,
          1078.009535074234,
          1077.6824769973755,
          1078.6444919109344,
          1078.2592351436615,
          1078.7729902267456,
          1078.4444739818573,
          1079.4709839820862,
          1079.510521888733,
          1079.803999900818,
          1079.6678819656372,
          1080.1465966701508,
          1080.1223576068878,
          1080.391881942749,
          1080.350193977356,
          1081.2127220630646,
          1081.081553220749,
          1081.386527776718,
          1081.2117087841034,
          1081.8343710899353,
          1081.6593840122223,
          1082.5573880672457,
          1082.3468358516693,
          1082.442848920822,
          1082.7429060935974,
          1083.4883058071136,
          1083.6027529239657,
          1083.5967710018158,
          1083.575579881668,
          1083.9073159694672,
          1084.718652009964,
          1084.7426462173462,
          1084.5242581367493,
          1085.4489159584043,
          1085.3385002613068,
          1085.0120220184326,
          1085.6069259643557,
          1086.1567471027374,
          1086.1482899188995,
          1086.2785212993622,
          1086.3873569965365,
          1087.068841934204,
          1086.7003428936005,
          1086.7430980205536,
          1087.6570219993591,
          1087.590764760971,
          1087.9221050739288,
          1087.8323969841003,
          1088.3299810886383,
          1088.5764138698578,
          1088.4853901863098,
          1088.5666010379791,
          1089.4769730567932,
          1089.1798131465912,
          1089.55757188797,
          1090.2628281116486,
          1090.21785902977,
          1090.2836899757383,
          1090.1142737865448,
          1091.1329679489136,
          1090.79270029068,
          1090.980943918228,
          1091.420746088028,
          1092.0057361125946,
          1091.9481899738312,
          1091.9585318565369,
          1092.7920479774475,
          1092.880953788757,
          1092.7358770370483,
          1092.7160050868988,
          1092.9425609111786,
          1093.169321060181,
          1093.4142289161682,
          1094.1654992103577,
          1094.2793111801147,
          1094.5726778507233,
          1094.3345110416412,
          1094.6957850456238,
          1094.993535041809,
          1095.3931488990784,
          1286.4260997772217,
          1286.257959842682,
          1287.5708618164062,
          1289.0445220470428,
          1289.7988221645355,
          1291.2163870334623,
          1292.5666630268097,
          1293.650573015213,
          1295.299252986908,
          1296.0806488990784,
          1297.9148879051208,
          1298.7120361328125,
          1299.9138939380646,
          1301.194839000702,
          1302.738173007965,
          1303.7916371822355,
          1304.8816390037537,
          1306.1189639568329,
          1307.4806730747223,
          1308.5496010780334,
          1310.175181865692,
          1311.6074171066284,
          1312.5819327831268,
          1313.937311887741,
          1315.4971160888672,
          1316.4284360408783,
          1317.7865240573883,
          1318.9603598117828,
          1320.2845888137815,
          1321.5342273712158,
          1322.6438891887665,
          1324.5018908977509,
          1325.281939983368,
          1326.6563789844513,
          1328.0760610103607,
          1329.0925109386444,
          1330.9487948417664,
          1331.919506072998,
          1333.121980190277,
          1334.4103770256042,
          1336.0607948303225,
          1337.109302997589,
          1338.5297598838806,
          1339.398432016373,
          1340.9691121578217,
          1342.3146312236786,
          1343.67249417305,
          1344.8364939689636,
          1346.2914199829102,
          1347.2097368240356,
          1348.612540960312,
          1349.8706891536713,
          1351.1605038642883,
          1352.9171152114868,
          1353.7019300460815,
          1355.4971470832825,
          1356.686429977417,
          1357.8172101974487,
          1359.413166999817,
          1360.1989691257477,
          1361.7779698371887,
          1363.1992049217224,
          1364.0420529842377,
          1365.5619049072266,
          1366.5947182178495,
          1367.6236062049866,
          1369.324098110199,
          1370.741996049881,
          1371.5433731079102,
          1373.2992610931396,
          1374.2746269702911,
          1375.746742963791,
          1377.2465250492096,
          1378.3090093135834,
          1379.3717761039734,
          1381.1123147010803,
          1382.3720591068268,
          1383.5531418323517,
          1384.602460861206,
          1385.5331342220306,
          1387.264081954956,
          1388.2422740459442,
          1389.795705795288,
          1390.8278982639313,
          1392.2033278942108,
          1393.8583171367643,
          1394.926245212555,
          1395.760606050491,
          1397.313145160675,
          1398.5430309772491,
          1399.8050050735474,
          1401.2643988132477,
          1402.3353400230408,
          1403.3098030090332,
          1404.444155216217,
          1406.0342803001404,
          1406.877876996994,
          1407.9757888317108,
          1409.1346969604492,
          1409.6870501041412,
          0.0834801197052002,
          0.1758589744567871,
          0.0269560813903808,
          0.1015369892120361,
          0.0092589855194091,
          0.0877771377563476,
          0.1346533298492431,
          0.0716710090637207,
          0.1497750282287597,
          0.1048309803009033,
          0.0549781322479248,
          0.042856216430664,
          0.1472618579864502,
          0.0746686458587646,
          0.0196349620819091,
          0.1265878677368164,
          0.0477280616760253,
          0.1236870288848877,
          0.0799090862274169,
          0.0328760147094726,
          0.1388726234436035,
          0.1091358661651611,
          0.1071348190307617,
          0.181643009185791,
          0.0608561038970947,
          0.0281417369842529,
          0.1454169750213623,
          0.0475430488586425,
          0.1376452445983886,
          0.1684188842773437,
          0.0464868545532226,
          0.0490448474884033,
          0.0541567802429199,
          0.1250758171081543,
          0.0935840606689453,
          0.0335543155670166,
          0.0602507591247558,
          0.1235778331756591,
          0.0236637592315673,
          0.0154798030853271,
          0.1964330673217773,
          0.174494981765747,
          0.0181188583374023,
          0.0329909324645996,
          0.0953588485717773,
          0.1497559547424316,
          0.0449128150939941,
          0.0422248840332031,
          0.0578060150146484,
          0.1437423229217529,
          0.0301451683044433,
          0.0418050289154052,
          0.0630769729614257,
          0.0470819473266601,
          0.0832111835479736,
          0.0947797298431396,
          0.0935521125793457,
          0.0626518726348877,
          0.1762070655822754,
          0.0322821140289306,
          0.0279548168182373,
          0.0301070213317871,
          0.0331189632415771,
          0.0806200504302978,
          0.0780680179595947,
          0.0234088897705078,
          0.0563831329345703,
          0.0448923110961914,
          0.0373039245605468,
          0.0448400974273681,
          0.0519890785217285,
          0.0513250827789306,
          0.0743961334228515,
          0.0426640510559082,
          0.0443251132965087,
          0.1666090488433838,
          0.0530381202697753,
          0.2250208854675293,
          0.0335028171539306,
          0.0340538024902343,
          0.0418412685394287,
          0.0347120761871337,
          0.0360918045043945,
          0.0336260795593261,
          0.0461587905883789,
          0.0334751605987548,
          0.0376713275909423,
          0.0382828712463378,
          0.0310559272766113,
          0.0375430583953857,
          0.0388538837432861,
          0.037287950515747,
          0.0349998474121093,
          0.0348920822143554,
          0.0399799346923828,
          0.0321719646453857,
          0.0347568988800048,
          0.0418550968170166,
          0.03420090675354,
          0.1045258045196533,
          108.50712609291077,
          159.91624784469604,
          177.32092905044556,
          197.42453408241272,
          204.5232729911804,
          205.48576307296756,
          207.34867787361145,
          213.301305770874,
          213.93955898284912,
          214.34608268737796,
          215.67503595352173,
          218.01741528511047,
          224.49535298347476,
          226.7651581764221,
          229.75722813606265,
          231.73377680778503,
          239.32864689826965,
          240.5038719177246,
          240.44848585128784,
          240.42613101005557,
          243.79675817489624,
          244.3466010093689,
          244.88414001464844,
          245.4963200092316,
          247.4633240699768,
          248.84587788581848,
          248.70911502838132,
          251.74364304542544,
          251.89273285865784,
          254.48629021644592,
          256.01191687583923,
          261.0960109233856,
          260.8302209377289,
          262.95449805259705,
          263.03664112091064,
          263.81584787368774,
          263.9167890548706,
          263.9479568004608,
          263.9179079532624,
          264.74244689941406,
          265.3515372276306,
          266.1937952041626,
          266.67177295684814,
          266.7595450878144,
          266.50910902023315,
          268.18756198883057,
          268.33008885383606,
          268.4022059440613,
          268.9526309967041,
          268.88662004470825,
          269.0042612552643,
          270.1505308151245,
          270.2439661026001,
          270.25906777381897,
          270.28277134895325,
          270.2308990955353,
          270.42983984947205,
          270.70202231407166,
          270.71854400634766,
          271.01031017303467,
          270.8223509788513,
          271.1851761341095,
          270.9405770301819,
          271.7252190113068,
          271.2501711845398,
          271.38187885284424,
          271.4495198726654,
          271.3396632671356,
          271.4271490573883,
          271.6846091747284,
          271.6529221534729,
          271.7485067844391,
          271.7115340232849,
          271.6591601371765,
          271.9229669570923,
          271.9764790534973,
          272.15505504608154,
          272.18185210227966,
          271.9915211200714,
          272.3370840549469,
          272.00512886047363,
          272.2039580345154,
          272.05571579933167,
          272.02822971343994,
          272.0951280593872,
          272.05569791793823,
          272.16359186172485,
          272.5420649051666,
          272.1876122951508,
          272.5273289680481,
          272.4825820922852,
          272.254754781723,
          272.33332872390747,
          272.4769012928009,
          272.2167580127716,
          272.31186079978943,
          272.3038249015808,
          272.2521529197693,
          272.4084348678589,
          272.41257405281067,
          0.0317981243133544,
          0.0188510417938232,
          0.0270991325378417,
          0.0267419815063476,
          0.0147829055786132,
          0.0373539924621582,
          0.0451502799987793,
          0.0214991569519042,
          0.0264010429382324,
          0.0118811130523681,
          0.0337717533111572,
          0.0221431255340576,
          0.0277519226074218,
          0.0261430740356445,
          0.0236890316009521,
          0.0247027873992919,
          0.0237030982971191,
          0.0231509208679199,
          0.036931037902832,
          0.0619809627532959,
          0.0311408042907714,
          0.0329492092132568,
          0.0164222717285156,
          0.0300941467285156,
          0.0138921737670898,
          0.0204401016235351,
          0.0281910896301269,
          0.0500578880310058,
          0.0122170448303222,
          0.007509708404541,
          0.0321090221405029,
          0.0257599353790283,
          0.0197687149047851,
          0.0202789306640625,
          0.0151169300079345,
          0.032059907913208,
          0.0199768543243408,
          0.0284438133239746,
          0.0258760452270507,
          0.0297870635986328,
          0.0281901359558105,
          0.0141310691833496,
          0.0207579135894775,
          0.0101871490478515,
          0.0213329792022705,
          0.0306758880615234,
          0.0148220062255859,
          0.0357732772827148,
          0.0194571018218994,
          0.0397100448608398,
          0.0191199779510498,
          0.030257225036621,
          0.0181748867034912,
          0.0138759613037109,
          0.0288691520690917,
          0.0175178050994873,
          0.0164449214935302,
          0.0373580455780029,
          0.0295648574829101,
          0.0294837951660156,
          0.0346066951751709,
          0.0210030078887939,
          0.0314581394195556,
          0.0098209381103515,
          0.0321600437164306,
          0.0409929752349853,
          0.0348610877990722,
          0.0334436893463134,
          0.0331790447235107,
          0.0402050018310546,
          0.0444018840789794,
          0.0367810726165771,
          0.040860891342163,
          0.0468029975891113,
          0.0289630889892578,
          0.0235230922698974,
          0.0288300514221191,
          0.0205252170562744,
          0.0325360298156738,
          0.0381650924682617,
          0.039600133895874,
          0.0250110626220703,
          0.0416340827941894,
          0.0391182899475097,
          0.0269801616668701,
          0.0349280834197998,
          0.041558027267456,
          0.0313031673431396,
          0.0517706871032714,
          0.0440442562103271,
          0.0267450809478759,
          0.0433089733123779,
          0.0398919582366943,
          0.0385003089904785,
          0.0383150577545166,
          0.0425879955291748,
          0.0370380878448486,
          0.0504140853881835,
          0.0768928527832031,
          0.0766210556030273,
          1.1985859870910645,
          1.2664220333099363,
          1.3936760425567627,
          1.542423963546753,
          1.6350951194763184,
          1.6374080181121826,
          1.7013938426971436,
          1.654303789138794,
          1.5902299880981443,
          1.7691519260406494,
          1.7991931438446045,
          1.8170371055603027,
          1.8432977199554443,
          1.8618531227111816,
          1.8742649555206297,
          1.566777229309082,
          1.887725830078125,
          1.9888498783111568,
          2.180837869644165,
          2.084237813949585,
          1.9950270652771,
          2.23409104347229,
          2.097683906555176,
          2.0997209548950195,
          2.218146085739136,
          2.240224838256836,
          2.194185972213745,
          2.2330870628356934,
          2.276921033859253,
          2.1572511196136475,
          1.8957171440124512,
          2.183220863342285,
          2.27558970451355,
          2.1041722297668457,
          2.017416000366211,
          2.26094388961792,
          1.9378643035888672,
          2.2178030014038086,
          2.2655837535858154,
          2.231045961380005,
          2.1207051277160645,
          2.2793290615081787,
          2.139025926589966,
          2.236595392227173,
          2.288696765899658,
          2.0355210304260254,
          2.127379894256592,
          2.0564208030700684,
          2.2930078506469727,
          2.183445930480957,
          2.2611348628997803,
          2.129281044006348,
          2.099050998687744,
          2.3411810398101807,
          2.248383045196533,
          2.268604040145874,
          2.2504472732543945,
          2.1940600872039795,
          2.246188163757324,
          2.2170512676239014,
          2.3104567527771,
          2.0543360710144043,
          2.177879095077514,
          2.396346092224121,
          2.0540928840637207,
          2.3968307971954346,
          2.034444093704224,
          2.192225933074951,
          2.3412489891052246,
          2.286012887954712,
          2.1418559551239014,
          2.100949048995972,
          2.174239158630371,
          2.1571249961853027,
          2.0554778575897217,
          2.202390670776367,
          2.0590391159057617,
          2.0982227325439453,
          2.150461196899414,
          2.180871963500977,
          2.136620044708252,
          2.2342641353607178,
          2.296495199203491,
          2.292080879211426,
          2.2162740230560303,
          2.129036664962769,
          2.128087043762207,
          2.0943100452423096,
          2.1637487411499023,
          2.1460840702056885,
          2.1105520725250244,
          2.134390115737915,
          2.292786836624145,
          2.190602779388428,
          2.0578277111053467,
          2.2031402587890625,
          2.060103178024292,
          2.2754690647125244,
          2.084090232849121,
          2.0779409408569336
         ],
         "y0": " ",
         "yaxis": "y"
        }
       ],
       "layout": {
        "boxmode": "group",
        "legend": {
         "tracegroupgap": 0
        },
        "margin": {
         "t": 60
        },
        "template": {
         "data": {
          "bar": [
           {
            "error_x": {
             "color": "#2a3f5f"
            },
            "error_y": {
             "color": "#2a3f5f"
            },
            "marker": {
             "line": {
              "color": "#E5ECF6",
              "width": 0.5
             },
             "pattern": {
              "fillmode": "overlay",
              "size": 10,
              "solidity": 0.2
             }
            },
            "type": "bar"
           }
          ],
          "barpolar": [
           {
            "marker": {
             "line": {
              "color": "#E5ECF6",
              "width": 0.5
             },
             "pattern": {
              "fillmode": "overlay",
              "size": 10,
              "solidity": 0.2
             }
            },
            "type": "barpolar"
           }
          ],
          "carpet": [
           {
            "aaxis": {
             "endlinecolor": "#2a3f5f",
             "gridcolor": "white",
             "linecolor": "white",
             "minorgridcolor": "white",
             "startlinecolor": "#2a3f5f"
            },
            "baxis": {
             "endlinecolor": "#2a3f5f",
             "gridcolor": "white",
             "linecolor": "white",
             "minorgridcolor": "white",
             "startlinecolor": "#2a3f5f"
            },
            "type": "carpet"
           }
          ],
          "choropleth": [
           {
            "colorbar": {
             "outlinewidth": 0,
             "ticks": ""
            },
            "type": "choropleth"
           }
          ],
          "contour": [
           {
            "colorbar": {
             "outlinewidth": 0,
             "ticks": ""
            },
            "colorscale": [
             [
              0,
              "#0d0887"
             ],
             [
              0.1111111111111111,
              "#46039f"
             ],
             [
              0.2222222222222222,
              "#7201a8"
             ],
             [
              0.3333333333333333,
              "#9c179e"
             ],
             [
              0.4444444444444444,
              "#bd3786"
             ],
             [
              0.5555555555555556,
              "#d8576b"
             ],
             [
              0.6666666666666666,
              "#ed7953"
             ],
             [
              0.7777777777777778,
              "#fb9f3a"
             ],
             [
              0.8888888888888888,
              "#fdca26"
             ],
             [
              1,
              "#f0f921"
             ]
            ],
            "type": "contour"
           }
          ],
          "contourcarpet": [
           {
            "colorbar": {
             "outlinewidth": 0,
             "ticks": ""
            },
            "type": "contourcarpet"
           }
          ],
          "heatmap": [
           {
            "colorbar": {
             "outlinewidth": 0,
             "ticks": ""
            },
            "colorscale": [
             [
              0,
              "#0d0887"
             ],
             [
              0.1111111111111111,
              "#46039f"
             ],
             [
              0.2222222222222222,
              "#7201a8"
             ],
             [
              0.3333333333333333,
              "#9c179e"
             ],
             [
              0.4444444444444444,
              "#bd3786"
             ],
             [
              0.5555555555555556,
              "#d8576b"
             ],
             [
              0.6666666666666666,
              "#ed7953"
             ],
             [
              0.7777777777777778,
              "#fb9f3a"
             ],
             [
              0.8888888888888888,
              "#fdca26"
             ],
             [
              1,
              "#f0f921"
             ]
            ],
            "type": "heatmap"
           }
          ],
          "heatmapgl": [
           {
            "colorbar": {
             "outlinewidth": 0,
             "ticks": ""
            },
            "colorscale": [
             [
              0,
              "#0d0887"
             ],
             [
              0.1111111111111111,
              "#46039f"
             ],
             [
              0.2222222222222222,
              "#7201a8"
             ],
             [
              0.3333333333333333,
              "#9c179e"
             ],
             [
              0.4444444444444444,
              "#bd3786"
             ],
             [
              0.5555555555555556,
              "#d8576b"
             ],
             [
              0.6666666666666666,
              "#ed7953"
             ],
             [
              0.7777777777777778,
              "#fb9f3a"
             ],
             [
              0.8888888888888888,
              "#fdca26"
             ],
             [
              1,
              "#f0f921"
             ]
            ],
            "type": "heatmapgl"
           }
          ],
          "histogram": [
           {
            "marker": {
             "pattern": {
              "fillmode": "overlay",
              "size": 10,
              "solidity": 0.2
             }
            },
            "type": "histogram"
           }
          ],
          "histogram2d": [
           {
            "colorbar": {
             "outlinewidth": 0,
             "ticks": ""
            },
            "colorscale": [
             [
              0,
              "#0d0887"
             ],
             [
              0.1111111111111111,
              "#46039f"
             ],
             [
              0.2222222222222222,
              "#7201a8"
             ],
             [
              0.3333333333333333,
              "#9c179e"
             ],
             [
              0.4444444444444444,
              "#bd3786"
             ],
             [
              0.5555555555555556,
              "#d8576b"
             ],
             [
              0.6666666666666666,
              "#ed7953"
             ],
             [
              0.7777777777777778,
              "#fb9f3a"
             ],
             [
              0.8888888888888888,
              "#fdca26"
             ],
             [
              1,
              "#f0f921"
             ]
            ],
            "type": "histogram2d"
           }
          ],
          "histogram2dcontour": [
           {
            "colorbar": {
             "outlinewidth": 0,
             "ticks": ""
            },
            "colorscale": [
             [
              0,
              "#0d0887"
             ],
             [
              0.1111111111111111,
              "#46039f"
             ],
             [
              0.2222222222222222,
              "#7201a8"
             ],
             [
              0.3333333333333333,
              "#9c179e"
             ],
             [
              0.4444444444444444,
              "#bd3786"
             ],
             [
              0.5555555555555556,
              "#d8576b"
             ],
             [
              0.6666666666666666,
              "#ed7953"
             ],
             [
              0.7777777777777778,
              "#fb9f3a"
             ],
             [
              0.8888888888888888,
              "#fdca26"
             ],
             [
              1,
              "#f0f921"
             ]
            ],
            "type": "histogram2dcontour"
           }
          ],
          "mesh3d": [
           {
            "colorbar": {
             "outlinewidth": 0,
             "ticks": ""
            },
            "type": "mesh3d"
           }
          ],
          "parcoords": [
           {
            "line": {
             "colorbar": {
              "outlinewidth": 0,
              "ticks": ""
             }
            },
            "type": "parcoords"
           }
          ],
          "pie": [
           {
            "automargin": true,
            "type": "pie"
           }
          ],
          "scatter": [
           {
            "fillpattern": {
             "fillmode": "overlay",
             "size": 10,
             "solidity": 0.2
            },
            "type": "scatter"
           }
          ],
          "scatter3d": [
           {
            "line": {
             "colorbar": {
              "outlinewidth": 0,
              "ticks": ""
             }
            },
            "marker": {
             "colorbar": {
              "outlinewidth": 0,
              "ticks": ""
             }
            },
            "type": "scatter3d"
           }
          ],
          "scattercarpet": [
           {
            "marker": {
             "colorbar": {
              "outlinewidth": 0,
              "ticks": ""
             }
            },
            "type": "scattercarpet"
           }
          ],
          "scattergeo": [
           {
            "marker": {
             "colorbar": {
              "outlinewidth": 0,
              "ticks": ""
             }
            },
            "type": "scattergeo"
           }
          ],
          "scattergl": [
           {
            "marker": {
             "colorbar": {
              "outlinewidth": 0,
              "ticks": ""
             }
            },
            "type": "scattergl"
           }
          ],
          "scattermapbox": [
           {
            "marker": {
             "colorbar": {
              "outlinewidth": 0,
              "ticks": ""
             }
            },
            "type": "scattermapbox"
           }
          ],
          "scatterpolar": [
           {
            "marker": {
             "colorbar": {
              "outlinewidth": 0,
              "ticks": ""
             }
            },
            "type": "scatterpolar"
           }
          ],
          "scatterpolargl": [
           {
            "marker": {
             "colorbar": {
              "outlinewidth": 0,
              "ticks": ""
             }
            },
            "type": "scatterpolargl"
           }
          ],
          "scatterternary": [
           {
            "marker": {
             "colorbar": {
              "outlinewidth": 0,
              "ticks": ""
             }
            },
            "type": "scatterternary"
           }
          ],
          "surface": [
           {
            "colorbar": {
             "outlinewidth": 0,
             "ticks": ""
            },
            "colorscale": [
             [
              0,
              "#0d0887"
             ],
             [
              0.1111111111111111,
              "#46039f"
             ],
             [
              0.2222222222222222,
              "#7201a8"
             ],
             [
              0.3333333333333333,
              "#9c179e"
             ],
             [
              0.4444444444444444,
              "#bd3786"
             ],
             [
              0.5555555555555556,
              "#d8576b"
             ],
             [
              0.6666666666666666,
              "#ed7953"
             ],
             [
              0.7777777777777778,
              "#fb9f3a"
             ],
             [
              0.8888888888888888,
              "#fdca26"
             ],
             [
              1,
              "#f0f921"
             ]
            ],
            "type": "surface"
           }
          ],
          "table": [
           {
            "cells": {
             "fill": {
              "color": "#EBF0F8"
             },
             "line": {
              "color": "white"
             }
            },
            "header": {
             "fill": {
              "color": "#C8D4E3"
             },
             "line": {
              "color": "white"
             }
            },
            "type": "table"
           }
          ]
         },
         "layout": {
          "annotationdefaults": {
           "arrowcolor": "#2a3f5f",
           "arrowhead": 0,
           "arrowwidth": 1
          },
          "autotypenumbers": "strict",
          "coloraxis": {
           "colorbar": {
            "outlinewidth": 0,
            "ticks": ""
           }
          },
          "colorscale": {
           "diverging": [
            [
             0,
             "#8e0152"
            ],
            [
             0.1,
             "#c51b7d"
            ],
            [
             0.2,
             "#de77ae"
            ],
            [
             0.3,
             "#f1b6da"
            ],
            [
             0.4,
             "#fde0ef"
            ],
            [
             0.5,
             "#f7f7f7"
            ],
            [
             0.6,
             "#e6f5d0"
            ],
            [
             0.7,
             "#b8e186"
            ],
            [
             0.8,
             "#7fbc41"
            ],
            [
             0.9,
             "#4d9221"
            ],
            [
             1,
             "#276419"
            ]
           ],
           "sequential": [
            [
             0,
             "#0d0887"
            ],
            [
             0.1111111111111111,
             "#46039f"
            ],
            [
             0.2222222222222222,
             "#7201a8"
            ],
            [
             0.3333333333333333,
             "#9c179e"
            ],
            [
             0.4444444444444444,
             "#bd3786"
            ],
            [
             0.5555555555555556,
             "#d8576b"
            ],
            [
             0.6666666666666666,
             "#ed7953"
            ],
            [
             0.7777777777777778,
             "#fb9f3a"
            ],
            [
             0.8888888888888888,
             "#fdca26"
            ],
            [
             1,
             "#f0f921"
            ]
           ],
           "sequentialminus": [
            [
             0,
             "#0d0887"
            ],
            [
             0.1111111111111111,
             "#46039f"
            ],
            [
             0.2222222222222222,
             "#7201a8"
            ],
            [
             0.3333333333333333,
             "#9c179e"
            ],
            [
             0.4444444444444444,
             "#bd3786"
            ],
            [
             0.5555555555555556,
             "#d8576b"
            ],
            [
             0.6666666666666666,
             "#ed7953"
            ],
            [
             0.7777777777777778,
             "#fb9f3a"
            ],
            [
             0.8888888888888888,
             "#fdca26"
            ],
            [
             1,
             "#f0f921"
            ]
           ]
          },
          "colorway": [
           "#636efa",
           "#EF553B",
           "#00cc96",
           "#ab63fa",
           "#FFA15A",
           "#19d3f3",
           "#FF6692",
           "#B6E880",
           "#FF97FF",
           "#FECB52"
          ],
          "font": {
           "color": "#2a3f5f"
          },
          "geo": {
           "bgcolor": "white",
           "lakecolor": "white",
           "landcolor": "#E5ECF6",
           "showlakes": true,
           "showland": true,
           "subunitcolor": "white"
          },
          "hoverlabel": {
           "align": "left"
          },
          "hovermode": "closest",
          "mapbox": {
           "style": "light"
          },
          "paper_bgcolor": "white",
          "plot_bgcolor": "#E5ECF6",
          "polar": {
           "angularaxis": {
            "gridcolor": "white",
            "linecolor": "white",
            "ticks": ""
           },
           "bgcolor": "#E5ECF6",
           "radialaxis": {
            "gridcolor": "white",
            "linecolor": "white",
            "ticks": ""
           }
          },
          "scene": {
           "xaxis": {
            "backgroundcolor": "#E5ECF6",
            "gridcolor": "white",
            "gridwidth": 2,
            "linecolor": "white",
            "showbackground": true,
            "ticks": "",
            "zerolinecolor": "white"
           },
           "yaxis": {
            "backgroundcolor": "#E5ECF6",
            "gridcolor": "white",
            "gridwidth": 2,
            "linecolor": "white",
            "showbackground": true,
            "ticks": "",
            "zerolinecolor": "white"
           },
           "zaxis": {
            "backgroundcolor": "#E5ECF6",
            "gridcolor": "white",
            "gridwidth": 2,
            "linecolor": "white",
            "showbackground": true,
            "ticks": "",
            "zerolinecolor": "white"
           }
          },
          "shapedefaults": {
           "line": {
            "color": "#2a3f5f"
           }
          },
          "ternary": {
           "aaxis": {
            "gridcolor": "white",
            "linecolor": "white",
            "ticks": ""
           },
           "baxis": {
            "gridcolor": "white",
            "linecolor": "white",
            "ticks": ""
           },
           "bgcolor": "#E5ECF6",
           "caxis": {
            "gridcolor": "white",
            "linecolor": "white",
            "ticks": ""
           }
          },
          "title": {
           "x": 0.05
          },
          "xaxis": {
           "automargin": true,
           "gridcolor": "white",
           "linecolor": "white",
           "ticks": "",
           "title": {
            "standoff": 15
           },
           "zerolinecolor": "white",
           "zerolinewidth": 2
          },
          "yaxis": {
           "automargin": true,
           "gridcolor": "white",
           "linecolor": "white",
           "ticks": "",
           "title": {
            "standoff": 15
           },
           "zerolinecolor": "white",
           "zerolinewidth": 2
          }
         }
        },
        "xaxis": {
         "anchor": "y",
         "domain": [
          0,
          1
         ],
         "title": {
          "text": "Package | Solver Combo"
         }
        },
        "yaxis": {
         "anchor": "x",
         "domain": [
          0,
          1
         ],
         "title": {
          "text": "Time"
         }
        }
       }
      }
     },
     "metadata": {},
     "output_type": "display_data"
    }
   ],
   "source": [
    "for file in files:\n",
    "    info = file.split(\"_\")\n",
    "    numb_assets, numb_orders = info[4], info[5].split(\".\")[0]\n",
    "    df = pd.read_csv(directory + \"/\" + file, index_col=0)[[\"Package\", \"Solver\", \"Time\", \"Iteration\"]].dropna()\n",
    "\n",
    "    print(numb_assets, numb_orders)\n",
    "    df_box = pd.DataFrame()\n",
    "    df[\"Package | Solver Combo\"] = df[\"Package\"].astype(str) + \" | \" + df[\"Solver\"].astype(str)\n",
    "\n",
    "    fig = px.box(df, x=\"Package | Solver Combo\", y=\"Time\")\n",
    "    fig.show()\n",
    "    fig.write_html(\"boxplots/{}_{}.html\".format(numb_assets, numb_orders))\n",
    "\n",
    "\n",
    "\n"
   ]
  },
  {
   "cell_type": "code",
   "execution_count": 33,
   "metadata": {},
   "outputs": [
    {
     "data": {
      "text/html": [
       "<div>\n",
       "<style scoped>\n",
       "    .dataframe tbody tr th:only-of-type {\n",
       "        vertical-align: middle;\n",
       "    }\n",
       "\n",
       "    .dataframe tbody tr th {\n",
       "        vertical-align: top;\n",
       "    }\n",
       "\n",
       "    .dataframe thead th {\n",
       "        text-align: right;\n",
       "    }\n",
       "</style>\n",
       "<table border=\"1\" class=\"dataframe\">\n",
       "  <thead>\n",
       "    <tr style=\"text-align: right;\">\n",
       "      <th></th>\n",
       "      <th>total_bill</th>\n",
       "      <th>tip</th>\n",
       "      <th>sex</th>\n",
       "      <th>smoker</th>\n",
       "      <th>day</th>\n",
       "      <th>time</th>\n",
       "      <th>size</th>\n",
       "    </tr>\n",
       "  </thead>\n",
       "  <tbody>\n",
       "    <tr>\n",
       "      <th>0</th>\n",
       "      <td>16.99</td>\n",
       "      <td>1.01</td>\n",
       "      <td>Female</td>\n",
       "      <td>No</td>\n",
       "      <td>Sun</td>\n",
       "      <td>Dinner</td>\n",
       "      <td>2</td>\n",
       "    </tr>\n",
       "    <tr>\n",
       "      <th>1</th>\n",
       "      <td>10.34</td>\n",
       "      <td>1.66</td>\n",
       "      <td>Male</td>\n",
       "      <td>No</td>\n",
       "      <td>Sun</td>\n",
       "      <td>Dinner</td>\n",
       "      <td>3</td>\n",
       "    </tr>\n",
       "    <tr>\n",
       "      <th>2</th>\n",
       "      <td>21.01</td>\n",
       "      <td>3.50</td>\n",
       "      <td>Male</td>\n",
       "      <td>No</td>\n",
       "      <td>Sun</td>\n",
       "      <td>Dinner</td>\n",
       "      <td>3</td>\n",
       "    </tr>\n",
       "    <tr>\n",
       "      <th>3</th>\n",
       "      <td>23.68</td>\n",
       "      <td>3.31</td>\n",
       "      <td>Male</td>\n",
       "      <td>No</td>\n",
       "      <td>Sun</td>\n",
       "      <td>Dinner</td>\n",
       "      <td>2</td>\n",
       "    </tr>\n",
       "    <tr>\n",
       "      <th>4</th>\n",
       "      <td>24.59</td>\n",
       "      <td>3.61</td>\n",
       "      <td>Female</td>\n",
       "      <td>No</td>\n",
       "      <td>Sun</td>\n",
       "      <td>Dinner</td>\n",
       "      <td>4</td>\n",
       "    </tr>\n",
       "    <tr>\n",
       "      <th>...</th>\n",
       "      <td>...</td>\n",
       "      <td>...</td>\n",
       "      <td>...</td>\n",
       "      <td>...</td>\n",
       "      <td>...</td>\n",
       "      <td>...</td>\n",
       "      <td>...</td>\n",
       "    </tr>\n",
       "    <tr>\n",
       "      <th>239</th>\n",
       "      <td>29.03</td>\n",
       "      <td>5.92</td>\n",
       "      <td>Male</td>\n",
       "      <td>No</td>\n",
       "      <td>Sat</td>\n",
       "      <td>Dinner</td>\n",
       "      <td>3</td>\n",
       "    </tr>\n",
       "    <tr>\n",
       "      <th>240</th>\n",
       "      <td>27.18</td>\n",
       "      <td>2.00</td>\n",
       "      <td>Female</td>\n",
       "      <td>Yes</td>\n",
       "      <td>Sat</td>\n",
       "      <td>Dinner</td>\n",
       "      <td>2</td>\n",
       "    </tr>\n",
       "    <tr>\n",
       "      <th>241</th>\n",
       "      <td>22.67</td>\n",
       "      <td>2.00</td>\n",
       "      <td>Male</td>\n",
       "      <td>Yes</td>\n",
       "      <td>Sat</td>\n",
       "      <td>Dinner</td>\n",
       "      <td>2</td>\n",
       "    </tr>\n",
       "    <tr>\n",
       "      <th>242</th>\n",
       "      <td>17.82</td>\n",
       "      <td>1.75</td>\n",
       "      <td>Male</td>\n",
       "      <td>No</td>\n",
       "      <td>Sat</td>\n",
       "      <td>Dinner</td>\n",
       "      <td>2</td>\n",
       "    </tr>\n",
       "    <tr>\n",
       "      <th>243</th>\n",
       "      <td>18.78</td>\n",
       "      <td>3.00</td>\n",
       "      <td>Female</td>\n",
       "      <td>No</td>\n",
       "      <td>Thur</td>\n",
       "      <td>Dinner</td>\n",
       "      <td>2</td>\n",
       "    </tr>\n",
       "  </tbody>\n",
       "</table>\n",
       "<p>244 rows × 7 columns</p>\n",
       "</div>"
      ],
      "text/plain": [
       "     total_bill   tip     sex smoker   day    time  size\n",
       "0         16.99  1.01  Female     No   Sun  Dinner     2\n",
       "1         10.34  1.66    Male     No   Sun  Dinner     3\n",
       "2         21.01  3.50    Male     No   Sun  Dinner     3\n",
       "3         23.68  3.31    Male     No   Sun  Dinner     2\n",
       "4         24.59  3.61  Female     No   Sun  Dinner     4\n",
       "..          ...   ...     ...    ...   ...     ...   ...\n",
       "239       29.03  5.92    Male     No   Sat  Dinner     3\n",
       "240       27.18  2.00  Female    Yes   Sat  Dinner     2\n",
       "241       22.67  2.00    Male    Yes   Sat  Dinner     2\n",
       "242       17.82  1.75    Male     No   Sat  Dinner     2\n",
       "243       18.78  3.00  Female     No  Thur  Dinner     2\n",
       "\n",
       "[244 rows x 7 columns]"
      ]
     },
     "execution_count": 33,
     "metadata": {},
     "output_type": "execute_result"
    }
   ],
   "source": [
    "df = px.data.tips()\n",
    "df"
   ]
  },
  {
   "cell_type": "code",
   "execution_count": null,
   "metadata": {},
   "outputs": [],
   "source": []
  }
 ],
 "metadata": {
  "kernelspec": {
   "display_name": "Python 3.9.6 64-bit",
   "language": "python",
   "name": "python3"
  },
  "language_info": {
   "codemirror_mode": {
    "name": "ipython",
    "version": 3
   },
   "file_extension": ".py",
   "mimetype": "text/x-python",
   "name": "python",
   "nbconvert_exporter": "python",
   "pygments_lexer": "ipython3",
   "version": "3.9.6"
  },
  "orig_nbformat": 4,
  "vscode": {
   "interpreter": {
    "hash": "31f2aee4e71d21fbe5cf8b01ff0e069b9275f58929596ceb00d14d90e3e16cd6"
   }
  }
 },
 "nbformat": 4,
 "nbformat_minor": 2
}
